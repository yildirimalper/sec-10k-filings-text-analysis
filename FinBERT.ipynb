{
 "cells": [
  {
   "cell_type": "markdown",
   "metadata": {
    "colab_type": "toc",
    "id": "AAYIMFnoEnfy"
   },
   "source": [
    "# Analyzing SEC 10-K Corporate Filings: A FinBERT Approach\n",
    "\n",
    "***\n",
    "\n",
    "## Table of Contents\n",
    "\n",
    "[1. Scraping and Cleaning SEC Filings](#scraping)\n",
    "\n",
    ">[1.1. Retriving 'Management Discussion & Analysis' Parts of SEC 10-K Filings](#mda)\n",
    "\n",
    "[2. Fine-Tuning a Model](#finetune)\n",
    "\n",
    ">[2.1. Preprocessing](#prep)\n",
    "\n",
    ">[2.2. Train-Test Split](#tts)\n",
    "\n",
    ">[2.3. Training the Model](#train)\n",
    "\n",
    ">[2.4. Evaluate and Save the Model](#eval)\n",
    "\n",
    "[3. Applying Fine-Tuned and Untuned FinBERT on SEC Filings](#apply)\n",
    "\n",
    ">[3.1. Untuned FinBERT](#untuned)\n",
    "\n",
    ">[3.2. Fine-tuned FinBERT](#finetuned)\n",
    "\n",
    "[4. Feature Extraction](#featureextraction)\n",
    "\n",
    ">[4.1. With Random Forest Classifer](#feature)\n",
    "\n",
    ">[4.2. With Vanilla Neural Network](#feature2)\n",
    "\n",
    "***\n",
    "\n",
    "If you intend to run this notebook on Google Colab, you can use the following code snippet to install the required packages:"
   ]
  },
  {
   "cell_type": "code",
   "execution_count": null,
   "metadata": {
    "colab": {
     "base_uri": "https://localhost:8080/"
    },
    "id": "f0Xo98MAp7gQ",
    "outputId": "868bdcd0-6edd-4bfa-eff2-87418927e167"
   },
   "outputs": [
    {
     "name": "stdout",
     "output_type": "stream",
     "text": [
      "Requirement already satisfied: transformers in /usr/local/lib/python3.10/dist-packages (4.33.1)\n",
      "Requirement already satisfied: tokenizers in /usr/local/lib/python3.10/dist-packages (0.13.3)\n",
      "Requirement already satisfied: datasets in /usr/local/lib/python3.10/dist-packages (2.14.5)\n",
      "Requirement already satisfied: sentencepiece in /usr/local/lib/python3.10/dist-packages (0.1.99)\n",
      "Requirement already satisfied: huggingface_hub[cli] in /usr/local/lib/python3.10/dist-packages (0.16.4)\n",
      "Requirement already satisfied: xformers in /usr/local/lib/python3.10/dist-packages (0.0.21)\n",
      "Requirement already satisfied: accelerate in /usr/local/lib/python3.10/dist-packages (0.22.0)\n",
      "Requirement already satisfied: sec_api in /usr/local/lib/python3.10/dist-packages (1.0.17)\n",
      "Requirement already satisfied: filelock in /usr/local/lib/python3.10/dist-packages (from transformers) (3.12.2)\n",
      "Requirement already satisfied: numpy>=1.17 in /usr/local/lib/python3.10/dist-packages (from transformers) (1.23.5)\n",
      "Requirement already satisfied: packaging>=20.0 in /usr/local/lib/python3.10/dist-packages (from transformers) (23.1)\n",
      "Requirement already satisfied: pyyaml>=5.1 in /usr/local/lib/python3.10/dist-packages (from transformers) (6.0.1)\n",
      "Requirement already satisfied: regex!=2019.12.17 in /usr/local/lib/python3.10/dist-packages (from transformers) (2023.6.3)\n",
      "Requirement already satisfied: requests in /usr/local/lib/python3.10/dist-packages (from transformers) (2.31.0)\n",
      "Requirement already satisfied: safetensors>=0.3.1 in /usr/local/lib/python3.10/dist-packages (from transformers) (0.3.3)\n",
      "Requirement already satisfied: tqdm>=4.27 in /usr/local/lib/python3.10/dist-packages (from transformers) (4.66.1)\n",
      "Requirement already satisfied: torch!=1.12.0,>=1.10 in /usr/local/lib/python3.10/dist-packages (from transformers) (2.0.1+cu118)\n",
      "Requirement already satisfied: pyarrow>=8.0.0 in /usr/local/lib/python3.10/dist-packages (from datasets) (9.0.0)\n",
      "Requirement already satisfied: dill<0.3.8,>=0.3.0 in /usr/local/lib/python3.10/dist-packages (from datasets) (0.3.7)\n",
      "Requirement already satisfied: pandas in /usr/local/lib/python3.10/dist-packages (from datasets) (1.5.3)\n",
      "Requirement already satisfied: xxhash in /usr/local/lib/python3.10/dist-packages (from datasets) (3.3.0)\n",
      "Requirement already satisfied: multiprocess in /usr/local/lib/python3.10/dist-packages (from datasets) (0.70.15)\n",
      "Requirement already satisfied: fsspec[http]<2023.9.0,>=2023.1.0 in /usr/local/lib/python3.10/dist-packages (from datasets) (2023.6.0)\n",
      "Requirement already satisfied: aiohttp in /usr/local/lib/python3.10/dist-packages (from datasets) (3.8.5)\n",
      "Requirement already satisfied: typing-extensions>=3.7.4.3 in /usr/local/lib/python3.10/dist-packages (from huggingface_hub[cli]) (4.5.0)\n",
      "Requirement already satisfied: InquirerPy==0.3.4 in /usr/local/lib/python3.10/dist-packages (from huggingface_hub[cli]) (0.3.4)\n",
      "Requirement already satisfied: pfzy<0.4.0,>=0.3.1 in /usr/local/lib/python3.10/dist-packages (from InquirerPy==0.3.4->huggingface_hub[cli]) (0.3.4)\n",
      "Requirement already satisfied: prompt-toolkit<4.0.0,>=3.0.1 in /usr/local/lib/python3.10/dist-packages (from InquirerPy==0.3.4->huggingface_hub[cli]) (3.0.39)\n",
      "Requirement already satisfied: sympy in /usr/local/lib/python3.10/dist-packages (from torch!=1.12.0,>=1.10->transformers) (1.12)\n",
      "Requirement already satisfied: networkx in /usr/local/lib/python3.10/dist-packages (from torch!=1.12.0,>=1.10->transformers) (3.1)\n",
      "Requirement already satisfied: jinja2 in /usr/local/lib/python3.10/dist-packages (from torch!=1.12.0,>=1.10->transformers) (3.1.2)\n",
      "Requirement already satisfied: triton==2.0.0 in /usr/local/lib/python3.10/dist-packages (from torch!=1.12.0,>=1.10->transformers) (2.0.0)\n",
      "Requirement already satisfied: cmake in /usr/local/lib/python3.10/dist-packages (from triton==2.0.0->torch!=1.12.0,>=1.10->transformers) (3.27.4.1)\n",
      "Requirement already satisfied: lit in /usr/local/lib/python3.10/dist-packages (from triton==2.0.0->torch!=1.12.0,>=1.10->transformers) (16.0.6)\n",
      "Requirement already satisfied: psutil in /usr/local/lib/python3.10/dist-packages (from accelerate) (5.9.5)\n",
      "Requirement already satisfied: attrs>=17.3.0 in /usr/local/lib/python3.10/dist-packages (from aiohttp->datasets) (23.1.0)\n",
      "Requirement already satisfied: charset-normalizer<4.0,>=2.0 in /usr/local/lib/python3.10/dist-packages (from aiohttp->datasets) (3.2.0)\n",
      "Requirement already satisfied: multidict<7.0,>=4.5 in /usr/local/lib/python3.10/dist-packages (from aiohttp->datasets) (6.0.4)\n",
      "Requirement already satisfied: async-timeout<5.0,>=4.0.0a3 in /usr/local/lib/python3.10/dist-packages (from aiohttp->datasets) (4.0.3)\n",
      "Requirement already satisfied: yarl<2.0,>=1.0 in /usr/local/lib/python3.10/dist-packages (from aiohttp->datasets) (1.9.2)\n",
      "Requirement already satisfied: frozenlist>=1.1.1 in /usr/local/lib/python3.10/dist-packages (from aiohttp->datasets) (1.4.0)\n",
      "Requirement already satisfied: aiosignal>=1.1.2 in /usr/local/lib/python3.10/dist-packages (from aiohttp->datasets) (1.3.1)\n",
      "Requirement already satisfied: idna<4,>=2.5 in /usr/local/lib/python3.10/dist-packages (from requests->transformers) (3.4)\n",
      "Requirement already satisfied: urllib3<3,>=1.21.1 in /usr/local/lib/python3.10/dist-packages (from requests->transformers) (2.0.4)\n",
      "Requirement already satisfied: certifi>=2017.4.17 in /usr/local/lib/python3.10/dist-packages (from requests->transformers) (2023.7.22)\n",
      "Requirement already satisfied: python-dateutil>=2.8.1 in /usr/local/lib/python3.10/dist-packages (from pandas->datasets) (2.8.2)\n",
      "Requirement already satisfied: pytz>=2020.1 in /usr/local/lib/python3.10/dist-packages (from pandas->datasets) (2023.3.post1)\n",
      "Requirement already satisfied: wcwidth in /usr/local/lib/python3.10/dist-packages (from prompt-toolkit<4.0.0,>=3.0.1->InquirerPy==0.3.4->huggingface_hub[cli]) (0.2.6)\n",
      "Requirement already satisfied: six>=1.5 in /usr/local/lib/python3.10/dist-packages (from python-dateutil>=2.8.1->pandas->datasets) (1.16.0)\n",
      "Requirement already satisfied: MarkupSafe>=2.0 in /usr/local/lib/python3.10/dist-packages (from jinja2->torch!=1.12.0,>=1.10->transformers) (2.1.3)\n",
      "Requirement already satisfied: mpmath>=0.19 in /usr/local/lib/python3.10/dist-packages (from sympy->torch!=1.12.0,>=1.10->transformers) (1.3.0)\n"
     ]
    }
   ],
   "source": [
    "import os\n",
    "IS_ON_COLAB = bool(os.getenv(\"COLAB_RELEASE_TAG\"))\n",
    "\n",
    "if IS_ON_COLAB:\n",
    "  !pip install transformers transformers[torch] tokenizers datasets sentencepiece huggingface_hub[cli] xformers accelerate sec_api"
   ]
  },
  {
   "cell_type": "code",
   "execution_count": 1,
   "metadata": {
    "id": "qWQbzZ_CqnzD"
   },
   "outputs": [
    {
     "ename": "ModuleNotFoundError",
     "evalue": "No module named 'transformers'",
     "output_type": "error",
     "traceback": [
      "\u001b[0;31m---------------------------------------------------------------------------\u001b[0m",
      "\u001b[0;31mModuleNotFoundError\u001b[0m                       Traceback (most recent call last)",
      "Cell \u001b[0;32mIn[1], line 2\u001b[0m\n\u001b[1;32m      1\u001b[0m \u001b[38;5;66;03m# import required libraries\u001b[39;00m\n\u001b[0;32m----> 2\u001b[0m \u001b[38;5;28;01mfrom\u001b[39;00m \u001b[38;5;21;01mtransformers\u001b[39;00m \u001b[38;5;28;01mimport\u001b[39;00m BertTokenizer, BertConfig, BertModel, AutoModelForSequenceClassification, BertForSequenceClassification, pipeline, AutoModel, AutoTokenizer, TrainingArguments, Trainer\n\u001b[1;32m      3\u001b[0m \u001b[38;5;28;01mfrom\u001b[39;00m \u001b[38;5;21;01mdatasets\u001b[39;00m \u001b[38;5;28;01mimport\u001b[39;00m load_dataset, Dataset, DatasetDict\n\u001b[1;32m      4\u001b[0m \u001b[38;5;28;01mfrom\u001b[39;00m \u001b[38;5;21;01msklearn\u001b[39;00m\u001b[38;5;21;01m.\u001b[39;00m\u001b[38;5;21;01mmodel_selection\u001b[39;00m \u001b[38;5;28;01mimport\u001b[39;00m train_test_split\n",
      "\u001b[0;31mModuleNotFoundError\u001b[0m: No module named 'transformers'"
     ]
    }
   ],
   "source": [
    "# import required libraries\n",
    "from transformers import BertTokenizer, BertConfig, BertModel, AutoModelForSequenceClassification, BertForSequenceClassification, pipeline, AutoModel, AutoTokenizer, TrainingArguments, Trainer\n",
    "from datasets import load_dataset, Dataset, DatasetDict\n",
    "from sklearn.model_selection import train_test_split\n",
    "from sklearn.ensemble import RandomForestClassifier\n",
    "from sklearn.model_selection import GridSearchCV\n",
    "from sklearn.metrics import f1_score, classification_report, confusion_matrix, accuracy_score, f1_score, precision_score, recall_score\n",
    "import torch\n",
    "import torch.nn as nn\n",
    "import torch.optim as optim\n",
    "from torch.optim.lr_scheduler import StepLR\n",
    "from torch.utils.data import DataLoader, TensorDataset\n",
    "import pandas as pd\n",
    "import numpy as np\n",
    "import seaborn as sns\n",
    "import matplotlib.pyplot as plt\n",
    "import re\n",
    "#from google.colab import files\n",
    "import io\n",
    "from sec_api import ExtractorApi"
   ]
  },
  {
   "cell_type": "markdown",
   "metadata": {
    "id": "EByld2xnFkxV"
   },
   "source": [
    "## 1. Scraping and Cleaning SEC Filings <a class=\"anchor\" id=\"scraping\"></a>"
   ]
  },
  {
   "cell_type": "markdown",
   "metadata": {
    "id": "Z9BAnlH0HvCY"
   },
   "source": [
    "### 1.1. Retriving 'Management Discussion & Analysis' Parts of SEC 10-K Filings <a class=\"anchor\" id=\"mda\"></a>\n",
    "\n",
    "This code chunk here is presented for demonstration, without a valid API key, it will not work."
   ]
  },
  {
   "cell_type": "code",
   "execution_count": null,
   "metadata": {
    "id": "6O_5P-qbNoYa"
   },
   "outputs": [],
   "source": [
    "# you need to replace your API key to access sec-api.io (detailed description in README.md)\n",
    "API_KEY = \"API-KEY\"\n",
    "\n",
    "# to initiate extractorAPI for the purpose of retriving data\n",
    "extractorApi = ExtractorApi(API_KEY)\n",
    "\n",
    "# to read filing URLs and store them in a `list`\n",
    "with open('filings_urls.txt', 'r') as file:\n",
    "    filing_10_k_urls = [line.strip() for line in file if line.strip()]\n",
    "\n",
    "# (optional) to display the list of all filing URLs\n",
    "print(filing_10_k_urls)\n",
    "\n",
    "# to initiate empty list to store extracted 10-K filings\n",
    "extracted_data = []\n",
    "\n",
    "# to iterate over the list of filing URLs\n",
    "for index, filing_10_k_url in enumerate(filing_10_k_urls, start=1):\n",
    "    # `7` corresponds the \"Management's Discussion & Analysis\" part\n",
    "    # `text` corresponds text format for extracted data instead of .html file\n",
    "    item_7_text = extractorApi.get_section(filing_10_k_url, '7', 'text')\n",
    "\n",
    "    # append list to have a complete dataset\n",
    "    extracted_data.append({\n",
    "        'URL': filing_10_k_url,\n",
    "        'MD&A': item_7_text\n",
    "    })\n",
    "\n",
    "    # to follow each increment of successful extraction\n",
    "    print(f\"MD&A part of Filing {index} is extracted and appended.\")\n",
    "\n",
    "# to create a Pandas DataFrame with the extracted MD&A sections\n",
    "mda_df = pd.DataFrame(extracted_data)"
   ]
  },
  {
   "cell_type": "code",
   "execution_count": null,
   "metadata": {
    "id": "9MB_IKCvNgzZ"
   },
   "outputs": [],
   "source": [
    "def clean_text(text):\n",
    "    \"\"\"\n",
    "    Clean up a text by removing specific patterns using regular expressions.\n",
    "\n",
    "    This function takes a text input and applies a series of regular expressions\n",
    "    to remove specific patterns (HTML and XML) commonly found in text extracted from filings.\n",
    "\n",
    "    Args:\n",
    "        text (str): The input text to be cleaned.\n",
    "\n",
    "    Returns:\n",
    "        str: The cleaned text with specified patterns removed.\n",
    "    \"\"\"\n",
    "    # list of regex patterns to be removed from the text\n",
    "    patterns = [\n",
    "        r'##TABLE_END',          # remove \"##TABLE_END\"\n",
    "        r'##TABLE_START',        # remove \"##TABLE_START\"\n",
    "        r'&#160;',               # remove \"&#160;\"          (Non-breaking space)\n",
    "        r'&#8226;',              # remove \"&#8226;\"         (Bullet point)\n",
    "        r'&#8220; &#8221;',      # remove \"&#8220; &#8221;\" (Quotation marks)\n",
    "        r'&#8220;&#8212;',       # Remove \"&#8220;&#8212;\"  (Quotation dash)\n",
    "        r'&#8220;',              # remove \"&#8220;\"         (Opening double quotation mark)\n",
    "        r'&#8221;',              # remove \"&#8221;\"         (Closing double quotation mark)\n",
    "        r'&#8212;',              # remove \"&#8212;\"         (Em dash)\n",
    "        r'&#8217;',              # remove \"&#8217;\"         (Right single quotation mark)\n",
    "        r'&#59;',                # remove \"&#59\";           (Semicolon)\n",
    "        r'&#9679;',              # remove \"&#9679;\"         (Bullet point)\n",
    "        r'&#8203;',              # remove \"&#8203;\"         (Zero-width space)\n",
    "        r'&#8211;',              # remove \"&#8211;\"         (En dash)\n",
    "        r'&#34;',                # remove \"&#34;\"           (Double quotation mark)\n",
    "        r'#38;',                 # remove \"#38;\"            (Ampersand)\n",
    "        r'&#8729;',              # remove \"&#8729;\"         (Middle dot)\n",
    "        r'\\n+'                   # remove any consecutive newline characters\n",
    "\n",
    "    ]\n",
    "\n",
    "    # to compile regex patterns into a list of regex objects\n",
    "    regex_patterns = [re.compile(pattern) for pattern in patterns]\n",
    "\n",
    "    # to apply each regex pattern to the text and replace matches with an empty string\n",
    "    cleaned_text = text\n",
    "    for pattern in regex_patterns:\n",
    "        cleaned_text = pattern.sub('', cleaned_text)\n",
    "\n",
    "    return cleaned_text"
   ]
  },
  {
   "cell_type": "code",
   "execution_count": null,
   "metadata": {
    "id": "pse7VpNwNjwx"
   },
   "outputs": [],
   "source": [
    "# to apply the user-defined clean_text function to the extracted text data to clean it\n",
    "mda_df['MD&A'] = mda_df['MD&A'].apply(clean_text)"
   ]
  },
  {
   "cell_type": "code",
   "execution_count": null,
   "metadata": {
    "id": "p9YxaZ5ow9Oo"
   },
   "outputs": [],
   "source": [
    "def truncate_text(df, column_name, max_chars=20000):\n",
    "    \"\"\"\n",
    "    Truncate text in a DataFrame column to a specified maximum number of characters.\n",
    "\n",
    "    This function truncates the text in the specified column of the provided DataFrame\n",
    "    to a maximum length defined by the 'max_chars' parameter.\n",
    "\n",
    "    Args:\n",
    "        df (pandas.DataFrame):     The DataFrame containing the text column to be truncated.\n",
    "        column_name (str):         The name of the column containing the text to be truncated.\n",
    "        max_chars (int, optional): The maximum number of characters to retain in each text.\n",
    "                                   Default is 20000.\n",
    "\n",
    "    Returns:\n",
    "        pandas.DataFrame: The modified DataFrame with truncated text in the specified column.\n",
    "    \"\"\"\n",
    "    # truncate the text in the specified column to the maximum character limit\n",
    "    df[column_name] = df[column_name].str[-max_chars:]\n",
    "    return df"
   ]
  },
  {
   "cell_type": "code",
   "execution_count": null,
   "metadata": {
    "id": "iWb3qvGkNsqw"
   },
   "outputs": [],
   "source": [
    "# truncate text such that decrease computational cost\n",
    "truncate_text(mda_df, 'MD&A')"
   ]
  },
  {
   "cell_type": "code",
   "execution_count": null,
   "metadata": {
    "id": "SBvnyfY34fr4"
   },
   "outputs": [],
   "source": [
    "# list of labels by hand\n",
    "labels = [np.nan, np.nan, np.nan, np.nan, np.nan, np.nan, np.nan, np.nan, np.nan, np.nan,\n",
    "          2, 0, 0, 1, 0, 0, 1, 1, 2, 1,\n",
    "          np.nan, np.nan, np.nan, np.nan, np.nan, np.nan, np.nan, np.nan, np.nan, np.nan,\n",
    "          np.nan, np.nan, np.nan, np.nan, np.nan, np.nan, np.nan, np.nan, np.nan, np.nan,\n",
    "          np.nan, np.nan, np.nan, np.nan, np.nan, np.nan, np.nan, np.nan, np.nan, np.nan,\n",
    "          np.nan, np.nan, np.nan, np.nan, np.nan, np.nan, np.nan, np.nan, np.nan, np.nan,\n",
    "          0, 1, 0, 0, 1, 2, 0, 0, 1, 1]\n",
    "\n",
    "# add 330 more np.nan such that it is equal to the number of rows in df\n",
    "labels.extend([np.nan] * 330)\n",
    "\n",
    "# to create empty column called `label` to store labels by hand\n",
    "mda_df['label'] = labels"
   ]
  },
  {
   "cell_type": "code",
   "execution_count": null,
   "metadata": {
    "id": "2v5QjfsrN073"
   },
   "outputs": [],
   "source": [
    "# to export the merged DataFrame as a pickle file (considering RAM efficiency) and parquet file\n",
    "mda_df.to_pickle(\"data/filings.pkl\")\n",
    "mda_df.to_parquet(\"data/filings.gzip\",\n",
    "                  compression=\"gzip\")"
   ]
  },
  {
   "cell_type": "markdown",
   "metadata": {
    "id": "FMnNtv8IFWDL"
   },
   "source": [
    "## 2. Fine-Tuning a Model <a class=\"anchor\" id=\"finetune\"></a>"
   ]
  },
  {
   "cell_type": "code",
   "execution_count": null,
   "metadata": {
    "colab": {
     "base_uri": "https://localhost:8080/"
    },
    "id": "50wvSgEuAdAe",
    "outputId": "dbbdefc3-3b27-4a34-b2e5-50603ea658e6"
   },
   "outputs": [
    {
     "name": "stdout",
     "output_type": "stream",
     "text": [
      "GPU is available and the device is Tesla T4.\n"
     ]
    }
   ],
   "source": [
    "# to check if GPU is available or not\n",
    "if torch.cuda.is_available():\n",
    "    device = torch.device(\"cuda\")\n",
    "    print(f'GPU is available and the device is {torch.cuda.get_device_name(0)}.')\n",
    "\n",
    "else:\n",
    "    device = torch.device(\"cpu\")\n",
    "    print('No GPU available, using the CPU.')"
   ]
  },
  {
   "cell_type": "code",
   "execution_count": null,
   "metadata": {
    "colab": {
     "base_uri": "https://localhost:8080/",
     "height": 177,
     "referenced_widgets": [
      "1bb6552beff04c8fbb3b1b013ff0f59f",
      "921d82d10d9849cdadb3fa7471e9b9ce",
      "f02bf2229afe4ece8b83b1f49e35a676",
      "876f7cccb3064b679a624b2a62bb1cdd",
      "03880cbbb1df4a5caab9f0c11a11cd0e",
      "05f98a1b36d04491a21f35881d6af348",
      "2689e97148bb4cb5826be1c9ff011036",
      "8a6e8152c7d84cca81cd7509f13277a5",
      "7b285133a52e49b3a3c88aa9c76cd2ed",
      "cb7d0c12f2ce420299713861ad365e24",
      "89dbf16ec5294874a48a5b002777b84c",
      "3c12f34288a54a58b78ae62b69727c3b",
      "d542b2c115254f6ca9e095856ff85bf7",
      "f097943b80d84759977c945a4b6bd9f1",
      "981e2c29baa84264be9fd32fe0280a75",
      "013424420b7e48e585c3a01bf5c32709",
      "680764c341e444209c550f86b5040b19",
      "70a6cb8e1daa488d8efffbdde1b0d467",
      "1a451433d7404c71a8167699822855cb",
      "ee3d44024b144dbf94349d6b32430a79",
      "4a64e26388854c20a31394bb5f350bed",
      "40cb303356944e78be1b77fcbeffdc32",
      "ca5430f03fdc408d8e853405a8710e75",
      "8724a25b58ca4afda8eb99fb2854ed15",
      "0b392aac181b4047bcbabf467e98621a",
      "98c4fec9f500426ca642500a115ff949",
      "480e6d96d1c34fc8a9c4b3b754ce695a",
      "efa92ed16a21402aa57a604667a7d735",
      "1ccb0e6fc0744b9e9be9bbd1aa64554a",
      "7a8999b9edd047de9645c93745a422d1",
      "48ea3f08ecf74807b34a4e64bd5c3f21",
      "ae4e864802ca415d893502ffe0a54c32",
      "5a18a782eb374943adb41d1cd453836d",
      "00634b9ad6364ed4b89c0808c63a2d71",
      "0eea5489d5224064b021a6712f5ef5d3",
      "6f23ee252eaa40128f2c23e98377d16c",
      "3f5d3072e7b34e0ab043d47c9648161a",
      "93af6f9c890c46698372174a340bf793",
      "6baec0bb89ac44bea0ce2d6df7b8de7d",
      "c414a90e37fb4d6d9f4d0bd2877afb63",
      "5015285808394a6983e4de3ff6fb5176",
      "cbe9061ae3234b0e98cfbdb46034bd1b",
      "38ee8adcbfd74f6db63dbc8ffbf9e34c",
      "311de1992f26478bb3bdb056bcf212f5",
      "f52727ac3750470e87d60da607dd6099",
      "b801df14e02b4ac392c37b1eefba2ec0",
      "b2ae082ac02b4185a43da6f469c12b1d",
      "6c3887524c54483e94af2acafa7a0c49",
      "08901f6be725401e908b57f50c0bec50",
      "c1d2a7ec143a48429f722cbba9152967",
      "92b12e2b40cb4c19816ae17727ec00c0",
      "ce13ed19c3974bc98eb2a805e37b002c",
      "e8d36bd76ef14bdca0fc35d5b0a33efe",
      "f078fa36dd1749588219ff58fb0551b0",
      "7e802f4d12b042768e3b3da61dce945d"
     ]
    },
    "id": "KYkNW1mXsR9C",
    "outputId": "f55e26d8-38a7-4b8a-b736-35417a5d4898"
   },
   "outputs": [
    {
     "data": {
      "application/vnd.jupyter.widget-view+json": {
       "model_id": "1bb6552beff04c8fbb3b1b013ff0f59f",
       "version_major": 2,
       "version_minor": 0
      },
      "text/plain": [
       "Downloading builder script:   0%|          | 0.00/6.04k [00:00<?, ?B/s]"
      ]
     },
     "metadata": {},
     "output_type": "display_data"
    },
    {
     "data": {
      "application/vnd.jupyter.widget-view+json": {
       "model_id": "3c12f34288a54a58b78ae62b69727c3b",
       "version_major": 2,
       "version_minor": 0
      },
      "text/plain": [
       "Downloading metadata:   0%|          | 0.00/13.7k [00:00<?, ?B/s]"
      ]
     },
     "metadata": {},
     "output_type": "display_data"
    },
    {
     "data": {
      "application/vnd.jupyter.widget-view+json": {
       "model_id": "ca5430f03fdc408d8e853405a8710e75",
       "version_major": 2,
       "version_minor": 0
      },
      "text/plain": [
       "Downloading readme:   0%|          | 0.00/8.88k [00:00<?, ?B/s]"
      ]
     },
     "metadata": {},
     "output_type": "display_data"
    },
    {
     "data": {
      "application/vnd.jupyter.widget-view+json": {
       "model_id": "00634b9ad6364ed4b89c0808c63a2d71",
       "version_major": 2,
       "version_minor": 0
      },
      "text/plain": [
       "Downloading data:   0%|          | 0.00/682k [00:00<?, ?B/s]"
      ]
     },
     "metadata": {},
     "output_type": "display_data"
    },
    {
     "data": {
      "application/vnd.jupyter.widget-view+json": {
       "model_id": "f52727ac3750470e87d60da607dd6099",
       "version_major": 2,
       "version_minor": 0
      },
      "text/plain": [
       "Generating train split:   0%|          | 0/3453 [00:00<?, ? examples/s]"
      ]
     },
     "metadata": {},
     "output_type": "display_data"
    }
   ],
   "source": [
    "# to load the `financial_phrasebank` dataset for fine-tuning of FinBERT model\n",
    "dataset = load_dataset(\"financial_phrasebank\", \"sentences_75agree\")"
   ]
  },
  {
   "cell_type": "markdown",
   "metadata": {
    "id": "0B3tdyIw5-EU"
   },
   "source": [
    "### 2. 1. Preprocessing <a class=\"anchor\" id=\"prep\"></a>"
   ]
  },
  {
   "cell_type": "code",
   "execution_count": null,
   "metadata": {
    "colab": {
     "base_uri": "https://localhost:8080/",
     "height": 49,
     "referenced_widgets": [
      "69abce853e55471dbfa7c197dff997d6",
      "0d5c40c32efe44fbba385292587e8c03",
      "e27304cfec00472791c1da03bed657de",
      "cffa35f48c2f4125904ed701479d3597",
      "4bfe270ce56144f48a02f6f914782339",
      "b7b541afdf274e8aa5b85e105f5cf78f",
      "6b558fd909254f1aa1a45f1b1a56c9bc",
      "023c02047e264699a0a81d92e36f14ce",
      "a388667b0e134f78bd8b3b1345f42c6b",
      "f689155a25ac4a138e7a00d23808fe2d",
      "848051584e234e39affde69915fb6790"
     ]
    },
    "id": "nIHhVR9ZHdNi",
    "outputId": "a336e6db-c485-4500-eab0-fdde6af4b9f0"
   },
   "outputs": [
    {
     "data": {
      "application/vnd.jupyter.widget-view+json": {
       "model_id": "69abce853e55471dbfa7c197dff997d6",
       "version_major": 2,
       "version_minor": 0
      },
      "text/plain": [
       "Map:   0%|          | 0/3453 [00:00<?, ? examples/s]"
      ]
     },
     "metadata": {},
     "output_type": "display_data"
    }
   ],
   "source": [
    "dataset.set_format(None)\n",
    "\n",
    "def label_to_sentiment(row):\n",
    "    \"\"\"\n",
    "    Convert numeric labels into verbal sentiments for a given row in a dataset.\n",
    "\n",
    "    This function converts a numeric label within a dataset row into a verbal sentiment using a\n",
    "    predefined mapping that correlates numeric labels with corresponding verbal sentiments\n",
    "    such as \"neutral,\" \"positive,\" and \"negative.\"\n",
    "\n",
    "    Args:\n",
    "        row (dict): A dictionary representing a row in a dataset, with a \"label\" key.\n",
    "\n",
    "    Returns:\n",
    "        dict: The input row dictionary with an additional \"sentiment\" key that holds\n",
    "              the verbal sentiment corresponding to the numeric label.\n",
    "    \"\"\"\n",
    "    # mapping of numeric labels to verbal sentiments\n",
    "    translation = {\n",
    "        0: \"neutral\",\n",
    "        1: \"positive\",\n",
    "        2: \"negative\",\n",
    "    }\n",
    "\n",
    "    # retrieve the numeric label from the row and map it to a verbal sentiment\n",
    "    row[\"sentiment\"] = translation[row[\"label\"]]\n",
    "    return row\n",
    "\n",
    "# mapping function to Dataset\n",
    "dataset_with_sentiments = dataset.map(label_to_sentiment)"
   ]
  },
  {
   "cell_type": "code",
   "execution_count": null,
   "metadata": {
    "colab": {
     "base_uri": "https://localhost:8080/"
    },
    "id": "_9S0CTPwj6wu",
    "outputId": "2a1ef083-0151-4b42-ec5e-51d2025b17ef"
   },
   "outputs": [
    {
     "data": {
      "text/plain": [
       "{'sentence': 'According to Gran , the company has no plans to move all production to Russia , although that is where the company is growing .',\n",
       " 'label': 1,\n",
       " 'sentiment': 'positive'}"
      ]
     },
     "execution_count": 6,
     "metadata": {},
     "output_type": "execute_result"
    }
   ],
   "source": [
    "# for visual inspection to check that `label_to_sentiment` function works properly\n",
    "dataset_with_sentiments[\"train\"][0]"
   ]
  },
  {
   "cell_type": "code",
   "execution_count": null,
   "metadata": {
    "colab": {
     "base_uri": "https://localhost:8080/",
     "height": 81,
     "referenced_widgets": [
      "a86e32c1a61e48f0b339621dbfa109a2",
      "63a635525c2a4382999febc35dbebadc",
      "2d388556b69447b9afafb76ac2914217",
      "ac885cef871b41aa9dd384aa9a9e85ae",
      "8793600b9acc425aba11ca5cf5ee3de6",
      "071de7efff714af484ffb5df7a4cb0c4",
      "06a3fc005fef41d5af7fffd055bdb9a6",
      "1597d308b7ef47048e31af70b718efd4",
      "02b08dacb63347ab89eef3b79bc68f38",
      "456f288b808348dcba743a24febc4fa1",
      "31802e05f9e8447dac80eae81c26921c",
      "ad418779183546e084d3752b79bb675d",
      "3bb415fde84148fa9ed218df365dc40d",
      "0d1d37946ae147ba987febd5e94d084c",
      "6a629e61f2b3423fa36698073b03f88b",
      "5f534f5e851243bfbf4fe34bbba78ede",
      "c53b964bdaae4eda860dee7bed4461d8",
      "55da35b0d80643a2a5cd2b89b18c1f02",
      "e1cd358b076f41d2a9a229cdc38b371a",
      "a19ce6e1a8ae4aab80ca95523a2c097f",
      "32daaa8697334896be2e1170b0068b2d",
      "430bd7116476444f897c3d2984e1adb2"
     ]
    },
    "id": "JjC6hwiACmzR",
    "outputId": "ed9c52d2-3ee9-4ed9-8091-af2db52c929a"
   },
   "outputs": [
    {
     "data": {
      "application/vnd.jupyter.widget-view+json": {
       "model_id": "a86e32c1a61e48f0b339621dbfa109a2",
       "version_major": 2,
       "version_minor": 0
      },
      "text/plain": [
       "Downloading (…)solve/main/vocab.txt:   0%|          | 0.00/226k [00:00<?, ?B/s]"
      ]
     },
     "metadata": {},
     "output_type": "display_data"
    },
    {
     "data": {
      "application/vnd.jupyter.widget-view+json": {
       "model_id": "ad418779183546e084d3752b79bb675d",
       "version_major": 2,
       "version_minor": 0
      },
      "text/plain": [
       "Downloading (…)lve/main/config.json:   0%|          | 0.00/533 [00:00<?, ?B/s]"
      ]
     },
     "metadata": {},
     "output_type": "display_data"
    }
   ],
   "source": [
    "# to initialize a tokenizer from the 'yiyanghkust/finbert-tone'\n",
    "tokenizer = BertTokenizer.from_pretrained(\n",
    "    'yiyanghkust/finbert-tone',\n",
    "    do_lower_case = True\n",
    "    )"
   ]
  },
  {
   "cell_type": "code",
   "execution_count": null,
   "metadata": {
    "colab": {
     "base_uri": "https://localhost:8080/",
     "height": 225,
     "referenced_widgets": [
      "103f846e8a9b4b54ab30f945e872690f",
      "e7088673ae6e4b409c64a68e83bd36eb",
      "de6f65c2870148019f60a882eb58e37b",
      "0441c1e4bf6141debf4c5e7c4ea11772",
      "449129f0c7d942cbbf09df01fae30c45",
      "ebd6dad24b1c48d3916c660935fdafdf",
      "13ae4cb864d24b7ebfe929a1728e5c1b",
      "8f9563c816804ea58e1319b8787a711c",
      "429ff4c9354b4672b0c70e246dfad3b8",
      "bbc5258c99344598ac03865213dd4f0f",
      "e6be2bee5a40498389baaa1091cdb565"
     ]
    },
    "id": "39YKyWtnCV-U",
    "outputId": "45da3f36-ad50-48f3-a18e-b95967be9517"
   },
   "outputs": [
    {
     "data": {
      "application/vnd.jupyter.widget-view+json": {
       "model_id": "103f846e8a9b4b54ab30f945e872690f",
       "version_major": 2,
       "version_minor": 0
      },
      "text/plain": [
       "Map:   0%|          | 0/3453 [00:00<?, ? examples/s]"
      ]
     },
     "metadata": {},
     "output_type": "display_data"
    },
    {
     "name": "stderr",
     "output_type": "stream",
     "text": [
      "/usr/local/lib/python3.10/dist-packages/transformers/tokenization_utils_base.py:2441: UserWarning: Though `pad_to_max_length` = `True`, it is ignored because `padding`=`True`.\n",
      "  warnings.warn(\"Though `pad_to_max_length` = `True`, it is ignored because `padding`=`True`.\")\n",
      "Asking to truncate to max_length but no maximum length is provided and the model has no predefined maximum length. Default to no truncation.\n"
     ]
    },
    {
     "data": {
      "text/plain": [
       "DatasetDict({\n",
       "    train: Dataset({\n",
       "        features: ['sentence', 'label', 'input_ids', 'token_type_ids', 'attention_mask'],\n",
       "        num_rows: 3453\n",
       "    })\n",
       "})"
      ]
     },
     "execution_count": 8,
     "metadata": {},
     "output_type": "execute_result"
    }
   ],
   "source": [
    "def tokenize_for_finetuning(batch):\n",
    "    \"\"\"\n",
    "    Tokenize a batch of sentences using a tokenizer. The resulting tokenized sequences\n",
    "    are returned as PyTorch tensors along with their corresponding attention masks.\n",
    "\n",
    "    Args:\n",
    "        batch (dict): A dictionary representing a batch of sentences with a \"sentence\" key.\n",
    "\n",
    "    Returns:\n",
    "        dict: A dictionary containing the tokenized sequences as PyTorch tensors along with\n",
    "              their attention masks. Keys are \"input_ids,\" \"attention_mask,\" and \"token_type_ids.\"\n",
    "    \"\"\"\n",
    "    # tokenize the sentences in the batch\n",
    "    return tokenizer(batch[\"sentence\"],\n",
    "                     padding=True,                # pad sequences to the same length\n",
    "                     truncation=True,             # truncate sequences if they exceed the maximum length\n",
    "                     add_special_tokens=True,     # add special tokens like [CLS] and [SEP]\n",
    "                     pad_to_max_length=True,      # pad to the maximum length in the batch\n",
    "                     return_attention_mask=True,  # return attention masks for each token\n",
    "                     return_tensors='pt')         # return PyTorch tensors\n",
    "\n",
    "# to apply user-defined `tokenize` function using `DatasetDict.map`\n",
    "dataset_encoded = dataset.map(tokenize_for_finetuning,\n",
    "                              batched=True,\n",
    "                              batch_size=None)\n",
    "\n",
    "# to determine the format of the encoded dataset to use PyTorch tensors\n",
    "dataset_encoded.set_format(\n",
    "    \"torch\",\n",
    "    columns=[\"input_ids\", \"attention_mask\", \"label\"],\n",
    ")\n",
    "\n",
    "# to display names of features and number of rows in encoded dataset\n",
    "dataset_encoded"
   ]
  },
  {
   "cell_type": "code",
   "execution_count": null,
   "metadata": {
    "colab": {
     "base_uri": "https://localhost:8080/"
    },
    "id": "9kMhj_4G2bF-",
    "outputId": "57ad7e1e-dd51-4c93-bc51-988c8f9002c9"
   },
   "outputs": [
    {
     "name": "stdout",
     "output_type": "stream",
     "text": [
      "Type of dataset is <class 'datasets.dataset_dict.DatasetDict'> and,\n",
      "Type of encoded dataset is <class 'datasets.dataset_dict.DatasetDict'>.\n",
      "Shape of the dataset is {'train': (3453, 2)}\n",
      "{'train': [{'filename': '/root/.cache/huggingface/datasets/financial_phrasebank/sentences_75agree/1.0.0/550bde12e6c30e2674da973a55f57edde5181d53f5a5a34c1531c53f93b7e141/financial_phrasebank-train.arrow'}]}.\n",
      "\n"
     ]
    }
   ],
   "source": [
    "print(f\"\"\"Type of dataset is {type(dataset_with_sentiments)} and,\\nType of encoded dataset is {type(dataset_encoded)}.\n",
    "Shape of the dataset is {dataset.shape}\\n{dataset.cache_files}.\n",
    "\"\"\")"
   ]
  },
  {
   "cell_type": "markdown",
   "metadata": {
    "id": "oF2SNiu164RA"
   },
   "source": [
    "### 2. 2. Train-Test Split <a class=\"anchor\" id=\"tts\"></a>\n"
   ]
  },
  {
   "cell_type": "code",
   "execution_count": null,
   "metadata": {
    "colab": {
     "base_uri": "https://localhost:8080/"
    },
    "id": "5wCfYUkjC2u1",
    "outputId": "3574a11b-353e-4458-f92e-2291193f1fc5"
   },
   "outputs": [
    {
     "name": "stdout",
     "output_type": "stream",
     "text": [
      "The shapes of train, test, and validations sets are (2209, 5), (691, 5), (553, 5), respectively.\n"
     ]
    }
   ],
   "source": [
    "# to set the format of the encoded dataset to use pandas DataFrames\n",
    "dataset_encoded.set_format(type=\"pandas\")\n",
    "\n",
    "# to split the dataset into train and test sets using stratified sampling\n",
    "ds_train, ds_test, = train_test_split(dataset_encoded[\"train\"], stratify=dataset_encoded[\"train\"][\"label\"], test_size=0.2, random_state=44)\n",
    "\n",
    "# to further split the training set into training and validation sets\n",
    "ds_train, ds_val = train_test_split(ds_train, stratify=ds_train[\"label\"],test_size=0.2, random_state=44)\n",
    "\n",
    "print(f\"The shapes of train, test, and validations sets are {ds_train.shape}, {ds_test.shape}, {ds_val.shape}, respectively.\")"
   ]
  },
  {
   "cell_type": "code",
   "execution_count": null,
   "metadata": {
    "id": "r7VK7yE-KNrH"
   },
   "outputs": [],
   "source": [
    "# to set the format of the training, test, and validation sets to use PyTorch tensors\n",
    "\n",
    "ds_train = Dataset.from_pandas(ds_train)\n",
    "ds_train.set_format(type=\"torch\")\n",
    "\n",
    "ds_test = Dataset.from_pandas(ds_test)\n",
    "ds_test.set_format(type=\"torch\")\n",
    "\n",
    "ds_val = Dataset.from_pandas(ds_val)\n",
    "ds_val.set_format(type=\"torch\")"
   ]
  },
  {
   "cell_type": "markdown",
   "metadata": {
    "id": "W_psbIkD7Spc"
   },
   "source": [
    "### 2. 3. Training the Model <a class=\"anchor\" id=\"train\"></a>"
   ]
  },
  {
   "cell_type": "code",
   "execution_count": null,
   "metadata": {
    "colab": {
     "base_uri": "https://localhost:8080/",
     "height": 136,
     "referenced_widgets": [
      "4f315419c02549d18b18b7b64bdc6de3",
      "cc3debacb7ec4e9b90a9b2b54e66a31b",
      "68b3d6ae5e8c45819b2affd9192d2f11",
      "a1e977794a1042c688c7a07152afd654",
      "7b692888d0dd4cfebd2bde402f01d3bb",
      "5023b2e79e064f75b5606e3e11d81643",
      "d2d3707aa4e149749e00b556d7c2a8a0",
      "396c17fd14334f49a2ec76ff6c6085b2",
      "df198cfad6cf4fa08ed41ad63215b66b",
      "1f15f84ba58b4680b542ced71c9b8516",
      "af1429535f8a4feaa030c7ed94511d0b",
      "12e46a3c2c4548b7994463870b6557d1",
      "186668e0f34441f484be056074014812",
      "e663ce9411ba459bb833c7779f203810",
      "a0629fc3fcc0406190f4d819b0568f3a",
      "b643a68ea9ea4163b4bf3ed234923d0c",
      "62c362a1fa5c4dceb79b4d45b1fa7f57",
      "634acda985d74e2ead2ffdfed51a53be",
      "016555a8de3f487ebba21c6d2c76b76c",
      "6f20cd4ce62c4c1abfe44a96623c0496",
      "ef3e5b1013d14afbaa1a3962e72dbb61",
      "31bfe27b4e3c49689328776acdb65efa"
     ]
    },
    "id": "dIub1vFyC2eS",
    "outputId": "1ccf5bb6-be12-48ce-b0d1-1ba1296537b7"
   },
   "outputs": [
    {
     "data": {
      "application/vnd.jupyter.widget-view+json": {
       "model_id": "4f315419c02549d18b18b7b64bdc6de3",
       "version_major": 2,
       "version_minor": 0
      },
      "text/plain": [
       "Downloading (…)lve/main/config.json:   0%|          | 0.00/359 [00:00<?, ?B/s]"
      ]
     },
     "metadata": {},
     "output_type": "display_data"
    },
    {
     "data": {
      "application/vnd.jupyter.widget-view+json": {
       "model_id": "12e46a3c2c4548b7994463870b6557d1",
       "version_major": 2,
       "version_minor": 0
      },
      "text/plain": [
       "Downloading pytorch_model.bin:   0%|          | 0.00/442M [00:00<?, ?B/s]"
      ]
     },
     "metadata": {},
     "output_type": "display_data"
    },
    {
     "name": "stderr",
     "output_type": "stream",
     "text": [
      "Some weights of BertForSequenceClassification were not initialized from the model checkpoint at yiyanghkust/finbert-pretrain and are newly initialized: ['classifier.weight', 'classifier.bias']\n",
      "You should probably TRAIN this model on a down-stream task to be able to use it for predictions and inference.\n"
     ]
    }
   ],
   "source": [
    "# to initialize a pre-trained BERT model for sequence classification\n",
    "model = BertForSequenceClassification.from_pretrained(\n",
    "    'yiyanghkust/finbert-pretrain',\n",
    "    num_labels = 3\n",
    "    )"
   ]
  },
  {
   "cell_type": "code",
   "execution_count": null,
   "metadata": {
    "colab": {
     "base_uri": "https://localhost:8080/",
     "height": 284
    },
    "id": "LLqv92c5DAMl",
    "outputId": "827b9172-311b-4ac1-97b7-e65bf2e28fb7"
   },
   "outputs": [
    {
     "data": {
      "text/html": [
       "\n",
       "    <div>\n",
       "      \n",
       "      <progress value='175' max='175' style='width:300px; height:20px; vertical-align: middle;'></progress>\n",
       "      [175/175 04:24, Epoch 5/5]\n",
       "    </div>\n",
       "    <table border=\"1\" class=\"dataframe\">\n",
       "  <thead>\n",
       " <tr style=\"text-align: left;\">\n",
       "      <th>Epoch</th>\n",
       "      <th>Training Loss</th>\n",
       "      <th>Validation Loss</th>\n",
       "      <th>Accuracy</th>\n",
       "    </tr>\n",
       "  </thead>\n",
       "  <tbody>\n",
       "    <tr>\n",
       "      <td>1</td>\n",
       "      <td>No log</td>\n",
       "      <td>0.601808</td>\n",
       "      <td>0.725136</td>\n",
       "    </tr>\n",
       "    <tr>\n",
       "      <td>2</td>\n",
       "      <td>No log</td>\n",
       "      <td>0.346899</td>\n",
       "      <td>0.884268</td>\n",
       "    </tr>\n",
       "    <tr>\n",
       "      <td>3</td>\n",
       "      <td>No log</td>\n",
       "      <td>0.270539</td>\n",
       "      <td>0.913201</td>\n",
       "    </tr>\n",
       "    <tr>\n",
       "      <td>4</td>\n",
       "      <td>No log</td>\n",
       "      <td>0.249910</td>\n",
       "      <td>0.911392</td>\n",
       "    </tr>\n",
       "    <tr>\n",
       "      <td>5</td>\n",
       "      <td>No log</td>\n",
       "      <td>0.248187</td>\n",
       "      <td>0.918626</td>\n",
       "    </tr>\n",
       "  </tbody>\n",
       "</table><p>"
      ],
      "text/plain": [
       "<IPython.core.display.HTML object>"
      ]
     },
     "metadata": {},
     "output_type": "display_data"
    },
    {
     "data": {
      "text/plain": [
       "TrainOutput(global_step=175, training_loss=0.3708878435407366, metrics={'train_runtime': 270.5091, 'train_samples_per_second': 40.83, 'train_steps_per_second': 0.647, 'total_flos': 760577639921820.0, 'train_loss': 0.3708878435407366, 'epoch': 5.0})"
      ]
     },
     "execution_count": 13,
     "metadata": {},
     "output_type": "execute_result"
    }
   ],
   "source": [
    "# to define a function to compute evaluation metrics for classification\n",
    "def compute_metrics(eval_pred):\n",
    "    \"\"\"\n",
    "    Compute accuracy metric for classification evaluation.\n",
    "\n",
    "    Args:\n",
    "        eval_pred (tuple): A tuple containing predicted probabilities and true labels.\n",
    "\n",
    "    Returns:\n",
    "        dict: A dictionary containing the computed accuracy metric.\n",
    "    \"\"\"\n",
    "    predictions, labels = eval_pred\n",
    "    predictions = np.argmax(predictions, axis=1)\n",
    "    return {'accuracy' : accuracy_score(predictions, labels)}\n",
    "\n",
    "# define training arguments for the `Trainer`\n",
    "args = TrainingArguments(\n",
    "    output_dir='temp/',                    # directory to save model checkpoints and logs\n",
    "    evaluation_strategy='epoch',           # evaluate at the end of each epoch\n",
    "    save_strategy='epoch',                 # save model checkpoints at the end of each epoch\n",
    "    optim=\"adamw_torch\",                   # set the optimizer to train as \"adamw\"\n",
    "    learning_rate=1e-5,                    # learning rate for optimization\n",
    "    per_device_train_batch_size=64,        # batch size for training\n",
    "    per_device_eval_batch_size=64,         # batch size for evaluation\n",
    "    num_train_epochs=5,                    # number of training epochs\n",
    "    weight_decay=0.01,                     # weight decay for regularization\n",
    "    load_best_model_at_end=True,           # load the best model at the end of training\n",
    "    metric_for_best_model='accuracy',      # metric to determine the best model\n",
    ")\n",
    "\n",
    "# to initialize a `Trainer` for training and evaluation\n",
    "trainer = Trainer(\n",
    "    model=model,\n",
    "    args=args,\n",
    "    train_dataset=ds_train,\n",
    "    eval_dataset=ds_val,\n",
    "    compute_metrics=compute_metrics,\n",
    ")\n",
    "\n",
    "# to train the model using the `Trainer`\n",
    "trainer.train()"
   ]
  },
  {
   "cell_type": "markdown",
   "metadata": {
    "id": "I6oYF0oX7FcI"
   },
   "source": [
    "### 2. 4. Evaluate and Save the Model <a class=\"anchor\" id=\"eval\"></a>"
   ]
  },
  {
   "cell_type": "code",
   "execution_count": null,
   "metadata": {
    "colab": {
     "base_uri": "https://localhost:8080/",
     "height": 104
    },
    "id": "zb2PU304DHi_",
    "outputId": "7dc6758a-318f-46cd-bbf2-3d67c5e93071"
   },
   "outputs": [
    {
     "data": {
      "text/html": [],
      "text/plain": [
       "<IPython.core.display.HTML object>"
      ]
     },
     "metadata": {},
     "output_type": "display_data"
    },
    {
     "data": {
      "text/plain": [
       "{'test_loss': 0.21604694426059723,\n",
       " 'test_accuracy': 0.9232995658465991,\n",
       " 'test_runtime': 5.1193,\n",
       " 'test_samples_per_second': 134.98,\n",
       " 'test_steps_per_second': 2.149}"
      ]
     },
     "execution_count": 14,
     "metadata": {},
     "output_type": "execute_result"
    }
   ],
   "source": [
    "# to use `Trainer` to predict on the test dataset and retrieve evaluation metrics\n",
    "trainer.predict(ds_test).metrics"
   ]
  },
  {
   "cell_type": "code",
   "execution_count": null,
   "metadata": {
    "colab": {
     "base_uri": "https://localhost:8080/",
     "height": 74
    },
    "id": "Hs81RtJl4a4s",
    "outputId": "421a3e45-7d3f-4bbd-8d8a-e963e580f51e"
   },
   "outputs": [
    {
     "data": {
      "text/html": [
       "\n",
       "    <div>\n",
       "      \n",
       "      <progress value='9' max='9' style='width:300px; height:20px; vertical-align: middle;'></progress>\n",
       "      [9/9 00:03]\n",
       "    </div>\n",
       "    "
      ],
      "text/plain": [
       "<IPython.core.display.HTML object>"
      ]
     },
     "metadata": {},
     "output_type": "display_data"
    },
    {
     "name": "stdout",
     "output_type": "stream",
     "text": [
      "{'eval_loss': 0.2481873482465744, 'eval_accuracy': 0.918625678119349, 'eval_runtime': 3.9473, 'eval_samples_per_second': 140.096, 'eval_steps_per_second': 2.28, 'epoch': 5.0}\n"
     ]
    }
   ],
   "source": [
    "# to evaluate the model\n",
    "results = trainer.evaluate()\n",
    "print(results)\n",
    "\n",
    "# to save the fine-tuned model\n",
    "trainer.save_model('finbert-sentiment/')"
   ]
  },
  {
   "cell_type": "code",
   "execution_count": null,
   "metadata": {
    "id": "-BdklYhklzk0"
   },
   "outputs": [],
   "source": [
    "torch.cuda.empty_cache()"
   ]
  },
  {
   "cell_type": "markdown",
   "metadata": {
    "id": "t-JOZPpAGmkZ"
   },
   "source": [
    "## 3. Applying Fine-Tuned and Untuned FinBERT on SEC Filings <a class=\"anchor\" id=\"apply\"></a>\n",
    "If you are running this notebook on ***Google Colab***, use this code snippet to import `filings.gzip`"
   ]
  },
  {
   "cell_type": "code",
   "execution_count": null,
   "metadata": {
    "colab": {
     "base_uri": "https://localhost:8080/",
     "height": 75
    },
    "id": "-6pkBE7ZrkWH",
    "outputId": "d0bd13e7-d2b1-4ade-bf49-b804728294da"
   },
   "outputs": [
    {
     "data": {
      "text/html": [
       "\n",
       "     <input type=\"file\" id=\"files-9fb19401-6f4d-4b5d-91ec-90fab6140243\" name=\"files[]\" multiple disabled\n",
       "        style=\"border:none\" />\n",
       "     <output id=\"result-9fb19401-6f4d-4b5d-91ec-90fab6140243\">\n",
       "      Upload widget is only available when the cell has been executed in the\n",
       "      current browser session. Please rerun this cell to enable.\n",
       "      </output>\n",
       "      <script>// Copyright 2017 Google LLC\n",
       "//\n",
       "// Licensed under the Apache License, Version 2.0 (the \"License\");\n",
       "// you may not use this file except in compliance with the License.\n",
       "// You may obtain a copy of the License at\n",
       "//\n",
       "//      http://www.apache.org/licenses/LICENSE-2.0\n",
       "//\n",
       "// Unless required by applicable law or agreed to in writing, software\n",
       "// distributed under the License is distributed on an \"AS IS\" BASIS,\n",
       "// WITHOUT WARRANTIES OR CONDITIONS OF ANY KIND, either express or implied.\n",
       "// See the License for the specific language governing permissions and\n",
       "// limitations under the License.\n",
       "\n",
       "/**\n",
       " * @fileoverview Helpers for google.colab Python module.\n",
       " */\n",
       "(function(scope) {\n",
       "function span(text, styleAttributes = {}) {\n",
       "  const element = document.createElement('span');\n",
       "  element.textContent = text;\n",
       "  for (const key of Object.keys(styleAttributes)) {\n",
       "    element.style[key] = styleAttributes[key];\n",
       "  }\n",
       "  return element;\n",
       "}\n",
       "\n",
       "// Max number of bytes which will be uploaded at a time.\n",
       "const MAX_PAYLOAD_SIZE = 100 * 1024;\n",
       "\n",
       "function _uploadFiles(inputId, outputId) {\n",
       "  const steps = uploadFilesStep(inputId, outputId);\n",
       "  const outputElement = document.getElementById(outputId);\n",
       "  // Cache steps on the outputElement to make it available for the next call\n",
       "  // to uploadFilesContinue from Python.\n",
       "  outputElement.steps = steps;\n",
       "\n",
       "  return _uploadFilesContinue(outputId);\n",
       "}\n",
       "\n",
       "// This is roughly an async generator (not supported in the browser yet),\n",
       "// where there are multiple asynchronous steps and the Python side is going\n",
       "// to poll for completion of each step.\n",
       "// This uses a Promise to block the python side on completion of each step,\n",
       "// then passes the result of the previous step as the input to the next step.\n",
       "function _uploadFilesContinue(outputId) {\n",
       "  const outputElement = document.getElementById(outputId);\n",
       "  const steps = outputElement.steps;\n",
       "\n",
       "  const next = steps.next(outputElement.lastPromiseValue);\n",
       "  return Promise.resolve(next.value.promise).then((value) => {\n",
       "    // Cache the last promise value to make it available to the next\n",
       "    // step of the generator.\n",
       "    outputElement.lastPromiseValue = value;\n",
       "    return next.value.response;\n",
       "  });\n",
       "}\n",
       "\n",
       "/**\n",
       " * Generator function which is called between each async step of the upload\n",
       " * process.\n",
       " * @param {string} inputId Element ID of the input file picker element.\n",
       " * @param {string} outputId Element ID of the output display.\n",
       " * @return {!Iterable<!Object>} Iterable of next steps.\n",
       " */\n",
       "function* uploadFilesStep(inputId, outputId) {\n",
       "  const inputElement = document.getElementById(inputId);\n",
       "  inputElement.disabled = false;\n",
       "\n",
       "  const outputElement = document.getElementById(outputId);\n",
       "  outputElement.innerHTML = '';\n",
       "\n",
       "  const pickedPromise = new Promise((resolve) => {\n",
       "    inputElement.addEventListener('change', (e) => {\n",
       "      resolve(e.target.files);\n",
       "    });\n",
       "  });\n",
       "\n",
       "  const cancel = document.createElement('button');\n",
       "  inputElement.parentElement.appendChild(cancel);\n",
       "  cancel.textContent = 'Cancel upload';\n",
       "  const cancelPromise = new Promise((resolve) => {\n",
       "    cancel.onclick = () => {\n",
       "      resolve(null);\n",
       "    };\n",
       "  });\n",
       "\n",
       "  // Wait for the user to pick the files.\n",
       "  const files = yield {\n",
       "    promise: Promise.race([pickedPromise, cancelPromise]),\n",
       "    response: {\n",
       "      action: 'starting',\n",
       "    }\n",
       "  };\n",
       "\n",
       "  cancel.remove();\n",
       "\n",
       "  // Disable the input element since further picks are not allowed.\n",
       "  inputElement.disabled = true;\n",
       "\n",
       "  if (!files) {\n",
       "    return {\n",
       "      response: {\n",
       "        action: 'complete',\n",
       "      }\n",
       "    };\n",
       "  }\n",
       "\n",
       "  for (const file of files) {\n",
       "    const li = document.createElement('li');\n",
       "    li.append(span(file.name, {fontWeight: 'bold'}));\n",
       "    li.append(span(\n",
       "        `(${file.type || 'n/a'}) - ${file.size} bytes, ` +\n",
       "        `last modified: ${\n",
       "            file.lastModifiedDate ? file.lastModifiedDate.toLocaleDateString() :\n",
       "                                    'n/a'} - `));\n",
       "    const percent = span('0% done');\n",
       "    li.appendChild(percent);\n",
       "\n",
       "    outputElement.appendChild(li);\n",
       "\n",
       "    const fileDataPromise = new Promise((resolve) => {\n",
       "      const reader = new FileReader();\n",
       "      reader.onload = (e) => {\n",
       "        resolve(e.target.result);\n",
       "      };\n",
       "      reader.readAsArrayBuffer(file);\n",
       "    });\n",
       "    // Wait for the data to be ready.\n",
       "    let fileData = yield {\n",
       "      promise: fileDataPromise,\n",
       "      response: {\n",
       "        action: 'continue',\n",
       "      }\n",
       "    };\n",
       "\n",
       "    // Use a chunked sending to avoid message size limits. See b/62115660.\n",
       "    let position = 0;\n",
       "    do {\n",
       "      const length = Math.min(fileData.byteLength - position, MAX_PAYLOAD_SIZE);\n",
       "      const chunk = new Uint8Array(fileData, position, length);\n",
       "      position += length;\n",
       "\n",
       "      const base64 = btoa(String.fromCharCode.apply(null, chunk));\n",
       "      yield {\n",
       "        response: {\n",
       "          action: 'append',\n",
       "          file: file.name,\n",
       "          data: base64,\n",
       "        },\n",
       "      };\n",
       "\n",
       "      let percentDone = fileData.byteLength === 0 ?\n",
       "          100 :\n",
       "          Math.round((position / fileData.byteLength) * 100);\n",
       "      percent.textContent = `${percentDone}% done`;\n",
       "\n",
       "    } while (position < fileData.byteLength);\n",
       "  }\n",
       "\n",
       "  // All done.\n",
       "  yield {\n",
       "    response: {\n",
       "      action: 'complete',\n",
       "    }\n",
       "  };\n",
       "}\n",
       "\n",
       "scope.google = scope.google || {};\n",
       "scope.google.colab = scope.google.colab || {};\n",
       "scope.google.colab._files = {\n",
       "  _uploadFiles,\n",
       "  _uploadFilesContinue,\n",
       "};\n",
       "})(self);\n",
       "</script> "
      ],
      "text/plain": [
       "<IPython.core.display.HTML object>"
      ]
     },
     "metadata": {},
     "output_type": "display_data"
    },
    {
     "name": "stdout",
     "output_type": "stream",
     "text": [
      "Saving 521.gzip to 521.gzip\n"
     ]
    }
   ],
   "source": [
    "# to upload files from local machine to Google Colab, and...\n",
    "uploaded = files.upload()\n",
    "\n",
    "# to read the uploaded pickle file using Pandas and load it into `data`\n",
    "data = pd.read_parquet(io.BytesIO(uploaded['521.gzip']))"
   ]
  },
  {
   "cell_type": "markdown",
   "metadata": {
    "id": "KYb8Q7MxDXig"
   },
   "source": [
    "If you are running this notebook on ***your local machine***, use this code snippet to import `filings.gzip`"
   ]
  },
  {
   "cell_type": "code",
   "execution_count": null,
   "metadata": {
    "id": "OK8fgu3GDXQh"
   },
   "outputs": [],
   "source": [
    "data = pd.read_parquet(\"../data/filings.gzip\")"
   ]
  },
  {
   "cell_type": "markdown",
   "metadata": {
    "id": "rHZCjRfmXsMy"
   },
   "source": [
    "***"
   ]
  },
  {
   "cell_type": "code",
   "execution_count": null,
   "metadata": {
    "id": "Sc7zdcr7Anu2"
   },
   "outputs": [],
   "source": [
    "def get_input_ids_and_attention_mask_chunk(tokens):\n",
    "    \"\"\"\n",
    "    Process tokens into input IDs and attention masks using a sliding window approach.\n",
    "\n",
    "    This function overcomes the maximum length limitation of 512 tokens in FinBERT by\n",
    "    applying a sliding window approach. It takes tokenized data as input and processes\n",
    "    it into input IDs and attention masks in chunks, each within the maximum length.\n",
    "\n",
    "    Args:\n",
    "        tokens (dict): A dictionary containing tokenized data with \"input_ids\" and \"attention_mask\" keys.\n",
    "\n",
    "    Returns:\n",
    "        tuple: A tuple containing lists of input IDs and attention masks for each chunk.\n",
    "    \"\"\"\n",
    "    chunksize = 512      # maximum chunk size for BERT\n",
    "    input_id_chunks = list(tokens['input_ids'][0].split(chunksize - 2))\n",
    "    attention_mask_chunks = list(tokens['attention_mask'][0].split(chunksize - 2))\n",
    "\n",
    "    for i in range(len(input_id_chunks)):\n",
    "\n",
    "        # to add [CLS] and [SEP] tokens to the start and end of each chunk\n",
    "        input_id_chunks[i] = torch.cat([\n",
    "            torch.tensor([101]).to(device), input_id_chunks[i].to(device), torch.tensor([102]).to(device)\n",
    "        ])\n",
    "\n",
    "        # to generate attention mask for the chunk with [CLS] and [SEP]\n",
    "        attention_mask_chunks[i] = torch.cat([\n",
    "            torch.tensor([1]).to(device), attention_mask_chunks[i].to(device), torch.tensor([1]).to(device)\n",
    "        ]).to(device)\n",
    "\n",
    "        # to calculate the pad length required for the chunk\n",
    "        pad_length = chunksize - input_id_chunks[i].shape[0]\n",
    "\n",
    "        # to pad the chunk with zeros if necessary in the last chunk\n",
    "        if pad_length > 0:\n",
    "            input_id_chunks[i] = torch.cat([\n",
    "                input_id_chunks[i], torch.Tensor([0] * pad_length).to(device)\n",
    "            ])\n",
    "            attention_mask_chunks[i] = torch.cat([\n",
    "                attention_mask_chunks[i], torch.Tensor([0] * pad_length).to(device)\n",
    "            ])\n",
    "\n",
    "    return input_id_chunks, attention_mask_chunks"
   ]
  },
  {
   "cell_type": "markdown",
   "metadata": {
    "id": "QdQl1UYqAeHh"
   },
   "source": [
    "### 3.1. Untuned FinBERT <a class=\"anchor\" id=\"untuned\"></a>\n",
    "\n",
    "#### 3.1.1. Untuned FinBERT on SEC 10-K Filings <a class=\"anchor\" id=\"untuned1\"></a>"
   ]
  },
  {
   "cell_type": "code",
   "execution_count": null,
   "metadata": {
    "colab": {
     "base_uri": "https://localhost:8080/",
     "height": 49,
     "referenced_widgets": [
      "bb55a62e64124473bef4b0da3034e7e6",
      "53a266284e0041fb8ac12f8203665408",
      "85569c3237e844f9a69682e5a5088e88",
      "2e13350f905a4f329fb44c79d30840a1",
      "5017d34ee62544eaa9dcc5dde9327e05",
      "37b8dd0bcaed43d6acca994c6b89f0a1",
      "1884d5d253b145aab0723dfd1f2b96ba",
      "5b66daee18934fc7ae3058ce1e984e4d",
      "22cea877a373458ea4f82185ca4c9247",
      "68c735fc8fdc4defb6a59bd7d1c20073",
      "3040cbb1e3a046f4a653033fa077346e"
     ]
    },
    "id": "ifOVAMDgKfjD",
    "outputId": "51a844ad-d9a6-4213-f4d1-ddeef837510b"
   },
   "outputs": [
    {
     "data": {
      "application/vnd.jupyter.widget-view+json": {
       "model_id": "bb55a62e64124473bef4b0da3034e7e6",
       "version_major": 2,
       "version_minor": 0
      },
      "text/plain": [
       "Downloading pytorch_model.bin:   0%|          | 0.00/439M [00:00<?, ?B/s]"
      ]
     },
     "metadata": {},
     "output_type": "display_data"
    }
   ],
   "source": [
    "untuned_model = BertForSequenceClassification.from_pretrained('yiyanghkust/finbert-tone',num_labels=3)"
   ]
  },
  {
   "cell_type": "code",
   "execution_count": null,
   "metadata": {
    "colab": {
     "base_uri": "https://localhost:8080/"
    },
    "id": "n6z1OL48nj4K",
    "outputId": "01424249-4ed4-4dfa-9e34-bfab79692b8f"
   },
   "outputs": [
    {
     "name": "stdout",
     "output_type": "stream",
     "text": [
      "Iteration 10 Analyzed and prediction appended. Predicted Sentiment: 0\n",
      "Iteration 20 Analyzed and prediction appended. Predicted Sentiment: 0\n",
      "Iteration 30 Analyzed and prediction appended. Predicted Sentiment: 0\n",
      "Iteration 40 Analyzed and prediction appended. Predicted Sentiment: 0\n",
      "Iteration 50 Analyzed and prediction appended. Predicted Sentiment: 0\n",
      "Iteration 60 Analyzed and prediction appended. Predicted Sentiment: 0\n",
      "Iteration 70 Analyzed and prediction appended. Predicted Sentiment: 0\n",
      "Iteration 80 Analyzed and prediction appended. Predicted Sentiment: 0\n",
      "Iteration 90 Analyzed and prediction appended. Predicted Sentiment: 0\n",
      "Iteration 100 Analyzed and prediction appended. Predicted Sentiment: 0\n",
      "Iteration 110 Analyzed and prediction appended. Predicted Sentiment: 0\n",
      "Iteration 120 Analyzed and prediction appended. Predicted Sentiment: 0\n",
      "Iteration 130 Analyzed and prediction appended. Predicted Sentiment: 0\n",
      "Iteration 140 Analyzed and prediction appended. Predicted Sentiment: 0\n",
      "Iteration 150 Analyzed and prediction appended. Predicted Sentiment: 0\n",
      "Iteration 160 Analyzed and prediction appended. Predicted Sentiment: 0\n",
      "Iteration 170 Analyzed and prediction appended. Predicted Sentiment: 0\n",
      "Iteration 180 Analyzed and prediction appended. Predicted Sentiment: 0\n",
      "Iteration 190 Analyzed and prediction appended. Predicted Sentiment: 0\n",
      "Iteration 200 Analyzed and prediction appended. Predicted Sentiment: 0\n",
      "Iteration 210 Analyzed and prediction appended. Predicted Sentiment: 0\n",
      "Iteration 220 Analyzed and prediction appended. Predicted Sentiment: 0\n",
      "Iteration 230 Analyzed and prediction appended. Predicted Sentiment: 0\n",
      "Iteration 240 Analyzed and prediction appended. Predicted Sentiment: 0\n",
      "Iteration 250 Analyzed and prediction appended. Predicted Sentiment: 0\n",
      "Iteration 260 Analyzed and prediction appended. Predicted Sentiment: 0\n",
      "Iteration 270 Analyzed and prediction appended. Predicted Sentiment: 0\n",
      "Iteration 280 Analyzed and prediction appended. Predicted Sentiment: 0\n",
      "Iteration 290 Analyzed and prediction appended. Predicted Sentiment: 0\n",
      "Iteration 300 Analyzed and prediction appended. Predicted Sentiment: 0\n",
      "Iteration 310 Analyzed and prediction appended. Predicted Sentiment: 0\n",
      "Iteration 320 Analyzed and prediction appended. Predicted Sentiment: 0\n",
      "Iteration 330 Analyzed and prediction appended. Predicted Sentiment: 0\n",
      "Iteration 340 Analyzed and prediction appended. Predicted Sentiment: 0\n",
      "Iteration 350 Analyzed and prediction appended. Predicted Sentiment: 0\n",
      "Iteration 360 Analyzed and prediction appended. Predicted Sentiment: 0\n",
      "Iteration 370 Analyzed and prediction appended. Predicted Sentiment: 0\n",
      "Iteration 380 Analyzed and prediction appended. Predicted Sentiment: 0\n",
      "Iteration 390 Analyzed and prediction appended. Predicted Sentiment: 0\n",
      "Iteration 400 Analyzed and prediction appended. Predicted Sentiment: 0\n"
     ]
    }
   ],
   "source": [
    "# a for loop through each row in data\n",
    "for index, row in data.iterrows():\n",
    "    # to tokenize the MD&A text using the tokenizer\n",
    "    tokens = tokenizer.encode_plus(row['MD&A'],\n",
    "                                   add_special_tokens=False,\n",
    "                                   return_tensors='pt'\n",
    "                                   ).to('cuda')\n",
    "\n",
    "    # to split tokens into chunks for sliding window purpose\n",
    "    input_ids_chunks, attention_mask_chunks = get_input_ids_and_attention_mask_chunk(tokens)\n",
    "\n",
    "    # to use PyTorch's to stack input IDs and attention masks\n",
    "    input_ids = torch.stack(input_ids_chunks)\n",
    "    attention_mask = torch.stack(attention_mask_chunks)\n",
    "\n",
    "    # to create dictionary as model input\n",
    "    input_dict = {\n",
    "        'input_ids': input_ids.long(),\n",
    "        'attention_mask': attention_mask.int()\n",
    "    }\n",
    "\n",
    "    # just to be sure that the model is on GPU\n",
    "    untuned_model.to('cuda')\n",
    "\n",
    "    # to get model output and compute softmax probabilities\n",
    "    output = untuned_model(**input_dict)\n",
    "    probs = torch.nn.functional.softmax(output.logits, dim=-1)\n",
    "    mean_probs = probs.mean(dim=0)\n",
    "\n",
    "    # to get the predicted_sentiment using argmax\n",
    "    predicted_sentiment = torch.argmax(mean_probs).item()\n",
    "\n",
    "    # to append the predicted sentiment to the `prediction` column\n",
    "    data.loc[index, 'untuned_prediction'] = predicted_sentiment\n",
    "\n",
    "    # to print a message for every 10 iteration\n",
    "    if (index + 1) % 10 == 0:\n",
    "      print(f\"Iteration {index + 1} Analyzed and prediction appended. Predicted Sentiment: {predicted_sentiment}\")"
   ]
  },
  {
   "cell_type": "code",
   "execution_count": null,
   "metadata": {
    "id": "tLaQtZ1bIa-1"
   },
   "outputs": [],
   "source": [
    "# to take a subset such that label columns are non-missing for confusion matrix\n",
    "subset = data.dropna(subset=['label'])"
   ]
  },
  {
   "cell_type": "code",
   "execution_count": null,
   "metadata": {
    "colab": {
     "base_uri": "https://localhost:8080/",
     "height": 581
    },
    "id": "YeH8HqfrBBeu",
    "outputId": "22674f84-2650-4b63-f0ca-7fb978fb24f3"
   },
   "outputs": [
    {
     "name": "stdout",
     "output_type": "stream",
     "text": [
      "Confusion Matrix:\n"
     ]
    },
    {
     "data": {
      "image/png": "[encoded data removed]",
      "text/plain": [
       "<Figure size 800x600 with 2 Axes>"
      ]
     },
     "metadata": {},
     "output_type": "display_data"
    }
   ],
   "source": [
    "cm = confusion_matrix(subset['label'], subset['untuned_prediction'])\n",
    "\n",
    "# to create a confusion matrix heatmap to assess model accuracy\n",
    "print(\"Confusion Matrix:\")\n",
    "plt.figure(figsize=(8, 6))\n",
    "sns.heatmap(cm, annot=True, fmt=\"d\", cmap=\"Reds\", annot_kws={\"size\": 16})\n",
    "plt.xlabel(\"Predicted Labels\")\n",
    "plt.ylabel(\"True Labels\")\n",
    "plt.title(\"Confusion Matrix\")\n",
    "plt.show()"
   ]
  },
  {
   "cell_type": "code",
   "execution_count": null,
   "metadata": {
    "colab": {
     "base_uri": "https://localhost:8080/"
    },
    "id": "PhX9r6krAYY9",
    "outputId": "d8d7190a-4c9c-4d38-9bb6-134eb1c6c1dc"
   },
   "outputs": [
    {
     "name": "stdout",
     "output_type": "stream",
     "text": [
      "Classification Report:\n",
      "              precision    recall  f1-score   support\n",
      "\n",
      "         0.0       0.45      1.00      0.62         9\n",
      "         1.0       0.00      0.00      0.00         8\n",
      "         2.0       0.00      0.00      0.00         3\n",
      "\n",
      "    accuracy                           0.45        20\n",
      "   macro avg       0.15      0.33      0.21        20\n",
      "weighted avg       0.20      0.45      0.28        20\n",
      "\n"
     ]
    },
    {
     "name": "stderr",
     "output_type": "stream",
     "text": [
      "/usr/local/lib/python3.10/dist-packages/sklearn/metrics/_classification.py:1344: UndefinedMetricWarning: Precision and F-score are ill-defined and being set to 0.0 in labels with no predicted samples. Use `zero_division` parameter to control this behavior.\n",
      "  _warn_prf(average, modifier, msg_start, len(result))\n",
      "/usr/local/lib/python3.10/dist-packages/sklearn/metrics/_classification.py:1344: UndefinedMetricWarning: Precision and F-score are ill-defined and being set to 0.0 in labels with no predicted samples. Use `zero_division` parameter to control this behavior.\n",
      "  _warn_prf(average, modifier, msg_start, len(result))\n",
      "/usr/local/lib/python3.10/dist-packages/sklearn/metrics/_classification.py:1344: UndefinedMetricWarning: Precision and F-score are ill-defined and being set to 0.0 in labels with no predicted samples. Use `zero_division` parameter to control this behavior.\n",
      "  _warn_prf(average, modifier, msg_start, len(result))\n"
     ]
    }
   ],
   "source": [
    "# to create a classification report to assess model accuracy\n",
    "report = classification_report(subset['label'], subset['untuned_prediction'])\n",
    "print(\"Classification Report:\")\n",
    "print(report)"
   ]
  },
  {
   "cell_type": "markdown",
   "metadata": {
    "id": "jmcLkK4uYTJF"
   },
   "source": [
    "#### 3.1.2. Untuned FinBERT on 'Financial Phrasebank' <a class=\"anchor\" id=\"untuned2\"></a>"
   ]
  },
  {
   "cell_type": "code",
   "execution_count": null,
   "metadata": {
    "id": "hpidWlLjY8Es"
   },
   "outputs": [],
   "source": [
    "dataset = load_dataset(\"financial_phrasebank\", \"sentences_75agree\")"
   ]
  },
  {
   "cell_type": "code",
   "execution_count": null,
   "metadata": {
    "id": "m7-45mfDYTsN"
   },
   "outputs": [],
   "source": [
    "def tokenize(batch):\n",
    "    \"\"\"\n",
    "    Tokenize a batch of sentences using a tokenizer. The resulting tokenized sequences\n",
    "    are returned as PyTorch tensors along with their corresponding attention masks.\n",
    "\n",
    "    Args:\n",
    "        batch (dict): A dictionary representing a batch of sentences with a \"sentence\" key.\n",
    "\n",
    "    Returns:\n",
    "        dict: A dictionary containing the tokenized sequences as PyTorch tensors along with\n",
    "              their attention masks. Keys are \"input_ids,\" \"attention_mask,\" and \"token_type_ids.\"\n",
    "    \"\"\"\n",
    "    # tokenize the sentences in the batch\n",
    "    return tokenizer(batch[\"sentence\"],\n",
    "                     padding=True,               # pad sequences to the same length\n",
    "                     truncation=True             # truncate sequences if they exceed the maximum length\n",
    "                     )\n",
    "\n",
    "# to apply user-defined `tokenize` function using `DatasetDict.map`\n",
    "dataset_encoded = dataset.map(tokenize,\n",
    "                              batched=True,\n",
    "                              batch_size=None)"
   ]
  },
  {
   "cell_type": "code",
   "execution_count": null,
   "metadata": {
    "colab": {
     "base_uri": "https://localhost:8080/"
    },
    "id": "mjjadRuVY3qy",
    "outputId": "91fb3ad9-3305-46b1-d36d-3332378c433d"
   },
   "outputs": [
    {
     "name": "stdout",
     "output_type": "stream",
     "text": [
      "The shapes of train, test, and validations sets are (2762, 5), (691, 5), respectively.\n"
     ]
    }
   ],
   "source": [
    "# to set the format of the encoded dataset to use pandas DataFrames\n",
    "dataset_encoded.set_format(type=\"pandas\")\n",
    "\n",
    "# to split the dataset into train and test sets using stratified sampling\n",
    "dataset_train, dataset_test = train_test_split(dataset_encoded[\"train\"], stratify=dataset_encoded[\"train\"][\"label\"], test_size=0.2, random_state=44)\n",
    "\n",
    "print(f\"The shapes of train, test, and validations sets are {dataset_train.shape}, {dataset_test.shape}, respectively.\")"
   ]
  },
  {
   "cell_type": "code",
   "execution_count": null,
   "metadata": {
    "id": "eJkXFyCuqsCK"
   },
   "outputs": [],
   "source": [
    "# mapping of dataset labels to model labels\n",
    "\n",
    "# sentiment | financial_phrasebank | FinBERT\n",
    "# ----------|----------------------|---------\n",
    "# negative  |          0           |    2\n",
    "# neutral   |          1           |    0\n",
    "# positive  |          2           |    1\n",
    "\n",
    "untuned_label_mapping = {0: 2, 1: 0, 2: 1}\n",
    "\n",
    "# Apply label mapping to the dataset\n",
    "dataset_test['label_for_untuned'] = dataset_test['label'].apply(lambda x: untuned_label_mapping.get(x))"
   ]
  },
  {
   "cell_type": "code",
   "execution_count": null,
   "metadata": {
    "id": "-kdv4YvxZB0S"
   },
   "outputs": [],
   "source": [
    "# to set the format of the training and test dataset in order to apply 'extract_states'\n",
    "dataset_train = Dataset.from_pandas(dataset_train)\n",
    "dataset_train.set_format(type=\"torch\")\n",
    "dataset_test = Dataset.from_pandas(dataset_test)\n",
    "dataset_test.set_format(type=\"torch\")"
   ]
  },
  {
   "cell_type": "code",
   "execution_count": null,
   "metadata": {
    "id": "DSQ4WM6roJIv"
   },
   "outputs": [],
   "source": [
    "# to extract required inputs to predict sentiments\n",
    "input_ids_test      = dataset_test['input_ids']\n",
    "token_type_ids_test = dataset_test['token_type_ids']\n",
    "attention_mask_test = dataset_test['attention_mask']"
   ]
  },
  {
   "cell_type": "code",
   "execution_count": null,
   "metadata": {
    "id": "tJbALhqxoSC_"
   },
   "outputs": [],
   "source": [
    "# to obtain logits then class probabilities applying softmax\n",
    "with torch.no_grad():\n",
    "    logits = untuned_model(input_ids=input_ids_test,\n",
    "                           attention_mask=attention_mask_test\n",
    "                           ).logits\n",
    "\n",
    "probs = torch.nn.functional.softmax(logits, dim=1)\n",
    "\n",
    "\n",
    "# to get predicted labels\n",
    "predicted_labels = torch.argmax(probs, dim=1).cpu().numpy()"
   ]
  },
  {
   "cell_type": "code",
   "execution_count": null,
   "metadata": {
    "colab": {
     "base_uri": "https://localhost:8080/"
    },
    "id": "leu35oC1t_CU",
    "outputId": "469ed75d-be2c-4b87-edb4-b13bbdbd690e"
   },
   "outputs": [
    {
     "name": "stdout",
     "output_type": "stream",
     "text": [
      "Accuracy: 86.69%\n"
     ]
    }
   ],
   "source": [
    "# to calculate and print accuracy\n",
    "accuracy = accuracy_score(dataset_test['label_for_untuned'], predicted_labels)\n",
    "print(f\"Accuracy: {accuracy:.2%}\")"
   ]
  },
  {
   "cell_type": "code",
   "execution_count": null,
   "metadata": {
    "colab": {
     "base_uri": "https://localhost:8080/",
     "height": 564
    },
    "id": "B6v5nEiFc07v",
    "outputId": "ed093487-a589-4000-c428-02625907edc8"
   },
   "outputs": [
    {
     "data": {
      "image/png": "[encoded data removed]",
      "text/plain": [
       "<Figure size 800x600 with 1 Axes>"
      ]
     },
     "metadata": {},
     "output_type": "display_data"
    }
   ],
   "source": [
    "# to create a confusion matrix\n",
    "confusion = confusion_matrix(dataset_test['label_for_untuned'], predicted_labels)\n",
    "plt.figure(figsize=(8, 6))\n",
    "sns.heatmap(confusion, annot=True, fmt='d', cmap='Reds', cbar=False,\n",
    "            xticklabels=[\"Neutral\", \"Positive\", \"Negative\"],\n",
    "            yticklabels=[\"Neutral\", \"Positive\", \"Negative\"])\n",
    "plt.xlabel('PREDICTED')\n",
    "plt.ylabel('ACTUAL')\n",
    "plt.title('Confusion Matrix for Untuned FinBERT')\n",
    "plt.savefig('conf_mat_untuned.png')\n",
    "plt.show()"
   ]
  },
  {
   "cell_type": "markdown",
   "metadata": {
    "id": "u2LzaQVtAidU"
   },
   "source": [
    "### 3.2. Fine-tuned FinBERT <a class=\"anchor\" id=\"finetuned\"></a>\n",
    "\n",
    "#### 3.2.1. Fine-tuned FinBERT on SEC 10-K Filings <a class=\"anchor\" id=\"finetuned1\"></a>"
   ]
  },
  {
   "cell_type": "code",
   "execution_count": null,
   "metadata": {
    "id": "eS1x-Xu39-4n"
   },
   "outputs": [],
   "source": [
    "finetuned_model = AutoModelForSequenceClassification.from_pretrained('finbert-sentiment/')"
   ]
  },
  {
   "cell_type": "code",
   "execution_count": null,
   "metadata": {
    "colab": {
     "base_uri": "https://localhost:8080/"
    },
    "id": "r4wdsRf382kA",
    "outputId": "5b522358-0a94-4b99-dbb5-e2d2099c6c1d"
   },
   "outputs": [
    {
     "name": "stdout",
     "output_type": "stream",
     "text": [
      "Iteration 10 Analyzed and prediction appended. Predicted Sentiment: 1\n",
      "Iteration 20 Analyzed and prediction appended. Predicted Sentiment: 1\n",
      "Iteration 30 Analyzed and prediction appended. Predicted Sentiment: 1\n",
      "Iteration 40 Analyzed and prediction appended. Predicted Sentiment: 1\n",
      "Iteration 50 Analyzed and prediction appended. Predicted Sentiment: 1\n",
      "Iteration 60 Analyzed and prediction appended. Predicted Sentiment: 1\n",
      "Iteration 70 Analyzed and prediction appended. Predicted Sentiment: 1\n",
      "Iteration 80 Analyzed and prediction appended. Predicted Sentiment: 1\n",
      "Iteration 90 Analyzed and prediction appended. Predicted Sentiment: 1\n",
      "Iteration 100 Analyzed and prediction appended. Predicted Sentiment: 1\n",
      "Iteration 110 Analyzed and prediction appended. Predicted Sentiment: 1\n",
      "Iteration 120 Analyzed and prediction appended. Predicted Sentiment: 1\n",
      "Iteration 130 Analyzed and prediction appended. Predicted Sentiment: 1\n",
      "Iteration 140 Analyzed and prediction appended. Predicted Sentiment: 1\n",
      "Iteration 150 Analyzed and prediction appended. Predicted Sentiment: 1\n",
      "Iteration 160 Analyzed and prediction appended. Predicted Sentiment: 1\n",
      "Iteration 170 Analyzed and prediction appended. Predicted Sentiment: 1\n",
      "Iteration 180 Analyzed and prediction appended. Predicted Sentiment: 1\n",
      "Iteration 190 Analyzed and prediction appended. Predicted Sentiment: 1\n",
      "Iteration 200 Analyzed and prediction appended. Predicted Sentiment: 1\n",
      "Iteration 210 Analyzed and prediction appended. Predicted Sentiment: 1\n",
      "Iteration 220 Analyzed and prediction appended. Predicted Sentiment: 1\n",
      "Iteration 230 Analyzed and prediction appended. Predicted Sentiment: 2\n",
      "Iteration 240 Analyzed and prediction appended. Predicted Sentiment: 1\n",
      "Iteration 250 Analyzed and prediction appended. Predicted Sentiment: 1\n",
      "Iteration 260 Analyzed and prediction appended. Predicted Sentiment: 1\n",
      "Iteration 270 Analyzed and prediction appended. Predicted Sentiment: 2\n",
      "Iteration 280 Analyzed and prediction appended. Predicted Sentiment: 1\n",
      "Iteration 290 Analyzed and prediction appended. Predicted Sentiment: 1\n",
      "Iteration 300 Analyzed and prediction appended. Predicted Sentiment: 1\n",
      "Iteration 310 Analyzed and prediction appended. Predicted Sentiment: 1\n",
      "Iteration 320 Analyzed and prediction appended. Predicted Sentiment: 1\n",
      "Iteration 330 Analyzed and prediction appended. Predicted Sentiment: 1\n",
      "Iteration 340 Analyzed and prediction appended. Predicted Sentiment: 1\n",
      "Iteration 350 Analyzed and prediction appended. Predicted Sentiment: 1\n",
      "Iteration 360 Analyzed and prediction appended. Predicted Sentiment: 1\n",
      "Iteration 370 Analyzed and prediction appended. Predicted Sentiment: 1\n",
      "Iteration 380 Analyzed and prediction appended. Predicted Sentiment: 1\n",
      "Iteration 390 Analyzed and prediction appended. Predicted Sentiment: 1\n",
      "Iteration 400 Analyzed and prediction appended. Predicted Sentiment: 1\n"
     ]
    }
   ],
   "source": [
    "# a for loop through each row in data\n",
    "for index, row in data.iterrows():\n",
    "    # to tokenize the MD&A text using the tokenizer\n",
    "    tokens = tokenizer.encode_plus(row['MD&A'],\n",
    "                                   add_special_tokens=False,\n",
    "                                   return_tensors='pt'\n",
    "                                   ).to(device)\n",
    "\n",
    "    # to split tokens into chunks for sliding window purpose\n",
    "    input_ids_chunks, attention_mask_chunks = get_input_ids_and_attention_mask_chunk(tokens)\n",
    "\n",
    "    # to use PyTorch's to stack input IDs and attention masks\n",
    "    input_ids = torch.stack(input_ids_chunks)\n",
    "    attention_mask = torch.stack(attention_mask_chunks)\n",
    "\n",
    "    # to create dictionary as model input\n",
    "    input_dict = {\n",
    "        'input_ids': input_ids.long(),\n",
    "        'attention_mask': attention_mask.int()\n",
    "    }\n",
    "\n",
    "    # just to be sure that the model is on GPU\n",
    "    finetuned_model.to('cuda')\n",
    "\n",
    "    # to get model output and compute softmax probabilities\n",
    "    output = finetuned_model(**input_dict)\n",
    "    probs = torch.nn.functional.softmax(output.logits, dim=-1)\n",
    "    mean_probs = probs.mean(dim=0)\n",
    "\n",
    "    # to get the predicted_sentiment using argmax\n",
    "    predicted_sentiment = torch.argmax(mean_probs).item()\n",
    "\n",
    "    # to append the predicted sentiment to the `prediction` column\n",
    "    data.loc[index, 'finetuned_prediction'] = predicted_sentiment\n",
    "\n",
    "    # to print a message for every 10 iteration\n",
    "    if (index + 1) % 10 == 0:\n",
    "      print(f\"Iteration {index + 1} Analyzed and prediction appended. Predicted Sentiment: {predicted_sentiment}\")"
   ]
  },
  {
   "cell_type": "code",
   "execution_count": null,
   "metadata": {
    "id": "IbmiTeGwE7fZ"
   },
   "outputs": [],
   "source": [
    "# to take a subset such that label columns are non-missing for confusion matrix\n",
    "subset = data.dropna(subset=['label'])"
   ]
  },
  {
   "cell_type": "code",
   "execution_count": null,
   "metadata": {
    "colab": {
     "base_uri": "https://localhost:8080/",
     "height": 581
    },
    "id": "mKTgcHLy-NWw",
    "outputId": "e9ef783d-533b-4d2b-e375-4f7fd27bb361"
   },
   "outputs": [
    {
     "name": "stdout",
     "output_type": "stream",
     "text": [
      "Confusion Matrix:\n"
     ]
    },
    {
     "data": {
      "image/png": "[encoded data removed]",
      "text/plain": [
       "<Figure size 800x600 with 2 Axes>"
      ]
     },
     "metadata": {},
     "output_type": "display_data"
    }
   ],
   "source": [
    "cm = confusion_matrix(subset['label'], subset['finetuned_prediction'])\n",
    "\n",
    "# to create a confusion matrix heatmap to assess model accuracy\n",
    "print(\"Confusion Matrix:\")\n",
    "plt.figure(figsize=(8, 6))\n",
    "sns.heatmap(cm, annot=True, fmt=\"d\", cmap=\"Reds\", annot_kws={\"size\": 16})\n",
    "plt.xlabel(\"PREDICTED\")\n",
    "plt.ylabel(\"ACTUAL\")\n",
    "plt.title(\"Confusion Matrix\")\n",
    "plt.show()"
   ]
  },
  {
   "cell_type": "code",
   "execution_count": null,
   "metadata": {
    "colab": {
     "base_uri": "https://localhost:8080/"
    },
    "id": "rM0H_w3SBYVI",
    "outputId": "3e456c75-63df-4f85-cd7d-c17850860a39"
   },
   "outputs": [
    {
     "name": "stdout",
     "output_type": "stream",
     "text": [
      "Classification Report:\n",
      "              precision    recall  f1-score   support\n",
      "\n",
      "         0.0       0.00      0.00      0.00         9\n",
      "         1.0       0.40      1.00      0.57         8\n",
      "         2.0       0.00      0.00      0.00         3\n",
      "\n",
      "    accuracy                           0.40        20\n",
      "   macro avg       0.13      0.33      0.19        20\n",
      "weighted avg       0.16      0.40      0.23        20\n",
      "\n"
     ]
    },
    {
     "name": "stderr",
     "output_type": "stream",
     "text": [
      "/usr/local/lib/python3.10/dist-packages/sklearn/metrics/_classification.py:1344: UndefinedMetricWarning: Precision and F-score are ill-defined and being set to 0.0 in labels with no predicted samples. Use `zero_division` parameter to control this behavior.\n",
      "  _warn_prf(average, modifier, msg_start, len(result))\n",
      "/usr/local/lib/python3.10/dist-packages/sklearn/metrics/_classification.py:1344: UndefinedMetricWarning: Precision and F-score are ill-defined and being set to 0.0 in labels with no predicted samples. Use `zero_division` parameter to control this behavior.\n",
      "  _warn_prf(average, modifier, msg_start, len(result))\n",
      "/usr/local/lib/python3.10/dist-packages/sklearn/metrics/_classification.py:1344: UndefinedMetricWarning: Precision and F-score are ill-defined and being set to 0.0 in labels with no predicted samples. Use `zero_division` parameter to control this behavior.\n",
      "  _warn_prf(average, modifier, msg_start, len(result))\n"
     ]
    }
   ],
   "source": [
    "# to create a classification report to assess model accuracy\n",
    "report = classification_report(subset['label'], subset['finetuned_prediction'])\n",
    "print(\"Classification Report:\")\n",
    "print(report)"
   ]
  },
  {
   "cell_type": "markdown",
   "metadata": {
    "id": "d7-9mZA-YgJA"
   },
   "source": [
    "#### 3.2.2. Fine-tuned FinBERT on 'Financial Phrasebank' <a class=\"anchor\" id=\"finetuned1\"></a>"
   ]
  },
  {
   "cell_type": "code",
   "execution_count": null,
   "metadata": {
    "id": "4lyUmknyYftA"
   },
   "outputs": [],
   "source": [
    "# to obtain logits then class probabilities applying softmax\n",
    "with torch.no_grad():\n",
    "    logits = finetuned_model(input_ids=input_ids_test,\n",
    "                             attention_mask=attention_mask_test\n",
    "                            ).logits\n",
    "\n",
    "probs = torch.nn.functional.softmax(logits, dim=1)\n",
    "\n",
    "\n",
    "# to get predicted labels\n",
    "predicted_labels = torch.argmax(probs, dim=1).cpu().numpy()"
   ]
  },
  {
   "cell_type": "code",
   "execution_count": null,
   "metadata": {
    "colab": {
     "base_uri": "https://localhost:8080/"
    },
    "id": "ME1bvgZAuaqB",
    "outputId": "a4e98d93-f606-4de6-fed7-539be7b4e328"
   },
   "outputs": [
    {
     "name": "stdout",
     "output_type": "stream",
     "text": [
      "Accuracy: 92.33%\n"
     ]
    }
   ],
   "source": [
    "# to calculate and print accuracy\n",
    "accuracy = accuracy_score(dataset_test[\"label\"], predicted_labels)\n",
    "print(f\"Accuracy: {accuracy:.2%}\")"
   ]
  },
  {
   "cell_type": "code",
   "execution_count": null,
   "metadata": {
    "colab": {
     "base_uri": "https://localhost:8080/",
     "height": 564
    },
    "id": "HsaZZY0Dul6q",
    "outputId": "85c74384-18f8-40cd-b0f9-79ad05a55194"
   },
   "outputs": [
    {
     "data": {
      "image/png": "[encoded data removed]",
      "text/plain": [
       "<Figure size 800x600 with 1 Axes>"
      ]
     },
     "metadata": {},
     "output_type": "display_data"
    }
   ],
   "source": [
    "# to create a confusion matrix\n",
    "confusion = confusion_matrix(dataset_test[\"label\"], predicted_labels)\n",
    "plt.figure(figsize=(8, 6))\n",
    "sns.heatmap(confusion, annot=True, fmt='d', cmap='Reds', cbar=False,\n",
    "            xticklabels=[\"Negative\", \"Neutral\", \"Positive\"],\n",
    "            yticklabels=[\"Negative\", \"Neutral\", \"Positive\"])\n",
    "plt.xlabel('PREDICTED')\n",
    "plt.ylabel('ACTUAL')\n",
    "plt.title('Confusion Matrix with Fine-Tuned FinBERT')\n",
    "plt.savefig('conf_mat_finetuned.png')\n",
    "plt.show()"
   ]
  },
  {
   "cell_type": "markdown",
   "metadata": {
    "id": "Xf2MTIKwf4cR"
   },
   "source": [
    "## 4. Feature Extraction <a class=\"anchor\" id=\"featureextraction\"></a>"
   ]
  },
  {
   "cell_type": "markdown",
   "metadata": {
    "id": "mXjf9J_eTUp-"
   },
   "source": [
    "### 4.1. Feature Extraction with Multinomial Naive Bayes <a class=\"anchor\" id=\"feature\"></a>\n",
    "\n"
   ]
  },
  {
   "cell_type": "code",
   "execution_count": null,
   "metadata": {
    "id": "GHpLO202bzsf"
   },
   "outputs": [],
   "source": [
    "# if you run Part 2-Finetuning and Part 4-Feature Extraction separately,\n",
    "# you can uncomment the below lines to upload model, tokenizer, and dataset\n",
    "# or, if RAM is over-used during classifications on financial_phrasebank\n",
    "# and you restarted the kernel\n",
    "\n",
    "model = AutoModel.from_pretrained(\"yiyanghkust/finbert-pretrain\")\n",
    "tokenizer = AutoTokenizer.from_pretrained(\"yiyanghkust/finbert-pretrain\")\n",
    "dataset = load_dataset(\"financial_phrasebank\", \"sentences_75agree\")"
   ]
  },
  {
   "cell_type": "code",
   "execution_count": null,
   "metadata": {
    "id": "_rut19kwcFJh"
   },
   "outputs": [],
   "source": [
    "def tokenize(batch):\n",
    "    \"\"\"\n",
    "    Tokenize a batch of sentences using a tokenizer. The resulting tokenized sequences\n",
    "    are returned as PyTorch tensors along with their corresponding attention masks.\n",
    "\n",
    "    Args:\n",
    "        batch (dict): A dictionary representing a batch of sentences with a \"sentence\" key.\n",
    "\n",
    "    Returns:\n",
    "        dict: A dictionary containing the tokenized sequences as PyTorch tensors along with\n",
    "              their attention masks. Keys are \"input_ids,\" \"attention_mask,\" and \"token_type_ids.\"\n",
    "    \"\"\"\n",
    "    # tokenize the sentences in the batch\n",
    "    return tokenizer(batch[\"sentence\"],\n",
    "                     padding=True,               # pad sequences to the same length\n",
    "                     truncation=True             # truncate sequences if they exceed the maximum length\n",
    "                     )\n",
    "\n",
    "# to apply user-defined `tokenize` function using `DatasetDict.map`\n",
    "dataset_encoded = dataset.map(tokenize,\n",
    "                              batched=True,\n",
    "                              batch_size=None)"
   ]
  },
  {
   "cell_type": "code",
   "execution_count": null,
   "metadata": {
    "id": "uY5_pBQnywst"
   },
   "outputs": [],
   "source": [
    "def extract_states(batch, model):\n",
    "    \"\"\"\n",
    "    Extracts embeddings/states from a pre-trained language model for a batch of input sequences.\n",
    "    This function is intended to use for feature extraction tasks.\n",
    "\n",
    "    Args:\n",
    "        batch (dict): A dictionary containing input_ids, attention_mask, and other data.\n",
    "        model (torch.nn.Module): A BERT-like model to extract hidden states from.\n",
    "\n",
    "    Returns:\n",
    "        An object with hidden_state added to it, containing the extracted hidden states.\n",
    "    \"\"\"\n",
    "    # to extract input_ids and attention_mask from the batch\n",
    "    input_ids = torch.tensor(batch[\"input_ids\"])\n",
    "    attention_mask = torch.tensor(batch[\"attention_mask\"])\n",
    "\n",
    "    # to use FinBERT to obtain hidden states for the input sequences\n",
    "    with torch.no_grad():\n",
    "        output = model(input_ids, attention_mask)\n",
    "        lhs = output.last_hidden_state.cpu().numpy()\n",
    "\n",
    "    # to create a boolean mask for valid tokens based on attention_mask\n",
    "    valid = np.array(batch[\"attention_mask\"]).astype(bool)\n",
    "\n",
    "    # to extract dimensions of the embeddings (e.g., hidden states) representing the input sequences.\n",
    "    batch_size, n_tokens, hidden_dim = lhs.shape\n",
    "\n",
    "    # to reshape the valid mask for element-wise masking\n",
    "    valid = valid.reshape(batch_size, n_tokens, 1).repeat(hidden_dim, axis=-1)\n",
    "\n",
    "    # to calculate the masked mean of hidden states along the token dimension\n",
    "    masked_mean = np.ma.array(lhs, mask=~valid).mean(axis=1).data\n",
    "\n",
    "    batch[\"hidden_state\"] = masked_mean\n",
    "    return batch"
   ]
  },
  {
   "cell_type": "code",
   "execution_count": null,
   "metadata": {
    "colab": {
     "base_uri": "https://localhost:8080/"
    },
    "id": "zIyCIhtS-qN8",
    "outputId": "bd9eb0e1-6ea2-488a-bcb4-2e5445adc097"
   },
   "outputs": [
    {
     "name": "stdout",
     "output_type": "stream",
     "text": [
      "Types of training and test sets are <class 'datasets.arrow_dataset.Dataset'> and <class 'datasets.arrow_dataset.Dataset'>, respectively.\n"
     ]
    }
   ],
   "source": [
    "print(f\"Types of training and test sets are {type(dataset_train)} and {type(dataset_test)}, respectively.\")"
   ]
  },
  {
   "cell_type": "code",
   "execution_count": null,
   "metadata": {
    "colab": {
     "base_uri": "https://localhost:8080/",
     "height": 138,
     "referenced_widgets": [
      "aa9a269933954726ae637f1019c06522",
      "d49b83eef0ad4a22823cb7ba743832b5",
      "099be8fa449b427da7b807a54df020bc",
      "bb37f6e1f7e948eca76659b1a0a0d04c",
      "a20c49046fc8443c90bb35f8fe0475f2",
      "7e75bfa1c9a0481680abb79803cd47d6",
      "476f90c8ee0e47b493480f58de3a9d14",
      "9334b053836d401db7d40c454ab366eb",
      "e47b5f6dfa6849828bb7ca90b3235e65",
      "b07530ed61f44d2c90e3c42347a99f44",
      "e0c07fbc7c034cdd91b8d93a60f8ac9a"
     ]
    },
    "id": "DuDndpGOWF_l",
    "outputId": "644df1b8-7725-43ed-bf64-0acad1ebc4a9"
   },
   "outputs": [
    {
     "data": {
      "application/vnd.jupyter.widget-view+json": {
       "model_id": "aa9a269933954726ae637f1019c06522",
       "version_major": 2,
       "version_minor": 0
      },
      "text/plain": [
       "Map:   0%|          | 0/2762 [00:00<?, ? examples/s]"
      ]
     },
     "metadata": {},
     "output_type": "display_data"
    },
    {
     "name": "stderr",
     "output_type": "stream",
     "text": [
      "<ipython-input-10-c9d289f89631>:14: UserWarning: To copy construct from a tensor, it is recommended to use sourceTensor.clone().detach() or sourceTensor.clone().detach().requires_grad_(True), rather than torch.tensor(sourceTensor).\n",
      "  input_ids = torch.tensor(batch[\"input_ids\"])\n",
      "<ipython-input-10-c9d289f89631>:15: UserWarning: To copy construct from a tensor, it is recommended to use sourceTensor.clone().detach() or sourceTensor.clone().detach().requires_grad_(True), rather than torch.tensor(sourceTensor).\n",
      "  attention_mask = torch.tensor(batch[\"attention_mask\"])\n"
     ]
    }
   ],
   "source": [
    "# to use the 'map' function to apply 'extract_states' to 'dataset_train'\n",
    "lhs_train = dataset_train.map(\n",
    "    extract_states,               # to call the 'extract_states' function for each batch\n",
    "    batched=True,                 # to process data in batches\n",
    "    batch_size=64,                # to set batch size to 64\n",
    "    fn_kwargs={\"model\": model}    # to pass the \"yiyanghkust/finbert-pretrain\" as a keyword argument\n",
    ")"
   ]
  },
  {
   "cell_type": "code",
   "execution_count": null,
   "metadata": {
    "colab": {
     "base_uri": "https://localhost:8080/",
     "height": 138,
     "referenced_widgets": [
      "e7a7279d28e64e789469ac10f607dae1",
      "79bb56876ecf4469aae3d68be4306244",
      "1b0e566662504352b2ed1dea31a70663",
      "7f906703b32042fc8bf0632326b681f5",
      "f194b1d022164befb692750cfba0dc5c",
      "53de9d7e4fbe4d58a89309e27f312394",
      "5de1c5aacc0a47298fff93c86fc95e25",
      "8d6ba7b9358443eab17abe875868316b",
      "0d9d2a27c7ef4744adaad0ba5463a2e6",
      "dbd76cc25ed44bb38490c3aa1660a225",
      "6ca1acbb400e47808d06bd33164da535"
     ]
    },
    "id": "kFNMgRjbyzua",
    "outputId": "6ec8df58-ac66-4d33-9bef-30db7b7a176f"
   },
   "outputs": [
    {
     "data": {
      "application/vnd.jupyter.widget-view+json": {
       "model_id": "e7a7279d28e64e789469ac10f607dae1",
       "version_major": 2,
       "version_minor": 0
      },
      "text/plain": [
       "Map:   0%|          | 0/691 [00:00<?, ? examples/s]"
      ]
     },
     "metadata": {},
     "output_type": "display_data"
    },
    {
     "name": "stderr",
     "output_type": "stream",
     "text": [
      "<ipython-input-10-c9d289f89631>:14: UserWarning: To copy construct from a tensor, it is recommended to use sourceTensor.clone().detach() or sourceTensor.clone().detach().requires_grad_(True), rather than torch.tensor(sourceTensor).\n",
      "  input_ids = torch.tensor(batch[\"input_ids\"])\n",
      "<ipython-input-10-c9d289f89631>:15: UserWarning: To copy construct from a tensor, it is recommended to use sourceTensor.clone().detach() or sourceTensor.clone().detach().requires_grad_(True), rather than torch.tensor(sourceTensor).\n",
      "  attention_mask = torch.tensor(batch[\"attention_mask\"])\n"
     ]
    }
   ],
   "source": [
    "# to use the 'map' function to apply 'extract_states' to 'dataset_test'\n",
    "lhs_test = dataset_test.map(\n",
    "    extract_states,               # to call the 'extract_states' function for each batch\n",
    "    batched=True,                 # to process data in batches\n",
    "    batch_size=64,                # to set batch size to 64\n",
    "    fn_kwargs={\"model\": model}    # to pass the \"yiyanghkust/finbert-pretrain\" as a keyword argument\n",
    ")"
   ]
  },
  {
   "cell_type": "code",
   "execution_count": null,
   "metadata": {
    "colab": {
     "base_uri": "https://localhost:8080/"
    },
    "id": "BLLTADX9IU1q",
    "outputId": "c589fa15-5972-49b0-dbc9-7cbbe410da0a"
   },
   "outputs": [
    {
     "data": {
      "text/plain": [
       "datasets.arrow_dataset.Dataset"
      ]
     },
     "execution_count": 16,
     "metadata": {},
     "output_type": "execute_result"
    }
   ],
   "source": [
    "type(lhs_train)"
   ]
  },
  {
   "cell_type": "code",
   "execution_count": null,
   "metadata": {
    "id": "Qc14aMXXG0kj"
   },
   "outputs": [],
   "source": [
    "# to extract the hidden states from the 'lhs_train' and 'lhs_test' datasets and convert them to NumPy arrays\n",
    "X_train = np.array(lhs_train[\"hidden_state\"])\n",
    "X_test = np.array(lhs_test[\"hidden_state\"])\n",
    "\n",
    "# to extract the labels from the 'lhs_train' and 'lhs_test' datasets and convert them to NumPy arrays\n",
    "y_train = np.array(lhs_train[\"label\"])\n",
    "y_test = np.array(lhs_test[\"label\"])"
   ]
  },
  {
   "cell_type": "code",
   "execution_count": null,
   "metadata": {
    "id": "WdAMZFmgReBw"
   },
   "outputs": [],
   "source": [
    "# defining a grid of hyperparameter values to search through\n",
    "param_grid = {\n",
    "    'n_estimators': [50, 100, 200, 500],      # the number of trees in the forest\n",
    "    'max_depth': [10, 20, 30, None],          # maximum depth of trees\n",
    "    'criterion': ['gini', 'entropy'],         # splitting criterion\n",
    "    'random_state': [44]                      # random seed for reproducibility\n",
    "}"
   ]
  },
  {
   "cell_type": "code",
   "execution_count": null,
   "metadata": {
    "colab": {
     "base_uri": "https://localhost:8080/",
     "height": 1000
    },
    "id": "1tj5cqebR0hJ",
    "outputId": "3a80d0cb-25e5-4c35-a081-253902397e79"
   },
   "outputs": [
    {
     "name": "stdout",
     "output_type": "stream",
     "text": [
      "Fitting 5 folds for each of 32 candidates, totalling 160 fits\n",
      "[CV] END criterion=gini, max_depth=10, n_estimators=50, random_state=44; total time=   2.6s\n",
      "[CV] END criterion=gini, max_depth=10, n_estimators=50, random_state=44; total time=   2.7s\n",
      "[CV] END criterion=gini, max_depth=10, n_estimators=50, random_state=44; total time=   2.0s\n",
      "[CV] END criterion=gini, max_depth=10, n_estimators=50, random_state=44; total time=   2.0s\n",
      "[CV] END criterion=gini, max_depth=10, n_estimators=50, random_state=44; total time=   2.0s\n",
      "[CV] END criterion=gini, max_depth=10, n_estimators=100, random_state=44; total time=   4.0s\n",
      "[CV] END criterion=gini, max_depth=10, n_estimators=100, random_state=44; total time=   5.1s\n",
      "[CV] END criterion=gini, max_depth=10, n_estimators=100, random_state=44; total time=   3.9s\n",
      "[CV] END criterion=gini, max_depth=10, n_estimators=100, random_state=44; total time=   4.0s\n",
      "[CV] END criterion=gini, max_depth=10, n_estimators=100, random_state=44; total time=   4.9s\n",
      "[CV] END criterion=gini, max_depth=10, n_estimators=200, random_state=44; total time=   9.2s\n",
      "[CV] END criterion=gini, max_depth=10, n_estimators=200, random_state=44; total time=   8.9s\n",
      "[CV] END criterion=gini, max_depth=10, n_estimators=200, random_state=44; total time=   8.0s\n",
      "[CV] END criterion=gini, max_depth=10, n_estimators=200, random_state=44; total time=   8.8s\n",
      "[CV] END criterion=gini, max_depth=10, n_estimators=200, random_state=44; total time=   8.8s\n",
      "[CV] END criterion=gini, max_depth=10, n_estimators=500, random_state=44; total time=  20.7s\n",
      "[CV] END criterion=gini, max_depth=10, n_estimators=500, random_state=44; total time=  21.7s\n",
      "[CV] END criterion=gini, max_depth=10, n_estimators=500, random_state=44; total time=  21.0s\n",
      "[CV] END criterion=gini, max_depth=10, n_estimators=500, random_state=44; total time=  21.4s\n",
      "[CV] END criterion=gini, max_depth=10, n_estimators=500, random_state=44; total time=  21.0s\n",
      "[CV] END criterion=gini, max_depth=20, n_estimators=50, random_state=44; total time=   2.2s\n",
      "[CV] END criterion=gini, max_depth=20, n_estimators=50, random_state=44; total time=   2.2s\n",
      "[CV] END criterion=gini, max_depth=20, n_estimators=50, random_state=44; total time=   3.0s\n",
      "[CV] END criterion=gini, max_depth=20, n_estimators=50, random_state=44; total time=   2.8s\n",
      "[CV] END criterion=gini, max_depth=20, n_estimators=50, random_state=44; total time=   2.3s\n",
      "[CV] END criterion=gini, max_depth=20, n_estimators=100, random_state=44; total time=   4.5s\n",
      "[CV] END criterion=gini, max_depth=20, n_estimators=100, random_state=44; total time=   5.4s\n",
      "[CV] END criterion=gini, max_depth=20, n_estimators=100, random_state=44; total time=   4.9s\n",
      "[CV] END criterion=gini, max_depth=20, n_estimators=100, random_state=44; total time=   4.5s\n",
      "[CV] END criterion=gini, max_depth=20, n_estimators=100, random_state=44; total time=   5.5s\n",
      "[CV] END criterion=gini, max_depth=20, n_estimators=200, random_state=44; total time=   9.2s\n",
      "[CV] END criterion=gini, max_depth=20, n_estimators=200, random_state=44; total time=  10.2s\n",
      "[CV] END criterion=gini, max_depth=20, n_estimators=200, random_state=44; total time=  10.2s\n",
      "[CV] END criterion=gini, max_depth=20, n_estimators=200, random_state=44; total time=   9.2s\n",
      "[CV] END criterion=gini, max_depth=20, n_estimators=200, random_state=44; total time=  10.2s\n",
      "[CV] END criterion=gini, max_depth=20, n_estimators=500, random_state=44; total time=  24.9s\n",
      "[CV] END criterion=gini, max_depth=20, n_estimators=500, random_state=44; total time=  24.0s\n",
      "[CV] END criterion=gini, max_depth=20, n_estimators=500, random_state=44; total time=  24.7s\n",
      "[CV] END criterion=gini, max_depth=20, n_estimators=500, random_state=44; total time=  24.8s\n",
      "[CV] END criterion=gini, max_depth=20, n_estimators=500, random_state=44; total time=  25.2s\n",
      "[CV] END criterion=gini, max_depth=30, n_estimators=50, random_state=44; total time=   2.3s\n",
      "[CV] END criterion=gini, max_depth=30, n_estimators=50, random_state=44; total time=   2.2s\n",
      "[CV] END criterion=gini, max_depth=30, n_estimators=50, random_state=44; total time=   2.3s\n",
      "[CV] END criterion=gini, max_depth=30, n_estimators=50, random_state=44; total time=   2.3s\n",
      "[CV] END criterion=gini, max_depth=30, n_estimators=50, random_state=44; total time=   2.8s\n",
      "[CV] END criterion=gini, max_depth=30, n_estimators=100, random_state=44; total time=   5.2s\n",
      "[CV] END criterion=gini, max_depth=30, n_estimators=100, random_state=44; total time=   5.7s\n",
      "[CV] END criterion=gini, max_depth=30, n_estimators=100, random_state=44; total time=   5.9s\n",
      "[CV] END criterion=gini, max_depth=30, n_estimators=100, random_state=44; total time=   4.6s\n",
      "[CV] END criterion=gini, max_depth=30, n_estimators=100, random_state=44; total time=   4.5s\n",
      "[CV] END criterion=gini, max_depth=30, n_estimators=200, random_state=44; total time=  10.2s\n",
      "[CV] END criterion=gini, max_depth=30, n_estimators=200, random_state=44; total time=  10.4s\n",
      "[CV] END criterion=gini, max_depth=30, n_estimators=200, random_state=44; total time=   9.1s\n",
      "[CV] END criterion=gini, max_depth=30, n_estimators=200, random_state=44; total time=  10.2s\n",
      "[CV] END criterion=gini, max_depth=30, n_estimators=200, random_state=44; total time=  10.4s\n",
      "[CV] END criterion=gini, max_depth=30, n_estimators=500, random_state=44; total time=  24.3s\n",
      "[CV] END criterion=gini, max_depth=30, n_estimators=500, random_state=44; total time=  25.0s\n",
      "[CV] END criterion=gini, max_depth=30, n_estimators=500, random_state=44; total time=  25.5s\n",
      "[CV] END criterion=gini, max_depth=30, n_estimators=500, random_state=44; total time=  25.2s\n",
      "[CV] END criterion=gini, max_depth=30, n_estimators=500, random_state=44; total time=  24.2s\n",
      "[CV] END criterion=gini, max_depth=None, n_estimators=50, random_state=44; total time=   3.1s\n",
      "[CV] END criterion=gini, max_depth=None, n_estimators=50, random_state=44; total time=   2.3s\n",
      "[CV] END criterion=gini, max_depth=None, n_estimators=50, random_state=44; total time=   2.3s\n",
      "[CV] END criterion=gini, max_depth=None, n_estimators=50, random_state=44; total time=   2.2s\n",
      "[CV] END criterion=gini, max_depth=None, n_estimators=50, random_state=44; total time=   2.2s\n",
      "[CV] END criterion=gini, max_depth=None, n_estimators=100, random_state=44; total time=   5.7s\n",
      "[CV] END criterion=gini, max_depth=None, n_estimators=100, random_state=44; total time=   4.6s\n",
      "[CV] END criterion=gini, max_depth=None, n_estimators=100, random_state=44; total time=   4.5s\n",
      "[CV] END criterion=gini, max_depth=None, n_estimators=100, random_state=44; total time=   5.7s\n",
      "[CV] END criterion=gini, max_depth=None, n_estimators=100, random_state=44; total time=   7.9s\n",
      "[CV] END criterion=gini, max_depth=None, n_estimators=200, random_state=44; total time=  11.7s\n",
      "[CV] END criterion=gini, max_depth=None, n_estimators=200, random_state=44; total time=  10.3s\n",
      "[CV] END criterion=gini, max_depth=None, n_estimators=200, random_state=44; total time=   9.4s\n",
      "[CV] END criterion=gini, max_depth=None, n_estimators=200, random_state=44; total time=   9.8s\n",
      "[CV] END criterion=gini, max_depth=None, n_estimators=200, random_state=44; total time=  10.1s\n",
      "[CV] END criterion=gini, max_depth=None, n_estimators=500, random_state=44; total time=  24.6s\n",
      "[CV] END criterion=gini, max_depth=None, n_estimators=500, random_state=44; total time=  24.3s\n",
      "[CV] END criterion=gini, max_depth=None, n_estimators=500, random_state=44; total time=  25.0s\n",
      "[CV] END criterion=gini, max_depth=None, n_estimators=500, random_state=44; total time=  24.8s\n",
      "[CV] END criterion=gini, max_depth=None, n_estimators=500, random_state=44; total time=  23.6s\n",
      "[CV] END criterion=entropy, max_depth=10, n_estimators=50, random_state=44; total time=   3.9s\n",
      "[CV] END criterion=entropy, max_depth=10, n_estimators=50, random_state=44; total time=   2.6s\n",
      "[CV] END criterion=entropy, max_depth=10, n_estimators=50, random_state=44; total time=   2.7s\n",
      "[CV] END criterion=entropy, max_depth=10, n_estimators=50, random_state=44; total time=   2.6s\n",
      "[CV] END criterion=entropy, max_depth=10, n_estimators=50, random_state=44; total time=   2.9s\n",
      "[CV] END criterion=entropy, max_depth=10, n_estimators=100, random_state=44; total time=   6.3s\n",
      "[CV] END criterion=entropy, max_depth=10, n_estimators=100, random_state=44; total time=   5.2s\n",
      "[CV] END criterion=entropy, max_depth=10, n_estimators=100, random_state=44; total time=   8.0s\n",
      "[CV] END criterion=entropy, max_depth=10, n_estimators=100, random_state=44; total time=   5.6s\n",
      "[CV] END criterion=entropy, max_depth=10, n_estimators=100, random_state=44; total time=   5.3s\n",
      "[CV] END criterion=entropy, max_depth=10, n_estimators=200, random_state=44; total time=  11.8s\n",
      "[CV] END criterion=entropy, max_depth=10, n_estimators=200, random_state=44; total time=  11.8s\n",
      "[CV] END criterion=entropy, max_depth=10, n_estimators=200, random_state=44; total time=  12.0s\n",
      "[CV] END criterion=entropy, max_depth=10, n_estimators=200, random_state=44; total time=  11.9s\n",
      "[CV] END criterion=entropy, max_depth=10, n_estimators=200, random_state=44; total time=  10.7s\n",
      "[CV] END criterion=entropy, max_depth=10, n_estimators=500, random_state=44; total time=  29.3s\n",
      "[CV] END criterion=entropy, max_depth=10, n_estimators=500, random_state=44; total time=  29.2s\n",
      "[CV] END criterion=entropy, max_depth=10, n_estimators=500, random_state=44; total time=  29.3s\n",
      "[CV] END criterion=entropy, max_depth=10, n_estimators=500, random_state=44; total time=  29.3s\n",
      "[CV] END criterion=entropy, max_depth=10, n_estimators=500, random_state=44; total time=  29.7s\n",
      "[CV] END criterion=entropy, max_depth=20, n_estimators=50, random_state=44; total time=   4.4s\n",
      "[CV] END criterion=entropy, max_depth=20, n_estimators=50, random_state=44; total time=   2.9s\n",
      "[CV] END criterion=entropy, max_depth=20, n_estimators=50, random_state=44; total time=   2.7s\n",
      "[CV] END criterion=entropy, max_depth=20, n_estimators=50, random_state=44; total time=   2.7s\n",
      "[CV] END criterion=entropy, max_depth=20, n_estimators=50, random_state=44; total time=   3.3s\n",
      "[CV] END criterion=entropy, max_depth=20, n_estimators=100, random_state=44; total time=   6.4s\n",
      "[CV] END criterion=entropy, max_depth=20, n_estimators=100, random_state=44; total time=   5.4s\n",
      "[CV] END criterion=entropy, max_depth=20, n_estimators=100, random_state=44; total time=   7.0s\n",
      "[CV] END criterion=entropy, max_depth=20, n_estimators=100, random_state=44; total time=   5.4s\n",
      "[CV] END criterion=entropy, max_depth=20, n_estimators=100, random_state=44; total time=   6.6s\n",
      "[CV] END criterion=entropy, max_depth=20, n_estimators=200, random_state=44; total time=  11.2s\n",
      "[CV] END criterion=entropy, max_depth=20, n_estimators=200, random_state=44; total time=  12.0s\n",
      "[CV] END criterion=entropy, max_depth=20, n_estimators=200, random_state=44; total time=  12.4s\n",
      "[CV] END criterion=entropy, max_depth=20, n_estimators=200, random_state=44; total time=  12.1s\n",
      "[CV] END criterion=entropy, max_depth=20, n_estimators=200, random_state=44; total time=  12.3s\n",
      "[CV] END criterion=entropy, max_depth=20, n_estimators=500, random_state=44; total time=  29.7s\n",
      "[CV] END criterion=entropy, max_depth=20, n_estimators=500, random_state=44; total time=  29.6s\n",
      "[CV] END criterion=entropy, max_depth=20, n_estimators=500, random_state=44; total time=  29.9s\n",
      "[CV] END criterion=entropy, max_depth=20, n_estimators=500, random_state=44; total time=  29.5s\n",
      "[CV] END criterion=entropy, max_depth=20, n_estimators=500, random_state=44; total time=  31.2s\n",
      "[CV] END criterion=entropy, max_depth=30, n_estimators=50, random_state=44; total time=   2.7s\n",
      "[CV] END criterion=entropy, max_depth=30, n_estimators=50, random_state=44; total time=   3.9s\n",
      "[CV] END criterion=entropy, max_depth=30, n_estimators=50, random_state=44; total time=   2.9s\n",
      "[CV] END criterion=entropy, max_depth=30, n_estimators=50, random_state=44; total time=   2.7s\n",
      "[CV] END criterion=entropy, max_depth=30, n_estimators=50, random_state=44; total time=   2.7s\n",
      "[CV] END criterion=entropy, max_depth=30, n_estimators=100, random_state=44; total time=   6.9s\n",
      "[CV] END criterion=entropy, max_depth=30, n_estimators=100, random_state=44; total time=   5.3s\n",
      "[CV] END criterion=entropy, max_depth=30, n_estimators=100, random_state=44; total time=   5.8s\n",
      "[CV] END criterion=entropy, max_depth=30, n_estimators=100, random_state=44; total time=   6.5s\n",
      "[CV] END criterion=entropy, max_depth=30, n_estimators=100, random_state=44; total time=   5.4s\n",
      "[CV] END criterion=entropy, max_depth=30, n_estimators=200, random_state=44; total time=  12.1s\n",
      "[CV] END criterion=entropy, max_depth=30, n_estimators=200, random_state=44; total time=  12.1s\n",
      "[CV] END criterion=entropy, max_depth=30, n_estimators=200, random_state=44; total time=  12.3s\n",
      "[CV] END criterion=entropy, max_depth=30, n_estimators=200, random_state=44; total time=  12.0s\n",
      "[CV] END criterion=entropy, max_depth=30, n_estimators=200, random_state=44; total time=  11.3s\n",
      "[CV] END criterion=entropy, max_depth=30, n_estimators=500, random_state=44; total time=  30.4s\n",
      "[CV] END criterion=entropy, max_depth=30, n_estimators=500, random_state=44; total time=  30.5s\n",
      "[CV] END criterion=entropy, max_depth=30, n_estimators=500, random_state=44; total time=  29.9s\n",
      "[CV] END criterion=entropy, max_depth=30, n_estimators=500, random_state=44; total time=  31.6s\n",
      "[CV] END criterion=entropy, max_depth=30, n_estimators=500, random_state=44; total time=  29.8s\n",
      "[CV] END criterion=entropy, max_depth=None, n_estimators=50, random_state=44; total time=   2.8s\n",
      "[CV] END criterion=entropy, max_depth=None, n_estimators=50, random_state=44; total time=   2.7s\n",
      "[CV] END criterion=entropy, max_depth=None, n_estimators=50, random_state=44; total time=   2.7s\n",
      "[CV] END criterion=entropy, max_depth=None, n_estimators=50, random_state=44; total time=   3.9s\n",
      "[CV] END criterion=entropy, max_depth=None, n_estimators=50, random_state=44; total time=   2.9s\n",
      "[CV] END criterion=entropy, max_depth=None, n_estimators=100, random_state=44; total time=   5.4s\n",
      "[CV] END criterion=entropy, max_depth=None, n_estimators=100, random_state=44; total time=   6.8s\n",
      "[CV] END criterion=entropy, max_depth=None, n_estimators=100, random_state=44; total time=   5.5s\n",
      "[CV] END criterion=entropy, max_depth=None, n_estimators=100, random_state=44; total time=   5.9s\n",
      "[CV] END criterion=entropy, max_depth=None, n_estimators=100, random_state=44; total time=   6.3s\n",
      "[CV] END criterion=entropy, max_depth=None, n_estimators=200, random_state=44; total time=  12.3s\n",
      "[CV] END criterion=entropy, max_depth=None, n_estimators=200, random_state=44; total time=  12.1s\n",
      "[CV] END criterion=entropy, max_depth=None, n_estimators=200, random_state=44; total time=  11.5s\n",
      "[CV] END criterion=entropy, max_depth=None, n_estimators=200, random_state=44; total time=  12.2s\n",
      "[CV] END criterion=entropy, max_depth=None, n_estimators=200, random_state=44; total time=  12.3s\n",
      "[CV] END criterion=entropy, max_depth=None, n_estimators=500, random_state=44; total time=  30.5s\n",
      "[CV] END criterion=entropy, max_depth=None, n_estimators=500, random_state=44; total time=  46.1s\n",
      "[CV] END criterion=entropy, max_depth=None, n_estimators=500, random_state=44; total time=  29.9s\n",
      "[CV] END criterion=entropy, max_depth=None, n_estimators=500, random_state=44; total time=  30.4s\n",
      "[CV] END criterion=entropy, max_depth=None, n_estimators=500, random_state=44; total time=  31.8s\n"
     ]
    },
    {
     "data": {
      "text/html": [
       "<style>#sk-container-id-1 {color: black;background-color: white;}#sk-container-id-1 pre{padding: 0;}#sk-container-id-1 div.sk-toggleable {background-color: white;}#sk-container-id-1 label.sk-toggleable__label {cursor: pointer;display: block;width: 100%;margin-bottom: 0;padding: 0.3em;box-sizing: border-box;text-align: center;}#sk-container-id-1 label.sk-toggleable__label-arrow:before {content: \"▸\";float: left;margin-right: 0.25em;color: #696969;}#sk-container-id-1 label.sk-toggleable__label-arrow:hover:before {color: black;}#sk-container-id-1 div.sk-estimator:hover label.sk-toggleable__label-arrow:before {color: black;}#sk-container-id-1 div.sk-toggleable__content {max-height: 0;max-width: 0;overflow: hidden;text-align: left;background-color: #f0f8ff;}#sk-container-id-1 div.sk-toggleable__content pre {margin: 0.2em;color: black;border-radius: 0.25em;background-color: #f0f8ff;}#sk-container-id-1 input.sk-toggleable__control:checked~div.sk-toggleable__content {max-height: 200px;max-width: 100%;overflow: auto;}#sk-container-id-1 input.sk-toggleable__control:checked~label.sk-toggleable__label-arrow:before {content: \"▾\";}#sk-container-id-1 div.sk-estimator input.sk-toggleable__control:checked~label.sk-toggleable__label {background-color: #d4ebff;}#sk-container-id-1 div.sk-label input.sk-toggleable__control:checked~label.sk-toggleable__label {background-color: #d4ebff;}#sk-container-id-1 input.sk-hidden--visually {border: 0;clip: rect(1px 1px 1px 1px);clip: rect(1px, 1px, 1px, 1px);height: 1px;margin: -1px;overflow: hidden;padding: 0;position: absolute;width: 1px;}#sk-container-id-1 div.sk-estimator {font-family: monospace;background-color: #f0f8ff;border: 1px dotted black;border-radius: 0.25em;box-sizing: border-box;margin-bottom: 0.5em;}#sk-container-id-1 div.sk-estimator:hover {background-color: #d4ebff;}#sk-container-id-1 div.sk-parallel-item::after {content: \"\";width: 100%;border-bottom: 1px solid gray;flex-grow: 1;}#sk-container-id-1 div.sk-label:hover label.sk-toggleable__label {background-color: #d4ebff;}#sk-container-id-1 div.sk-serial::before {content: \"\";position: absolute;border-left: 1px solid gray;box-sizing: border-box;top: 0;bottom: 0;left: 50%;z-index: 0;}#sk-container-id-1 div.sk-serial {display: flex;flex-direction: column;align-items: center;background-color: white;padding-right: 0.2em;padding-left: 0.2em;position: relative;}#sk-container-id-1 div.sk-item {position: relative;z-index: 1;}#sk-container-id-1 div.sk-parallel {display: flex;align-items: stretch;justify-content: center;background-color: white;position: relative;}#sk-container-id-1 div.sk-item::before, #sk-container-id-1 div.sk-parallel-item::before {content: \"\";position: absolute;border-left: 1px solid gray;box-sizing: border-box;top: 0;bottom: 0;left: 50%;z-index: -1;}#sk-container-id-1 div.sk-parallel-item {display: flex;flex-direction: column;z-index: 1;position: relative;background-color: white;}#sk-container-id-1 div.sk-parallel-item:first-child::after {align-self: flex-end;width: 50%;}#sk-container-id-1 div.sk-parallel-item:last-child::after {align-self: flex-start;width: 50%;}#sk-container-id-1 div.sk-parallel-item:only-child::after {width: 0;}#sk-container-id-1 div.sk-dashed-wrapped {border: 1px dashed gray;margin: 0 0.4em 0.5em 0.4em;box-sizing: border-box;padding-bottom: 0.4em;background-color: white;}#sk-container-id-1 div.sk-label label {font-family: monospace;font-weight: bold;display: inline-block;line-height: 1.2em;}#sk-container-id-1 div.sk-label-container {text-align: center;}#sk-container-id-1 div.sk-container {/* jupyter's `normalize.less` sets `[hidden] { display: none; }` but bootstrap.min.css set `[hidden] { display: none !important; }` so we also need the `!important` here to be able to override the default hidden behavior on the sphinx rendered scikit-learn.org. See: https://github.com/scikit-learn/scikit-learn/issues/21755 */display: inline-block !important;position: relative;}#sk-container-id-1 div.sk-text-repr-fallback {display: none;}</style><div id=\"sk-container-id-1\" class=\"sk-top-container\"><div class=\"sk-text-repr-fallback\"><pre>GridSearchCV(cv=5, estimator=RandomForestClassifier(),\n",
       "             param_grid={&#x27;criterion&#x27;: [&#x27;gini&#x27;, &#x27;entropy&#x27;],\n",
       "                         &#x27;max_depth&#x27;: [10, 20, 30, None],\n",
       "                         &#x27;n_estimators&#x27;: [50, 100, 200, 500],\n",
       "                         &#x27;random_state&#x27;: [44]},\n",
       "             scoring=&#x27;accuracy&#x27;, verbose=2)</pre><b>In a Jupyter environment, please rerun this cell to show the HTML representation or trust the notebook. <br />On GitHub, the HTML representation is unable to render, please try loading this page with nbviewer.org.</b></div><div class=\"sk-container\" hidden><div class=\"sk-item sk-dashed-wrapped\"><div class=\"sk-label-container\"><div class=\"sk-label sk-toggleable\"><input class=\"sk-toggleable__control sk-hidden--visually\" id=\"sk-estimator-id-1\" type=\"checkbox\" ><label for=\"sk-estimator-id-1\" class=\"sk-toggleable__label sk-toggleable__label-arrow\">GridSearchCV</label><div class=\"sk-toggleable__content\"><pre>GridSearchCV(cv=5, estimator=RandomForestClassifier(),\n",
       "             param_grid={&#x27;criterion&#x27;: [&#x27;gini&#x27;, &#x27;entropy&#x27;],\n",
       "                         &#x27;max_depth&#x27;: [10, 20, 30, None],\n",
       "                         &#x27;n_estimators&#x27;: [50, 100, 200, 500],\n",
       "                         &#x27;random_state&#x27;: [44]},\n",
       "             scoring=&#x27;accuracy&#x27;, verbose=2)</pre></div></div></div><div class=\"sk-parallel\"><div class=\"sk-parallel-item\"><div class=\"sk-item\"><div class=\"sk-label-container\"><div class=\"sk-label sk-toggleable\"><input class=\"sk-toggleable__control sk-hidden--visually\" id=\"sk-estimator-id-2\" type=\"checkbox\" ><label for=\"sk-estimator-id-2\" class=\"sk-toggleable__label sk-toggleable__label-arrow\">estimator: RandomForestClassifier</label><div class=\"sk-toggleable__content\"><pre>RandomForestClassifier()</pre></div></div></div><div class=\"sk-serial\"><div class=\"sk-item\"><div class=\"sk-estimator sk-toggleable\"><input class=\"sk-toggleable__control sk-hidden--visually\" id=\"sk-estimator-id-3\" type=\"checkbox\" ><label for=\"sk-estimator-id-3\" class=\"sk-toggleable__label sk-toggleable__label-arrow\">RandomForestClassifier</label><div class=\"sk-toggleable__content\"><pre>RandomForestClassifier()</pre></div></div></div></div></div></div></div></div></div></div>"
      ],
      "text/plain": [
       "GridSearchCV(cv=5, estimator=RandomForestClassifier(),\n",
       "             param_grid={'criterion': ['gini', 'entropy'],\n",
       "                         'max_depth': [10, 20, 30, None],\n",
       "                         'n_estimators': [50, 100, 200, 500],\n",
       "                         'random_state': [44]},\n",
       "             scoring='accuracy', verbose=2)"
      ]
     },
     "execution_count": 20,
     "metadata": {},
     "output_type": "execute_result"
    }
   ],
   "source": [
    "# to initialize the Random Forest classifier\n",
    "RFC = RandomForestClassifier()\n",
    "\n",
    "# to perform a grid search with cross-validation to find the best hyperparameters\n",
    "grid_search = GridSearchCV(estimator=RFC,            # specify Random Forest Classifier\n",
    "                           param_grid=param_grid,    # specify the grid of hyperparameters defined above\n",
    "                           cv=5,                     # number of cross-validation folds\n",
    "                           scoring='accuracy',       # the evaluation metric\n",
    "                           verbose=2)                # 2: print a summary after each fold, including the best parameters so far\n",
    "\n",
    "grid_search.fit(X_train, y_train)"
   ]
  },
  {
   "cell_type": "code",
   "execution_count": null,
   "metadata": {
    "colab": {
     "base_uri": "https://localhost:8080/"
    },
    "id": "qZKmNt6xK9Lg",
    "outputId": "4de90f44-b1b7-4327-c3bb-f40cc0bbc2f2"
   },
   "outputs": [
    {
     "name": "stdout",
     "output_type": "stream",
     "text": [
      "Best parameters:, {'criterion': 'entropy', 'max_depth': 10, 'n_estimators': 100, 'random_state': 44} \n",
      "Best cross-validation score:, 0.7921862305736824\n"
     ]
    }
   ],
   "source": [
    "# to print the best hyperparameters and cross-validation score\n",
    "print(f\"\"\"Best parameters:, {grid_search.best_params_} \\nBest cross-validation score:, {grid_search.best_score_}\"\"\")"
   ]
  },
  {
   "cell_type": "code",
   "execution_count": null,
   "metadata": {
    "id": "9v41BP_rK-4V"
   },
   "outputs": [],
   "source": [
    "# to select the best-trained model for prediction\n",
    "best_model = grid_search.best_estimator_\n",
    "\n",
    "# to predict with selected trained model on a test set\n",
    "y_pred = best_model.predict(X_test)"
   ]
  },
  {
   "cell_type": "code",
   "execution_count": null,
   "metadata": {
    "colab": {
     "base_uri": "https://localhost:8080/"
    },
    "id": "veQMG9IlSf6f",
    "outputId": "7899349f-6f40-4aec-bd05-43d68ee4c4b6"
   },
   "outputs": [
    {
     "name": "stdout",
     "output_type": "stream",
     "text": [
      "Accuracy of the model is 0.79\n",
      "\n",
      "               precision    recall  f1-score   support\n",
      "\n",
      "           0       0.82      0.33      0.47        84\n",
      "           1       0.80      0.99      0.88       429\n",
      "           2       0.76      0.54      0.64       178\n",
      "\n",
      "    accuracy                           0.79       691\n",
      "   macro avg       0.80      0.62      0.66       691\n",
      "weighted avg       0.79      0.79      0.77       691\n",
      "\n"
     ]
    }
   ],
   "source": [
    "# to generate accuracy of Random Forest classifer\n",
    "accuracy = accuracy_score(y_test, y_pred)\n",
    "\n",
    "# to generate a classification report for detailed metrics\n",
    "report = classification_report(y_test, y_pred)\n",
    "\n",
    "print(f\"\"\"Accuracy of the model is {accuracy:.2f}\\n\\n {report}\"\"\")"
   ]
  },
  {
   "cell_type": "code",
   "execution_count": null,
   "metadata": {
    "colab": {
     "base_uri": "https://localhost:8080/",
     "height": 564
    },
    "id": "kDCSqOVjOO_G",
    "outputId": "e1820aba-b4b5-4b82-d54e-08f9c76acaae"
   },
   "outputs": [
    {
     "data": {
      "image/png": "[encoded data removed]",
      "text/plain": [
       "<Figure size 800x600 with 1 Axes>"
      ]
     },
     "metadata": {},
     "output_type": "display_data"
    }
   ],
   "source": [
    "# to generate a confusion matrix\n",
    "confusion = confusion_matrix(y_test, y_pred)\n",
    "\n",
    "# to plot the confusion matrix as a heatmap\n",
    "plt.figure(figsize=(8, 6))\n",
    "sns.heatmap(confusion, annot=True, fmt=\"d\", cmap=\"Reds\", cbar=False,\n",
    "            xticklabels=[\"Negative\", \"Neutral\", \"Positive\"],\n",
    "            yticklabels=[\"Negative\", \"Neutral\", \"Positive\"])\n",
    "plt.xlabel(\"PREDICTED\")\n",
    "plt.ylabel(\"ACTUAL\")\n",
    "plt.title(\"Confusion Matrix with Random Forest Classifier\")\n",
    "plt.savefig(\"conf_mat_for_rfc.png\")\n",
    "plt.show()"
   ]
  },
  {
   "cell_type": "markdown",
   "metadata": {
    "id": "sYIN1kAkfLeE"
   },
   "source": [
    "### 4.2. Feature Extraction with Vanilla Neural Network <a class=\"anchor\" id=\"feature2\"></a>\n"
   ]
  },
  {
   "cell_type": "code",
   "execution_count": null,
   "metadata": {
    "colab": {
     "base_uri": "https://localhost:8080/"
    },
    "id": "OLDmwewFWjdb",
    "outputId": "134af608-4b1d-4a25-ffd5-be41092c7371"
   },
   "outputs": [
    {
     "data": {
      "text/plain": [
       "<torch._C.Generator at 0x785e987f8030>"
      ]
     },
     "execution_count": 25,
     "metadata": {},
     "output_type": "execute_result"
    }
   ],
   "source": [
    "torch.manual_seed(44)"
   ]
  },
  {
   "cell_type": "code",
   "execution_count": null,
   "metadata": {
    "id": "sNgVyDgETg4L"
   },
   "outputs": [],
   "source": [
    "class NeuralNetwork(nn.Module):\n",
    "    def __init__(self, input_size, hidden_size, output_size):\n",
    "        super(NeuralNetwork, self).__init__()\n",
    "        self.fc1 = nn.Linear(input_size, hidden_size)\n",
    "        self.relu1 = nn.ReLU()                          # ReLU activation for the first hidden layer\n",
    "        self.fc2 = nn.Linear(hidden_size, hidden_size)  # Second hidden layer\n",
    "        self.relu2 = nn.ReLU()                          # ReLU activation for the second hidden layer\n",
    "        self.fc3 = nn.Linear(hidden_size, output_size)  # Output layer\n",
    "\n",
    "    def forward(self, x):\n",
    "        out = self.fc1(x)\n",
    "        out = self.relu1(out)\n",
    "        out = self.fc2(out)\n",
    "        out = self.relu2(out)\n",
    "        out = self.fc3(out)\n",
    "        return out"
   ]
  },
  {
   "cell_type": "code",
   "execution_count": null,
   "metadata": {
    "id": "DPrIFBJHfuBp"
   },
   "outputs": [],
   "source": [
    "# to convert NumPy arrays to PyTorch tensors\n",
    "X_train = torch.FloatTensor(X_train)\n",
    "y_train = torch.LongTensor(y_train)\n",
    "X_test = torch.FloatTensor(X_test)\n",
    "y_test = torch.LongTensor(y_test)"
   ]
  },
  {
   "cell_type": "code",
   "execution_count": null,
   "metadata": {
    "id": "aiBQWlw-ft2L"
   },
   "outputs": [],
   "source": [
    "# to define network architecture: input size, hidden size, and output size\n",
    "input_size = X_train.shape[1]\n",
    "hidden_size = 128\n",
    "output_size = 3"
   ]
  },
  {
   "cell_type": "code",
   "execution_count": null,
   "metadata": {
    "id": "k7pLaEKXftlP"
   },
   "outputs": [],
   "source": [
    "# to define hyperparameter search space\n",
    "\n",
    "optimizers = {\n",
    "    'SGD': optim.SGD,\n",
    "    'Adam': optim.Adam\n",
    "}\n",
    "\n",
    "learning_rates = [0.001, 0.01, 0.1]\n",
    "batch_sizes = [32, 64, 128]\n",
    "\n",
    "best_accuracy = 0\n",
    "best_hyperparameters = {}"
   ]
  },
  {
   "cell_type": "markdown",
   "metadata": {
    "id": "9h296YR7hRar"
   },
   "source": [
    "**Hyperparameter search loop:** Iterates over different combinations of hyperparameters to find the best configuration."
   ]
  },
  {
   "cell_type": "code",
   "execution_count": null,
   "metadata": {
    "colab": {
     "base_uri": "https://localhost:8080/"
    },
    "id": "c9eN-A5mf3mq",
    "outputId": "804dd1e4-0aee-45cf-b70c-6e8ea5faff55"
   },
   "outputs": [
    {
     "name": "stdout",
     "output_type": "stream",
     "text": [
      "Best hyperparameters: {'optimizer': 'Adam', 'learning_rate': 0.001, 'batch_size': 128}\n",
      "Best validation accuracy: 0.894356005788712\n"
     ]
    }
   ],
   "source": [
    "# Hyperparameter search loop\n",
    "for optimizer_name, optimizer_class in optimizers.items():\n",
    "    for lr in learning_rates:\n",
    "        for batch_size in batch_sizes:\n",
    "            # initialize an instance of neural network with provided architecture\n",
    "            model = NeuralNetwork(input_size, hidden_size, output_size)\n",
    "\n",
    "            # to define loss function\n",
    "            criterion = nn.CrossEntropyLoss()\n",
    "\n",
    "            # to initialize optimizer\n",
    "            optimizer = optimizer_class(model.parameters(), lr=lr)\n",
    "\n",
    "            # data preparation with PyTorch's TensorDataset and DataLoader\n",
    "            train_dataset = TensorDataset(X_train, y_train)\n",
    "            train_loader = DataLoader(train_dataset, batch_size=batch_size, shuffle=True)\n",
    "\n",
    "            num_epochs = 10\n",
    "            for epoch in range(num_epochs):\n",
    "                model.train()\n",
    "                for batch_x, batch_y in train_loader:\n",
    "                    optimizer.zero_grad()\n",
    "                    outputs = model(batch_x)\n",
    "                    loss = criterion(outputs, batch_y)\n",
    "                    loss.backward()\n",
    "                    optimizer.step()\n",
    "\n",
    "            # to evaluate neural network on test dataset\n",
    "            model.eval()\n",
    "            with torch.no_grad():\n",
    "                test_outputs = model(X_test)\n",
    "                test_preds = test_outputs.argmax(dim=1)\n",
    "                test_accuracy = accuracy_score(y_test.numpy(), test_preds.numpy())\n",
    "\n",
    "            # to update best performing hyperparameter combination\n",
    "            if test_accuracy > best_accuracy:\n",
    "\n",
    "                # to store best accuracy score among iterated models\n",
    "                best_accuracy = test_accuracy\n",
    "\n",
    "                # to store best combination's hyperparameters in a dictionary\n",
    "                best_hyperparameters = {\n",
    "                    'optimizer': optimizer_name,\n",
    "                    'learning_rate': lr,\n",
    "                    'batch_size': batch_size\n",
    "                }\n",
    "\n",
    "print(f\"\"\"Best hyperparameters: {best_hyperparameters}\\nBest validation accuracy: {best_accuracy}\"\"\")"
   ]
  },
  {
   "cell_type": "code",
   "execution_count": null,
   "metadata": {
    "colab": {
     "base_uri": "https://localhost:8080/"
    },
    "id": "zBN9GtDXf3ZR",
    "outputId": "246285a7-f905-439a-cac9-22d5634761ba"
   },
   "outputs": [
    {
     "name": "stdout",
     "output_type": "stream",
     "text": [
      "Test accuracy with best hyperparameters: 0.8929088277858177\n"
     ]
    }
   ],
   "source": [
    "# now, to create an instance of the neural network using the best combination\n",
    "best_optimizer = best_hyperparameters['optimizer']\n",
    "best_lr = best_hyperparameters['learning_rate']\n",
    "best_batch_size = best_hyperparameters['batch_size']\n",
    "\n",
    "model = NeuralNetwork(input_size, hidden_size, output_size)\n",
    "\n",
    "# to initialize optimizer with `Adam`\n",
    "optimizer = optim.Adam(model.parameters(), lr=best_lr)\n",
    "\n",
    "# data preparation with PyTorch's TensorDataset and DataLoader\n",
    "train_dataset = TensorDataset(X_train, y_train)\n",
    "train_loader = DataLoader(train_dataset, batch_size=best_batch_size, shuffle=True)\n",
    "\n",
    "# to train the model using the best hyperparameters\n",
    "num_epochs = 10\n",
    "for epoch in range(num_epochs):\n",
    "    model.train()\n",
    "    for batch_x, batch_y in train_loader:\n",
    "        optimizer.zero_grad()\n",
    "        outputs = model(batch_x)\n",
    "        loss = criterion(outputs, batch_y)\n",
    "        loss.backward()\n",
    "        optimizer.step()\n",
    "\n",
    "# to evaluate the model on test set\n",
    "model.eval()\n",
    "with torch.no_grad():\n",
    "    test_outputs = model(X_test)\n",
    "    test_predictions = test_outputs.argmax(dim=1)\n",
    "    test_accuracy = accuracy_score(y_test.numpy(), test_predictions.numpy())\n",
    "\n",
    "print(\"Test accuracy with best hyperparameters:\", test_accuracy)"
   ]
  },
  {
   "cell_type": "code",
   "execution_count": null,
   "metadata": {
    "colab": {
     "base_uri": "https://localhost:8080/"
    },
    "id": "Ofkh3t5mf8Oq",
    "outputId": "57c7ec71-2a3d-44c5-bc22-5732d572879c"
   },
   "outputs": [
    {
     "name": "stdout",
     "output_type": "stream",
     "text": [
      "Classification Report:\n",
      "               precision    recall  f1-score   support\n",
      "\n",
      "    Negative       0.81      0.74      0.77        84\n",
      "     Neutral       0.96      0.93      0.94       429\n",
      "    Positive       0.79      0.88      0.83       178\n",
      "\n",
      "    accuracy                           0.89       691\n",
      "   macro avg       0.85      0.85      0.85       691\n",
      "weighted avg       0.90      0.89      0.89       691\n",
      "\n"
     ]
    }
   ],
   "source": [
    "# to generate classification report\n",
    "report = classification_report(y_test.numpy(), test_predictions.numpy(), target_names=[\"Negative\", \"Neutral\", \"Positive\"])\n",
    "print(\"Classification Report:\\n\", report)"
   ]
  },
  {
   "cell_type": "code",
   "execution_count": null,
   "metadata": {
    "colab": {
     "base_uri": "https://localhost:8080/",
     "height": 564
    },
    "id": "umGQ89VKgBhR",
    "outputId": "b0197398-1abf-4fb4-edc8-47d7696753fa"
   },
   "outputs": [
    {
     "data": {
      "image/png": "[encoded data removed]",
      "text/plain": [
       "<Figure size 800x600 with 1 Axes>"
      ]
     },
     "metadata": {},
     "output_type": "display_data"
    }
   ],
   "source": [
    "# to generate confusion matrix\n",
    "conf_matrix = confusion_matrix(y_test.numpy(), test_predictions.numpy())\n",
    "plt.figure(figsize=(8, 6))\n",
    "sns.heatmap(conf_matrix, annot=True, fmt=\"d\", cmap=\"Reds\", cbar=False,\n",
    "            xticklabels=[\"Negative\", \"Neutral\", \"Positive\"],\n",
    "            yticklabels=[\"Negative\", \"Neutral\", \"Positive\"])\n",
    "plt.xlabel(\"PREDICTED\")\n",
    "plt.ylabel(\"ACTUAL\")\n",
    "plt.title(\"Confusion Matrix with Vanilla Neural Network\")\n",
    "plt.savefig(\"conf_mat_for_nn.png\")\n",
    "plt.show()"
   ]
  }
 ],
 "metadata": {
  "accelerator": "GPU",
  "colab": {
   "gpuType": "T4",
   "provenance": []
  },
  "kernelspec": {
   "display_name": "Python 3 (ipykernel)",
   "language": "python",
   "name": "python3"
  },
  "language_info": {
   "codemirror_mode": {
    "name": "ipython",
    "version": 3
   },
   "file_extension": ".py",
   "mimetype": "text/x-python",
   "name": "python",
   "nbconvert_exporter": "python",
   "pygments_lexer": "ipython3",
   "version": "3.10.10"
  },
  "widgets": {
   "application/vnd.jupyter.widget-state+json": {
    "00634b9ad6364ed4b89c0808c63a2d71": {
     "model_module": "@jupyter-widgets/controls",
     "model_module_version": "1.5.0",
     "model_name": "HBoxModel",
     "state": {
      "_dom_classes": [],
      "_model_module": "@jupyter-widgets/controls",
      "_model_module_version": "1.5.0",
      "_model_name": "HBoxModel",
      "_view_count": null,
      "_view_module": "@jupyter-widgets/controls",
      "_view_module_version": "1.5.0",
      "_view_name": "HBoxView",
      "box_style": "",
      "children": [
       "IPY_MODEL_0eea5489d5224064b021a6712f5ef5d3",
       "IPY_MODEL_6f23ee252eaa40128f2c23e98377d16c",
       "IPY_MODEL_3f5d3072e7b34e0ab043d47c9648161a"
      ],
      "layout": "IPY_MODEL_93af6f9c890c46698372174a340bf793"
     }
    },
    "013424420b7e48e585c3a01bf5c32709": {
     "model_module": "@jupyter-widgets/base",
     "model_module_version": "1.2.0",
     "model_name": "LayoutModel",
     "state": {
      "_model_module": "@jupyter-widgets/base",
      "_model_module_version": "1.2.0",
      "_model_name": "LayoutModel",
      "_view_count": null,
      "_view_module": "@jupyter-widgets/base",
      "_view_module_version": "1.2.0",
      "_view_name": "LayoutView",
      "align_content": null,
      "align_items": null,
      "align_self": null,
      "border": null,
      "bottom": null,
      "display": null,
      "flex": null,
      "flex_flow": null,
      "grid_area": null,
      "grid_auto_columns": null,
      "grid_auto_flow": null,
      "grid_auto_rows": null,
      "grid_column": null,
      "grid_gap": null,
      "grid_row": null,
      "grid_template_areas": null,
      "grid_template_columns": null,
      "grid_template_rows": null,
      "height": null,
      "justify_content": null,
      "justify_items": null,
      "left": null,
      "margin": null,
      "max_height": null,
      "max_width": null,
      "min_height": null,
      "min_width": null,
      "object_fit": null,
      "object_position": null,
      "order": null,
      "overflow": null,
      "overflow_x": null,
      "overflow_y": null,
      "padding": null,
      "right": null,
      "top": null,
      "visibility": null,
      "width": null
     }
    },
    "016555a8de3f487ebba21c6d2c76b76c": {
     "model_module": "@jupyter-widgets/base",
     "model_module_version": "1.2.0",
     "model_name": "LayoutModel",
     "state": {
      "_model_module": "@jupyter-widgets/base",
      "_model_module_version": "1.2.0",
      "_model_name": "LayoutModel",
      "_view_count": null,
      "_view_module": "@jupyter-widgets/base",
      "_view_module_version": "1.2.0",
      "_view_name": "LayoutView",
      "align_content": null,
      "align_items": null,
      "align_self": null,
      "border": null,
      "bottom": null,
      "display": null,
      "flex": null,
      "flex_flow": null,
      "grid_area": null,
      "grid_auto_columns": null,
      "grid_auto_flow": null,
      "grid_auto_rows": null,
      "grid_column": null,
      "grid_gap": null,
      "grid_row": null,
      "grid_template_areas": null,
      "grid_template_columns": null,
      "grid_template_rows": null,
      "height": null,
      "justify_content": null,
      "justify_items": null,
      "left": null,
      "margin": null,
      "max_height": null,
      "max_width": null,
      "min_height": null,
      "min_width": null,
      "object_fit": null,
      "object_position": null,
      "order": null,
      "overflow": null,
      "overflow_x": null,
      "overflow_y": null,
      "padding": null,
      "right": null,
      "top": null,
      "visibility": null,
      "width": null
     }
    },
    "023c02047e264699a0a81d92e36f14ce": {
     "model_module": "@jupyter-widgets/base",
     "model_module_version": "1.2.0",
     "model_name": "LayoutModel",
     "state": {
      "_model_module": "@jupyter-widgets/base",
      "_model_module_version": "1.2.0",
      "_model_name": "LayoutModel",
      "_view_count": null,
      "_view_module": "@jupyter-widgets/base",
      "_view_module_version": "1.2.0",
      "_view_name": "LayoutView",
      "align_content": null,
      "align_items": null,
      "align_self": null,
      "border": null,
      "bottom": null,
      "display": null,
      "flex": null,
      "flex_flow": null,
      "grid_area": null,
      "grid_auto_columns": null,
      "grid_auto_flow": null,
      "grid_auto_rows": null,
      "grid_column": null,
      "grid_gap": null,
      "grid_row": null,
      "grid_template_areas": null,
      "grid_template_columns": null,
      "grid_template_rows": null,
      "height": null,
      "justify_content": null,
      "justify_items": null,
      "left": null,
      "margin": null,
      "max_height": null,
      "max_width": null,
      "min_height": null,
      "min_width": null,
      "object_fit": null,
      "object_position": null,
      "order": null,
      "overflow": null,
      "overflow_x": null,
      "overflow_y": null,
      "padding": null,
      "right": null,
      "top": null,
      "visibility": null,
      "width": null
     }
    },
    "02b08dacb63347ab89eef3b79bc68f38": {
     "model_module": "@jupyter-widgets/controls",
     "model_module_version": "1.5.0",
     "model_name": "ProgressStyleModel",
     "state": {
      "_model_module": "@jupyter-widgets/controls",
      "_model_module_version": "1.5.0",
      "_model_name": "ProgressStyleModel",
      "_view_count": null,
      "_view_module": "@jupyter-widgets/base",
      "_view_module_version": "1.2.0",
      "_view_name": "StyleView",
      "bar_color": null,
      "description_width": ""
     }
    },
    "03880cbbb1df4a5caab9f0c11a11cd0e": {
     "model_module": "@jupyter-widgets/base",
     "model_module_version": "1.2.0",
     "model_name": "LayoutModel",
     "state": {
      "_model_module": "@jupyter-widgets/base",
      "_model_module_version": "1.2.0",
      "_model_name": "LayoutModel",
      "_view_count": null,
      "_view_module": "@jupyter-widgets/base",
      "_view_module_version": "1.2.0",
      "_view_name": "LayoutView",
      "align_content": null,
      "align_items": null,
      "align_self": null,
      "border": null,
      "bottom": null,
      "display": null,
      "flex": null,
      "flex_flow": null,
      "grid_area": null,
      "grid_auto_columns": null,
      "grid_auto_flow": null,
      "grid_auto_rows": null,
      "grid_column": null,
      "grid_gap": null,
      "grid_row": null,
      "grid_template_areas": null,
      "grid_template_columns": null,
      "grid_template_rows": null,
      "height": null,
      "justify_content": null,
      "justify_items": null,
      "left": null,
      "margin": null,
      "max_height": null,
      "max_width": null,
      "min_height": null,
      "min_width": null,
      "object_fit": null,
      "object_position": null,
      "order": null,
      "overflow": null,
      "overflow_x": null,
      "overflow_y": null,
      "padding": null,
      "right": null,
      "top": null,
      "visibility": null,
      "width": null
     }
    },
    "0441c1e4bf6141debf4c5e7c4ea11772": {
     "model_module": "@jupyter-widgets/controls",
     "model_module_version": "1.5.0",
     "model_name": "HTMLModel",
     "state": {
      "_dom_classes": [],
      "_model_module": "@jupyter-widgets/controls",
      "_model_module_version": "1.5.0",
      "_model_name": "HTMLModel",
      "_view_count": null,
      "_view_module": "@jupyter-widgets/controls",
      "_view_module_version": "1.5.0",
      "_view_name": "HTMLView",
      "description": "",
      "description_tooltip": null,
      "layout": "IPY_MODEL_bbc5258c99344598ac03865213dd4f0f",
      "placeholder": "​",
      "style": "IPY_MODEL_e6be2bee5a40498389baaa1091cdb565",
      "value": " 3453/3453 [00:11&lt;00:00, 313.10 examples/s]"
     }
    },
    "05f98a1b36d04491a21f35881d6af348": {
     "model_module": "@jupyter-widgets/base",
     "model_module_version": "1.2.0",
     "model_name": "LayoutModel",
     "state": {
      "_model_module": "@jupyter-widgets/base",
      "_model_module_version": "1.2.0",
      "_model_name": "LayoutModel",
      "_view_count": null,
      "_view_module": "@jupyter-widgets/base",
      "_view_module_version": "1.2.0",
      "_view_name": "LayoutView",
      "align_content": null,
      "align_items": null,
      "align_self": null,
      "border": null,
      "bottom": null,
      "display": null,
      "flex": null,
      "flex_flow": null,
      "grid_area": null,
      "grid_auto_columns": null,
      "grid_auto_flow": null,
      "grid_auto_rows": null,
      "grid_column": null,
      "grid_gap": null,
      "grid_row": null,
      "grid_template_areas": null,
      "grid_template_columns": null,
      "grid_template_rows": null,
      "height": null,
      "justify_content": null,
      "justify_items": null,
      "left": null,
      "margin": null,
      "max_height": null,
      "max_width": null,
      "min_height": null,
      "min_width": null,
      "object_fit": null,
      "object_position": null,
      "order": null,
      "overflow": null,
      "overflow_x": null,
      "overflow_y": null,
      "padding": null,
      "right": null,
      "top": null,
      "visibility": null,
      "width": null
     }
    },
    "06a3fc005fef41d5af7fffd055bdb9a6": {
     "model_module": "@jupyter-widgets/controls",
     "model_module_version": "1.5.0",
     "model_name": "DescriptionStyleModel",
     "state": {
      "_model_module": "@jupyter-widgets/controls",
      "_model_module_version": "1.5.0",
      "_model_name": "DescriptionStyleModel",
      "_view_count": null,
      "_view_module": "@jupyter-widgets/base",
      "_view_module_version": "1.2.0",
      "_view_name": "StyleView",
      "description_width": ""
     }
    },
    "071de7efff714af484ffb5df7a4cb0c4": {
     "model_module": "@jupyter-widgets/base",
     "model_module_version": "1.2.0",
     "model_name": "LayoutModel",
     "state": {
      "_model_module": "@jupyter-widgets/base",
      "_model_module_version": "1.2.0",
      "_model_name": "LayoutModel",
      "_view_count": null,
      "_view_module": "@jupyter-widgets/base",
      "_view_module_version": "1.2.0",
      "_view_name": "LayoutView",
      "align_content": null,
      "align_items": null,
      "align_self": null,
      "border": null,
      "bottom": null,
      "display": null,
      "flex": null,
      "flex_flow": null,
      "grid_area": null,
      "grid_auto_columns": null,
      "grid_auto_flow": null,
      "grid_auto_rows": null,
      "grid_column": null,
      "grid_gap": null,
      "grid_row": null,
      "grid_template_areas": null,
      "grid_template_columns": null,
      "grid_template_rows": null,
      "height": null,
      "justify_content": null,
      "justify_items": null,
      "left": null,
      "margin": null,
      "max_height": null,
      "max_width": null,
      "min_height": null,
      "min_width": null,
      "object_fit": null,
      "object_position": null,
      "order": null,
      "overflow": null,
      "overflow_x": null,
      "overflow_y": null,
      "padding": null,
      "right": null,
      "top": null,
      "visibility": null,
      "width": null
     }
    },
    "08901f6be725401e908b57f50c0bec50": {
     "model_module": "@jupyter-widgets/base",
     "model_module_version": "1.2.0",
     "model_name": "LayoutModel",
     "state": {
      "_model_module": "@jupyter-widgets/base",
      "_model_module_version": "1.2.0",
      "_model_name": "LayoutModel",
      "_view_count": null,
      "_view_module": "@jupyter-widgets/base",
      "_view_module_version": "1.2.0",
      "_view_name": "LayoutView",
      "align_content": null,
      "align_items": null,
      "align_self": null,
      "border": null,
      "bottom": null,
      "display": null,
      "flex": null,
      "flex_flow": null,
      "grid_area": null,
      "grid_auto_columns": null,
      "grid_auto_flow": null,
      "grid_auto_rows": null,
      "grid_column": null,
      "grid_gap": null,
      "grid_row": null,
      "grid_template_areas": null,
      "grid_template_columns": null,
      "grid_template_rows": null,
      "height": null,
      "justify_content": null,
      "justify_items": null,
      "left": null,
      "margin": null,
      "max_height": null,
      "max_width": null,
      "min_height": null,
      "min_width": null,
      "object_fit": null,
      "object_position": null,
      "order": null,
      "overflow": null,
      "overflow_x": null,
      "overflow_y": null,
      "padding": null,
      "right": null,
      "top": null,
      "visibility": null,
      "width": null
     }
    },
    "099be8fa449b427da7b807a54df020bc": {
     "model_module": "@jupyter-widgets/controls",
     "model_module_version": "1.5.0",
     "model_name": "FloatProgressModel",
     "state": {
      "_dom_classes": [],
      "_model_module": "@jupyter-widgets/controls",
      "_model_module_version": "1.5.0",
      "_model_name": "FloatProgressModel",
      "_view_count": null,
      "_view_module": "@jupyter-widgets/controls",
      "_view_module_version": "1.5.0",
      "_view_name": "ProgressView",
      "bar_style": "success",
      "description": "",
      "description_tooltip": null,
      "layout": "IPY_MODEL_9334b053836d401db7d40c454ab366eb",
      "max": 2762,
      "min": 0,
      "orientation": "horizontal",
      "style": "IPY_MODEL_e47b5f6dfa6849828bb7ca90b3235e65",
      "value": 2762
     }
    },
    "0b392aac181b4047bcbabf467e98621a": {
     "model_module": "@jupyter-widgets/controls",
     "model_module_version": "1.5.0",
     "model_name": "FloatProgressModel",
     "state": {
      "_dom_classes": [],
      "_model_module": "@jupyter-widgets/controls",
      "_model_module_version": "1.5.0",
      "_model_name": "FloatProgressModel",
      "_view_count": null,
      "_view_module": "@jupyter-widgets/controls",
      "_view_module_version": "1.5.0",
      "_view_name": "ProgressView",
      "bar_style": "success",
      "description": "",
      "description_tooltip": null,
      "layout": "IPY_MODEL_7a8999b9edd047de9645c93745a422d1",
      "max": 8878,
      "min": 0,
      "orientation": "horizontal",
      "style": "IPY_MODEL_48ea3f08ecf74807b34a4e64bd5c3f21",
      "value": 8878
     }
    },
    "0d1d37946ae147ba987febd5e94d084c": {
     "model_module": "@jupyter-widgets/controls",
     "model_module_version": "1.5.0",
     "model_name": "FloatProgressModel",
     "state": {
      "_dom_classes": [],
      "_model_module": "@jupyter-widgets/controls",
      "_model_module_version": "1.5.0",
      "_model_name": "FloatProgressModel",
      "_view_count": null,
      "_view_module": "@jupyter-widgets/controls",
      "_view_module_version": "1.5.0",
      "_view_name": "ProgressView",
      "bar_style": "success",
      "description": "",
      "description_tooltip": null,
      "layout": "IPY_MODEL_e1cd358b076f41d2a9a229cdc38b371a",
      "max": 533,
      "min": 0,
      "orientation": "horizontal",
      "style": "IPY_MODEL_a19ce6e1a8ae4aab80ca95523a2c097f",
      "value": 533
     }
    },
    "0d5c40c32efe44fbba385292587e8c03": {
     "model_module": "@jupyter-widgets/controls",
     "model_module_version": "1.5.0",
     "model_name": "HTMLModel",
     "state": {
      "_dom_classes": [],
      "_model_module": "@jupyter-widgets/controls",
      "_model_module_version": "1.5.0",
      "_model_name": "HTMLModel",
      "_view_count": null,
      "_view_module": "@jupyter-widgets/controls",
      "_view_module_version": "1.5.0",
      "_view_name": "HTMLView",
      "description": "",
      "description_tooltip": null,
      "layout": "IPY_MODEL_b7b541afdf274e8aa5b85e105f5cf78f",
      "placeholder": "​",
      "style": "IPY_MODEL_6b558fd909254f1aa1a45f1b1a56c9bc",
      "value": "Map: 100%"
     }
    },
    "0d9d2a27c7ef4744adaad0ba5463a2e6": {
     "model_module": "@jupyter-widgets/controls",
     "model_module_version": "1.5.0",
     "model_name": "ProgressStyleModel",
     "state": {
      "_model_module": "@jupyter-widgets/controls",
      "_model_module_version": "1.5.0",
      "_model_name": "ProgressStyleModel",
      "_view_count": null,
      "_view_module": "@jupyter-widgets/base",
      "_view_module_version": "1.2.0",
      "_view_name": "StyleView",
      "bar_color": null,
      "description_width": ""
     }
    },
    "0eea5489d5224064b021a6712f5ef5d3": {
     "model_module": "@jupyter-widgets/controls",
     "model_module_version": "1.5.0",
     "model_name": "HTMLModel",
     "state": {
      "_dom_classes": [],
      "_model_module": "@jupyter-widgets/controls",
      "_model_module_version": "1.5.0",
      "_model_name": "HTMLModel",
      "_view_count": null,
      "_view_module": "@jupyter-widgets/controls",
      "_view_module_version": "1.5.0",
      "_view_name": "HTMLView",
      "description": "",
      "description_tooltip": null,
      "layout": "IPY_MODEL_6baec0bb89ac44bea0ce2d6df7b8de7d",
      "placeholder": "​",
      "style": "IPY_MODEL_c414a90e37fb4d6d9f4d0bd2877afb63",
      "value": "Downloading data: 100%"
     }
    },
    "103f846e8a9b4b54ab30f945e872690f": {
     "model_module": "@jupyter-widgets/controls",
     "model_module_version": "1.5.0",
     "model_name": "HBoxModel",
     "state": {
      "_dom_classes": [],
      "_model_module": "@jupyter-widgets/controls",
      "_model_module_version": "1.5.0",
      "_model_name": "HBoxModel",
      "_view_count": null,
      "_view_module": "@jupyter-widgets/controls",
      "_view_module_version": "1.5.0",
      "_view_name": "HBoxView",
      "box_style": "",
      "children": [
       "IPY_MODEL_e7088673ae6e4b409c64a68e83bd36eb",
       "IPY_MODEL_de6f65c2870148019f60a882eb58e37b",
       "IPY_MODEL_0441c1e4bf6141debf4c5e7c4ea11772"
      ],
      "layout": "IPY_MODEL_449129f0c7d942cbbf09df01fae30c45"
     }
    },
    "12e46a3c2c4548b7994463870b6557d1": {
     "model_module": "@jupyter-widgets/controls",
     "model_module_version": "1.5.0",
     "model_name": "HBoxModel",
     "state": {
      "_dom_classes": [],
      "_model_module": "@jupyter-widgets/controls",
      "_model_module_version": "1.5.0",
      "_model_name": "HBoxModel",
      "_view_count": null,
      "_view_module": "@jupyter-widgets/controls",
      "_view_module_version": "1.5.0",
      "_view_name": "HBoxView",
      "box_style": "",
      "children": [
       "IPY_MODEL_186668e0f34441f484be056074014812",
       "IPY_MODEL_e663ce9411ba459bb833c7779f203810",
       "IPY_MODEL_a0629fc3fcc0406190f4d819b0568f3a"
      ],
      "layout": "IPY_MODEL_b643a68ea9ea4163b4bf3ed234923d0c"
     }
    },
    "13ae4cb864d24b7ebfe929a1728e5c1b": {
     "model_module": "@jupyter-widgets/controls",
     "model_module_version": "1.5.0",
     "model_name": "DescriptionStyleModel",
     "state": {
      "_model_module": "@jupyter-widgets/controls",
      "_model_module_version": "1.5.0",
      "_model_name": "DescriptionStyleModel",
      "_view_count": null,
      "_view_module": "@jupyter-widgets/base",
      "_view_module_version": "1.2.0",
      "_view_name": "StyleView",
      "description_width": ""
     }
    },
    "1597d308b7ef47048e31af70b718efd4": {
     "model_module": "@jupyter-widgets/base",
     "model_module_version": "1.2.0",
     "model_name": "LayoutModel",
     "state": {
      "_model_module": "@jupyter-widgets/base",
      "_model_module_version": "1.2.0",
      "_model_name": "LayoutModel",
      "_view_count": null,
      "_view_module": "@jupyter-widgets/base",
      "_view_module_version": "1.2.0",
      "_view_name": "LayoutView",
      "align_content": null,
      "align_items": null,
      "align_self": null,
      "border": null,
      "bottom": null,
      "display": null,
      "flex": null,
      "flex_flow": null,
      "grid_area": null,
      "grid_auto_columns": null,
      "grid_auto_flow": null,
      "grid_auto_rows": null,
      "grid_column": null,
      "grid_gap": null,
      "grid_row": null,
      "grid_template_areas": null,
      "grid_template_columns": null,
      "grid_template_rows": null,
      "height": null,
      "justify_content": null,
      "justify_items": null,
      "left": null,
      "margin": null,
      "max_height": null,
      "max_width": null,
      "min_height": null,
      "min_width": null,
      "object_fit": null,
      "object_position": null,
      "order": null,
      "overflow": null,
      "overflow_x": null,
      "overflow_y": null,
      "padding": null,
      "right": null,
      "top": null,
      "visibility": null,
      "width": null
     }
    },
    "186668e0f34441f484be056074014812": {
     "model_module": "@jupyter-widgets/controls",
     "model_module_version": "1.5.0",
     "model_name": "HTMLModel",
     "state": {
      "_dom_classes": [],
      "_model_module": "@jupyter-widgets/controls",
      "_model_module_version": "1.5.0",
      "_model_name": "HTMLModel",
      "_view_count": null,
      "_view_module": "@jupyter-widgets/controls",
      "_view_module_version": "1.5.0",
      "_view_name": "HTMLView",
      "description": "",
      "description_tooltip": null,
      "layout": "IPY_MODEL_62c362a1fa5c4dceb79b4d45b1fa7f57",
      "placeholder": "​",
      "style": "IPY_MODEL_634acda985d74e2ead2ffdfed51a53be",
      "value": "Downloading pytorch_model.bin: 100%"
     }
    },
    "1884d5d253b145aab0723dfd1f2b96ba": {
     "model_module": "@jupyter-widgets/controls",
     "model_module_version": "1.5.0",
     "model_name": "DescriptionStyleModel",
     "state": {
      "_model_module": "@jupyter-widgets/controls",
      "_model_module_version": "1.5.0",
      "_model_name": "DescriptionStyleModel",
      "_view_count": null,
      "_view_module": "@jupyter-widgets/base",
      "_view_module_version": "1.2.0",
      "_view_name": "StyleView",
      "description_width": ""
     }
    },
    "1a451433d7404c71a8167699822855cb": {
     "model_module": "@jupyter-widgets/base",
     "model_module_version": "1.2.0",
     "model_name": "LayoutModel",
     "state": {
      "_model_module": "@jupyter-widgets/base",
      "_model_module_version": "1.2.0",
      "_model_name": "LayoutModel",
      "_view_count": null,
      "_view_module": "@jupyter-widgets/base",
      "_view_module_version": "1.2.0",
      "_view_name": "LayoutView",
      "align_content": null,
      "align_items": null,
      "align_self": null,
      "border": null,
      "bottom": null,
      "display": null,
      "flex": null,
      "flex_flow": null,
      "grid_area": null,
      "grid_auto_columns": null,
      "grid_auto_flow": null,
      "grid_auto_rows": null,
      "grid_column": null,
      "grid_gap": null,
      "grid_row": null,
      "grid_template_areas": null,
      "grid_template_columns": null,
      "grid_template_rows": null,
      "height": null,
      "justify_content": null,
      "justify_items": null,
      "left": null,
      "margin": null,
      "max_height": null,
      "max_width": null,
      "min_height": null,
      "min_width": null,
      "object_fit": null,
      "object_position": null,
      "order": null,
      "overflow": null,
      "overflow_x": null,
      "overflow_y": null,
      "padding": null,
      "right": null,
      "top": null,
      "visibility": null,
      "width": null
     }
    },
    "1b0e566662504352b2ed1dea31a70663": {
     "model_module": "@jupyter-widgets/controls",
     "model_module_version": "1.5.0",
     "model_name": "FloatProgressModel",
     "state": {
      "_dom_classes": [],
      "_model_module": "@jupyter-widgets/controls",
      "_model_module_version": "1.5.0",
      "_model_name": "FloatProgressModel",
      "_view_count": null,
      "_view_module": "@jupyter-widgets/controls",
      "_view_module_version": "1.5.0",
      "_view_name": "ProgressView",
      "bar_style": "success",
      "description": "",
      "description_tooltip": null,
      "layout": "IPY_MODEL_8d6ba7b9358443eab17abe875868316b",
      "max": 691,
      "min": 0,
      "orientation": "horizontal",
      "style": "IPY_MODEL_0d9d2a27c7ef4744adaad0ba5463a2e6",
      "value": 691
     }
    },
    "1bb6552beff04c8fbb3b1b013ff0f59f": {
     "model_module": "@jupyter-widgets/controls",
     "model_module_version": "1.5.0",
     "model_name": "HBoxModel",
     "state": {
      "_dom_classes": [],
      "_model_module": "@jupyter-widgets/controls",
      "_model_module_version": "1.5.0",
      "_model_name": "HBoxModel",
      "_view_count": null,
      "_view_module": "@jupyter-widgets/controls",
      "_view_module_version": "1.5.0",
      "_view_name": "HBoxView",
      "box_style": "",
      "children": [
       "IPY_MODEL_921d82d10d9849cdadb3fa7471e9b9ce",
       "IPY_MODEL_f02bf2229afe4ece8b83b1f49e35a676",
       "IPY_MODEL_876f7cccb3064b679a624b2a62bb1cdd"
      ],
      "layout": "IPY_MODEL_03880cbbb1df4a5caab9f0c11a11cd0e"
     }
    },
    "1ccb0e6fc0744b9e9be9bbd1aa64554a": {
     "model_module": "@jupyter-widgets/controls",
     "model_module_version": "1.5.0",
     "model_name": "DescriptionStyleModel",
     "state": {
      "_model_module": "@jupyter-widgets/controls",
      "_model_module_version": "1.5.0",
      "_model_name": "DescriptionStyleModel",
      "_view_count": null,
      "_view_module": "@jupyter-widgets/base",
      "_view_module_version": "1.2.0",
      "_view_name": "StyleView",
      "description_width": ""
     }
    },
    "1f15f84ba58b4680b542ced71c9b8516": {
     "model_module": "@jupyter-widgets/base",
     "model_module_version": "1.2.0",
     "model_name": "LayoutModel",
     "state": {
      "_model_module": "@jupyter-widgets/base",
      "_model_module_version": "1.2.0",
      "_model_name": "LayoutModel",
      "_view_count": null,
      "_view_module": "@jupyter-widgets/base",
      "_view_module_version": "1.2.0",
      "_view_name": "LayoutView",
      "align_content": null,
      "align_items": null,
      "align_self": null,
      "border": null,
      "bottom": null,
      "display": null,
      "flex": null,
      "flex_flow": null,
      "grid_area": null,
      "grid_auto_columns": null,
      "grid_auto_flow": null,
      "grid_auto_rows": null,
      "grid_column": null,
      "grid_gap": null,
      "grid_row": null,
      "grid_template_areas": null,
      "grid_template_columns": null,
      "grid_template_rows": null,
      "height": null,
      "justify_content": null,
      "justify_items": null,
      "left": null,
      "margin": null,
      "max_height": null,
      "max_width": null,
      "min_height": null,
      "min_width": null,
      "object_fit": null,
      "object_position": null,
      "order": null,
      "overflow": null,
      "overflow_x": null,
      "overflow_y": null,
      "padding": null,
      "right": null,
      "top": null,
      "visibility": null,
      "width": null
     }
    },
    "22cea877a373458ea4f82185ca4c9247": {
     "model_module": "@jupyter-widgets/controls",
     "model_module_version": "1.5.0",
     "model_name": "ProgressStyleModel",
     "state": {
      "_model_module": "@jupyter-widgets/controls",
      "_model_module_version": "1.5.0",
      "_model_name": "ProgressStyleModel",
      "_view_count": null,
      "_view_module": "@jupyter-widgets/base",
      "_view_module_version": "1.2.0",
      "_view_name": "StyleView",
      "bar_color": null,
      "description_width": ""
     }
    },
    "2689e97148bb4cb5826be1c9ff011036": {
     "model_module": "@jupyter-widgets/controls",
     "model_module_version": "1.5.0",
     "model_name": "DescriptionStyleModel",
     "state": {
      "_model_module": "@jupyter-widgets/controls",
      "_model_module_version": "1.5.0",
      "_model_name": "DescriptionStyleModel",
      "_view_count": null,
      "_view_module": "@jupyter-widgets/base",
      "_view_module_version": "1.2.0",
      "_view_name": "StyleView",
      "description_width": ""
     }
    },
    "2d388556b69447b9afafb76ac2914217": {
     "model_module": "@jupyter-widgets/controls",
     "model_module_version": "1.5.0",
     "model_name": "FloatProgressModel",
     "state": {
      "_dom_classes": [],
      "_model_module": "@jupyter-widgets/controls",
      "_model_module_version": "1.5.0",
      "_model_name": "FloatProgressModel",
      "_view_count": null,
      "_view_module": "@jupyter-widgets/controls",
      "_view_module_version": "1.5.0",
      "_view_name": "ProgressView",
      "bar_style": "success",
      "description": "",
      "description_tooltip": null,
      "layout": "IPY_MODEL_1597d308b7ef47048e31af70b718efd4",
      "max": 226122,
      "min": 0,
      "orientation": "horizontal",
      "style": "IPY_MODEL_02b08dacb63347ab89eef3b79bc68f38",
      "value": 226122
     }
    },
    "2e13350f905a4f329fb44c79d30840a1": {
     "model_module": "@jupyter-widgets/controls",
     "model_module_version": "1.5.0",
     "model_name": "HTMLModel",
     "state": {
      "_dom_classes": [],
      "_model_module": "@jupyter-widgets/controls",
      "_model_module_version": "1.5.0",
      "_model_name": "HTMLModel",
      "_view_count": null,
      "_view_module": "@jupyter-widgets/controls",
      "_view_module_version": "1.5.0",
      "_view_name": "HTMLView",
      "description": "",
      "description_tooltip": null,
      "layout": "IPY_MODEL_68c735fc8fdc4defb6a59bd7d1c20073",
      "placeholder": "​",
      "style": "IPY_MODEL_3040cbb1e3a046f4a653033fa077346e",
      "value": " 439M/439M [00:02&lt;00:00, 181MB/s]"
     }
    },
    "3040cbb1e3a046f4a653033fa077346e": {
     "model_module": "@jupyter-widgets/controls",
     "model_module_version": "1.5.0",
     "model_name": "DescriptionStyleModel",
     "state": {
      "_model_module": "@jupyter-widgets/controls",
      "_model_module_version": "1.5.0",
      "_model_name": "DescriptionStyleModel",
      "_view_count": null,
      "_view_module": "@jupyter-widgets/base",
      "_view_module_version": "1.2.0",
      "_view_name": "StyleView",
      "description_width": ""
     }
    },
    "311de1992f26478bb3bdb056bcf212f5": {
     "model_module": "@jupyter-widgets/controls",
     "model_module_version": "1.5.0",
     "model_name": "DescriptionStyleModel",
     "state": {
      "_model_module": "@jupyter-widgets/controls",
      "_model_module_version": "1.5.0",
      "_model_name": "DescriptionStyleModel",
      "_view_count": null,
      "_view_module": "@jupyter-widgets/base",
      "_view_module_version": "1.2.0",
      "_view_name": "StyleView",
      "description_width": ""
     }
    },
    "31802e05f9e8447dac80eae81c26921c": {
     "model_module": "@jupyter-widgets/controls",
     "model_module_version": "1.5.0",
     "model_name": "DescriptionStyleModel",
     "state": {
      "_model_module": "@jupyter-widgets/controls",
      "_model_module_version": "1.5.0",
      "_model_name": "DescriptionStyleModel",
      "_view_count": null,
      "_view_module": "@jupyter-widgets/base",
      "_view_module_version": "1.2.0",
      "_view_name": "StyleView",
      "description_width": ""
     }
    },
    "31bfe27b4e3c49689328776acdb65efa": {
     "model_module": "@jupyter-widgets/controls",
     "model_module_version": "1.5.0",
     "model_name": "DescriptionStyleModel",
     "state": {
      "_model_module": "@jupyter-widgets/controls",
      "_model_module_version": "1.5.0",
      "_model_name": "DescriptionStyleModel",
      "_view_count": null,
      "_view_module": "@jupyter-widgets/base",
      "_view_module_version": "1.2.0",
      "_view_name": "StyleView",
      "description_width": ""
     }
    },
    "32daaa8697334896be2e1170b0068b2d": {
     "model_module": "@jupyter-widgets/base",
     "model_module_version": "1.2.0",
     "model_name": "LayoutModel",
     "state": {
      "_model_module": "@jupyter-widgets/base",
      "_model_module_version": "1.2.0",
      "_model_name": "LayoutModel",
      "_view_count": null,
      "_view_module": "@jupyter-widgets/base",
      "_view_module_version": "1.2.0",
      "_view_name": "LayoutView",
      "align_content": null,
      "align_items": null,
      "align_self": null,
      "border": null,
      "bottom": null,
      "display": null,
      "flex": null,
      "flex_flow": null,
      "grid_area": null,
      "grid_auto_columns": null,
      "grid_auto_flow": null,
      "grid_auto_rows": null,
      "grid_column": null,
      "grid_gap": null,
      "grid_row": null,
      "grid_template_areas": null,
      "grid_template_columns": null,
      "grid_template_rows": null,
      "height": null,
      "justify_content": null,
      "justify_items": null,
      "left": null,
      "margin": null,
      "max_height": null,
      "max_width": null,
      "min_height": null,
      "min_width": null,
      "object_fit": null,
      "object_position": null,
      "order": null,
      "overflow": null,
      "overflow_x": null,
      "overflow_y": null,
      "padding": null,
      "right": null,
      "top": null,
      "visibility": null,
      "width": null
     }
    },
    "37b8dd0bcaed43d6acca994c6b89f0a1": {
     "model_module": "@jupyter-widgets/base",
     "model_module_version": "1.2.0",
     "model_name": "LayoutModel",
     "state": {
      "_model_module": "@jupyter-widgets/base",
      "_model_module_version": "1.2.0",
      "_model_name": "LayoutModel",
      "_view_count": null,
      "_view_module": "@jupyter-widgets/base",
      "_view_module_version": "1.2.0",
      "_view_name": "LayoutView",
      "align_content": null,
      "align_items": null,
      "align_self": null,
      "border": null,
      "bottom": null,
      "display": null,
      "flex": null,
      "flex_flow": null,
      "grid_area": null,
      "grid_auto_columns": null,
      "grid_auto_flow": null,
      "grid_auto_rows": null,
      "grid_column": null,
      "grid_gap": null,
      "grid_row": null,
      "grid_template_areas": null,
      "grid_template_columns": null,
      "grid_template_rows": null,
      "height": null,
      "justify_content": null,
      "justify_items": null,
      "left": null,
      "margin": null,
      "max_height": null,
      "max_width": null,
      "min_height": null,
      "min_width": null,
      "object_fit": null,
      "object_position": null,
      "order": null,
      "overflow": null,
      "overflow_x": null,
      "overflow_y": null,
      "padding": null,
      "right": null,
      "top": null,
      "visibility": null,
      "width": null
     }
    },
    "38ee8adcbfd74f6db63dbc8ffbf9e34c": {
     "model_module": "@jupyter-widgets/base",
     "model_module_version": "1.2.0",
     "model_name": "LayoutModel",
     "state": {
      "_model_module": "@jupyter-widgets/base",
      "_model_module_version": "1.2.0",
      "_model_name": "LayoutModel",
      "_view_count": null,
      "_view_module": "@jupyter-widgets/base",
      "_view_module_version": "1.2.0",
      "_view_name": "LayoutView",
      "align_content": null,
      "align_items": null,
      "align_self": null,
      "border": null,
      "bottom": null,
      "display": null,
      "flex": null,
      "flex_flow": null,
      "grid_area": null,
      "grid_auto_columns": null,
      "grid_auto_flow": null,
      "grid_auto_rows": null,
      "grid_column": null,
      "grid_gap": null,
      "grid_row": null,
      "grid_template_areas": null,
      "grid_template_columns": null,
      "grid_template_rows": null,
      "height": null,
      "justify_content": null,
      "justify_items": null,
      "left": null,
      "margin": null,
      "max_height": null,
      "max_width": null,
      "min_height": null,
      "min_width": null,
      "object_fit": null,
      "object_position": null,
      "order": null,
      "overflow": null,
      "overflow_x": null,
      "overflow_y": null,
      "padding": null,
      "right": null,
      "top": null,
      "visibility": null,
      "width": null
     }
    },
    "396c17fd14334f49a2ec76ff6c6085b2": {
     "model_module": "@jupyter-widgets/base",
     "model_module_version": "1.2.0",
     "model_name": "LayoutModel",
     "state": {
      "_model_module": "@jupyter-widgets/base",
      "_model_module_version": "1.2.0",
      "_model_name": "LayoutModel",
      "_view_count": null,
      "_view_module": "@jupyter-widgets/base",
      "_view_module_version": "1.2.0",
      "_view_name": "LayoutView",
      "align_content": null,
      "align_items": null,
      "align_self": null,
      "border": null,
      "bottom": null,
      "display": null,
      "flex": null,
      "flex_flow": null,
      "grid_area": null,
      "grid_auto_columns": null,
      "grid_auto_flow": null,
      "grid_auto_rows": null,
      "grid_column": null,
      "grid_gap": null,
      "grid_row": null,
      "grid_template_areas": null,
      "grid_template_columns": null,
      "grid_template_rows": null,
      "height": null,
      "justify_content": null,
      "justify_items": null,
      "left": null,
      "margin": null,
      "max_height": null,
      "max_width": null,
      "min_height": null,
      "min_width": null,
      "object_fit": null,
      "object_position": null,
      "order": null,
      "overflow": null,
      "overflow_x": null,
      "overflow_y": null,
      "padding": null,
      "right": null,
      "top": null,
      "visibility": null,
      "width": null
     }
    },
    "3bb415fde84148fa9ed218df365dc40d": {
     "model_module": "@jupyter-widgets/controls",
     "model_module_version": "1.5.0",
     "model_name": "HTMLModel",
     "state": {
      "_dom_classes": [],
      "_model_module": "@jupyter-widgets/controls",
      "_model_module_version": "1.5.0",
      "_model_name": "HTMLModel",
      "_view_count": null,
      "_view_module": "@jupyter-widgets/controls",
      "_view_module_version": "1.5.0",
      "_view_name": "HTMLView",
      "description": "",
      "description_tooltip": null,
      "layout": "IPY_MODEL_c53b964bdaae4eda860dee7bed4461d8",
      "placeholder": "​",
      "style": "IPY_MODEL_55da35b0d80643a2a5cd2b89b18c1f02",
      "value": "Downloading (…)lve/main/config.json: 100%"
     }
    },
    "3c12f34288a54a58b78ae62b69727c3b": {
     "model_module": "@jupyter-widgets/controls",
     "model_module_version": "1.5.0",
     "model_name": "HBoxModel",
     "state": {
      "_dom_classes": [],
      "_model_module": "@jupyter-widgets/controls",
      "_model_module_version": "1.5.0",
      "_model_name": "HBoxModel",
      "_view_count": null,
      "_view_module": "@jupyter-widgets/controls",
      "_view_module_version": "1.5.0",
      "_view_name": "HBoxView",
      "box_style": "",
      "children": [
       "IPY_MODEL_d542b2c115254f6ca9e095856ff85bf7",
       "IPY_MODEL_f097943b80d84759977c945a4b6bd9f1",
       "IPY_MODEL_981e2c29baa84264be9fd32fe0280a75"
      ],
      "layout": "IPY_MODEL_013424420b7e48e585c3a01bf5c32709"
     }
    },
    "3f5d3072e7b34e0ab043d47c9648161a": {
     "model_module": "@jupyter-widgets/controls",
     "model_module_version": "1.5.0",
     "model_name": "HTMLModel",
     "state": {
      "_dom_classes": [],
      "_model_module": "@jupyter-widgets/controls",
      "_model_module_version": "1.5.0",
      "_model_name": "HTMLModel",
      "_view_count": null,
      "_view_module": "@jupyter-widgets/controls",
      "_view_module_version": "1.5.0",
      "_view_name": "HTMLView",
      "description": "",
      "description_tooltip": null,
      "layout": "IPY_MODEL_38ee8adcbfd74f6db63dbc8ffbf9e34c",
      "placeholder": "​",
      "style": "IPY_MODEL_311de1992f26478bb3bdb056bcf212f5",
      "value": " 682k/682k [00:00&lt;00:00, 7.03MB/s]"
     }
    },
    "40cb303356944e78be1b77fcbeffdc32": {
     "model_module": "@jupyter-widgets/controls",
     "model_module_version": "1.5.0",
     "model_name": "DescriptionStyleModel",
     "state": {
      "_model_module": "@jupyter-widgets/controls",
      "_model_module_version": "1.5.0",
      "_model_name": "DescriptionStyleModel",
      "_view_count": null,
      "_view_module": "@jupyter-widgets/base",
      "_view_module_version": "1.2.0",
      "_view_name": "StyleView",
      "description_width": ""
     }
    },
    "429ff4c9354b4672b0c70e246dfad3b8": {
     "model_module": "@jupyter-widgets/controls",
     "model_module_version": "1.5.0",
     "model_name": "ProgressStyleModel",
     "state": {
      "_model_module": "@jupyter-widgets/controls",
      "_model_module_version": "1.5.0",
      "_model_name": "ProgressStyleModel",
      "_view_count": null,
      "_view_module": "@jupyter-widgets/base",
      "_view_module_version": "1.2.0",
      "_view_name": "StyleView",
      "bar_color": null,
      "description_width": ""
     }
    },
    "430bd7116476444f897c3d2984e1adb2": {
     "model_module": "@jupyter-widgets/controls",
     "model_module_version": "1.5.0",
     "model_name": "DescriptionStyleModel",
     "state": {
      "_model_module": "@jupyter-widgets/controls",
      "_model_module_version": "1.5.0",
      "_model_name": "DescriptionStyleModel",
      "_view_count": null,
      "_view_module": "@jupyter-widgets/base",
      "_view_module_version": "1.2.0",
      "_view_name": "StyleView",
      "description_width": ""
     }
    },
    "449129f0c7d942cbbf09df01fae30c45": {
     "model_module": "@jupyter-widgets/base",
     "model_module_version": "1.2.0",
     "model_name": "LayoutModel",
     "state": {
      "_model_module": "@jupyter-widgets/base",
      "_model_module_version": "1.2.0",
      "_model_name": "LayoutModel",
      "_view_count": null,
      "_view_module": "@jupyter-widgets/base",
      "_view_module_version": "1.2.0",
      "_view_name": "LayoutView",
      "align_content": null,
      "align_items": null,
      "align_self": null,
      "border": null,
      "bottom": null,
      "display": null,
      "flex": null,
      "flex_flow": null,
      "grid_area": null,
      "grid_auto_columns": null,
      "grid_auto_flow": null,
      "grid_auto_rows": null,
      "grid_column": null,
      "grid_gap": null,
      "grid_row": null,
      "grid_template_areas": null,
      "grid_template_columns": null,
      "grid_template_rows": null,
      "height": null,
      "justify_content": null,
      "justify_items": null,
      "left": null,
      "margin": null,
      "max_height": null,
      "max_width": null,
      "min_height": null,
      "min_width": null,
      "object_fit": null,
      "object_position": null,
      "order": null,
      "overflow": null,
      "overflow_x": null,
      "overflow_y": null,
      "padding": null,
      "right": null,
      "top": null,
      "visibility": null,
      "width": null
     }
    },
    "456f288b808348dcba743a24febc4fa1": {
     "model_module": "@jupyter-widgets/base",
     "model_module_version": "1.2.0",
     "model_name": "LayoutModel",
     "state": {
      "_model_module": "@jupyter-widgets/base",
      "_model_module_version": "1.2.0",
      "_model_name": "LayoutModel",
      "_view_count": null,
      "_view_module": "@jupyter-widgets/base",
      "_view_module_version": "1.2.0",
      "_view_name": "LayoutView",
      "align_content": null,
      "align_items": null,
      "align_self": null,
      "border": null,
      "bottom": null,
      "display": null,
      "flex": null,
      "flex_flow": null,
      "grid_area": null,
      "grid_auto_columns": null,
      "grid_auto_flow": null,
      "grid_auto_rows": null,
      "grid_column": null,
      "grid_gap": null,
      "grid_row": null,
      "grid_template_areas": null,
      "grid_template_columns": null,
      "grid_template_rows": null,
      "height": null,
      "justify_content": null,
      "justify_items": null,
      "left": null,
      "margin": null,
      "max_height": null,
      "max_width": null,
      "min_height": null,
      "min_width": null,
      "object_fit": null,
      "object_position": null,
      "order": null,
      "overflow": null,
      "overflow_x": null,
      "overflow_y": null,
      "padding": null,
      "right": null,
      "top": null,
      "visibility": null,
      "width": null
     }
    },
    "476f90c8ee0e47b493480f58de3a9d14": {
     "model_module": "@jupyter-widgets/controls",
     "model_module_version": "1.5.0",
     "model_name": "DescriptionStyleModel",
     "state": {
      "_model_module": "@jupyter-widgets/controls",
      "_model_module_version": "1.5.0",
      "_model_name": "DescriptionStyleModel",
      "_view_count": null,
      "_view_module": "@jupyter-widgets/base",
      "_view_module_version": "1.2.0",
      "_view_name": "StyleView",
      "description_width": ""
     }
    },
    "480e6d96d1c34fc8a9c4b3b754ce695a": {
     "model_module": "@jupyter-widgets/base",
     "model_module_version": "1.2.0",
     "model_name": "LayoutModel",
     "state": {
      "_model_module": "@jupyter-widgets/base",
      "_model_module_version": "1.2.0",
      "_model_name": "LayoutModel",
      "_view_count": null,
      "_view_module": "@jupyter-widgets/base",
      "_view_module_version": "1.2.0",
      "_view_name": "LayoutView",
      "align_content": null,
      "align_items": null,
      "align_self": null,
      "border": null,
      "bottom": null,
      "display": null,
      "flex": null,
      "flex_flow": null,
      "grid_area": null,
      "grid_auto_columns": null,
      "grid_auto_flow": null,
      "grid_auto_rows": null,
      "grid_column": null,
      "grid_gap": null,
      "grid_row": null,
      "grid_template_areas": null,
      "grid_template_columns": null,
      "grid_template_rows": null,
      "height": null,
      "justify_content": null,
      "justify_items": null,
      "left": null,
      "margin": null,
      "max_height": null,
      "max_width": null,
      "min_height": null,
      "min_width": null,
      "object_fit": null,
      "object_position": null,
      "order": null,
      "overflow": null,
      "overflow_x": null,
      "overflow_y": null,
      "padding": null,
      "right": null,
      "top": null,
      "visibility": null,
      "width": null
     }
    },
    "48ea3f08ecf74807b34a4e64bd5c3f21": {
     "model_module": "@jupyter-widgets/controls",
     "model_module_version": "1.5.0",
     "model_name": "ProgressStyleModel",
     "state": {
      "_model_module": "@jupyter-widgets/controls",
      "_model_module_version": "1.5.0",
      "_model_name": "ProgressStyleModel",
      "_view_count": null,
      "_view_module": "@jupyter-widgets/base",
      "_view_module_version": "1.2.0",
      "_view_name": "StyleView",
      "bar_color": null,
      "description_width": ""
     }
    },
    "4a64e26388854c20a31394bb5f350bed": {
     "model_module": "@jupyter-widgets/base",
     "model_module_version": "1.2.0",
     "model_name": "LayoutModel",
     "state": {
      "_model_module": "@jupyter-widgets/base",
      "_model_module_version": "1.2.0",
      "_model_name": "LayoutModel",
      "_view_count": null,
      "_view_module": "@jupyter-widgets/base",
      "_view_module_version": "1.2.0",
      "_view_name": "LayoutView",
      "align_content": null,
      "align_items": null,
      "align_self": null,
      "border": null,
      "bottom": null,
      "display": null,
      "flex": null,
      "flex_flow": null,
      "grid_area": null,
      "grid_auto_columns": null,
      "grid_auto_flow": null,
      "grid_auto_rows": null,
      "grid_column": null,
      "grid_gap": null,
      "grid_row": null,
      "grid_template_areas": null,
      "grid_template_columns": null,
      "grid_template_rows": null,
      "height": null,
      "justify_content": null,
      "justify_items": null,
      "left": null,
      "margin": null,
      "max_height": null,
      "max_width": null,
      "min_height": null,
      "min_width": null,
      "object_fit": null,
      "object_position": null,
      "order": null,
      "overflow": null,
      "overflow_x": null,
      "overflow_y": null,
      "padding": null,
      "right": null,
      "top": null,
      "visibility": null,
      "width": null
     }
    },
    "4bfe270ce56144f48a02f6f914782339": {
     "model_module": "@jupyter-widgets/base",
     "model_module_version": "1.2.0",
     "model_name": "LayoutModel",
     "state": {
      "_model_module": "@jupyter-widgets/base",
      "_model_module_version": "1.2.0",
      "_model_name": "LayoutModel",
      "_view_count": null,
      "_view_module": "@jupyter-widgets/base",
      "_view_module_version": "1.2.0",
      "_view_name": "LayoutView",
      "align_content": null,
      "align_items": null,
      "align_self": null,
      "border": null,
      "bottom": null,
      "display": null,
      "flex": null,
      "flex_flow": null,
      "grid_area": null,
      "grid_auto_columns": null,
      "grid_auto_flow": null,
      "grid_auto_rows": null,
      "grid_column": null,
      "grid_gap": null,
      "grid_row": null,
      "grid_template_areas": null,
      "grid_template_columns": null,
      "grid_template_rows": null,
      "height": null,
      "justify_content": null,
      "justify_items": null,
      "left": null,
      "margin": null,
      "max_height": null,
      "max_width": null,
      "min_height": null,
      "min_width": null,
      "object_fit": null,
      "object_position": null,
      "order": null,
      "overflow": null,
      "overflow_x": null,
      "overflow_y": null,
      "padding": null,
      "right": null,
      "top": null,
      "visibility": null,
      "width": null
     }
    },
    "4f315419c02549d18b18b7b64bdc6de3": {
     "model_module": "@jupyter-widgets/controls",
     "model_module_version": "1.5.0",
     "model_name": "HBoxModel",
     "state": {
      "_dom_classes": [],
      "_model_module": "@jupyter-widgets/controls",
      "_model_module_version": "1.5.0",
      "_model_name": "HBoxModel",
      "_view_count": null,
      "_view_module": "@jupyter-widgets/controls",
      "_view_module_version": "1.5.0",
      "_view_name": "HBoxView",
      "box_style": "",
      "children": [
       "IPY_MODEL_cc3debacb7ec4e9b90a9b2b54e66a31b",
       "IPY_MODEL_68b3d6ae5e8c45819b2affd9192d2f11",
       "IPY_MODEL_a1e977794a1042c688c7a07152afd654"
      ],
      "layout": "IPY_MODEL_7b692888d0dd4cfebd2bde402f01d3bb"
     }
    },
    "5015285808394a6983e4de3ff6fb5176": {
     "model_module": "@jupyter-widgets/base",
     "model_module_version": "1.2.0",
     "model_name": "LayoutModel",
     "state": {
      "_model_module": "@jupyter-widgets/base",
      "_model_module_version": "1.2.0",
      "_model_name": "LayoutModel",
      "_view_count": null,
      "_view_module": "@jupyter-widgets/base",
      "_view_module_version": "1.2.0",
      "_view_name": "LayoutView",
      "align_content": null,
      "align_items": null,
      "align_self": null,
      "border": null,
      "bottom": null,
      "display": null,
      "flex": null,
      "flex_flow": null,
      "grid_area": null,
      "grid_auto_columns": null,
      "grid_auto_flow": null,
      "grid_auto_rows": null,
      "grid_column": null,
      "grid_gap": null,
      "grid_row": null,
      "grid_template_areas": null,
      "grid_template_columns": null,
      "grid_template_rows": null,
      "height": null,
      "justify_content": null,
      "justify_items": null,
      "left": null,
      "margin": null,
      "max_height": null,
      "max_width": null,
      "min_height": null,
      "min_width": null,
      "object_fit": null,
      "object_position": null,
      "order": null,
      "overflow": null,
      "overflow_x": null,
      "overflow_y": null,
      "padding": null,
      "right": null,
      "top": null,
      "visibility": null,
      "width": null
     }
    },
    "5017d34ee62544eaa9dcc5dde9327e05": {
     "model_module": "@jupyter-widgets/base",
     "model_module_version": "1.2.0",
     "model_name": "LayoutModel",
     "state": {
      "_model_module": "@jupyter-widgets/base",
      "_model_module_version": "1.2.0",
      "_model_name": "LayoutModel",
      "_view_count": null,
      "_view_module": "@jupyter-widgets/base",
      "_view_module_version": "1.2.0",
      "_view_name": "LayoutView",
      "align_content": null,
      "align_items": null,
      "align_self": null,
      "border": null,
      "bottom": null,
      "display": null,
      "flex": null,
      "flex_flow": null,
      "grid_area": null,
      "grid_auto_columns": null,
      "grid_auto_flow": null,
      "grid_auto_rows": null,
      "grid_column": null,
      "grid_gap": null,
      "grid_row": null,
      "grid_template_areas": null,
      "grid_template_columns": null,
      "grid_template_rows": null,
      "height": null,
      "justify_content": null,
      "justify_items": null,
      "left": null,
      "margin": null,
      "max_height": null,
      "max_width": null,
      "min_height": null,
      "min_width": null,
      "object_fit": null,
      "object_position": null,
      "order": null,
      "overflow": null,
      "overflow_x": null,
      "overflow_y": null,
      "padding": null,
      "right": null,
      "top": null,
      "visibility": null,
      "width": null
     }
    },
    "5023b2e79e064f75b5606e3e11d81643": {
     "model_module": "@jupyter-widgets/base",
     "model_module_version": "1.2.0",
     "model_name": "LayoutModel",
     "state": {
      "_model_module": "@jupyter-widgets/base",
      "_model_module_version": "1.2.0",
      "_model_name": "LayoutModel",
      "_view_count": null,
      "_view_module": "@jupyter-widgets/base",
      "_view_module_version": "1.2.0",
      "_view_name": "LayoutView",
      "align_content": null,
      "align_items": null,
      "align_self": null,
      "border": null,
      "bottom": null,
      "display": null,
      "flex": null,
      "flex_flow": null,
      "grid_area": null,
      "grid_auto_columns": null,
      "grid_auto_flow": null,
      "grid_auto_rows": null,
      "grid_column": null,
      "grid_gap": null,
      "grid_row": null,
      "grid_template_areas": null,
      "grid_template_columns": null,
      "grid_template_rows": null,
      "height": null,
      "justify_content": null,
      "justify_items": null,
      "left": null,
      "margin": null,
      "max_height": null,
      "max_width": null,
      "min_height": null,
      "min_width": null,
      "object_fit": null,
      "object_position": null,
      "order": null,
      "overflow": null,
      "overflow_x": null,
      "overflow_y": null,
      "padding": null,
      "right": null,
      "top": null,
      "visibility": null,
      "width": null
     }
    },
    "53a266284e0041fb8ac12f8203665408": {
     "model_module": "@jupyter-widgets/controls",
     "model_module_version": "1.5.0",
     "model_name": "HTMLModel",
     "state": {
      "_dom_classes": [],
      "_model_module": "@jupyter-widgets/controls",
      "_model_module_version": "1.5.0",
      "_model_name": "HTMLModel",
      "_view_count": null,
      "_view_module": "@jupyter-widgets/controls",
      "_view_module_version": "1.5.0",
      "_view_name": "HTMLView",
      "description": "",
      "description_tooltip": null,
      "layout": "IPY_MODEL_37b8dd0bcaed43d6acca994c6b89f0a1",
      "placeholder": "​",
      "style": "IPY_MODEL_1884d5d253b145aab0723dfd1f2b96ba",
      "value": "Downloading pytorch_model.bin: 100%"
     }
    },
    "53de9d7e4fbe4d58a89309e27f312394": {
     "model_module": "@jupyter-widgets/base",
     "model_module_version": "1.2.0",
     "model_name": "LayoutModel",
     "state": {
      "_model_module": "@jupyter-widgets/base",
      "_model_module_version": "1.2.0",
      "_model_name": "LayoutModel",
      "_view_count": null,
      "_view_module": "@jupyter-widgets/base",
      "_view_module_version": "1.2.0",
      "_view_name": "LayoutView",
      "align_content": null,
      "align_items": null,
      "align_self": null,
      "border": null,
      "bottom": null,
      "display": null,
      "flex": null,
      "flex_flow": null,
      "grid_area": null,
      "grid_auto_columns": null,
      "grid_auto_flow": null,
      "grid_auto_rows": null,
      "grid_column": null,
      "grid_gap": null,
      "grid_row": null,
      "grid_template_areas": null,
      "grid_template_columns": null,
      "grid_template_rows": null,
      "height": null,
      "justify_content": null,
      "justify_items": null,
      "left": null,
      "margin": null,
      "max_height": null,
      "max_width": null,
      "min_height": null,
      "min_width": null,
      "object_fit": null,
      "object_position": null,
      "order": null,
      "overflow": null,
      "overflow_x": null,
      "overflow_y": null,
      "padding": null,
      "right": null,
      "top": null,
      "visibility": null,
      "width": null
     }
    },
    "55da35b0d80643a2a5cd2b89b18c1f02": {
     "model_module": "@jupyter-widgets/controls",
     "model_module_version": "1.5.0",
     "model_name": "DescriptionStyleModel",
     "state": {
      "_model_module": "@jupyter-widgets/controls",
      "_model_module_version": "1.5.0",
      "_model_name": "DescriptionStyleModel",
      "_view_count": null,
      "_view_module": "@jupyter-widgets/base",
      "_view_module_version": "1.2.0",
      "_view_name": "StyleView",
      "description_width": ""
     }
    },
    "5a18a782eb374943adb41d1cd453836d": {
     "model_module": "@jupyter-widgets/controls",
     "model_module_version": "1.5.0",
     "model_name": "DescriptionStyleModel",
     "state": {
      "_model_module": "@jupyter-widgets/controls",
      "_model_module_version": "1.5.0",
      "_model_name": "DescriptionStyleModel",
      "_view_count": null,
      "_view_module": "@jupyter-widgets/base",
      "_view_module_version": "1.2.0",
      "_view_name": "StyleView",
      "description_width": ""
     }
    },
    "5b66daee18934fc7ae3058ce1e984e4d": {
     "model_module": "@jupyter-widgets/base",
     "model_module_version": "1.2.0",
     "model_name": "LayoutModel",
     "state": {
      "_model_module": "@jupyter-widgets/base",
      "_model_module_version": "1.2.0",
      "_model_name": "LayoutModel",
      "_view_count": null,
      "_view_module": "@jupyter-widgets/base",
      "_view_module_version": "1.2.0",
      "_view_name": "LayoutView",
      "align_content": null,
      "align_items": null,
      "align_self": null,
      "border": null,
      "bottom": null,
      "display": null,
      "flex": null,
      "flex_flow": null,
      "grid_area": null,
      "grid_auto_columns": null,
      "grid_auto_flow": null,
      "grid_auto_rows": null,
      "grid_column": null,
      "grid_gap": null,
      "grid_row": null,
      "grid_template_areas": null,
      "grid_template_columns": null,
      "grid_template_rows": null,
      "height": null,
      "justify_content": null,
      "justify_items": null,
      "left": null,
      "margin": null,
      "max_height": null,
      "max_width": null,
      "min_height": null,
      "min_width": null,
      "object_fit": null,
      "object_position": null,
      "order": null,
      "overflow": null,
      "overflow_x": null,
      "overflow_y": null,
      "padding": null,
      "right": null,
      "top": null,
      "visibility": null,
      "width": null
     }
    },
    "5de1c5aacc0a47298fff93c86fc95e25": {
     "model_module": "@jupyter-widgets/controls",
     "model_module_version": "1.5.0",
     "model_name": "DescriptionStyleModel",
     "state": {
      "_model_module": "@jupyter-widgets/controls",
      "_model_module_version": "1.5.0",
      "_model_name": "DescriptionStyleModel",
      "_view_count": null,
      "_view_module": "@jupyter-widgets/base",
      "_view_module_version": "1.2.0",
      "_view_name": "StyleView",
      "description_width": ""
     }
    },
    "5f534f5e851243bfbf4fe34bbba78ede": {
     "model_module": "@jupyter-widgets/base",
     "model_module_version": "1.2.0",
     "model_name": "LayoutModel",
     "state": {
      "_model_module": "@jupyter-widgets/base",
      "_model_module_version": "1.2.0",
      "_model_name": "LayoutModel",
      "_view_count": null,
      "_view_module": "@jupyter-widgets/base",
      "_view_module_version": "1.2.0",
      "_view_name": "LayoutView",
      "align_content": null,
      "align_items": null,
      "align_self": null,
      "border": null,
      "bottom": null,
      "display": null,
      "flex": null,
      "flex_flow": null,
      "grid_area": null,
      "grid_auto_columns": null,
      "grid_auto_flow": null,
      "grid_auto_rows": null,
      "grid_column": null,
      "grid_gap": null,
      "grid_row": null,
      "grid_template_areas": null,
      "grid_template_columns": null,
      "grid_template_rows": null,
      "height": null,
      "justify_content": null,
      "justify_items": null,
      "left": null,
      "margin": null,
      "max_height": null,
      "max_width": null,
      "min_height": null,
      "min_width": null,
      "object_fit": null,
      "object_position": null,
      "order": null,
      "overflow": null,
      "overflow_x": null,
      "overflow_y": null,
      "padding": null,
      "right": null,
      "top": null,
      "visibility": null,
      "width": null
     }
    },
    "62c362a1fa5c4dceb79b4d45b1fa7f57": {
     "model_module": "@jupyter-widgets/base",
     "model_module_version": "1.2.0",
     "model_name": "LayoutModel",
     "state": {
      "_model_module": "@jupyter-widgets/base",
      "_model_module_version": "1.2.0",
      "_model_name": "LayoutModel",
      "_view_count": null,
      "_view_module": "@jupyter-widgets/base",
      "_view_module_version": "1.2.0",
      "_view_name": "LayoutView",
      "align_content": null,
      "align_items": null,
      "align_self": null,
      "border": null,
      "bottom": null,
      "display": null,
      "flex": null,
      "flex_flow": null,
      "grid_area": null,
      "grid_auto_columns": null,
      "grid_auto_flow": null,
      "grid_auto_rows": null,
      "grid_column": null,
      "grid_gap": null,
      "grid_row": null,
      "grid_template_areas": null,
      "grid_template_columns": null,
      "grid_template_rows": null,
      "height": null,
      "justify_content": null,
      "justify_items": null,
      "left": null,
      "margin": null,
      "max_height": null,
      "max_width": null,
      "min_height": null,
      "min_width": null,
      "object_fit": null,
      "object_position": null,
      "order": null,
      "overflow": null,
      "overflow_x": null,
      "overflow_y": null,
      "padding": null,
      "right": null,
      "top": null,
      "visibility": null,
      "width": null
     }
    },
    "634acda985d74e2ead2ffdfed51a53be": {
     "model_module": "@jupyter-widgets/controls",
     "model_module_version": "1.5.0",
     "model_name": "DescriptionStyleModel",
     "state": {
      "_model_module": "@jupyter-widgets/controls",
      "_model_module_version": "1.5.0",
      "_model_name": "DescriptionStyleModel",
      "_view_count": null,
      "_view_module": "@jupyter-widgets/base",
      "_view_module_version": "1.2.0",
      "_view_name": "StyleView",
      "description_width": ""
     }
    },
    "63a635525c2a4382999febc35dbebadc": {
     "model_module": "@jupyter-widgets/controls",
     "model_module_version": "1.5.0",
     "model_name": "HTMLModel",
     "state": {
      "_dom_classes": [],
      "_model_module": "@jupyter-widgets/controls",
      "_model_module_version": "1.5.0",
      "_model_name": "HTMLModel",
      "_view_count": null,
      "_view_module": "@jupyter-widgets/controls",
      "_view_module_version": "1.5.0",
      "_view_name": "HTMLView",
      "description": "",
      "description_tooltip": null,
      "layout": "IPY_MODEL_071de7efff714af484ffb5df7a4cb0c4",
      "placeholder": "​",
      "style": "IPY_MODEL_06a3fc005fef41d5af7fffd055bdb9a6",
      "value": "Downloading (…)solve/main/vocab.txt: 100%"
     }
    },
    "680764c341e444209c550f86b5040b19": {
     "model_module": "@jupyter-widgets/base",
     "model_module_version": "1.2.0",
     "model_name": "LayoutModel",
     "state": {
      "_model_module": "@jupyter-widgets/base",
      "_model_module_version": "1.2.0",
      "_model_name": "LayoutModel",
      "_view_count": null,
      "_view_module": "@jupyter-widgets/base",
      "_view_module_version": "1.2.0",
      "_view_name": "LayoutView",
      "align_content": null,
      "align_items": null,
      "align_self": null,
      "border": null,
      "bottom": null,
      "display": null,
      "flex": null,
      "flex_flow": null,
      "grid_area": null,
      "grid_auto_columns": null,
      "grid_auto_flow": null,
      "grid_auto_rows": null,
      "grid_column": null,
      "grid_gap": null,
      "grid_row": null,
      "grid_template_areas": null,
      "grid_template_columns": null,
      "grid_template_rows": null,
      "height": null,
      "justify_content": null,
      "justify_items": null,
      "left": null,
      "margin": null,
      "max_height": null,
      "max_width": null,
      "min_height": null,
      "min_width": null,
      "object_fit": null,
      "object_position": null,
      "order": null,
      "overflow": null,
      "overflow_x": null,
      "overflow_y": null,
      "padding": null,
      "right": null,
      "top": null,
      "visibility": null,
      "width": null
     }
    },
    "68b3d6ae5e8c45819b2affd9192d2f11": {
     "model_module": "@jupyter-widgets/controls",
     "model_module_version": "1.5.0",
     "model_name": "FloatProgressModel",
     "state": {
      "_dom_classes": [],
      "_model_module": "@jupyter-widgets/controls",
      "_model_module_version": "1.5.0",
      "_model_name": "FloatProgressModel",
      "_view_count": null,
      "_view_module": "@jupyter-widgets/controls",
      "_view_module_version": "1.5.0",
      "_view_name": "ProgressView",
      "bar_style": "success",
      "description": "",
      "description_tooltip": null,
      "layout": "IPY_MODEL_396c17fd14334f49a2ec76ff6c6085b2",
      "max": 359,
      "min": 0,
      "orientation": "horizontal",
      "style": "IPY_MODEL_df198cfad6cf4fa08ed41ad63215b66b",
      "value": 359
     }
    },
    "68c735fc8fdc4defb6a59bd7d1c20073": {
     "model_module": "@jupyter-widgets/base",
     "model_module_version": "1.2.0",
     "model_name": "LayoutModel",
     "state": {
      "_model_module": "@jupyter-widgets/base",
      "_model_module_version": "1.2.0",
      "_model_name": "LayoutModel",
      "_view_count": null,
      "_view_module": "@jupyter-widgets/base",
      "_view_module_version": "1.2.0",
      "_view_name": "LayoutView",
      "align_content": null,
      "align_items": null,
      "align_self": null,
      "border": null,
      "bottom": null,
      "display": null,
      "flex": null,
      "flex_flow": null,
      "grid_area": null,
      "grid_auto_columns": null,
      "grid_auto_flow": null,
      "grid_auto_rows": null,
      "grid_column": null,
      "grid_gap": null,
      "grid_row": null,
      "grid_template_areas": null,
      "grid_template_columns": null,
      "grid_template_rows": null,
      "height": null,
      "justify_content": null,
      "justify_items": null,
      "left": null,
      "margin": null,
      "max_height": null,
      "max_width": null,
      "min_height": null,
      "min_width": null,
      "object_fit": null,
      "object_position": null,
      "order": null,
      "overflow": null,
      "overflow_x": null,
      "overflow_y": null,
      "padding": null,
      "right": null,
      "top": null,
      "visibility": null,
      "width": null
     }
    },
    "69abce853e55471dbfa7c197dff997d6": {
     "model_module": "@jupyter-widgets/controls",
     "model_module_version": "1.5.0",
     "model_name": "HBoxModel",
     "state": {
      "_dom_classes": [],
      "_model_module": "@jupyter-widgets/controls",
      "_model_module_version": "1.5.0",
      "_model_name": "HBoxModel",
      "_view_count": null,
      "_view_module": "@jupyter-widgets/controls",
      "_view_module_version": "1.5.0",
      "_view_name": "HBoxView",
      "box_style": "",
      "children": [
       "IPY_MODEL_0d5c40c32efe44fbba385292587e8c03",
       "IPY_MODEL_e27304cfec00472791c1da03bed657de",
       "IPY_MODEL_cffa35f48c2f4125904ed701479d3597"
      ],
      "layout": "IPY_MODEL_4bfe270ce56144f48a02f6f914782339"
     }
    },
    "6a629e61f2b3423fa36698073b03f88b": {
     "model_module": "@jupyter-widgets/controls",
     "model_module_version": "1.5.0",
     "model_name": "HTMLModel",
     "state": {
      "_dom_classes": [],
      "_model_module": "@jupyter-widgets/controls",
      "_model_module_version": "1.5.0",
      "_model_name": "HTMLModel",
      "_view_count": null,
      "_view_module": "@jupyter-widgets/controls",
      "_view_module_version": "1.5.0",
      "_view_name": "HTMLView",
      "description": "",
      "description_tooltip": null,
      "layout": "IPY_MODEL_32daaa8697334896be2e1170b0068b2d",
      "placeholder": "​",
      "style": "IPY_MODEL_430bd7116476444f897c3d2984e1adb2",
      "value": " 533/533 [00:00&lt;00:00, 7.67kB/s]"
     }
    },
    "6b558fd909254f1aa1a45f1b1a56c9bc": {
     "model_module": "@jupyter-widgets/controls",
     "model_module_version": "1.5.0",
     "model_name": "DescriptionStyleModel",
     "state": {
      "_model_module": "@jupyter-widgets/controls",
      "_model_module_version": "1.5.0",
      "_model_name": "DescriptionStyleModel",
      "_view_count": null,
      "_view_module": "@jupyter-widgets/base",
      "_view_module_version": "1.2.0",
      "_view_name": "StyleView",
      "description_width": ""
     }
    },
    "6baec0bb89ac44bea0ce2d6df7b8de7d": {
     "model_module": "@jupyter-widgets/base",
     "model_module_version": "1.2.0",
     "model_name": "LayoutModel",
     "state": {
      "_model_module": "@jupyter-widgets/base",
      "_model_module_version": "1.2.0",
      "_model_name": "LayoutModel",
      "_view_count": null,
      "_view_module": "@jupyter-widgets/base",
      "_view_module_version": "1.2.0",
      "_view_name": "LayoutView",
      "align_content": null,
      "align_items": null,
      "align_self": null,
      "border": null,
      "bottom": null,
      "display": null,
      "flex": null,
      "flex_flow": null,
      "grid_area": null,
      "grid_auto_columns": null,
      "grid_auto_flow": null,
      "grid_auto_rows": null,
      "grid_column": null,
      "grid_gap": null,
      "grid_row": null,
      "grid_template_areas": null,
      "grid_template_columns": null,
      "grid_template_rows": null,
      "height": null,
      "justify_content": null,
      "justify_items": null,
      "left": null,
      "margin": null,
      "max_height": null,
      "max_width": null,
      "min_height": null,
      "min_width": null,
      "object_fit": null,
      "object_position": null,
      "order": null,
      "overflow": null,
      "overflow_x": null,
      "overflow_y": null,
      "padding": null,
      "right": null,
      "top": null,
      "visibility": null,
      "width": null
     }
    },
    "6c3887524c54483e94af2acafa7a0c49": {
     "model_module": "@jupyter-widgets/controls",
     "model_module_version": "1.5.0",
     "model_name": "HTMLModel",
     "state": {
      "_dom_classes": [],
      "_model_module": "@jupyter-widgets/controls",
      "_model_module_version": "1.5.0",
      "_model_name": "HTMLModel",
      "_view_count": null,
      "_view_module": "@jupyter-widgets/controls",
      "_view_module_version": "1.5.0",
      "_view_name": "HTMLView",
      "description": "",
      "description_tooltip": null,
      "layout": "IPY_MODEL_f078fa36dd1749588219ff58fb0551b0",
      "placeholder": "​",
      "style": "IPY_MODEL_7e802f4d12b042768e3b3da61dce945d",
      "value": " 3453/3453 [00:00&lt;00:00, 4653.80 examples/s]"
     }
    },
    "6ca1acbb400e47808d06bd33164da535": {
     "model_module": "@jupyter-widgets/controls",
     "model_module_version": "1.5.0",
     "model_name": "DescriptionStyleModel",
     "state": {
      "_model_module": "@jupyter-widgets/controls",
      "_model_module_version": "1.5.0",
      "_model_name": "DescriptionStyleModel",
      "_view_count": null,
      "_view_module": "@jupyter-widgets/base",
      "_view_module_version": "1.2.0",
      "_view_name": "StyleView",
      "description_width": ""
     }
    },
    "6f20cd4ce62c4c1abfe44a96623c0496": {
     "model_module": "@jupyter-widgets/controls",
     "model_module_version": "1.5.0",
     "model_name": "ProgressStyleModel",
     "state": {
      "_model_module": "@jupyter-widgets/controls",
      "_model_module_version": "1.5.0",
      "_model_name": "ProgressStyleModel",
      "_view_count": null,
      "_view_module": "@jupyter-widgets/base",
      "_view_module_version": "1.2.0",
      "_view_name": "StyleView",
      "bar_color": null,
      "description_width": ""
     }
    },
    "6f23ee252eaa40128f2c23e98377d16c": {
     "model_module": "@jupyter-widgets/controls",
     "model_module_version": "1.5.0",
     "model_name": "FloatProgressModel",
     "state": {
      "_dom_classes": [],
      "_model_module": "@jupyter-widgets/controls",
      "_model_module_version": "1.5.0",
      "_model_name": "FloatProgressModel",
      "_view_count": null,
      "_view_module": "@jupyter-widgets/controls",
      "_view_module_version": "1.5.0",
      "_view_name": "ProgressView",
      "bar_style": "success",
      "description": "",
      "description_tooltip": null,
      "layout": "IPY_MODEL_5015285808394a6983e4de3ff6fb5176",
      "max": 681890,
      "min": 0,
      "orientation": "horizontal",
      "style": "IPY_MODEL_cbe9061ae3234b0e98cfbdb46034bd1b",
      "value": 681890
     }
    },
    "70a6cb8e1daa488d8efffbdde1b0d467": {
     "model_module": "@jupyter-widgets/controls",
     "model_module_version": "1.5.0",
     "model_name": "DescriptionStyleModel",
     "state": {
      "_model_module": "@jupyter-widgets/controls",
      "_model_module_version": "1.5.0",
      "_model_name": "DescriptionStyleModel",
      "_view_count": null,
      "_view_module": "@jupyter-widgets/base",
      "_view_module_version": "1.2.0",
      "_view_name": "StyleView",
      "description_width": ""
     }
    },
    "79bb56876ecf4469aae3d68be4306244": {
     "model_module": "@jupyter-widgets/controls",
     "model_module_version": "1.5.0",
     "model_name": "HTMLModel",
     "state": {
      "_dom_classes": [],
      "_model_module": "@jupyter-widgets/controls",
      "_model_module_version": "1.5.0",
      "_model_name": "HTMLModel",
      "_view_count": null,
      "_view_module": "@jupyter-widgets/controls",
      "_view_module_version": "1.5.0",
      "_view_name": "HTMLView",
      "description": "",
      "description_tooltip": null,
      "layout": "IPY_MODEL_53de9d7e4fbe4d58a89309e27f312394",
      "placeholder": "​",
      "style": "IPY_MODEL_5de1c5aacc0a47298fff93c86fc95e25",
      "value": "Map: 100%"
     }
    },
    "7a8999b9edd047de9645c93745a422d1": {
     "model_module": "@jupyter-widgets/base",
     "model_module_version": "1.2.0",
     "model_name": "LayoutModel",
     "state": {
      "_model_module": "@jupyter-widgets/base",
      "_model_module_version": "1.2.0",
      "_model_name": "LayoutModel",
      "_view_count": null,
      "_view_module": "@jupyter-widgets/base",
      "_view_module_version": "1.2.0",
      "_view_name": "LayoutView",
      "align_content": null,
      "align_items": null,
      "align_self": null,
      "border": null,
      "bottom": null,
      "display": null,
      "flex": null,
      "flex_flow": null,
      "grid_area": null,
      "grid_auto_columns": null,
      "grid_auto_flow": null,
      "grid_auto_rows": null,
      "grid_column": null,
      "grid_gap": null,
      "grid_row": null,
      "grid_template_areas": null,
      "grid_template_columns": null,
      "grid_template_rows": null,
      "height": null,
      "justify_content": null,
      "justify_items": null,
      "left": null,
      "margin": null,
      "max_height": null,
      "max_width": null,
      "min_height": null,
      "min_width": null,
      "object_fit": null,
      "object_position": null,
      "order": null,
      "overflow": null,
      "overflow_x": null,
      "overflow_y": null,
      "padding": null,
      "right": null,
      "top": null,
      "visibility": null,
      "width": null
     }
    },
    "7b285133a52e49b3a3c88aa9c76cd2ed": {
     "model_module": "@jupyter-widgets/controls",
     "model_module_version": "1.5.0",
     "model_name": "ProgressStyleModel",
     "state": {
      "_model_module": "@jupyter-widgets/controls",
      "_model_module_version": "1.5.0",
      "_model_name": "ProgressStyleModel",
      "_view_count": null,
      "_view_module": "@jupyter-widgets/base",
      "_view_module_version": "1.2.0",
      "_view_name": "StyleView",
      "bar_color": null,
      "description_width": ""
     }
    },
    "7b692888d0dd4cfebd2bde402f01d3bb": {
     "model_module": "@jupyter-widgets/base",
     "model_module_version": "1.2.0",
     "model_name": "LayoutModel",
     "state": {
      "_model_module": "@jupyter-widgets/base",
      "_model_module_version": "1.2.0",
      "_model_name": "LayoutModel",
      "_view_count": null,
      "_view_module": "@jupyter-widgets/base",
      "_view_module_version": "1.2.0",
      "_view_name": "LayoutView",
      "align_content": null,
      "align_items": null,
      "align_self": null,
      "border": null,
      "bottom": null,
      "display": null,
      "flex": null,
      "flex_flow": null,
      "grid_area": null,
      "grid_auto_columns": null,
      "grid_auto_flow": null,
      "grid_auto_rows": null,
      "grid_column": null,
      "grid_gap": null,
      "grid_row": null,
      "grid_template_areas": null,
      "grid_template_columns": null,
      "grid_template_rows": null,
      "height": null,
      "justify_content": null,
      "justify_items": null,
      "left": null,
      "margin": null,
      "max_height": null,
      "max_width": null,
      "min_height": null,
      "min_width": null,
      "object_fit": null,
      "object_position": null,
      "order": null,
      "overflow": null,
      "overflow_x": null,
      "overflow_y": null,
      "padding": null,
      "right": null,
      "top": null,
      "visibility": null,
      "width": null
     }
    },
    "7e75bfa1c9a0481680abb79803cd47d6": {
     "model_module": "@jupyter-widgets/base",
     "model_module_version": "1.2.0",
     "model_name": "LayoutModel",
     "state": {
      "_model_module": "@jupyter-widgets/base",
      "_model_module_version": "1.2.0",
      "_model_name": "LayoutModel",
      "_view_count": null,
      "_view_module": "@jupyter-widgets/base",
      "_view_module_version": "1.2.0",
      "_view_name": "LayoutView",
      "align_content": null,
      "align_items": null,
      "align_self": null,
      "border": null,
      "bottom": null,
      "display": null,
      "flex": null,
      "flex_flow": null,
      "grid_area": null,
      "grid_auto_columns": null,
      "grid_auto_flow": null,
      "grid_auto_rows": null,
      "grid_column": null,
      "grid_gap": null,
      "grid_row": null,
      "grid_template_areas": null,
      "grid_template_columns": null,
      "grid_template_rows": null,
      "height": null,
      "justify_content": null,
      "justify_items": null,
      "left": null,
      "margin": null,
      "max_height": null,
      "max_width": null,
      "min_height": null,
      "min_width": null,
      "object_fit": null,
      "object_position": null,
      "order": null,
      "overflow": null,
      "overflow_x": null,
      "overflow_y": null,
      "padding": null,
      "right": null,
      "top": null,
      "visibility": null,
      "width": null
     }
    },
    "7e802f4d12b042768e3b3da61dce945d": {
     "model_module": "@jupyter-widgets/controls",
     "model_module_version": "1.5.0",
     "model_name": "DescriptionStyleModel",
     "state": {
      "_model_module": "@jupyter-widgets/controls",
      "_model_module_version": "1.5.0",
      "_model_name": "DescriptionStyleModel",
      "_view_count": null,
      "_view_module": "@jupyter-widgets/base",
      "_view_module_version": "1.2.0",
      "_view_name": "StyleView",
      "description_width": ""
     }
    },
    "7f906703b32042fc8bf0632326b681f5": {
     "model_module": "@jupyter-widgets/controls",
     "model_module_version": "1.5.0",
     "model_name": "HTMLModel",
     "state": {
      "_dom_classes": [],
      "_model_module": "@jupyter-widgets/controls",
      "_model_module_version": "1.5.0",
      "_model_name": "HTMLModel",
      "_view_count": null,
      "_view_module": "@jupyter-widgets/controls",
      "_view_module_version": "1.5.0",
      "_view_name": "HTMLView",
      "description": "",
      "description_tooltip": null,
      "layout": "IPY_MODEL_dbd76cc25ed44bb38490c3aa1660a225",
      "placeholder": "​",
      "style": "IPY_MODEL_6ca1acbb400e47808d06bd33164da535",
      "value": " 691/691 [05:15&lt;00:00,  2.15 examples/s]"
     }
    },
    "848051584e234e39affde69915fb6790": {
     "model_module": "@jupyter-widgets/controls",
     "model_module_version": "1.5.0",
     "model_name": "DescriptionStyleModel",
     "state": {
      "_model_module": "@jupyter-widgets/controls",
      "_model_module_version": "1.5.0",
      "_model_name": "DescriptionStyleModel",
      "_view_count": null,
      "_view_module": "@jupyter-widgets/base",
      "_view_module_version": "1.2.0",
      "_view_name": "StyleView",
      "description_width": ""
     }
    },
    "85569c3237e844f9a69682e5a5088e88": {
     "model_module": "@jupyter-widgets/controls",
     "model_module_version": "1.5.0",
     "model_name": "FloatProgressModel",
     "state": {
      "_dom_classes": [],
      "_model_module": "@jupyter-widgets/controls",
      "_model_module_version": "1.5.0",
      "_model_name": "FloatProgressModel",
      "_view_count": null,
      "_view_module": "@jupyter-widgets/controls",
      "_view_module_version": "1.5.0",
      "_view_name": "ProgressView",
      "bar_style": "success",
      "description": "",
      "description_tooltip": null,
      "layout": "IPY_MODEL_5b66daee18934fc7ae3058ce1e984e4d",
      "max": 439101405,
      "min": 0,
      "orientation": "horizontal",
      "style": "IPY_MODEL_22cea877a373458ea4f82185ca4c9247",
      "value": 439101405
     }
    },
    "8724a25b58ca4afda8eb99fb2854ed15": {
     "model_module": "@jupyter-widgets/controls",
     "model_module_version": "1.5.0",
     "model_name": "HTMLModel",
     "state": {
      "_dom_classes": [],
      "_model_module": "@jupyter-widgets/controls",
      "_model_module_version": "1.5.0",
      "_model_name": "HTMLModel",
      "_view_count": null,
      "_view_module": "@jupyter-widgets/controls",
      "_view_module_version": "1.5.0",
      "_view_name": "HTMLView",
      "description": "",
      "description_tooltip": null,
      "layout": "IPY_MODEL_efa92ed16a21402aa57a604667a7d735",
      "placeholder": "​",
      "style": "IPY_MODEL_1ccb0e6fc0744b9e9be9bbd1aa64554a",
      "value": "Downloading readme: 100%"
     }
    },
    "876f7cccb3064b679a624b2a62bb1cdd": {
     "model_module": "@jupyter-widgets/controls",
     "model_module_version": "1.5.0",
     "model_name": "HTMLModel",
     "state": {
      "_dom_classes": [],
      "_model_module": "@jupyter-widgets/controls",
      "_model_module_version": "1.5.0",
      "_model_name": "HTMLModel",
      "_view_count": null,
      "_view_module": "@jupyter-widgets/controls",
      "_view_module_version": "1.5.0",
      "_view_name": "HTMLView",
      "description": "",
      "description_tooltip": null,
      "layout": "IPY_MODEL_cb7d0c12f2ce420299713861ad365e24",
      "placeholder": "​",
      "style": "IPY_MODEL_89dbf16ec5294874a48a5b002777b84c",
      "value": " 6.04k/6.04k [00:00&lt;00:00, 83.3kB/s]"
     }
    },
    "8793600b9acc425aba11ca5cf5ee3de6": {
     "model_module": "@jupyter-widgets/base",
     "model_module_version": "1.2.0",
     "model_name": "LayoutModel",
     "state": {
      "_model_module": "@jupyter-widgets/base",
      "_model_module_version": "1.2.0",
      "_model_name": "LayoutModel",
      "_view_count": null,
      "_view_module": "@jupyter-widgets/base",
      "_view_module_version": "1.2.0",
      "_view_name": "LayoutView",
      "align_content": null,
      "align_items": null,
      "align_self": null,
      "border": null,
      "bottom": null,
      "display": null,
      "flex": null,
      "flex_flow": null,
      "grid_area": null,
      "grid_auto_columns": null,
      "grid_auto_flow": null,
      "grid_auto_rows": null,
      "grid_column": null,
      "grid_gap": null,
      "grid_row": null,
      "grid_template_areas": null,
      "grid_template_columns": null,
      "grid_template_rows": null,
      "height": null,
      "justify_content": null,
      "justify_items": null,
      "left": null,
      "margin": null,
      "max_height": null,
      "max_width": null,
      "min_height": null,
      "min_width": null,
      "object_fit": null,
      "object_position": null,
      "order": null,
      "overflow": null,
      "overflow_x": null,
      "overflow_y": null,
      "padding": null,
      "right": null,
      "top": null,
      "visibility": null,
      "width": null
     }
    },
    "89dbf16ec5294874a48a5b002777b84c": {
     "model_module": "@jupyter-widgets/controls",
     "model_module_version": "1.5.0",
     "model_name": "DescriptionStyleModel",
     "state": {
      "_model_module": "@jupyter-widgets/controls",
      "_model_module_version": "1.5.0",
      "_model_name": "DescriptionStyleModel",
      "_view_count": null,
      "_view_module": "@jupyter-widgets/base",
      "_view_module_version": "1.2.0",
      "_view_name": "StyleView",
      "description_width": ""
     }
    },
    "8a6e8152c7d84cca81cd7509f13277a5": {
     "model_module": "@jupyter-widgets/base",
     "model_module_version": "1.2.0",
     "model_name": "LayoutModel",
     "state": {
      "_model_module": "@jupyter-widgets/base",
      "_model_module_version": "1.2.0",
      "_model_name": "LayoutModel",
      "_view_count": null,
      "_view_module": "@jupyter-widgets/base",
      "_view_module_version": "1.2.0",
      "_view_name": "LayoutView",
      "align_content": null,
      "align_items": null,
      "align_self": null,
      "border": null,
      "bottom": null,
      "display": null,
      "flex": null,
      "flex_flow": null,
      "grid_area": null,
      "grid_auto_columns": null,
      "grid_auto_flow": null,
      "grid_auto_rows": null,
      "grid_column": null,
      "grid_gap": null,
      "grid_row": null,
      "grid_template_areas": null,
      "grid_template_columns": null,
      "grid_template_rows": null,
      "height": null,
      "justify_content": null,
      "justify_items": null,
      "left": null,
      "margin": null,
      "max_height": null,
      "max_width": null,
      "min_height": null,
      "min_width": null,
      "object_fit": null,
      "object_position": null,
      "order": null,
      "overflow": null,
      "overflow_x": null,
      "overflow_y": null,
      "padding": null,
      "right": null,
      "top": null,
      "visibility": null,
      "width": null
     }
    },
    "8d6ba7b9358443eab17abe875868316b": {
     "model_module": "@jupyter-widgets/base",
     "model_module_version": "1.2.0",
     "model_name": "LayoutModel",
     "state": {
      "_model_module": "@jupyter-widgets/base",
      "_model_module_version": "1.2.0",
      "_model_name": "LayoutModel",
      "_view_count": null,
      "_view_module": "@jupyter-widgets/base",
      "_view_module_version": "1.2.0",
      "_view_name": "LayoutView",
      "align_content": null,
      "align_items": null,
      "align_self": null,
      "border": null,
      "bottom": null,
      "display": null,
      "flex": null,
      "flex_flow": null,
      "grid_area": null,
      "grid_auto_columns": null,
      "grid_auto_flow": null,
      "grid_auto_rows": null,
      "grid_column": null,
      "grid_gap": null,
      "grid_row": null,
      "grid_template_areas": null,
      "grid_template_columns": null,
      "grid_template_rows": null,
      "height": null,
      "justify_content": null,
      "justify_items": null,
      "left": null,
      "margin": null,
      "max_height": null,
      "max_width": null,
      "min_height": null,
      "min_width": null,
      "object_fit": null,
      "object_position": null,
      "order": null,
      "overflow": null,
      "overflow_x": null,
      "overflow_y": null,
      "padding": null,
      "right": null,
      "top": null,
      "visibility": null,
      "width": null
     }
    },
    "8f9563c816804ea58e1319b8787a711c": {
     "model_module": "@jupyter-widgets/base",
     "model_module_version": "1.2.0",
     "model_name": "LayoutModel",
     "state": {
      "_model_module": "@jupyter-widgets/base",
      "_model_module_version": "1.2.0",
      "_model_name": "LayoutModel",
      "_view_count": null,
      "_view_module": "@jupyter-widgets/base",
      "_view_module_version": "1.2.0",
      "_view_name": "LayoutView",
      "align_content": null,
      "align_items": null,
      "align_self": null,
      "border": null,
      "bottom": null,
      "display": null,
      "flex": null,
      "flex_flow": null,
      "grid_area": null,
      "grid_auto_columns": null,
      "grid_auto_flow": null,
      "grid_auto_rows": null,
      "grid_column": null,
      "grid_gap": null,
      "grid_row": null,
      "grid_template_areas": null,
      "grid_template_columns": null,
      "grid_template_rows": null,
      "height": null,
      "justify_content": null,
      "justify_items": null,
      "left": null,
      "margin": null,
      "max_height": null,
      "max_width": null,
      "min_height": null,
      "min_width": null,
      "object_fit": null,
      "object_position": null,
      "order": null,
      "overflow": null,
      "overflow_x": null,
      "overflow_y": null,
      "padding": null,
      "right": null,
      "top": null,
      "visibility": null,
      "width": null
     }
    },
    "921d82d10d9849cdadb3fa7471e9b9ce": {
     "model_module": "@jupyter-widgets/controls",
     "model_module_version": "1.5.0",
     "model_name": "HTMLModel",
     "state": {
      "_dom_classes": [],
      "_model_module": "@jupyter-widgets/controls",
      "_model_module_version": "1.5.0",
      "_model_name": "HTMLModel",
      "_view_count": null,
      "_view_module": "@jupyter-widgets/controls",
      "_view_module_version": "1.5.0",
      "_view_name": "HTMLView",
      "description": "",
      "description_tooltip": null,
      "layout": "IPY_MODEL_05f98a1b36d04491a21f35881d6af348",
      "placeholder": "​",
      "style": "IPY_MODEL_2689e97148bb4cb5826be1c9ff011036",
      "value": "Downloading builder script: 100%"
     }
    },
    "92b12e2b40cb4c19816ae17727ec00c0": {
     "model_module": "@jupyter-widgets/controls",
     "model_module_version": "1.5.0",
     "model_name": "DescriptionStyleModel",
     "state": {
      "_model_module": "@jupyter-widgets/controls",
      "_model_module_version": "1.5.0",
      "_model_name": "DescriptionStyleModel",
      "_view_count": null,
      "_view_module": "@jupyter-widgets/base",
      "_view_module_version": "1.2.0",
      "_view_name": "StyleView",
      "description_width": ""
     }
    },
    "9334b053836d401db7d40c454ab366eb": {
     "model_module": "@jupyter-widgets/base",
     "model_module_version": "1.2.0",
     "model_name": "LayoutModel",
     "state": {
      "_model_module": "@jupyter-widgets/base",
      "_model_module_version": "1.2.0",
      "_model_name": "LayoutModel",
      "_view_count": null,
      "_view_module": "@jupyter-widgets/base",
      "_view_module_version": "1.2.0",
      "_view_name": "LayoutView",
      "align_content": null,
      "align_items": null,
      "align_self": null,
      "border": null,
      "bottom": null,
      "display": null,
      "flex": null,
      "flex_flow": null,
      "grid_area": null,
      "grid_auto_columns": null,
      "grid_auto_flow": null,
      "grid_auto_rows": null,
      "grid_column": null,
      "grid_gap": null,
      "grid_row": null,
      "grid_template_areas": null,
      "grid_template_columns": null,
      "grid_template_rows": null,
      "height": null,
      "justify_content": null,
      "justify_items": null,
      "left": null,
      "margin": null,
      "max_height": null,
      "max_width": null,
      "min_height": null,
      "min_width": null,
      "object_fit": null,
      "object_position": null,
      "order": null,
      "overflow": null,
      "overflow_x": null,
      "overflow_y": null,
      "padding": null,
      "right": null,
      "top": null,
      "visibility": null,
      "width": null
     }
    },
    "93af6f9c890c46698372174a340bf793": {
     "model_module": "@jupyter-widgets/base",
     "model_module_version": "1.2.0",
     "model_name": "LayoutModel",
     "state": {
      "_model_module": "@jupyter-widgets/base",
      "_model_module_version": "1.2.0",
      "_model_name": "LayoutModel",
      "_view_count": null,
      "_view_module": "@jupyter-widgets/base",
      "_view_module_version": "1.2.0",
      "_view_name": "LayoutView",
      "align_content": null,
      "align_items": null,
      "align_self": null,
      "border": null,
      "bottom": null,
      "display": null,
      "flex": null,
      "flex_flow": null,
      "grid_area": null,
      "grid_auto_columns": null,
      "grid_auto_flow": null,
      "grid_auto_rows": null,
      "grid_column": null,
      "grid_gap": null,
      "grid_row": null,
      "grid_template_areas": null,
      "grid_template_columns": null,
      "grid_template_rows": null,
      "height": null,
      "justify_content": null,
      "justify_items": null,
      "left": null,
      "margin": null,
      "max_height": null,
      "max_width": null,
      "min_height": null,
      "min_width": null,
      "object_fit": null,
      "object_position": null,
      "order": null,
      "overflow": null,
      "overflow_x": null,
      "overflow_y": null,
      "padding": null,
      "right": null,
      "top": null,
      "visibility": null,
      "width": null
     }
    },
    "981e2c29baa84264be9fd32fe0280a75": {
     "model_module": "@jupyter-widgets/controls",
     "model_module_version": "1.5.0",
     "model_name": "HTMLModel",
     "state": {
      "_dom_classes": [],
      "_model_module": "@jupyter-widgets/controls",
      "_model_module_version": "1.5.0",
      "_model_name": "HTMLModel",
      "_view_count": null,
      "_view_module": "@jupyter-widgets/controls",
      "_view_module_version": "1.5.0",
      "_view_name": "HTMLView",
      "description": "",
      "description_tooltip": null,
      "layout": "IPY_MODEL_4a64e26388854c20a31394bb5f350bed",
      "placeholder": "​",
      "style": "IPY_MODEL_40cb303356944e78be1b77fcbeffdc32",
      "value": " 13.7k/13.7k [00:00&lt;00:00, 161kB/s]"
     }
    },
    "98c4fec9f500426ca642500a115ff949": {
     "model_module": "@jupyter-widgets/controls",
     "model_module_version": "1.5.0",
     "model_name": "HTMLModel",
     "state": {
      "_dom_classes": [],
      "_model_module": "@jupyter-widgets/controls",
      "_model_module_version": "1.5.0",
      "_model_name": "HTMLModel",
      "_view_count": null,
      "_view_module": "@jupyter-widgets/controls",
      "_view_module_version": "1.5.0",
      "_view_name": "HTMLView",
      "description": "",
      "description_tooltip": null,
      "layout": "IPY_MODEL_ae4e864802ca415d893502ffe0a54c32",
      "placeholder": "​",
      "style": "IPY_MODEL_5a18a782eb374943adb41d1cd453836d",
      "value": " 8.88k/8.88k [00:00&lt;00:00, 139kB/s]"
     }
    },
    "a0629fc3fcc0406190f4d819b0568f3a": {
     "model_module": "@jupyter-widgets/controls",
     "model_module_version": "1.5.0",
     "model_name": "HTMLModel",
     "state": {
      "_dom_classes": [],
      "_model_module": "@jupyter-widgets/controls",
      "_model_module_version": "1.5.0",
      "_model_name": "HTMLModel",
      "_view_count": null,
      "_view_module": "@jupyter-widgets/controls",
      "_view_module_version": "1.5.0",
      "_view_name": "HTMLView",
      "description": "",
      "description_tooltip": null,
      "layout": "IPY_MODEL_ef3e5b1013d14afbaa1a3962e72dbb61",
      "placeholder": "​",
      "style": "IPY_MODEL_31bfe27b4e3c49689328776acdb65efa",
      "value": " 442M/442M [00:03&lt;00:00, 146MB/s]"
     }
    },
    "a19ce6e1a8ae4aab80ca95523a2c097f": {
     "model_module": "@jupyter-widgets/controls",
     "model_module_version": "1.5.0",
     "model_name": "ProgressStyleModel",
     "state": {
      "_model_module": "@jupyter-widgets/controls",
      "_model_module_version": "1.5.0",
      "_model_name": "ProgressStyleModel",
      "_view_count": null,
      "_view_module": "@jupyter-widgets/base",
      "_view_module_version": "1.2.0",
      "_view_name": "StyleView",
      "bar_color": null,
      "description_width": ""
     }
    },
    "a1e977794a1042c688c7a07152afd654": {
     "model_module": "@jupyter-widgets/controls",
     "model_module_version": "1.5.0",
     "model_name": "HTMLModel",
     "state": {
      "_dom_classes": [],
      "_model_module": "@jupyter-widgets/controls",
      "_model_module_version": "1.5.0",
      "_model_name": "HTMLModel",
      "_view_count": null,
      "_view_module": "@jupyter-widgets/controls",
      "_view_module_version": "1.5.0",
      "_view_name": "HTMLView",
      "description": "",
      "description_tooltip": null,
      "layout": "IPY_MODEL_1f15f84ba58b4680b542ced71c9b8516",
      "placeholder": "​",
      "style": "IPY_MODEL_af1429535f8a4feaa030c7ed94511d0b",
      "value": " 359/359 [00:00&lt;00:00, 10.1kB/s]"
     }
    },
    "a20c49046fc8443c90bb35f8fe0475f2": {
     "model_module": "@jupyter-widgets/base",
     "model_module_version": "1.2.0",
     "model_name": "LayoutModel",
     "state": {
      "_model_module": "@jupyter-widgets/base",
      "_model_module_version": "1.2.0",
      "_model_name": "LayoutModel",
      "_view_count": null,
      "_view_module": "@jupyter-widgets/base",
      "_view_module_version": "1.2.0",
      "_view_name": "LayoutView",
      "align_content": null,
      "align_items": null,
      "align_self": null,
      "border": null,
      "bottom": null,
      "display": null,
      "flex": null,
      "flex_flow": null,
      "grid_area": null,
      "grid_auto_columns": null,
      "grid_auto_flow": null,
      "grid_auto_rows": null,
      "grid_column": null,
      "grid_gap": null,
      "grid_row": null,
      "grid_template_areas": null,
      "grid_template_columns": null,
      "grid_template_rows": null,
      "height": null,
      "justify_content": null,
      "justify_items": null,
      "left": null,
      "margin": null,
      "max_height": null,
      "max_width": null,
      "min_height": null,
      "min_width": null,
      "object_fit": null,
      "object_position": null,
      "order": null,
      "overflow": null,
      "overflow_x": null,
      "overflow_y": null,
      "padding": null,
      "right": null,
      "top": null,
      "visibility": null,
      "width": null
     }
    },
    "a388667b0e134f78bd8b3b1345f42c6b": {
     "model_module": "@jupyter-widgets/controls",
     "model_module_version": "1.5.0",
     "model_name": "ProgressStyleModel",
     "state": {
      "_model_module": "@jupyter-widgets/controls",
      "_model_module_version": "1.5.0",
      "_model_name": "ProgressStyleModel",
      "_view_count": null,
      "_view_module": "@jupyter-widgets/base",
      "_view_module_version": "1.2.0",
      "_view_name": "StyleView",
      "bar_color": null,
      "description_width": ""
     }
    },
    "a86e32c1a61e48f0b339621dbfa109a2": {
     "model_module": "@jupyter-widgets/controls",
     "model_module_version": "1.5.0",
     "model_name": "HBoxModel",
     "state": {
      "_dom_classes": [],
      "_model_module": "@jupyter-widgets/controls",
      "_model_module_version": "1.5.0",
      "_model_name": "HBoxModel",
      "_view_count": null,
      "_view_module": "@jupyter-widgets/controls",
      "_view_module_version": "1.5.0",
      "_view_name": "HBoxView",
      "box_style": "",
      "children": [
       "IPY_MODEL_63a635525c2a4382999febc35dbebadc",
       "IPY_MODEL_2d388556b69447b9afafb76ac2914217",
       "IPY_MODEL_ac885cef871b41aa9dd384aa9a9e85ae"
      ],
      "layout": "IPY_MODEL_8793600b9acc425aba11ca5cf5ee3de6"
     }
    },
    "aa9a269933954726ae637f1019c06522": {
     "model_module": "@jupyter-widgets/controls",
     "model_module_version": "1.5.0",
     "model_name": "HBoxModel",
     "state": {
      "_dom_classes": [],
      "_model_module": "@jupyter-widgets/controls",
      "_model_module_version": "1.5.0",
      "_model_name": "HBoxModel",
      "_view_count": null,
      "_view_module": "@jupyter-widgets/controls",
      "_view_module_version": "1.5.0",
      "_view_name": "HBoxView",
      "box_style": "",
      "children": [
       "IPY_MODEL_d49b83eef0ad4a22823cb7ba743832b5",
       "IPY_MODEL_099be8fa449b427da7b807a54df020bc",
       "IPY_MODEL_bb37f6e1f7e948eca76659b1a0a0d04c"
      ],
      "layout": "IPY_MODEL_a20c49046fc8443c90bb35f8fe0475f2"
     }
    },
    "ac885cef871b41aa9dd384aa9a9e85ae": {
     "model_module": "@jupyter-widgets/controls",
     "model_module_version": "1.5.0",
     "model_name": "HTMLModel",
     "state": {
      "_dom_classes": [],
      "_model_module": "@jupyter-widgets/controls",
      "_model_module_version": "1.5.0",
      "_model_name": "HTMLModel",
      "_view_count": null,
      "_view_module": "@jupyter-widgets/controls",
      "_view_module_version": "1.5.0",
      "_view_name": "HTMLView",
      "description": "",
      "description_tooltip": null,
      "layout": "IPY_MODEL_456f288b808348dcba743a24febc4fa1",
      "placeholder": "​",
      "style": "IPY_MODEL_31802e05f9e8447dac80eae81c26921c",
      "value": " 226k/226k [00:00&lt;00:00, 2.33MB/s]"
     }
    },
    "ad418779183546e084d3752b79bb675d": {
     "model_module": "@jupyter-widgets/controls",
     "model_module_version": "1.5.0",
     "model_name": "HBoxModel",
     "state": {
      "_dom_classes": [],
      "_model_module": "@jupyter-widgets/controls",
      "_model_module_version": "1.5.0",
      "_model_name": "HBoxModel",
      "_view_count": null,
      "_view_module": "@jupyter-widgets/controls",
      "_view_module_version": "1.5.0",
      "_view_name": "HBoxView",
      "box_style": "",
      "children": [
       "IPY_MODEL_3bb415fde84148fa9ed218df365dc40d",
       "IPY_MODEL_0d1d37946ae147ba987febd5e94d084c",
       "IPY_MODEL_6a629e61f2b3423fa36698073b03f88b"
      ],
      "layout": "IPY_MODEL_5f534f5e851243bfbf4fe34bbba78ede"
     }
    },
    "ae4e864802ca415d893502ffe0a54c32": {
     "model_module": "@jupyter-widgets/base",
     "model_module_version": "1.2.0",
     "model_name": "LayoutModel",
     "state": {
      "_model_module": "@jupyter-widgets/base",
      "_model_module_version": "1.2.0",
      "_model_name": "LayoutModel",
      "_view_count": null,
      "_view_module": "@jupyter-widgets/base",
      "_view_module_version": "1.2.0",
      "_view_name": "LayoutView",
      "align_content": null,
      "align_items": null,
      "align_self": null,
      "border": null,
      "bottom": null,
      "display": null,
      "flex": null,
      "flex_flow": null,
      "grid_area": null,
      "grid_auto_columns": null,
      "grid_auto_flow": null,
      "grid_auto_rows": null,
      "grid_column": null,
      "grid_gap": null,
      "grid_row": null,
      "grid_template_areas": null,
      "grid_template_columns": null,
      "grid_template_rows": null,
      "height": null,
      "justify_content": null,
      "justify_items": null,
      "left": null,
      "margin": null,
      "max_height": null,
      "max_width": null,
      "min_height": null,
      "min_width": null,
      "object_fit": null,
      "object_position": null,
      "order": null,
      "overflow": null,
      "overflow_x": null,
      "overflow_y": null,
      "padding": null,
      "right": null,
      "top": null,
      "visibility": null,
      "width": null
     }
    },
    "af1429535f8a4feaa030c7ed94511d0b": {
     "model_module": "@jupyter-widgets/controls",
     "model_module_version": "1.5.0",
     "model_name": "DescriptionStyleModel",
     "state": {
      "_model_module": "@jupyter-widgets/controls",
      "_model_module_version": "1.5.0",
      "_model_name": "DescriptionStyleModel",
      "_view_count": null,
      "_view_module": "@jupyter-widgets/base",
      "_view_module_version": "1.2.0",
      "_view_name": "StyleView",
      "description_width": ""
     }
    },
    "b07530ed61f44d2c90e3c42347a99f44": {
     "model_module": "@jupyter-widgets/base",
     "model_module_version": "1.2.0",
     "model_name": "LayoutModel",
     "state": {
      "_model_module": "@jupyter-widgets/base",
      "_model_module_version": "1.2.0",
      "_model_name": "LayoutModel",
      "_view_count": null,
      "_view_module": "@jupyter-widgets/base",
      "_view_module_version": "1.2.0",
      "_view_name": "LayoutView",
      "align_content": null,
      "align_items": null,
      "align_self": null,
      "border": null,
      "bottom": null,
      "display": null,
      "flex": null,
      "flex_flow": null,
      "grid_area": null,
      "grid_auto_columns": null,
      "grid_auto_flow": null,
      "grid_auto_rows": null,
      "grid_column": null,
      "grid_gap": null,
      "grid_row": null,
      "grid_template_areas": null,
      "grid_template_columns": null,
      "grid_template_rows": null,
      "height": null,
      "justify_content": null,
      "justify_items": null,
      "left": null,
      "margin": null,
      "max_height": null,
      "max_width": null,
      "min_height": null,
      "min_width": null,
      "object_fit": null,
      "object_position": null,
      "order": null,
      "overflow": null,
      "overflow_x": null,
      "overflow_y": null,
      "padding": null,
      "right": null,
      "top": null,
      "visibility": null,
      "width": null
     }
    },
    "b2ae082ac02b4185a43da6f469c12b1d": {
     "model_module": "@jupyter-widgets/controls",
     "model_module_version": "1.5.0",
     "model_name": "FloatProgressModel",
     "state": {
      "_dom_classes": [],
      "_model_module": "@jupyter-widgets/controls",
      "_model_module_version": "1.5.0",
      "_model_name": "FloatProgressModel",
      "_view_count": null,
      "_view_module": "@jupyter-widgets/controls",
      "_view_module_version": "1.5.0",
      "_view_name": "ProgressView",
      "bar_style": "success",
      "description": "",
      "description_tooltip": null,
      "layout": "IPY_MODEL_ce13ed19c3974bc98eb2a805e37b002c",
      "max": 3453,
      "min": 0,
      "orientation": "horizontal",
      "style": "IPY_MODEL_e8d36bd76ef14bdca0fc35d5b0a33efe",
      "value": 3453
     }
    },
    "b643a68ea9ea4163b4bf3ed234923d0c": {
     "model_module": "@jupyter-widgets/base",
     "model_module_version": "1.2.0",
     "model_name": "LayoutModel",
     "state": {
      "_model_module": "@jupyter-widgets/base",
      "_model_module_version": "1.2.0",
      "_model_name": "LayoutModel",
      "_view_count": null,
      "_view_module": "@jupyter-widgets/base",
      "_view_module_version": "1.2.0",
      "_view_name": "LayoutView",
      "align_content": null,
      "align_items": null,
      "align_self": null,
      "border": null,
      "bottom": null,
      "display": null,
      "flex": null,
      "flex_flow": null,
      "grid_area": null,
      "grid_auto_columns": null,
      "grid_auto_flow": null,
      "grid_auto_rows": null,
      "grid_column": null,
      "grid_gap": null,
      "grid_row": null,
      "grid_template_areas": null,
      "grid_template_columns": null,
      "grid_template_rows": null,
      "height": null,
      "justify_content": null,
      "justify_items": null,
      "left": null,
      "margin": null,
      "max_height": null,
      "max_width": null,
      "min_height": null,
      "min_width": null,
      "object_fit": null,
      "object_position": null,
      "order": null,
      "overflow": null,
      "overflow_x": null,
      "overflow_y": null,
      "padding": null,
      "right": null,
      "top": null,
      "visibility": null,
      "width": null
     }
    },
    "b7b541afdf274e8aa5b85e105f5cf78f": {
     "model_module": "@jupyter-widgets/base",
     "model_module_version": "1.2.0",
     "model_name": "LayoutModel",
     "state": {
      "_model_module": "@jupyter-widgets/base",
      "_model_module_version": "1.2.0",
      "_model_name": "LayoutModel",
      "_view_count": null,
      "_view_module": "@jupyter-widgets/base",
      "_view_module_version": "1.2.0",
      "_view_name": "LayoutView",
      "align_content": null,
      "align_items": null,
      "align_self": null,
      "border": null,
      "bottom": null,
      "display": null,
      "flex": null,
      "flex_flow": null,
      "grid_area": null,
      "grid_auto_columns": null,
      "grid_auto_flow": null,
      "grid_auto_rows": null,
      "grid_column": null,
      "grid_gap": null,
      "grid_row": null,
      "grid_template_areas": null,
      "grid_template_columns": null,
      "grid_template_rows": null,
      "height": null,
      "justify_content": null,
      "justify_items": null,
      "left": null,
      "margin": null,
      "max_height": null,
      "max_width": null,
      "min_height": null,
      "min_width": null,
      "object_fit": null,
      "object_position": null,
      "order": null,
      "overflow": null,
      "overflow_x": null,
      "overflow_y": null,
      "padding": null,
      "right": null,
      "top": null,
      "visibility": null,
      "width": null
     }
    },
    "b801df14e02b4ac392c37b1eefba2ec0": {
     "model_module": "@jupyter-widgets/controls",
     "model_module_version": "1.5.0",
     "model_name": "HTMLModel",
     "state": {
      "_dom_classes": [],
      "_model_module": "@jupyter-widgets/controls",
      "_model_module_version": "1.5.0",
      "_model_name": "HTMLModel",
      "_view_count": null,
      "_view_module": "@jupyter-widgets/controls",
      "_view_module_version": "1.5.0",
      "_view_name": "HTMLView",
      "description": "",
      "description_tooltip": null,
      "layout": "IPY_MODEL_c1d2a7ec143a48429f722cbba9152967",
      "placeholder": "​",
      "style": "IPY_MODEL_92b12e2b40cb4c19816ae17727ec00c0",
      "value": "Generating train split: 100%"
     }
    },
    "bb37f6e1f7e948eca76659b1a0a0d04c": {
     "model_module": "@jupyter-widgets/controls",
     "model_module_version": "1.5.0",
     "model_name": "HTMLModel",
     "state": {
      "_dom_classes": [],
      "_model_module": "@jupyter-widgets/controls",
      "_model_module_version": "1.5.0",
      "_model_name": "HTMLModel",
      "_view_count": null,
      "_view_module": "@jupyter-widgets/controls",
      "_view_module_version": "1.5.0",
      "_view_name": "HTMLView",
      "description": "",
      "description_tooltip": null,
      "layout": "IPY_MODEL_b07530ed61f44d2c90e3c42347a99f44",
      "placeholder": "​",
      "style": "IPY_MODEL_e0c07fbc7c034cdd91b8d93a60f8ac9a",
      "value": " 2762/2762 [20:58&lt;00:00,  2.22 examples/s]"
     }
    },
    "bb55a62e64124473bef4b0da3034e7e6": {
     "model_module": "@jupyter-widgets/controls",
     "model_module_version": "1.5.0",
     "model_name": "HBoxModel",
     "state": {
      "_dom_classes": [],
      "_model_module": "@jupyter-widgets/controls",
      "_model_module_version": "1.5.0",
      "_model_name": "HBoxModel",
      "_view_count": null,
      "_view_module": "@jupyter-widgets/controls",
      "_view_module_version": "1.5.0",
      "_view_name": "HBoxView",
      "box_style": "",
      "children": [
       "IPY_MODEL_53a266284e0041fb8ac12f8203665408",
       "IPY_MODEL_85569c3237e844f9a69682e5a5088e88",
       "IPY_MODEL_2e13350f905a4f329fb44c79d30840a1"
      ],
      "layout": "IPY_MODEL_5017d34ee62544eaa9dcc5dde9327e05"
     }
    },
    "bbc5258c99344598ac03865213dd4f0f": {
     "model_module": "@jupyter-widgets/base",
     "model_module_version": "1.2.0",
     "model_name": "LayoutModel",
     "state": {
      "_model_module": "@jupyter-widgets/base",
      "_model_module_version": "1.2.0",
      "_model_name": "LayoutModel",
      "_view_count": null,
      "_view_module": "@jupyter-widgets/base",
      "_view_module_version": "1.2.0",
      "_view_name": "LayoutView",
      "align_content": null,
      "align_items": null,
      "align_self": null,
      "border": null,
      "bottom": null,
      "display": null,
      "flex": null,
      "flex_flow": null,
      "grid_area": null,
      "grid_auto_columns": null,
      "grid_auto_flow": null,
      "grid_auto_rows": null,
      "grid_column": null,
      "grid_gap": null,
      "grid_row": null,
      "grid_template_areas": null,
      "grid_template_columns": null,
      "grid_template_rows": null,
      "height": null,
      "justify_content": null,
      "justify_items": null,
      "left": null,
      "margin": null,
      "max_height": null,
      "max_width": null,
      "min_height": null,
      "min_width": null,
      "object_fit": null,
      "object_position": null,
      "order": null,
      "overflow": null,
      "overflow_x": null,
      "overflow_y": null,
      "padding": null,
      "right": null,
      "top": null,
      "visibility": null,
      "width": null
     }
    },
    "c1d2a7ec143a48429f722cbba9152967": {
     "model_module": "@jupyter-widgets/base",
     "model_module_version": "1.2.0",
     "model_name": "LayoutModel",
     "state": {
      "_model_module": "@jupyter-widgets/base",
      "_model_module_version": "1.2.0",
      "_model_name": "LayoutModel",
      "_view_count": null,
      "_view_module": "@jupyter-widgets/base",
      "_view_module_version": "1.2.0",
      "_view_name": "LayoutView",
      "align_content": null,
      "align_items": null,
      "align_self": null,
      "border": null,
      "bottom": null,
      "display": null,
      "flex": null,
      "flex_flow": null,
      "grid_area": null,
      "grid_auto_columns": null,
      "grid_auto_flow": null,
      "grid_auto_rows": null,
      "grid_column": null,
      "grid_gap": null,
      "grid_row": null,
      "grid_template_areas": null,
      "grid_template_columns": null,
      "grid_template_rows": null,
      "height": null,
      "justify_content": null,
      "justify_items": null,
      "left": null,
      "margin": null,
      "max_height": null,
      "max_width": null,
      "min_height": null,
      "min_width": null,
      "object_fit": null,
      "object_position": null,
      "order": null,
      "overflow": null,
      "overflow_x": null,
      "overflow_y": null,
      "padding": null,
      "right": null,
      "top": null,
      "visibility": null,
      "width": null
     }
    },
    "c414a90e37fb4d6d9f4d0bd2877afb63": {
     "model_module": "@jupyter-widgets/controls",
     "model_module_version": "1.5.0",
     "model_name": "DescriptionStyleModel",
     "state": {
      "_model_module": "@jupyter-widgets/controls",
      "_model_module_version": "1.5.0",
      "_model_name": "DescriptionStyleModel",
      "_view_count": null,
      "_view_module": "@jupyter-widgets/base",
      "_view_module_version": "1.2.0",
      "_view_name": "StyleView",
      "description_width": ""
     }
    },
    "c53b964bdaae4eda860dee7bed4461d8": {
     "model_module": "@jupyter-widgets/base",
     "model_module_version": "1.2.0",
     "model_name": "LayoutModel",
     "state": {
      "_model_module": "@jupyter-widgets/base",
      "_model_module_version": "1.2.0",
      "_model_name": "LayoutModel",
      "_view_count": null,
      "_view_module": "@jupyter-widgets/base",
      "_view_module_version": "1.2.0",
      "_view_name": "LayoutView",
      "align_content": null,
      "align_items": null,
      "align_self": null,
      "border": null,
      "bottom": null,
      "display": null,
      "flex": null,
      "flex_flow": null,
      "grid_area": null,
      "grid_auto_columns": null,
      "grid_auto_flow": null,
      "grid_auto_rows": null,
      "grid_column": null,
      "grid_gap": null,
      "grid_row": null,
      "grid_template_areas": null,
      "grid_template_columns": null,
      "grid_template_rows": null,
      "height": null,
      "justify_content": null,
      "justify_items": null,
      "left": null,
      "margin": null,
      "max_height": null,
      "max_width": null,
      "min_height": null,
      "min_width": null,
      "object_fit": null,
      "object_position": null,
      "order": null,
      "overflow": null,
      "overflow_x": null,
      "overflow_y": null,
      "padding": null,
      "right": null,
      "top": null,
      "visibility": null,
      "width": null
     }
    },
    "ca5430f03fdc408d8e853405a8710e75": {
     "model_module": "@jupyter-widgets/controls",
     "model_module_version": "1.5.0",
     "model_name": "HBoxModel",
     "state": {
      "_dom_classes": [],
      "_model_module": "@jupyter-widgets/controls",
      "_model_module_version": "1.5.0",
      "_model_name": "HBoxModel",
      "_view_count": null,
      "_view_module": "@jupyter-widgets/controls",
      "_view_module_version": "1.5.0",
      "_view_name": "HBoxView",
      "box_style": "",
      "children": [
       "IPY_MODEL_8724a25b58ca4afda8eb99fb2854ed15",
       "IPY_MODEL_0b392aac181b4047bcbabf467e98621a",
       "IPY_MODEL_98c4fec9f500426ca642500a115ff949"
      ],
      "layout": "IPY_MODEL_480e6d96d1c34fc8a9c4b3b754ce695a"
     }
    },
    "cb7d0c12f2ce420299713861ad365e24": {
     "model_module": "@jupyter-widgets/base",
     "model_module_version": "1.2.0",
     "model_name": "LayoutModel",
     "state": {
      "_model_module": "@jupyter-widgets/base",
      "_model_module_version": "1.2.0",
      "_model_name": "LayoutModel",
      "_view_count": null,
      "_view_module": "@jupyter-widgets/base",
      "_view_module_version": "1.2.0",
      "_view_name": "LayoutView",
      "align_content": null,
      "align_items": null,
      "align_self": null,
      "border": null,
      "bottom": null,
      "display": null,
      "flex": null,
      "flex_flow": null,
      "grid_area": null,
      "grid_auto_columns": null,
      "grid_auto_flow": null,
      "grid_auto_rows": null,
      "grid_column": null,
      "grid_gap": null,
      "grid_row": null,
      "grid_template_areas": null,
      "grid_template_columns": null,
      "grid_template_rows": null,
      "height": null,
      "justify_content": null,
      "justify_items": null,
      "left": null,
      "margin": null,
      "max_height": null,
      "max_width": null,
      "min_height": null,
      "min_width": null,
      "object_fit": null,
      "object_position": null,
      "order": null,
      "overflow": null,
      "overflow_x": null,
      "overflow_y": null,
      "padding": null,
      "right": null,
      "top": null,
      "visibility": null,
      "width": null
     }
    },
    "cbe9061ae3234b0e98cfbdb46034bd1b": {
     "model_module": "@jupyter-widgets/controls",
     "model_module_version": "1.5.0",
     "model_name": "ProgressStyleModel",
     "state": {
      "_model_module": "@jupyter-widgets/controls",
      "_model_module_version": "1.5.0",
      "_model_name": "ProgressStyleModel",
      "_view_count": null,
      "_view_module": "@jupyter-widgets/base",
      "_view_module_version": "1.2.0",
      "_view_name": "StyleView",
      "bar_color": null,
      "description_width": ""
     }
    },
    "cc3debacb7ec4e9b90a9b2b54e66a31b": {
     "model_module": "@jupyter-widgets/controls",
     "model_module_version": "1.5.0",
     "model_name": "HTMLModel",
     "state": {
      "_dom_classes": [],
      "_model_module": "@jupyter-widgets/controls",
      "_model_module_version": "1.5.0",
      "_model_name": "HTMLModel",
      "_view_count": null,
      "_view_module": "@jupyter-widgets/controls",
      "_view_module_version": "1.5.0",
      "_view_name": "HTMLView",
      "description": "",
      "description_tooltip": null,
      "layout": "IPY_MODEL_5023b2e79e064f75b5606e3e11d81643",
      "placeholder": "​",
      "style": "IPY_MODEL_d2d3707aa4e149749e00b556d7c2a8a0",
      "value": "Downloading (…)lve/main/config.json: 100%"
     }
    },
    "ce13ed19c3974bc98eb2a805e37b002c": {
     "model_module": "@jupyter-widgets/base",
     "model_module_version": "1.2.0",
     "model_name": "LayoutModel",
     "state": {
      "_model_module": "@jupyter-widgets/base",
      "_model_module_version": "1.2.0",
      "_model_name": "LayoutModel",
      "_view_count": null,
      "_view_module": "@jupyter-widgets/base",
      "_view_module_version": "1.2.0",
      "_view_name": "LayoutView",
      "align_content": null,
      "align_items": null,
      "align_self": null,
      "border": null,
      "bottom": null,
      "display": null,
      "flex": null,
      "flex_flow": null,
      "grid_area": null,
      "grid_auto_columns": null,
      "grid_auto_flow": null,
      "grid_auto_rows": null,
      "grid_column": null,
      "grid_gap": null,
      "grid_row": null,
      "grid_template_areas": null,
      "grid_template_columns": null,
      "grid_template_rows": null,
      "height": null,
      "justify_content": null,
      "justify_items": null,
      "left": null,
      "margin": null,
      "max_height": null,
      "max_width": null,
      "min_height": null,
      "min_width": null,
      "object_fit": null,
      "object_position": null,
      "order": null,
      "overflow": null,
      "overflow_x": null,
      "overflow_y": null,
      "padding": null,
      "right": null,
      "top": null,
      "visibility": null,
      "width": null
     }
    },
    "cffa35f48c2f4125904ed701479d3597": {
     "model_module": "@jupyter-widgets/controls",
     "model_module_version": "1.5.0",
     "model_name": "HTMLModel",
     "state": {
      "_dom_classes": [],
      "_model_module": "@jupyter-widgets/controls",
      "_model_module_version": "1.5.0",
      "_model_name": "HTMLModel",
      "_view_count": null,
      "_view_module": "@jupyter-widgets/controls",
      "_view_module_version": "1.5.0",
      "_view_name": "HTMLView",
      "description": "",
      "description_tooltip": null,
      "layout": "IPY_MODEL_f689155a25ac4a138e7a00d23808fe2d",
      "placeholder": "​",
      "style": "IPY_MODEL_848051584e234e39affde69915fb6790",
      "value": " 3453/3453 [00:01&lt;00:00, 3509.42 examples/s]"
     }
    },
    "d2d3707aa4e149749e00b556d7c2a8a0": {
     "model_module": "@jupyter-widgets/controls",
     "model_module_version": "1.5.0",
     "model_name": "DescriptionStyleModel",
     "state": {
      "_model_module": "@jupyter-widgets/controls",
      "_model_module_version": "1.5.0",
      "_model_name": "DescriptionStyleModel",
      "_view_count": null,
      "_view_module": "@jupyter-widgets/base",
      "_view_module_version": "1.2.0",
      "_view_name": "StyleView",
      "description_width": ""
     }
    },
    "d49b83eef0ad4a22823cb7ba743832b5": {
     "model_module": "@jupyter-widgets/controls",
     "model_module_version": "1.5.0",
     "model_name": "HTMLModel",
     "state": {
      "_dom_classes": [],
      "_model_module": "@jupyter-widgets/controls",
      "_model_module_version": "1.5.0",
      "_model_name": "HTMLModel",
      "_view_count": null,
      "_view_module": "@jupyter-widgets/controls",
      "_view_module_version": "1.5.0",
      "_view_name": "HTMLView",
      "description": "",
      "description_tooltip": null,
      "layout": "IPY_MODEL_7e75bfa1c9a0481680abb79803cd47d6",
      "placeholder": "​",
      "style": "IPY_MODEL_476f90c8ee0e47b493480f58de3a9d14",
      "value": "Map: 100%"
     }
    },
    "d542b2c115254f6ca9e095856ff85bf7": {
     "model_module": "@jupyter-widgets/controls",
     "model_module_version": "1.5.0",
     "model_name": "HTMLModel",
     "state": {
      "_dom_classes": [],
      "_model_module": "@jupyter-widgets/controls",
      "_model_module_version": "1.5.0",
      "_model_name": "HTMLModel",
      "_view_count": null,
      "_view_module": "@jupyter-widgets/controls",
      "_view_module_version": "1.5.0",
      "_view_name": "HTMLView",
      "description": "",
      "description_tooltip": null,
      "layout": "IPY_MODEL_680764c341e444209c550f86b5040b19",
      "placeholder": "​",
      "style": "IPY_MODEL_70a6cb8e1daa488d8efffbdde1b0d467",
      "value": "Downloading metadata: 100%"
     }
    },
    "dbd76cc25ed44bb38490c3aa1660a225": {
     "model_module": "@jupyter-widgets/base",
     "model_module_version": "1.2.0",
     "model_name": "LayoutModel",
     "state": {
      "_model_module": "@jupyter-widgets/base",
      "_model_module_version": "1.2.0",
      "_model_name": "LayoutModel",
      "_view_count": null,
      "_view_module": "@jupyter-widgets/base",
      "_view_module_version": "1.2.0",
      "_view_name": "LayoutView",
      "align_content": null,
      "align_items": null,
      "align_self": null,
      "border": null,
      "bottom": null,
      "display": null,
      "flex": null,
      "flex_flow": null,
      "grid_area": null,
      "grid_auto_columns": null,
      "grid_auto_flow": null,
      "grid_auto_rows": null,
      "grid_column": null,
      "grid_gap": null,
      "grid_row": null,
      "grid_template_areas": null,
      "grid_template_columns": null,
      "grid_template_rows": null,
      "height": null,
      "justify_content": null,
      "justify_items": null,
      "left": null,
      "margin": null,
      "max_height": null,
      "max_width": null,
      "min_height": null,
      "min_width": null,
      "object_fit": null,
      "object_position": null,
      "order": null,
      "overflow": null,
      "overflow_x": null,
      "overflow_y": null,
      "padding": null,
      "right": null,
      "top": null,
      "visibility": null,
      "width": null
     }
    },
    "de6f65c2870148019f60a882eb58e37b": {
     "model_module": "@jupyter-widgets/controls",
     "model_module_version": "1.5.0",
     "model_name": "FloatProgressModel",
     "state": {
      "_dom_classes": [],
      "_model_module": "@jupyter-widgets/controls",
      "_model_module_version": "1.5.0",
      "_model_name": "FloatProgressModel",
      "_view_count": null,
      "_view_module": "@jupyter-widgets/controls",
      "_view_module_version": "1.5.0",
      "_view_name": "ProgressView",
      "bar_style": "success",
      "description": "",
      "description_tooltip": null,
      "layout": "IPY_MODEL_8f9563c816804ea58e1319b8787a711c",
      "max": 3453,
      "min": 0,
      "orientation": "horizontal",
      "style": "IPY_MODEL_429ff4c9354b4672b0c70e246dfad3b8",
      "value": 3453
     }
    },
    "df198cfad6cf4fa08ed41ad63215b66b": {
     "model_module": "@jupyter-widgets/controls",
     "model_module_version": "1.5.0",
     "model_name": "ProgressStyleModel",
     "state": {
      "_model_module": "@jupyter-widgets/controls",
      "_model_module_version": "1.5.0",
      "_model_name": "ProgressStyleModel",
      "_view_count": null,
      "_view_module": "@jupyter-widgets/base",
      "_view_module_version": "1.2.0",
      "_view_name": "StyleView",
      "bar_color": null,
      "description_width": ""
     }
    },
    "e0c07fbc7c034cdd91b8d93a60f8ac9a": {
     "model_module": "@jupyter-widgets/controls",
     "model_module_version": "1.5.0",
     "model_name": "DescriptionStyleModel",
     "state": {
      "_model_module": "@jupyter-widgets/controls",
      "_model_module_version": "1.5.0",
      "_model_name": "DescriptionStyleModel",
      "_view_count": null,
      "_view_module": "@jupyter-widgets/base",
      "_view_module_version": "1.2.0",
      "_view_name": "StyleView",
      "description_width": ""
     }
    },
    "e1cd358b076f41d2a9a229cdc38b371a": {
     "model_module": "@jupyter-widgets/base",
     "model_module_version": "1.2.0",
     "model_name": "LayoutModel",
     "state": {
      "_model_module": "@jupyter-widgets/base",
      "_model_module_version": "1.2.0",
      "_model_name": "LayoutModel",
      "_view_count": null,
      "_view_module": "@jupyter-widgets/base",
      "_view_module_version": "1.2.0",
      "_view_name": "LayoutView",
      "align_content": null,
      "align_items": null,
      "align_self": null,
      "border": null,
      "bottom": null,
      "display": null,
      "flex": null,
      "flex_flow": null,
      "grid_area": null,
      "grid_auto_columns": null,
      "grid_auto_flow": null,
      "grid_auto_rows": null,
      "grid_column": null,
      "grid_gap": null,
      "grid_row": null,
      "grid_template_areas": null,
      "grid_template_columns": null,
      "grid_template_rows": null,
      "height": null,
      "justify_content": null,
      "justify_items": null,
      "left": null,
      "margin": null,
      "max_height": null,
      "max_width": null,
      "min_height": null,
      "min_width": null,
      "object_fit": null,
      "object_position": null,
      "order": null,
      "overflow": null,
      "overflow_x": null,
      "overflow_y": null,
      "padding": null,
      "right": null,
      "top": null,
      "visibility": null,
      "width": null
     }
    },
    "e27304cfec00472791c1da03bed657de": {
     "model_module": "@jupyter-widgets/controls",
     "model_module_version": "1.5.0",
     "model_name": "FloatProgressModel",
     "state": {
      "_dom_classes": [],
      "_model_module": "@jupyter-widgets/controls",
      "_model_module_version": "1.5.0",
      "_model_name": "FloatProgressModel",
      "_view_count": null,
      "_view_module": "@jupyter-widgets/controls",
      "_view_module_version": "1.5.0",
      "_view_name": "ProgressView",
      "bar_style": "success",
      "description": "",
      "description_tooltip": null,
      "layout": "IPY_MODEL_023c02047e264699a0a81d92e36f14ce",
      "max": 3453,
      "min": 0,
      "orientation": "horizontal",
      "style": "IPY_MODEL_a388667b0e134f78bd8b3b1345f42c6b",
      "value": 3453
     }
    },
    "e47b5f6dfa6849828bb7ca90b3235e65": {
     "model_module": "@jupyter-widgets/controls",
     "model_module_version": "1.5.0",
     "model_name": "ProgressStyleModel",
     "state": {
      "_model_module": "@jupyter-widgets/controls",
      "_model_module_version": "1.5.0",
      "_model_name": "ProgressStyleModel",
      "_view_count": null,
      "_view_module": "@jupyter-widgets/base",
      "_view_module_version": "1.2.0",
      "_view_name": "StyleView",
      "bar_color": null,
      "description_width": ""
     }
    },
    "e663ce9411ba459bb833c7779f203810": {
     "model_module": "@jupyter-widgets/controls",
     "model_module_version": "1.5.0",
     "model_name": "FloatProgressModel",
     "state": {
      "_dom_classes": [],
      "_model_module": "@jupyter-widgets/controls",
      "_model_module_version": "1.5.0",
      "_model_name": "FloatProgressModel",
      "_view_count": null,
      "_view_module": "@jupyter-widgets/controls",
      "_view_module_version": "1.5.0",
      "_view_name": "ProgressView",
      "bar_style": "success",
      "description": "",
      "description_tooltip": null,
      "layout": "IPY_MODEL_016555a8de3f487ebba21c6d2c76b76c",
      "max": 441551705,
      "min": 0,
      "orientation": "horizontal",
      "style": "IPY_MODEL_6f20cd4ce62c4c1abfe44a96623c0496",
      "value": 441551705
     }
    },
    "e6be2bee5a40498389baaa1091cdb565": {
     "model_module": "@jupyter-widgets/controls",
     "model_module_version": "1.5.0",
     "model_name": "DescriptionStyleModel",
     "state": {
      "_model_module": "@jupyter-widgets/controls",
      "_model_module_version": "1.5.0",
      "_model_name": "DescriptionStyleModel",
      "_view_count": null,
      "_view_module": "@jupyter-widgets/base",
      "_view_module_version": "1.2.0",
      "_view_name": "StyleView",
      "description_width": ""
     }
    },
    "e7088673ae6e4b409c64a68e83bd36eb": {
     "model_module": "@jupyter-widgets/controls",
     "model_module_version": "1.5.0",
     "model_name": "HTMLModel",
     "state": {
      "_dom_classes": [],
      "_model_module": "@jupyter-widgets/controls",
      "_model_module_version": "1.5.0",
      "_model_name": "HTMLModel",
      "_view_count": null,
      "_view_module": "@jupyter-widgets/controls",
      "_view_module_version": "1.5.0",
      "_view_name": "HTMLView",
      "description": "",
      "description_tooltip": null,
      "layout": "IPY_MODEL_ebd6dad24b1c48d3916c660935fdafdf",
      "placeholder": "​",
      "style": "IPY_MODEL_13ae4cb864d24b7ebfe929a1728e5c1b",
      "value": "Map: 100%"
     }
    },
    "e7a7279d28e64e789469ac10f607dae1": {
     "model_module": "@jupyter-widgets/controls",
     "model_module_version": "1.5.0",
     "model_name": "HBoxModel",
     "state": {
      "_dom_classes": [],
      "_model_module": "@jupyter-widgets/controls",
      "_model_module_version": "1.5.0",
      "_model_name": "HBoxModel",
      "_view_count": null,
      "_view_module": "@jupyter-widgets/controls",
      "_view_module_version": "1.5.0",
      "_view_name": "HBoxView",
      "box_style": "",
      "children": [
       "IPY_MODEL_79bb56876ecf4469aae3d68be4306244",
       "IPY_MODEL_1b0e566662504352b2ed1dea31a70663",
       "IPY_MODEL_7f906703b32042fc8bf0632326b681f5"
      ],
      "layout": "IPY_MODEL_f194b1d022164befb692750cfba0dc5c"
     }
    },
    "e8d36bd76ef14bdca0fc35d5b0a33efe": {
     "model_module": "@jupyter-widgets/controls",
     "model_module_version": "1.5.0",
     "model_name": "ProgressStyleModel",
     "state": {
      "_model_module": "@jupyter-widgets/controls",
      "_model_module_version": "1.5.0",
      "_model_name": "ProgressStyleModel",
      "_view_count": null,
      "_view_module": "@jupyter-widgets/base",
      "_view_module_version": "1.2.0",
      "_view_name": "StyleView",
      "bar_color": null,
      "description_width": ""
     }
    },
    "ebd6dad24b1c48d3916c660935fdafdf": {
     "model_module": "@jupyter-widgets/base",
     "model_module_version": "1.2.0",
     "model_name": "LayoutModel",
     "state": {
      "_model_module": "@jupyter-widgets/base",
      "_model_module_version": "1.2.0",
      "_model_name": "LayoutModel",
      "_view_count": null,
      "_view_module": "@jupyter-widgets/base",
      "_view_module_version": "1.2.0",
      "_view_name": "LayoutView",
      "align_content": null,
      "align_items": null,
      "align_self": null,
      "border": null,
      "bottom": null,
      "display": null,
      "flex": null,
      "flex_flow": null,
      "grid_area": null,
      "grid_auto_columns": null,
      "grid_auto_flow": null,
      "grid_auto_rows": null,
      "grid_column": null,
      "grid_gap": null,
      "grid_row": null,
      "grid_template_areas": null,
      "grid_template_columns": null,
      "grid_template_rows": null,
      "height": null,
      "justify_content": null,
      "justify_items": null,
      "left": null,
      "margin": null,
      "max_height": null,
      "max_width": null,
      "min_height": null,
      "min_width": null,
      "object_fit": null,
      "object_position": null,
      "order": null,
      "overflow": null,
      "overflow_x": null,
      "overflow_y": null,
      "padding": null,
      "right": null,
      "top": null,
      "visibility": null,
      "width": null
     }
    },
    "ee3d44024b144dbf94349d6b32430a79": {
     "model_module": "@jupyter-widgets/controls",
     "model_module_version": "1.5.0",
     "model_name": "ProgressStyleModel",
     "state": {
      "_model_module": "@jupyter-widgets/controls",
      "_model_module_version": "1.5.0",
      "_model_name": "ProgressStyleModel",
      "_view_count": null,
      "_view_module": "@jupyter-widgets/base",
      "_view_module_version": "1.2.0",
      "_view_name": "StyleView",
      "bar_color": null,
      "description_width": ""
     }
    },
    "ef3e5b1013d14afbaa1a3962e72dbb61": {
     "model_module": "@jupyter-widgets/base",
     "model_module_version": "1.2.0",
     "model_name": "LayoutModel",
     "state": {
      "_model_module": "@jupyter-widgets/base",
      "_model_module_version": "1.2.0",
      "_model_name": "LayoutModel",
      "_view_count": null,
      "_view_module": "@jupyter-widgets/base",
      "_view_module_version": "1.2.0",
      "_view_name": "LayoutView",
      "align_content": null,
      "align_items": null,
      "align_self": null,
      "border": null,
      "bottom": null,
      "display": null,
      "flex": null,
      "flex_flow": null,
      "grid_area": null,
      "grid_auto_columns": null,
      "grid_auto_flow": null,
      "grid_auto_rows": null,
      "grid_column": null,
      "grid_gap": null,
      "grid_row": null,
      "grid_template_areas": null,
      "grid_template_columns": null,
      "grid_template_rows": null,
      "height": null,
      "justify_content": null,
      "justify_items": null,
      "left": null,
      "margin": null,
      "max_height": null,
      "max_width": null,
      "min_height": null,
      "min_width": null,
      "object_fit": null,
      "object_position": null,
      "order": null,
      "overflow": null,
      "overflow_x": null,
      "overflow_y": null,
      "padding": null,
      "right": null,
      "top": null,
      "visibility": null,
      "width": null
     }
    },
    "efa92ed16a21402aa57a604667a7d735": {
     "model_module": "@jupyter-widgets/base",
     "model_module_version": "1.2.0",
     "model_name": "LayoutModel",
     "state": {
      "_model_module": "@jupyter-widgets/base",
      "_model_module_version": "1.2.0",
      "_model_name": "LayoutModel",
      "_view_count": null,
      "_view_module": "@jupyter-widgets/base",
      "_view_module_version": "1.2.0",
      "_view_name": "LayoutView",
      "align_content": null,
      "align_items": null,
      "align_self": null,
      "border": null,
      "bottom": null,
      "display": null,
      "flex": null,
      "flex_flow": null,
      "grid_area": null,
      "grid_auto_columns": null,
      "grid_auto_flow": null,
      "grid_auto_rows": null,
      "grid_column": null,
      "grid_gap": null,
      "grid_row": null,
      "grid_template_areas": null,
      "grid_template_columns": null,
      "grid_template_rows": null,
      "height": null,
      "justify_content": null,
      "justify_items": null,
      "left": null,
      "margin": null,
      "max_height": null,
      "max_width": null,
      "min_height": null,
      "min_width": null,
      "object_fit": null,
      "object_position": null,
      "order": null,
      "overflow": null,
      "overflow_x": null,
      "overflow_y": null,
      "padding": null,
      "right": null,
      "top": null,
      "visibility": null,
      "width": null
     }
    },
    "f02bf2229afe4ece8b83b1f49e35a676": {
     "model_module": "@jupyter-widgets/controls",
     "model_module_version": "1.5.0",
     "model_name": "FloatProgressModel",
     "state": {
      "_dom_classes": [],
      "_model_module": "@jupyter-widgets/controls",
      "_model_module_version": "1.5.0",
      "_model_name": "FloatProgressModel",
      "_view_count": null,
      "_view_module": "@jupyter-widgets/controls",
      "_view_module_version": "1.5.0",
      "_view_name": "ProgressView",
      "bar_style": "success",
      "description": "",
      "description_tooltip": null,
      "layout": "IPY_MODEL_8a6e8152c7d84cca81cd7509f13277a5",
      "max": 6036,
      "min": 0,
      "orientation": "horizontal",
      "style": "IPY_MODEL_7b285133a52e49b3a3c88aa9c76cd2ed",
      "value": 6036
     }
    },
    "f078fa36dd1749588219ff58fb0551b0": {
     "model_module": "@jupyter-widgets/base",
     "model_module_version": "1.2.0",
     "model_name": "LayoutModel",
     "state": {
      "_model_module": "@jupyter-widgets/base",
      "_model_module_version": "1.2.0",
      "_model_name": "LayoutModel",
      "_view_count": null,
      "_view_module": "@jupyter-widgets/base",
      "_view_module_version": "1.2.0",
      "_view_name": "LayoutView",
      "align_content": null,
      "align_items": null,
      "align_self": null,
      "border": null,
      "bottom": null,
      "display": null,
      "flex": null,
      "flex_flow": null,
      "grid_area": null,
      "grid_auto_columns": null,
      "grid_auto_flow": null,
      "grid_auto_rows": null,
      "grid_column": null,
      "grid_gap": null,
      "grid_row": null,
      "grid_template_areas": null,
      "grid_template_columns": null,
      "grid_template_rows": null,
      "height": null,
      "justify_content": null,
      "justify_items": null,
      "left": null,
      "margin": null,
      "max_height": null,
      "max_width": null,
      "min_height": null,
      "min_width": null,
      "object_fit": null,
      "object_position": null,
      "order": null,
      "overflow": null,
      "overflow_x": null,
      "overflow_y": null,
      "padding": null,
      "right": null,
      "top": null,
      "visibility": null,
      "width": null
     }
    },
    "f097943b80d84759977c945a4b6bd9f1": {
     "model_module": "@jupyter-widgets/controls",
     "model_module_version": "1.5.0",
     "model_name": "FloatProgressModel",
     "state": {
      "_dom_classes": [],
      "_model_module": "@jupyter-widgets/controls",
      "_model_module_version": "1.5.0",
      "_model_name": "FloatProgressModel",
      "_view_count": null,
      "_view_module": "@jupyter-widgets/controls",
      "_view_module_version": "1.5.0",
      "_view_name": "ProgressView",
      "bar_style": "success",
      "description": "",
      "description_tooltip": null,
      "layout": "IPY_MODEL_1a451433d7404c71a8167699822855cb",
      "max": 13677,
      "min": 0,
      "orientation": "horizontal",
      "style": "IPY_MODEL_ee3d44024b144dbf94349d6b32430a79",
      "value": 13677
     }
    },
    "f194b1d022164befb692750cfba0dc5c": {
     "model_module": "@jupyter-widgets/base",
     "model_module_version": "1.2.0",
     "model_name": "LayoutModel",
     "state": {
      "_model_module": "@jupyter-widgets/base",
      "_model_module_version": "1.2.0",
      "_model_name": "LayoutModel",
      "_view_count": null,
      "_view_module": "@jupyter-widgets/base",
      "_view_module_version": "1.2.0",
      "_view_name": "LayoutView",
      "align_content": null,
      "align_items": null,
      "align_self": null,
      "border": null,
      "bottom": null,
      "display": null,
      "flex": null,
      "flex_flow": null,
      "grid_area": null,
      "grid_auto_columns": null,
      "grid_auto_flow": null,
      "grid_auto_rows": null,
      "grid_column": null,
      "grid_gap": null,
      "grid_row": null,
      "grid_template_areas": null,
      "grid_template_columns": null,
      "grid_template_rows": null,
      "height": null,
      "justify_content": null,
      "justify_items": null,
      "left": null,
      "margin": null,
      "max_height": null,
      "max_width": null,
      "min_height": null,
      "min_width": null,
      "object_fit": null,
      "object_position": null,
      "order": null,
      "overflow": null,
      "overflow_x": null,
      "overflow_y": null,
      "padding": null,
      "right": null,
      "top": null,
      "visibility": null,
      "width": null
     }
    },
    "f52727ac3750470e87d60da607dd6099": {
     "model_module": "@jupyter-widgets/controls",
     "model_module_version": "1.5.0",
     "model_name": "HBoxModel",
     "state": {
      "_dom_classes": [],
      "_model_module": "@jupyter-widgets/controls",
      "_model_module_version": "1.5.0",
      "_model_name": "HBoxModel",
      "_view_count": null,
      "_view_module": "@jupyter-widgets/controls",
      "_view_module_version": "1.5.0",
      "_view_name": "HBoxView",
      "box_style": "",
      "children": [
       "IPY_MODEL_b801df14e02b4ac392c37b1eefba2ec0",
       "IPY_MODEL_b2ae082ac02b4185a43da6f469c12b1d",
       "IPY_MODEL_6c3887524c54483e94af2acafa7a0c49"
      ],
      "layout": "IPY_MODEL_08901f6be725401e908b57f50c0bec50"
     }
    },
    "f689155a25ac4a138e7a00d23808fe2d": {
     "model_module": "@jupyter-widgets/base",
     "model_module_version": "1.2.0",
     "model_name": "LayoutModel",
     "state": {
      "_model_module": "@jupyter-widgets/base",
      "_model_module_version": "1.2.0",
      "_model_name": "LayoutModel",
      "_view_count": null,
      "_view_module": "@jupyter-widgets/base",
      "_view_module_version": "1.2.0",
      "_view_name": "LayoutView",
      "align_content": null,
      "align_items": null,
      "align_self": null,
      "border": null,
      "bottom": null,
      "display": null,
      "flex": null,
      "flex_flow": null,
      "grid_area": null,
      "grid_auto_columns": null,
      "grid_auto_flow": null,
      "grid_auto_rows": null,
      "grid_column": null,
      "grid_gap": null,
      "grid_row": null,
      "grid_template_areas": null,
      "grid_template_columns": null,
      "grid_template_rows": null,
      "height": null,
      "justify_content": null,
      "justify_items": null,
      "left": null,
      "margin": null,
      "max_height": null,
      "max_width": null,
      "min_height": null,
      "min_width": null,
      "object_fit": null,
      "object_position": null,
      "order": null,
      "overflow": null,
      "overflow_x": null,
      "overflow_y": null,
      "padding": null,
      "right": null,
      "top": null,
      "visibility": null,
      "width": null
     }
    }
   }
  }
 },
 "nbformat": 4,
 "nbformat_minor": 4
}
