{
 "cells": [
  {
   "cell_type": "markdown",
   "metadata": {
    "colab_type": "toc",
    "id": "AAYIMFnoEnfy"
   },
   "source": [
    "# Analyzing SEC 10-K Corporate Filings: A FinBERT Approach\n",
    "\n",
    "***\n",
    "\n",
    "## Table of Contents\n",
    "\n",
    "[1. Scraping and Cleaning SEC Filings](#scraping)\n",
    "\n",
    "[2. Fine-Tuning a Model](#finetune)\n",
    "\n",
    ">[2.1. Preprocessing](#prep)\n",
    "\n",
    ">[2.2. Train-Test Split](#tts)\n",
    "\n",
    ">[2.3. Training the Model](#train)\n",
    "\n",
    ">[2.4. Evaluate and Save the Model](#eval)\n",
    "\n",
    "[3. Applying Fine-Tuned and Untuned FinBERT on SEC Filings](#apply)\n",
    "\n",
    ">[3.1. Untuned FinBERT](#untuned)\n",
    "\n",
    ">> [3.1.1. Untuned FinBERT on SEC 10-K Filings](#untuned1)\n",
    "\n",
    ">> [3.1.2. Untuned FinBERT on 'Financial Phrasebank'](#untuned2)\n",
    "\n",
    ">[3.2. Fine-tuned FinBERT](#finetuned)\n",
    "\n",
    ">> [3.2.1. Fine-tuned FinBERT on SEC 10-K Filings](#finetuned1)\n",
    "\n",
    ">> [3.2.2. Fine-tuned FinBERT on 'Financial Phrasebank'](#finetuned2)\n",
    "\n",
    "[4. Feature Extraction](#featureextraction)\n",
    "\n",
    ">[4.1. With Random Forest Classifer](#feature)\n",
    "\n",
    ">[4.2. With Vanilla Neural Network](#feature2)\n",
    "\n",
    "***\n",
    "\n",
    "**<font color=\"red\">Important Note:</font>**  During different parts of the project, including fine-tuning, using the untuned model on SEC 10-K filings, untuned model on `financial_phrasebank`, fine-tuned model on SEC 10-K filings, fine-tuned model on `financial_phrasebank`, and feature extraction models, it was necessary to periodically restart the kernel on Google Colab. This was done to prevent GPU and RAM insufficiencies and ensure smooth execution of the project tasks. Note that feature extraction models work consecutively without restarting the kernel.\n",
    "\n",
    "***\n",
    "\n",
    "If you intend to run this notebook on Google Colab, you can use the following code snippet to install the required packages:"
   ]
  },
  {
   "cell_type": "code",
   "execution_count": null,
   "metadata": {},
   "outputs": [],
   "source": [
    "import os\n",
    "IS_ON_COLAB = bool(os.getenv(\"COLAB_RELEASE_TAG\"))\n",
    "\n",
    "if IS_ON_COLAB:\n",
    "  !pip install transformers transformers[torch] tokenizers datasets sentencepiece huggingface_hub[cli] xformers accelerate sec_api"
   ]
  },
  {
   "cell_type": "code",
   "execution_count": 2,
   "metadata": {
    "colab": {
     "base_uri": "https://localhost:8080/"
    },
    "id": "qWQbzZ_CqnzD",
    "outputId": "9f187476-db25-47cb-c602-91bffa872a4e"
   },
   "outputs": [
    {
     "name": "stdout",
     "output_type": "stream",
     "text": [
      "GPU is available and the device is Tesla T4.\n"
     ]
    }
   ],
   "source": [
    "# import required libraries\n",
    "from transformers import BertTokenizer, BertConfig, BertModel, AutoModelForSequenceClassification, BertForSequenceClassification, pipeline, AutoModel, AutoTokenizer, TrainingArguments, Trainer\n",
    "from datasets import load_dataset, Dataset, DatasetDict\n",
    "from sklearn.model_selection import train_test_split\n",
    "from sklearn.ensemble import RandomForestClassifier\n",
    "from sklearn.model_selection import GridSearchCV\n",
    "from sklearn.metrics import f1_score, classification_report, confusion_matrix, accuracy_score, f1_score, precision_score, recall_score\n",
    "import torch\n",
    "import torch.nn as nn\n",
    "import torch.optim as optim\n",
    "from torch.optim.lr_scheduler import StepLR\n",
    "from torch.utils.data import DataLoader, TensorDataset\n",
    "import pandas as pd\n",
    "import numpy as np\n",
    "import seaborn as sns\n",
    "import matplotlib.pyplot as plt\n",
    "import re\n",
    "from google.colab import files\n",
    "import io\n",
    "from sec_api import ExtractorApi\n",
    "from pathlib import Path\n",
    "\n",
    "\n",
    "# to assign directory with Pathlib\n",
    "PROJECT_DIR = Path().resolve()\n",
    "\n",
    "\n",
    "# to check if GPU is available or not\n",
    "if torch.cuda.is_available():\n",
    "    device = torch.device(\"cuda\")\n",
    "    print(f'GPU is available and the device is {torch.cuda.get_device_name(0)}.')\n",
    "else:\n",
    "    device = torch.device(\"cpu\")\n",
    "    print('No GPU available, using the CPU.')\n",
    "\n",
    "\n",
    "# ================================================================================================\n",
    "# USER-DEFINED FUNCTIONS\n",
    "# ================================================================================================\n",
    "# 1. label_to_sentiment()\n",
    "# 2. tokenize_for_finetuning()\n",
    "# 3. compute_metrics()\n",
    "# 4. get_input_ids_and_attention_mask_chunk()\n",
    "# 5. tokenize()\n",
    "# 6. extract_states()\n",
    "# 7. split_and_format_dataset()\n",
    "# ================================================================================================\n",
    "\n",
    "def label_to_sentiment(row):\n",
    "    \"\"\"\n",
    "    Convert numeric labels into verbal sentiments for a given row in a dataset.\n",
    "\n",
    "    This function converts a numeric label within a dataset row into a verbal sentiment using a\n",
    "    predefined mapping that correlates numeric labels with corresponding verbal sentiments\n",
    "    such as \"neutral,\" \"positive,\" and \"negative.\"\n",
    "\n",
    "    Args:\n",
    "        row (dict): A dictionary representing a row in a dataset, with a \"label\" key.\n",
    "\n",
    "    Returns:\n",
    "        dict: The input row dictionary with an additional \"sentiment\" key that holds\n",
    "              the verbal sentiment corresponding to the numeric label.\n",
    "    \"\"\"\n",
    "    # mapping of numeric labels to verbal sentiments\n",
    "    translation = {\n",
    "        0: \"neutral\",\n",
    "        1: \"positive\",\n",
    "        2: \"negative\",\n",
    "    }\n",
    "\n",
    "    # retrieve the numeric label from the row and map it to a verbal sentiment\n",
    "    row[\"sentiment\"] = translation[row[\"label\"]]\n",
    "    return row\n",
    "\n",
    "# ================================================================================================\n",
    "\n",
    "def tokenize_for_finetuning(batch):\n",
    "    \"\"\"\n",
    "    Tokenize a batch of sentences using a tokenizer. The resulting tokenized sequences\n",
    "    are returned as PyTorch tensors along with their corresponding attention masks.\n",
    "\n",
    "    Args:\n",
    "        batch (dict): A dictionary representing a batch of sentences with a \"sentence\" key.\n",
    "\n",
    "    Returns:\n",
    "        dict: A dictionary containing the tokenized sequences as PyTorch tensors\n",
    "    \"\"\"\n",
    "    # to tokenize the sentences in the batch\n",
    "    return tokenizer(batch[\"sentence\"],\n",
    "                     padding=True,                # to pad sequences to the same length\n",
    "                     truncation=True,             # to truncate sequences if they exceed the maximum length\n",
    "                     add_special_tokens=True,     # to add special tokens like [CLS] and [SEP]\n",
    "                     pad_to_max_length=True,      # to pad to the maximum length in the batch\n",
    "                     return_attention_mask=True,  # to return attention masks for each token\n",
    "                     return_tensors='pt')         # to return PyTorch tensors\n",
    "\n",
    "# ================================================================================================\n",
    "\n",
    "def compute_metrics(eval_pred):\n",
    "    \"\"\"\n",
    "    Compute accuracy metric for classification evaluation.\n",
    "\n",
    "    Args:\n",
    "        eval_pred (tuple): A tuple containing predicted probabilities and true labels.\n",
    "\n",
    "    Returns:\n",
    "        dict: A dictionary containing the computed accuracy metric.\n",
    "    \"\"\"\n",
    "    predictions, labels = eval_pred\n",
    "    predictions = np.argmax(predictions, axis=1)\n",
    "    return {'accuracy' : accuracy_score(predictions, labels)}\n",
    "\n",
    "# ================================================================================================\n",
    "\n",
    "def get_input_ids_and_attention_mask_chunk(tokens):\n",
    "    \"\"\"\n",
    "    Process tokens into input IDs and attention masks using a sliding window approach.\n",
    "\n",
    "    This function overcomes the maximum length limitation of 512 tokens in FinBERT by\n",
    "    applying a sliding window approach. It takes tokenized data as input and processes\n",
    "    it into input IDs and attention masks in chunks, each within the maximum length.\n",
    "\n",
    "    Args:\n",
    "        tokens (dict): A dictionary containing tokenized data with \"input_ids\" and \"attention_mask\" keys.\n",
    "\n",
    "    Returns:\n",
    "        tuple: A tuple containing lists of input IDs and attention masks for each chunk.\n",
    "    \"\"\"\n",
    "    chunksize = 512      # maximum chunk size for BERT\n",
    "    input_id_chunks = list(tokens['input_ids'][0].split(chunksize - 2))\n",
    "    attention_mask_chunks = list(tokens['attention_mask'][0].split(chunksize - 2))\n",
    "\n",
    "    for i in range(len(input_id_chunks)):\n",
    "\n",
    "        # to add [CLS] and [SEP] tokens to the start and end of each chunk\n",
    "        input_id_chunks[i] = torch.cat([\n",
    "            torch.tensor([101]).to(device), input_id_chunks[i].to(device), torch.tensor([102]).to(device)\n",
    "        ])\n",
    "\n",
    "        # to generate attention mask for the chunk with [CLS] and [SEP]\n",
    "        attention_mask_chunks[i] = torch.cat([\n",
    "            torch.tensor([1]).to(device), attention_mask_chunks[i].to(device), torch.tensor([1]).to(device)\n",
    "        ]).to(device)\n",
    "\n",
    "        # to calculate the pad length required for the chunk\n",
    "        pad_length = chunksize - input_id_chunks[i].shape[0]\n",
    "\n",
    "        # to pad the chunk with zeros if necessary in the last chunk\n",
    "        if pad_length > 0:\n",
    "            input_id_chunks[i] = torch.cat([\n",
    "                input_id_chunks[i], torch.Tensor([0] * pad_length).to(device)\n",
    "            ])\n",
    "            attention_mask_chunks[i] = torch.cat([\n",
    "                attention_mask_chunks[i], torch.Tensor([0] * pad_length).to(device)\n",
    "            ])\n",
    "\n",
    "    return input_id_chunks, attention_mask_chunks\n",
    "\n",
    "# ================================================================================================\n",
    "\n",
    "def tokenize(batch):\n",
    "    \"\"\"\n",
    "    Tokenize a batch of sentences using a tokenizer. The resulting tokenized sequences\n",
    "    are returned as PyTorch tensors along with their corresponding attention masks.\n",
    "\n",
    "    Args:\n",
    "        batch (dict): A dictionary representing a batch of sentences with a \"sentence\" key.\n",
    "\n",
    "    Returns:\n",
    "        dict: A dictionary containing the tokenized sequences as PyTorch tensors along with\n",
    "              their attention masks. Keys are \"input_ids,\" \"attention_mask,\" and \"token_type_ids.\"\n",
    "    \"\"\"\n",
    "    # tokenize the sentences in the batch\n",
    "    return tokenizer(batch[\"sentence\"],\n",
    "                     padding=True,               # pad sequences to the same length\n",
    "                     truncation=True             # truncate sequences if they exceed the maximum length\n",
    "                     )\n",
    "\n",
    "# ================================================================================================\n",
    "\n",
    "def extract_states(batch, model):\n",
    "    \"\"\"\n",
    "    Extracts embeddings/states from a pre-trained language model for a batch of input sequences.\n",
    "    This function is intended to use for feature extraction tasks.\n",
    "\n",
    "    Args:\n",
    "        batch (dict): A dictionary containing input_ids, attention_mask, and other data.\n",
    "        model (torch.nn.Module): A BERT-like model to extract hidden states from.\n",
    "\n",
    "    Returns:\n",
    "        An object with hidden_state added to it, containing the extracted hidden states.\n",
    "    \"\"\"\n",
    "    # to extract input_ids and attention_mask from the batch\n",
    "    input_ids = torch.tensor(batch[\"input_ids\"])\n",
    "    attention_mask = torch.tensor(batch[\"attention_mask\"])\n",
    "\n",
    "    # to use FinBERT to obtain hidden states for the input sequences\n",
    "    with torch.no_grad():\n",
    "        output = model(input_ids, attention_mask)\n",
    "        lhs = output.last_hidden_state.cpu().numpy()\n",
    "\n",
    "    # to create a boolean mask for valid tokens based on attention_mask\n",
    "    valid = np.array(batch[\"attention_mask\"]).astype(bool)\n",
    "\n",
    "    # to extract dimensions of the embeddings (e.g., hidden states) representing the input sequences.\n",
    "    batch_size, n_tokens, hidden_dim = lhs.shape\n",
    "\n",
    "    # to reshape the valid mask for element-wise masking\n",
    "    valid = valid.reshape(batch_size, n_tokens, 1).repeat(hidden_dim, axis=-1)\n",
    "\n",
    "    # to calculate the masked mean of hidden states along the token dimension\n",
    "    masked_mean = np.ma.array(lhs, mask=~valid).mean(axis=1).data\n",
    "\n",
    "    batch[\"hidden_state\"] = masked_mean\n",
    "    return batch\n",
    "\n",
    "# ================================================================================================\n",
    "\n",
    "def split_and_format_dataset(dataset_encoded, test_size=0.2, random_state=44):\n",
    "    \"\"\"\n",
    "    Splits and formats a dataset for training and testing.\n",
    "\n",
    "    Args:\n",
    "        dataset_encoded (datasets.DatasetDict): The encoded dataset.\n",
    "        test_size (float): The proportion of the dataset to include in the test split (default: 0.2).\n",
    "        random_state (int): The seed used by the random number generator (default: 44).\n",
    "\n",
    "    Returns:\n",
    "        train_dataset (datasets.Dataset): The formatted training dataset.\n",
    "        test_dataset (datasets.Dataset): The formatted test dataset.\n",
    "    \"\"\"\n",
    "    # Set the format of the encoded dataset to use pandas DataFrames\n",
    "    dataset_encoded.set_format(type=\"pandas\")\n",
    "\n",
    "    # Split the dataset into train and test sets using stratified sampling\n",
    "    train_data, test_data = train_test_split(\n",
    "        dataset_encoded[\"train\"],\n",
    "        stratify=dataset_encoded[\"train\"][\"label\"],\n",
    "        test_size=test_size,\n",
    "        random_state=random_state\n",
    "    )\n",
    "\n",
    "    # Set the format of the training and test dataset to use PyTorch tensors\n",
    "    train_dataset = Dataset.from_pandas(train_data)\n",
    "    train_dataset.set_format(type=\"torch\")\n",
    "\n",
    "    test_dataset = Dataset.from_pandas(test_data)\n",
    "    test_dataset.set_format(type=\"torch\")\n",
    "\n",
    "    return train_dataset, test_dataset"
   ]
  },
  {
   "cell_type": "markdown",
   "metadata": {
    "id": "EByld2xnFkxV"
   },
   "source": [
    "## 1. Scraping and Cleaning SEC Filings <a class=\"anchor\" id=\"scraping\"></a>"
   ]
  },
  {
   "cell_type": "markdown",
   "metadata": {
    "id": "Z9BAnlH0HvCY"
   },
   "source": [
    "This code chunk here is presented for demonstration, without a valid API key, it will not work.\n",
    "\n",
    "This part is structured as follows:\n",
    "\n",
    "1. Retrieving MD&A parts of SEC 10-K filings iteratively using the API, and store them in Pandas DataFrame,\n",
    "2. Define `clean_text()` function for remaining HTML and XML patterns, and apply it on DataFrame\n",
    "3. Define `truncate_text()` function to overcome memory overflow error, shorten the retrieved parts\n",
    "4. Add a column of labels by hand\n",
    "5. Export DataFrame in pickle and Parquet formats for future use"
   ]
  },
  {
   "cell_type": "code",
   "execution_count": null,
   "metadata": {
    "id": "HAKiz0xFTiDW"
   },
   "outputs": [],
   "source": [
    "# you need to replace your API key to access sec-api.io (detailed description in README.md)\n",
    "API_KEY = \"API-KEY\"\n",
    "\n",
    "# to initiate ExtractorAPI for the purpose of retriving data\n",
    "extractorApi = ExtractorApi(API_KEY)\n",
    "\n",
    "# to assign path of the filings_urls.txt\n",
    "filings_path = PROJECT_DIR / \"filings_urls.txt\"\n",
    "\n",
    "# to read filing URLs and store them in a list\n",
    "if filings_path.exists():\n",
    "    with open(filings_path, 'r') as file:\n",
    "        filing_10_k_urls = [line.strip() for line in file if line.strip()]\n",
    "else:\n",
    "    print(\"Filing URLs file not found.\")\n",
    "\n",
    "# (optional) to display the list of all filing URLs\n",
    "print(filing_10_k_urls)\n",
    "\n",
    "# to initiate empty list to store extracted 10-K filings\n",
    "extracted_data = []\n",
    "\n",
    "# to iterate over the list of filing URLs\n",
    "for index, filing_10_k_url in enumerate(filing_10_k_urls, start=1):\n",
    "    # `7` corresponds the \"Management's Discussion & Analysis\" part\n",
    "    # `text` corresponds text format for extracted data instead of .html file\n",
    "    item_7_text = extractorApi.get_section(filing_10_k_url, '7', 'text')\n",
    "\n",
    "    # append list to have a complete dataset\n",
    "    extracted_data.append({\n",
    "        'URL': filing_10_k_url,\n",
    "        'MD&A': item_7_text\n",
    "    })\n",
    "\n",
    "    # to follow each increment of successful extraction\n",
    "    print(f\"MD&A part of Filing {index} is extracted and appended.\")\n",
    "\n",
    "# to create a Pandas DataFrame with the extracted MD&A sections\n",
    "mda_df = pd.DataFrame(extracted_data)"
   ]
  },
  {
   "cell_type": "code",
   "execution_count": null,
   "metadata": {
    "id": "_cKuFk2WTkRn"
   },
   "outputs": [],
   "source": [
    "def clean_text(text):\n",
    "    \"\"\"\n",
    "    Clean up a text by removing specific patterns using regular expressions.\n",
    "\n",
    "    This function takes a text input and applies a series of regular expressions\n",
    "    to remove specific patterns (HTML and XML) commonly found in text extracted from filings.\n",
    "\n",
    "    Args:\n",
    "        text (str): The input text to be cleaned.\n",
    "\n",
    "    Returns:\n",
    "        str: The cleaned text with specified patterns removed.\n",
    "    \"\"\"\n",
    "    # list of regex patterns to be removed from the text\n",
    "    patterns = [\n",
    "        r'##TABLE_END',          # remove \"##TABLE_END\"\n",
    "        r'##TABLE_START',        # remove \"##TABLE_START\"\n",
    "        r'&#160;',               # remove \"&#160;\"          (Non-breaking space)\n",
    "        r'&#8226;',              # remove \"&#8226;\"         (Bullet point)\n",
    "        r'&#8220; &#8221;',      # remove \"&#8220; &#8221;\" (Quotation marks)\n",
    "        r'&#8220;&#8212;',       # Remove \"&#8220;&#8212;\"  (Quotation dash)\n",
    "        r'&#8220;',              # remove \"&#8220;\"         (Opening double quotation mark)\n",
    "        r'&#8221;',              # remove \"&#8221;\"         (Closing double quotation mark)\n",
    "        r'&#8212;',              # remove \"&#8212;\"         (Em dash)\n",
    "        r'&#8217;',              # remove \"&#8217;\"         (Right single quotation mark)\n",
    "        r'&#59;',                # remove \"&#59\";           (Semicolon)\n",
    "        r'&#9679;',              # remove \"&#9679;\"         (Bullet point)\n",
    "        r'&#8203;',              # remove \"&#8203;\"         (Zero-width space)\n",
    "        r'&#8211;',              # remove \"&#8211;\"         (En dash)\n",
    "        r'&#34;',                # remove \"&#34;\"           (Double quotation mark)\n",
    "        r'#38;',                 # remove \"#38;\"            (Ampersand)\n",
    "        r'&#8729;',              # remove \"&#8729;\"         (Middle dot)\n",
    "        r'\\n+'                   # remove any consecutive newline characters\n",
    "\n",
    "    ]\n",
    "\n",
    "    # to compile regex patterns into a list of regex objects\n",
    "    regex_patterns = [re.compile(pattern) for pattern in patterns]\n",
    "\n",
    "    # to apply each regex pattern to the text and replace matches with an empty string\n",
    "    cleaned_text = text\n",
    "    for pattern in regex_patterns:\n",
    "        cleaned_text = pattern.sub('', cleaned_text)\n",
    "\n",
    "    return cleaned_text"
   ]
  },
  {
   "cell_type": "code",
   "execution_count": null,
   "metadata": {
    "id": "RdggZ4ktTn7m"
   },
   "outputs": [],
   "source": [
    "# to apply the user-defined `clean_text` function to the extracted text data to clean it\n",
    "mda_df['MD&A'] = mda_df['MD&A'].apply(clean_text)"
   ]
  },
  {
   "cell_type": "code",
   "execution_count": null,
   "metadata": {
    "id": "OfNPZpEhTqf1"
   },
   "outputs": [],
   "source": [
    "def truncate_text(df, column_name, max_chars=20000):\n",
    "    \"\"\"\n",
    "    Truncate text in a DataFrame column to a specified maximum number of characters.\n",
    "\n",
    "    This function truncates the text in the specified column of the provided DataFrame\n",
    "    to a maximum length defined by the 'max_chars' parameter.\n",
    "\n",
    "    Args:\n",
    "        df (pandas.DataFrame):     DataFrame containing the text column to be truncated.\n",
    "        column_name (str):         The name of the column containing the text to be truncated.\n",
    "        max_chars (int, optional): The maximum number of characters to retain in each text.\n",
    "                                   Default is 20000.\n",
    "\n",
    "    Returns:\n",
    "        pandas.DataFrame: The modified DataFrame with truncated text in the specified column.\n",
    "    \"\"\"\n",
    "    # truncate the text in the specified column to the maximum character limit\n",
    "    df[column_name] = df[column_name].str[-max_chars:]\n",
    "    return df"
   ]
  },
  {
   "cell_type": "code",
   "execution_count": null,
   "metadata": {
    "id": "hyfD3GffTs86"
   },
   "outputs": [],
   "source": [
    "# to truncate text in order to decrease computational cost\n",
    "truncate_text(mda_df, 'MD&A')"
   ]
  },
  {
   "cell_type": "code",
   "execution_count": 8,
   "metadata": {
    "id": "YWxoJf9WTvip"
   },
   "outputs": [],
   "source": [
    "# list of labels by hand\n",
    "labels = [np.nan, np.nan, np.nan, np.nan, np.nan, np.nan, np.nan, np.nan, np.nan, np.nan,\n",
    "          2, 0, 0, 1, 0, 0, 1, 1, 2, 1,\n",
    "          np.nan, np.nan, np.nan, np.nan, np.nan, np.nan, np.nan, np.nan, np.nan, np.nan,\n",
    "          np.nan, np.nan, np.nan, np.nan, np.nan, np.nan, np.nan, np.nan, np.nan, np.nan,\n",
    "          np.nan, np.nan, np.nan, np.nan, np.nan, np.nan, np.nan, np.nan, np.nan, np.nan,\n",
    "          np.nan, np.nan, np.nan, np.nan, np.nan, np.nan, np.nan, np.nan, np.nan, np.nan,\n",
    "          0, 1, 0, 0, 1, 2, 0, 0, 1, 1]\n",
    "\n",
    "# add 330 more np.nan such that it is equal to the number of rows in df\n",
    "labels.extend([np.nan] * 330)\n",
    "\n",
    "# to create empty column called `label` to store labels by hand\n",
    "mda_df['label'] = labels"
   ]
  },
  {
   "cell_type": "code",
   "execution_count": null,
   "metadata": {
    "id": "XAwSAaIZTwa2"
   },
   "outputs": [],
   "source": [
    "# to export the merged DataFrame as a pickle and Parquet files\n",
    "\n",
    "pickle_path = PROJECT_DIR / \"data\" / \"filings.pkl\"\n",
    "mda_df.to_pickle(pickle_path)\n",
    "\n",
    "parquet_path = PROJECT_DIR / \"data\" / \"filings.gzip\"\n",
    "mda_df.to_parquet(parquet_path,\n",
    "                  compression=\"gzip\")"
   ]
  },
  {
   "cell_type": "markdown",
   "metadata": {
    "id": "FMnNtv8IFWDL"
   },
   "source": [
    "## 2. Fine-Tuning a Model <a class=\"anchor\" id=\"finetune\"></a>"
   ]
  },
  {
   "cell_type": "markdown",
   "metadata": {
    "id": "0B3tdyIw5-EU"
   },
   "source": [
    "### 2. 1. Preprocessing <a class=\"anchor\" id=\"prep\"></a>"
   ]
  },
  {
   "cell_type": "code",
   "execution_count": 3,
   "metadata": {
    "id": "argCb3NHleP2"
   },
   "outputs": [],
   "source": [
    "# to load the `financial_phrasebank` dataset for fine-tuning of FinBERT model\n",
    "dataset = load_dataset(\"financial_phrasebank\", \"sentences_75agree\")"
   ]
  },
  {
   "cell_type": "code",
   "execution_count": 4,
   "metadata": {
    "id": "nIHhVR9ZHdNi"
   },
   "outputs": [],
   "source": [
    "dataset.set_format(None)\n",
    "\n",
    "# to map function to Dataset\n",
    "dataset_with_sentiments = dataset.map(label_to_sentiment)"
   ]
  },
  {
   "cell_type": "code",
   "execution_count": 5,
   "metadata": {
    "colab": {
     "base_uri": "https://localhost:8080/"
    },
    "id": "_9S0CTPwj6wu",
    "outputId": "a358f06d-856e-4e04-c503-ca4695b68996"
   },
   "outputs": [
    {
     "data": {
      "text/plain": [
       "{'sentence': 'According to Gran , the company has no plans to move all production to Russia , although that is where the company is growing .',\n",
       " 'label': 1,\n",
       " 'sentiment': 'positive'}"
      ]
     },
     "execution_count": 5,
     "metadata": {},
     "output_type": "execute_result"
    }
   ],
   "source": [
    "# for visual inspection to check that `label_to_sentiment` function works properly\n",
    "dataset_with_sentiments[\"train\"][0]"
   ]
  },
  {
   "cell_type": "code",
   "execution_count": 6,
   "metadata": {
    "id": "JjC6hwiACmzR"
   },
   "outputs": [],
   "source": [
    "# to initialize a tokenizer from the 'yiyanghkust/finbert-tone'\n",
    "tokenizer = BertTokenizer.from_pretrained(\n",
    "    'yiyanghkust/finbert-tone',\n",
    "    do_lower_case = True\n",
    "    )"
   ]
  },
  {
   "cell_type": "code",
   "execution_count": 7,
   "metadata": {
    "colab": {
     "base_uri": "https://localhost:8080/"
    },
    "id": "91jUO5P2YYAz",
    "outputId": "c7110d13-f8a2-46ca-b64f-1720007732b1"
   },
   "outputs": [
    {
     "data": {
      "text/plain": [
       "DatasetDict({\n",
       "    train: Dataset({\n",
       "        features: ['sentence', 'label', 'input_ids', 'token_type_ids', 'attention_mask'],\n",
       "        num_rows: 3453\n",
       "    })\n",
       "})"
      ]
     },
     "execution_count": 7,
     "metadata": {},
     "output_type": "execute_result"
    }
   ],
   "source": [
    "# to apply user-defined `tokenize` function using `DatasetDict.map`\n",
    "dataset_encoded = dataset.map(tokenize_for_finetuning,\n",
    "                              batched=True,\n",
    "                              batch_size=None)\n",
    "\n",
    "# to determine the format of the encoded dataset to use PyTorch tensors\n",
    "dataset_encoded.set_format(\n",
    "    \"torch\",\n",
    "    columns=[\"input_ids\", \"attention_mask\", \"label\"],\n",
    ")\n",
    "\n",
    "# to display names of features and number of rows in encoded dataset\n",
    "dataset_encoded"
   ]
  },
  {
   "cell_type": "code",
   "execution_count": 8,
   "metadata": {
    "colab": {
     "base_uri": "https://localhost:8080/"
    },
    "id": "9kMhj_4G2bF-",
    "outputId": "d1aa11ea-bee0-409d-b131-fff544dca276"
   },
   "outputs": [
    {
     "name": "stdout",
     "output_type": "stream",
     "text": [
      "Type of dataset is <class 'datasets.dataset_dict.DatasetDict'> and,\n",
      "Type of encoded dataset is <class 'datasets.dataset_dict.DatasetDict'>.\n",
      "Shape of the dataset is {'train': (3453, 2)}\n",
      "{'train': [{'filename': '/root/.cache/huggingface/datasets/financial_phrasebank/sentences_75agree/1.0.0/550bde12e6c30e2674da973a55f57edde5181d53f5a5a34c1531c53f93b7e141/financial_phrasebank-train.arrow'}]}.\n",
      "\n"
     ]
    }
   ],
   "source": [
    "print(f\"\"\"Type of dataset is {type(dataset_with_sentiments)} and,\\nType of encoded dataset is {type(dataset_encoded)}.\n",
    "Shape of the dataset is {dataset.shape}\\n{dataset.cache_files}.\n",
    "\"\"\")"
   ]
  },
  {
   "cell_type": "markdown",
   "metadata": {
    "id": "oF2SNiu164RA"
   },
   "source": [
    "### 2. 2. Train-Test Split <a class=\"anchor\" id=\"tts\"></a>\n"
   ]
  },
  {
   "cell_type": "code",
   "execution_count": 9,
   "metadata": {
    "colab": {
     "base_uri": "https://localhost:8080/"
    },
    "id": "5wCfYUkjC2u1",
    "outputId": "9be2ffc7-c0d1-48a7-960e-bb2e6b1d0528"
   },
   "outputs": [
    {
     "name": "stdout",
     "output_type": "stream",
     "text": [
      "The shapes of train, test, and validations sets are (2209, 5), (691, 5), (553, 5), respectively.\n"
     ]
    }
   ],
   "source": [
    "# to set the format of the encoded dataset to use pandas DataFrames\n",
    "dataset_encoded.set_format(type=\"pandas\")\n",
    "\n",
    "# to split the dataset into train and test sets using stratified sampling\n",
    "ds_train, ds_test, = train_test_split(dataset_encoded[\"train\"], stratify=dataset_encoded[\"train\"][\"label\"], test_size=0.2, random_state=44)\n",
    "\n",
    "# to further split the training set into training and validation sets\n",
    "ds_train, ds_val = train_test_split(ds_train, stratify=ds_train[\"label\"],test_size=0.2, random_state=44)\n",
    "\n",
    "print(f\"The shapes of train, test, and validations sets are {ds_train.shape}, {ds_test.shape}, {ds_val.shape}, respectively.\")"
   ]
  },
  {
   "cell_type": "code",
   "execution_count": 10,
   "metadata": {
    "id": "r7VK7yE-KNrH"
   },
   "outputs": [],
   "source": [
    "# to set the format of the training, test, and validation sets to use PyTorch tensors\n",
    "\n",
    "ds_train = Dataset.from_pandas(ds_train)\n",
    "ds_train.set_format(type=\"torch\")\n",
    "\n",
    "ds_test = Dataset.from_pandas(ds_test)\n",
    "ds_test.set_format(type=\"torch\")\n",
    "\n",
    "ds_val = Dataset.from_pandas(ds_val)\n",
    "ds_val.set_format(type=\"torch\")"
   ]
  },
  {
   "cell_type": "markdown",
   "metadata": {
    "id": "W_psbIkD7Spc"
   },
   "source": [
    "### 2. 3. Training the Model <a class=\"anchor\" id=\"train\"></a>"
   ]
  },
  {
   "cell_type": "code",
   "execution_count": 11,
   "metadata": {
    "colab": {
     "base_uri": "https://localhost:8080/"
    },
    "id": "dIub1vFyC2eS",
    "outputId": "a469dc33-5637-4d51-cb28-07b6f72ac8de"
   },
   "outputs": [
    {
     "name": "stderr",
     "output_type": "stream",
     "text": [
      "Some weights of BertForSequenceClassification were not initialized from the model checkpoint at yiyanghkust/finbert-pretrain and are newly initialized: ['classifier.bias', 'classifier.weight']\n",
      "You should probably TRAIN this model on a down-stream task to be able to use it for predictions and inference.\n"
     ]
    }
   ],
   "source": [
    "# to initialize a pre-trained BERT model for sequence classification\n",
    "model = BertForSequenceClassification.from_pretrained(\n",
    "    'yiyanghkust/finbert-pretrain',\n",
    "    num_labels = 3\n",
    "    )"
   ]
  },
  {
   "cell_type": "code",
   "execution_count": 12,
   "metadata": {
    "colab": {
     "base_uri": "https://localhost:8080/",
     "height": 267
    },
    "id": "EQ9pNuVSnFzq",
    "outputId": "8ae57c09-4833-4194-cb17-4a61d485b04d"
   },
   "outputs": [
    {
     "data": {
      "text/html": [
       "\n",
       "    <div>\n",
       "      \n",
       "      <progress value='175' max='175' style='width:300px; height:20px; vertical-align: middle;'></progress>\n",
       "      [175/175 04:43, Epoch 5/5]\n",
       "    </div>\n",
       "    <table border=\"1\" class=\"dataframe\">\n",
       "  <thead>\n",
       " <tr style=\"text-align: left;\">\n",
       "      <th>Epoch</th>\n",
       "      <th>Training Loss</th>\n",
       "      <th>Validation Loss</th>\n",
       "      <th>Accuracy</th>\n",
       "    </tr>\n",
       "  </thead>\n",
       "  <tbody>\n",
       "    <tr>\n",
       "      <td>1</td>\n",
       "      <td>No log</td>\n",
       "      <td>0.611665</td>\n",
       "      <td>0.723327</td>\n",
       "    </tr>\n",
       "    <tr>\n",
       "      <td>2</td>\n",
       "      <td>No log</td>\n",
       "      <td>0.337593</td>\n",
       "      <td>0.875226</td>\n",
       "    </tr>\n",
       "    <tr>\n",
       "      <td>3</td>\n",
       "      <td>No log</td>\n",
       "      <td>0.261958</td>\n",
       "      <td>0.904159</td>\n",
       "    </tr>\n",
       "    <tr>\n",
       "      <td>4</td>\n",
       "      <td>No log</td>\n",
       "      <td>0.240829</td>\n",
       "      <td>0.913201</td>\n",
       "    </tr>\n",
       "    <tr>\n",
       "      <td>5</td>\n",
       "      <td>No log</td>\n",
       "      <td>0.239328</td>\n",
       "      <td>0.905967</td>\n",
       "    </tr>\n",
       "  </tbody>\n",
       "</table><p>"
      ],
      "text/plain": [
       "<IPython.core.display.HTML object>"
      ]
     },
     "metadata": {},
     "output_type": "display_data"
    },
    {
     "data": {
      "text/plain": [
       "TrainOutput(global_step=175, training_loss=0.3731327165876116, metrics={'train_runtime': 285.6374, 'train_samples_per_second': 38.668, 'train_steps_per_second': 0.613, 'total_flos': 760577639921820.0, 'train_loss': 0.3731327165876116, 'epoch': 5.0})"
      ]
     },
     "execution_count": 12,
     "metadata": {},
     "output_type": "execute_result"
    }
   ],
   "source": [
    "# to define training arguments for the `Trainer`\n",
    "args = TrainingArguments(\n",
    "    output_dir='temp/',                    # directory to save model checkpoints and logs\n",
    "    evaluation_strategy='epoch',           # evaluate at the end of each epoch\n",
    "    save_strategy='epoch',                 # save model checkpoints at the end of each epoch\n",
    "    optim=\"adamw_torch\",                   # set the optimizer to train as \"adamw\"\n",
    "    learning_rate=1e-5,                    # learning rate for optimization\n",
    "    per_device_train_batch_size=64,        # batch size for training\n",
    "    per_device_eval_batch_size=64,         # batch size for evaluation\n",
    "    num_train_epochs=5,                    # number of training epochs\n",
    "    weight_decay=0.01,                     # weight decay for regularization\n",
    "    load_best_model_at_end=True,           # load the best model at the end of training\n",
    "    metric_for_best_model='accuracy',      # metric to determine the best model\n",
    ")\n",
    "\n",
    "# to initialize a `Trainer` for training and evaluation\n",
    "trainer = Trainer(\n",
    "    model=model,\n",
    "    args=args,\n",
    "    train_dataset=ds_train,\n",
    "    eval_dataset=ds_val,\n",
    "    compute_metrics=compute_metrics,\n",
    ")\n",
    "\n",
    "# to train the model using the `Trainer`\n",
    "trainer.train()"
   ]
  },
  {
   "cell_type": "markdown",
   "metadata": {
    "id": "I6oYF0oX7FcI"
   },
   "source": [
    "### 2. 4. Evaluate and Save the Model <a class=\"anchor\" id=\"eval\"></a>"
   ]
  },
  {
   "cell_type": "code",
   "execution_count": 13,
   "metadata": {
    "colab": {
     "base_uri": "https://localhost:8080/",
     "height": 104
    },
    "id": "zb2PU304DHi_",
    "outputId": "94648b68-e590-4f81-b3e3-9ac7546ea469"
   },
   "outputs": [
    {
     "data": {
      "text/html": [],
      "text/plain": [
       "<IPython.core.display.HTML object>"
      ]
     },
     "metadata": {},
     "output_type": "display_data"
    },
    {
     "data": {
      "text/plain": [
       "{'test_loss': 0.21385298669338226,\n",
       " 'test_accuracy': 0.9247467438494935,\n",
       " 'test_runtime': 5.5894,\n",
       " 'test_samples_per_second': 123.627,\n",
       " 'test_steps_per_second': 1.968}"
      ]
     },
     "execution_count": 13,
     "metadata": {},
     "output_type": "execute_result"
    }
   ],
   "source": [
    "# to use `Trainer` to predict on the test dataset and retrieve evaluation metrics\n",
    "trainer.predict(ds_test).metrics"
   ]
  },
  {
   "cell_type": "code",
   "execution_count": 14,
   "metadata": {
    "colab": {
     "base_uri": "https://localhost:8080/",
     "height": 74
    },
    "id": "Hs81RtJl4a4s",
    "outputId": "8deb540c-6e80-45ce-e84b-82aefc5b6555"
   },
   "outputs": [
    {
     "data": {
      "text/html": [
       "\n",
       "    <div>\n",
       "      \n",
       "      <progress value='9' max='9' style='width:300px; height:20px; vertical-align: middle;'></progress>\n",
       "      [9/9 00:03]\n",
       "    </div>\n",
       "    "
      ],
      "text/plain": [
       "<IPython.core.display.HTML object>"
      ]
     },
     "metadata": {},
     "output_type": "display_data"
    },
    {
     "name": "stdout",
     "output_type": "stream",
     "text": [
      "{'eval_loss': 0.24082905054092407, 'eval_accuracy': 0.9132007233273056, 'eval_runtime': 4.4257, 'eval_samples_per_second': 124.952, 'eval_steps_per_second': 2.034, 'epoch': 5.0}\n"
     ]
    }
   ],
   "source": [
    "# to evaluate the model\n",
    "results = trainer.evaluate()\n",
    "print(results)\n",
    "\n",
    "# to save the fine-tuned model\n",
    "MODEL_DIR = PROJECT_DIR / \"finbert-sentiment\"\n",
    "trainer.save_model(MODEL_DIR)"
   ]
  },
  {
   "cell_type": "code",
   "execution_count": 15,
   "metadata": {
    "id": "-BdklYhklzk0"
   },
   "outputs": [],
   "source": [
    "# to release some GPU memory resources after training to prevent memory issues\n",
    "torch.cuda.empty_cache()"
   ]
  },
  {
   "cell_type": "markdown",
   "metadata": {
    "id": "t-JOZPpAGmkZ"
   },
   "source": [
    "## 3. Applying Fine-Tuned and Untuned FinBERT on SEC Filings <a class=\"anchor\" id=\"apply\"></a>\n",
    "\n",
    "If you are running this notebook on ***Google Colab***, use this code snippet to import `filings.gzip`"
   ]
  },
  {
   "cell_type": "code",
   "execution_count": null,
   "metadata": {
    "id": "gmCedhp9VRTr"
   },
   "outputs": [],
   "source": [
    "# to upload files from local machine to Google Colab, and...\n",
    "uploaded = files.upload()\n",
    "\n",
    "# to read the uploaded Parquet file using Pandas and load it into `data`\n",
    "data = pd.read_parquet(io.BytesIO(uploaded['filings.gzip']))"
   ]
  },
  {
   "cell_type": "markdown",
   "metadata": {
    "id": "KYb8Q7MxDXig"
   },
   "source": [
    "If you are running this notebook on ***your local machine***, use this code snippet to import `filings.gzip`"
   ]
  },
  {
   "cell_type": "code",
   "execution_count": 3,
   "metadata": {
    "id": "OK8fgu3GDXQh"
   },
   "outputs": [],
   "source": [
    "# to import filing.gzip and read it with Pandas\n",
    "data_path = PROJECT_DIR / \"data\" / \"filings.gzip\"\n",
    "data = pd.read_parquet(data_path)"
   ]
  },
  {
   "cell_type": "markdown",
   "metadata": {
    "id": "rHZCjRfmXsMy"
   },
   "source": [
    "***"
   ]
  },
  {
   "cell_type": "markdown",
   "metadata": {
    "id": "QdQl1UYqAeHh"
   },
   "source": [
    "### 3.1. Untuned FinBERT <a class=\"anchor\" id=\"untuned\"></a>\n",
    "\n",
    "#### 3.1.1. Untuned FinBERT on SEC 10-K Filings <a class=\"anchor\" id=\"untuned1\"></a>"
   ]
  },
  {
   "cell_type": "code",
   "execution_count": 5,
   "metadata": {
    "id": "ifOVAMDgKfjD"
   },
   "outputs": [],
   "source": [
    "# in case the kernel is restarted\n",
    "untuned_model = BertForSequenceClassification.from_pretrained('yiyanghkust/finbert-tone', num_labels=3)\n",
    "tokenizer = BertTokenizer.from_pretrained('yiyanghkust/finbert-tone', do_lower_case = True)"
   ]
  },
  {
   "cell_type": "code",
   "execution_count": 6,
   "metadata": {
    "colab": {
     "base_uri": "https://localhost:8080/"
    },
    "id": "n6z1OL48nj4K",
    "outputId": "b0f64e41-6f26-4ae7-f3d8-aa8a19d6c02b"
   },
   "outputs": [
    {
     "name": "stdout",
     "output_type": "stream",
     "text": [
      "Iteration 10 Analyzed and prediction appended. Predicted Sentiment: 0\n",
      "Iteration 20 Analyzed and prediction appended. Predicted Sentiment: 0\n",
      "Iteration 30 Analyzed and prediction appended. Predicted Sentiment: 0\n",
      "Iteration 40 Analyzed and prediction appended. Predicted Sentiment: 0\n",
      "Iteration 50 Analyzed and prediction appended. Predicted Sentiment: 0\n",
      "Iteration 60 Analyzed and prediction appended. Predicted Sentiment: 0\n",
      "Iteration 70 Analyzed and prediction appended. Predicted Sentiment: 0\n",
      "Iteration 80 Analyzed and prediction appended. Predicted Sentiment: 0\n",
      "Iteration 90 Analyzed and prediction appended. Predicted Sentiment: 0\n",
      "Iteration 100 Analyzed and prediction appended. Predicted Sentiment: 0\n",
      "Iteration 110 Analyzed and prediction appended. Predicted Sentiment: 0\n",
      "Iteration 120 Analyzed and prediction appended. Predicted Sentiment: 0\n",
      "Iteration 130 Analyzed and prediction appended. Predicted Sentiment: 0\n",
      "Iteration 140 Analyzed and prediction appended. Predicted Sentiment: 0\n",
      "Iteration 150 Analyzed and prediction appended. Predicted Sentiment: 0\n",
      "Iteration 160 Analyzed and prediction appended. Predicted Sentiment: 0\n",
      "Iteration 170 Analyzed and prediction appended. Predicted Sentiment: 0\n",
      "Iteration 180 Analyzed and prediction appended. Predicted Sentiment: 0\n",
      "Iteration 190 Analyzed and prediction appended. Predicted Sentiment: 0\n",
      "Iteration 200 Analyzed and prediction appended. Predicted Sentiment: 0\n",
      "Iteration 210 Analyzed and prediction appended. Predicted Sentiment: 0\n",
      "Iteration 220 Analyzed and prediction appended. Predicted Sentiment: 0\n",
      "Iteration 230 Analyzed and prediction appended. Predicted Sentiment: 0\n",
      "Iteration 240 Analyzed and prediction appended. Predicted Sentiment: 0\n",
      "Iteration 250 Analyzed and prediction appended. Predicted Sentiment: 0\n",
      "Iteration 260 Analyzed and prediction appended. Predicted Sentiment: 0\n",
      "Iteration 270 Analyzed and prediction appended. Predicted Sentiment: 0\n",
      "Iteration 280 Analyzed and prediction appended. Predicted Sentiment: 0\n",
      "Iteration 290 Analyzed and prediction appended. Predicted Sentiment: 0\n",
      "Iteration 300 Analyzed and prediction appended. Predicted Sentiment: 0\n",
      "Iteration 310 Analyzed and prediction appended. Predicted Sentiment: 0\n",
      "Iteration 320 Analyzed and prediction appended. Predicted Sentiment: 0\n",
      "Iteration 330 Analyzed and prediction appended. Predicted Sentiment: 0\n",
      "Iteration 340 Analyzed and prediction appended. Predicted Sentiment: 0\n",
      "Iteration 350 Analyzed and prediction appended. Predicted Sentiment: 0\n",
      "Iteration 360 Analyzed and prediction appended. Predicted Sentiment: 0\n",
      "Iteration 370 Analyzed and prediction appended. Predicted Sentiment: 0\n",
      "Iteration 380 Analyzed and prediction appended. Predicted Sentiment: 0\n",
      "Iteration 390 Analyzed and prediction appended. Predicted Sentiment: 0\n",
      "Iteration 400 Analyzed and prediction appended. Predicted Sentiment: 0\n"
     ]
    }
   ],
   "source": [
    "# a for loop through each row in data\n",
    "for index, row in data.iterrows():\n",
    "    # to tokenize the MD&A text using the tokenizer\n",
    "    tokens = tokenizer.encode_plus(row['MD&A'],\n",
    "                                   add_special_tokens=False,\n",
    "                                   return_tensors='pt'\n",
    "                                   ).to('cuda')\n",
    "\n",
    "    # to split tokens into chunks for sliding window purpose\n",
    "    input_ids_chunks, attention_mask_chunks = get_input_ids_and_attention_mask_chunk(tokens)\n",
    "\n",
    "    # to use PyTorch's to stack input IDs and attention masks\n",
    "    input_ids = torch.stack(input_ids_chunks)\n",
    "    attention_mask = torch.stack(attention_mask_chunks)\n",
    "\n",
    "    # to create dictionary as model input\n",
    "    input_dict = {\n",
    "        'input_ids': input_ids.long(),\n",
    "        'attention_mask': attention_mask.int()\n",
    "    }\n",
    "\n",
    "    # just to be sure that the model is on GPU\n",
    "    untuned_model.to('cuda')\n",
    "\n",
    "    # to get model output and compute softmax probabilities\n",
    "    output = untuned_model(**input_dict)\n",
    "    probs = torch.nn.functional.softmax(output.logits, dim=-1)\n",
    "    mean_probs = probs.mean(dim=0)\n",
    "\n",
    "    # to get the predicted_sentiment using argmax\n",
    "    predicted_sentiment = torch.argmax(mean_probs).item()\n",
    "\n",
    "    # to append the predicted sentiment to the `prediction` column\n",
    "    data.loc[index, 'untuned_prediction'] = predicted_sentiment\n",
    "\n",
    "    # to print a message for every 10 iteration\n",
    "    if (index + 1) % 10 == 0:\n",
    "      print(f\"Iteration {index + 1} Analyzed and prediction appended. Predicted Sentiment: {predicted_sentiment}\")"
   ]
  },
  {
   "cell_type": "code",
   "execution_count": 9,
   "metadata": {
    "id": "tLaQtZ1bIa-1"
   },
   "outputs": [],
   "source": [
    "# to take a subset such that label columns are non-missing for confusion matrix\n",
    "subset = data.dropna(subset=['label'])"
   ]
  },
  {
   "cell_type": "code",
   "execution_count": 10,
   "metadata": {
    "colab": {
     "base_uri": "https://localhost:8080/",
     "height": 564
    },
    "id": "YeH8HqfrBBeu",
    "outputId": "2cf80f2a-4eea-42c5-8204-98f676ad32f7"
   },
   "outputs": [
    {
     "data": {
      "image/png": "[encoded data removed]",
      "text/plain": [
       "<Figure size 800x600 with 1 Axes>"
      ]
     },
     "metadata": {},
     "output_type": "display_data"
    }
   ],
   "source": [
    "cm = confusion_matrix(subset['label'], subset['untuned_prediction'])\n",
    "\n",
    "# to create a confusion matrix heatmap to assess model accuracy\n",
    "plt.figure(figsize=(8, 6))\n",
    "sns.heatmap(cm, annot=True, fmt=\"d\", cmap=\"Reds\", cbar=False, annot_kws={\"size\": 16})\n",
    "plt.xlabel(\"Predicted\")\n",
    "plt.ylabel(\"Actual\")\n",
    "ASSETS_DIR = PROJECT_DIR / \"tex\" / \"assets\"\n",
    "plt.title(\"Confusion Matrix for Untuned FinBERT (SEC 10-K Filings)\")\n",
    "plt.savefig(ASSETS_DIR / \"conf_mat_untuned_sec.png\")\n",
    "plt.show()"
   ]
  },
  {
   "cell_type": "code",
   "execution_count": 11,
   "metadata": {
    "colab": {
     "base_uri": "https://localhost:8080/"
    },
    "id": "PhX9r6krAYY9",
    "outputId": "8f49847f-5e26-4c2d-8d28-6c6fff9363ec"
   },
   "outputs": [
    {
     "name": "stdout",
     "output_type": "stream",
     "text": [
      "Classification Report:\n",
      "              precision    recall  f1-score   support\n",
      "\n",
      "         0.0       0.45      1.00      0.62         9\n",
      "         1.0       0.00      0.00      0.00         8\n",
      "         2.0       0.00      0.00      0.00         3\n",
      "\n",
      "    accuracy                           0.45        20\n",
      "   macro avg       0.15      0.33      0.21        20\n",
      "weighted avg       0.20      0.45      0.28        20\n",
      "\n"
     ]
    },
    {
     "name": "stderr",
     "output_type": "stream",
     "text": [
      "/usr/local/lib/python3.10/dist-packages/sklearn/metrics/_classification.py:1344: UndefinedMetricWarning: Precision and F-score are ill-defined and being set to 0.0 in labels with no predicted samples. Use `zero_division` parameter to control this behavior.\n",
      "  _warn_prf(average, modifier, msg_start, len(result))\n",
      "/usr/local/lib/python3.10/dist-packages/sklearn/metrics/_classification.py:1344: UndefinedMetricWarning: Precision and F-score are ill-defined and being set to 0.0 in labels with no predicted samples. Use `zero_division` parameter to control this behavior.\n",
      "  _warn_prf(average, modifier, msg_start, len(result))\n",
      "/usr/local/lib/python3.10/dist-packages/sklearn/metrics/_classification.py:1344: UndefinedMetricWarning: Precision and F-score are ill-defined and being set to 0.0 in labels with no predicted samples. Use `zero_division` parameter to control this behavior.\n",
      "  _warn_prf(average, modifier, msg_start, len(result))\n"
     ]
    }
   ],
   "source": [
    "# to create a classification report to assess model accuracy\n",
    "report = classification_report(subset['label'], subset['untuned_prediction'])\n",
    "print(\"Classification Report:\")\n",
    "print(report)"
   ]
  },
  {
   "cell_type": "code",
   "execution_count": 12,
   "metadata": {
    "id": "VpDCFUf-IRGY"
   },
   "outputs": [],
   "source": [
    "# to release some GPU memory resources after training to prevent memory issues\n",
    "torch.cuda.empty_cache()"
   ]
  },
  {
   "cell_type": "markdown",
   "metadata": {
    "id": "jmcLkK4uYTJF"
   },
   "source": [
    "#### 3.1.2. Untuned FinBERT on 'Financial Phrasebank' <a class=\"anchor\" id=\"untuned2\"></a>"
   ]
  },
  {
   "cell_type": "code",
   "execution_count": 14,
   "metadata": {
    "id": "hpidWlLjY8Es"
   },
   "outputs": [],
   "source": [
    "# in case, the kernel is restarted\n",
    "dataset = load_dataset(\"financial_phrasebank\", \"sentences_75agree\")\n",
    "untuned_model = BertForSequenceClassification.from_pretrained('yiyanghkust/finbert-tone', num_labels=3)\n",
    "tokenizer = BertTokenizer.from_pretrained('yiyanghkust/finbert-tone', do_lower_case = True)"
   ]
  },
  {
   "cell_type": "code",
   "execution_count": 15,
   "metadata": {
    "id": "m7-45mfDYTsN"
   },
   "outputs": [],
   "source": [
    "# to apply user-defined `tokenize` function using `DatasetDict.map`\n",
    "dataset_encoded = dataset.map(tokenize,\n",
    "                              batched=True,\n",
    "                              batch_size=None)"
   ]
  },
  {
   "cell_type": "code",
   "execution_count": 16,
   "metadata": {
    "colab": {
     "base_uri": "https://localhost:8080/"
    },
    "id": "mjjadRuVY3qy",
    "outputId": "840580f4-9f15-48a8-bdf9-f7c2928a36da"
   },
   "outputs": [
    {
     "name": "stdout",
     "output_type": "stream",
     "text": [
      "The shapes of train, test, and validations sets are (2762, 5), (691, 5), respectively.\n"
     ]
    }
   ],
   "source": [
    "# to set the format of the encoded dataset to use pandas DataFrames\n",
    "dataset_encoded.set_format(type=\"pandas\")\n",
    "\n",
    "# to split the dataset into train and test sets using stratified sampling\n",
    "dataset_train, dataset_test = train_test_split(dataset_encoded[\"train\"], stratify=dataset_encoded[\"train\"][\"label\"], test_size=0.2, random_state=44)\n",
    "\n",
    "print(f\"The shapes of train, test, and validations sets are {dataset_train.shape}, {dataset_test.shape}, respectively.\")"
   ]
  },
  {
   "cell_type": "code",
   "execution_count": 17,
   "metadata": {
    "id": "eJkXFyCuqsCK"
   },
   "outputs": [],
   "source": [
    "# mapping of dataset labels to model labels\n",
    "\n",
    "# sentiment | financial_phrasebank | FinBERT\n",
    "# ----------|----------------------|---------\n",
    "# negative  |          0           |    2\n",
    "# neutral   |          1           |    0\n",
    "# positive  |          2           |    1\n",
    "\n",
    "untuned_label_mapping = {0: 2, 1: 0, 2: 1}\n",
    "\n",
    "# Apply label mapping to the dataset\n",
    "dataset_test['label_for_untuned'] = dataset_test['label'].apply(lambda x: untuned_label_mapping.get(x))"
   ]
  },
  {
   "cell_type": "code",
   "execution_count": 18,
   "metadata": {
    "id": "-kdv4YvxZB0S"
   },
   "outputs": [],
   "source": [
    "# to set the format of the training and test dataset\n",
    "dataset_train = Dataset.from_pandas(dataset_train)\n",
    "dataset_train.set_format(type=\"torch\")\n",
    "dataset_test = Dataset.from_pandas(dataset_test)\n",
    "dataset_test.set_format(type=\"torch\")"
   ]
  },
  {
   "cell_type": "code",
   "execution_count": 19,
   "metadata": {
    "id": "DSQ4WM6roJIv"
   },
   "outputs": [],
   "source": [
    "# to extract required inputs to predict sentiments\n",
    "input_ids_test      = dataset_test['input_ids'].to(device)\n",
    "token_type_ids_test = dataset_test['token_type_ids'].to(device)\n",
    "attention_mask_test = dataset_test['attention_mask'].to(device)"
   ]
  },
  {
   "cell_type": "code",
   "execution_count": 20,
   "metadata": {
    "id": "tJbALhqxoSC_"
   },
   "outputs": [],
   "source": [
    "# to obtain logits then class probabilities applying softmax\n",
    "with torch.no_grad():\n",
    "    untuned_model.to(device)\n",
    "\n",
    "    logits = untuned_model(input_ids=input_ids_test,\n",
    "                           attention_mask=attention_mask_test\n",
    "                           ).logits\n",
    "\n",
    "probs = torch.nn.functional.softmax(logits, dim=1)\n",
    "\n",
    "\n",
    "# to get predicted labels\n",
    "predicted_labels = torch.argmax(probs, dim=1).cpu().numpy()"
   ]
  },
  {
   "cell_type": "code",
   "execution_count": 21,
   "metadata": {
    "colab": {
     "base_uri": "https://localhost:8080/"
    },
    "id": "leu35oC1t_CU",
    "outputId": "49813667-4294-4aa4-afa1-c8515ea2df0e"
   },
   "outputs": [
    {
     "name": "stdout",
     "output_type": "stream",
     "text": [
      "Accuracy: 86.69%\n"
     ]
    }
   ],
   "source": [
    "# to calculate and print accuracy\n",
    "accuracy = accuracy_score(dataset_test['label_for_untuned'], predicted_labels)\n",
    "print(f\"Accuracy: {accuracy:.2%}\")"
   ]
  },
  {
   "cell_type": "code",
   "execution_count": 22,
   "metadata": {
    "colab": {
     "base_uri": "https://localhost:8080/",
     "height": 564
    },
    "id": "B6v5nEiFc07v",
    "outputId": "396b4732-df3a-4ba3-c466-f55f39aa02a6"
   },
   "outputs": [
    {
     "data": {
      "image/png": "[encoded data removed]",
      "text/plain": [
       "<Figure size 800x600 with 1 Axes>"
      ]
     },
     "metadata": {},
     "output_type": "display_data"
    }
   ],
   "source": [
    "# to create a confusion matrix\n",
    "confusion = confusion_matrix(dataset_test['label_for_untuned'], predicted_labels)\n",
    "plt.figure(figsize=(8, 6))\n",
    "sns.heatmap(confusion, annot=True, fmt='d', cmap='Reds', cbar=False,\n",
    "            xticklabels=[\"Neutral\", \"Positive\", \"Negative\"],\n",
    "            yticklabels=[\"Neutral\", \"Positive\", \"Negative\"])\n",
    "plt.xlabel('PREDICTED')\n",
    "plt.ylabel('ACTUAL')\n",
    "plt.title('Confusion Matrix for Untuned FinBERT')\n",
    "ASSETS_DIR = PROJECT_DIR / \"tex\" / \"assets\"\n",
    "plt.savefig(ASSETS_DIR / 'conf_mat_untuned.png')\n",
    "plt.show()"
   ]
  },
  {
   "cell_type": "code",
   "execution_count": 23,
   "metadata": {
    "id": "qiRrXsGCLl4n"
   },
   "outputs": [],
   "source": [
    "# to release some GPU memory resources after training to prevent memory issues\n",
    "torch.cuda.empty_cache()"
   ]
  },
  {
   "cell_type": "markdown",
   "metadata": {
    "id": "u2LzaQVtAidU"
   },
   "source": [
    "### 3.2. Fine-tuned FinBERT <a class=\"anchor\" id=\"finetuned\"></a>\n",
    "\n",
    "#### 3.2.1. Fine-tuned FinBERT on SEC 10-K Filings <a class=\"anchor\" id=\"finetuned1\"></a>"
   ]
  },
  {
   "cell_type": "code",
   "execution_count": 5,
   "metadata": {
    "id": "fO_-fpY3XUiU"
   },
   "outputs": [],
   "source": [
    "# to import filing.gzip and read it with Pandas\n",
    "data_path = PROJECT_DIR / \"data\" / \"filings.gzip\"\n",
    "data = pd.read_parquet(data_path)"
   ]
  },
  {
   "cell_type": "code",
   "execution_count": 10,
   "metadata": {
    "id": "eS1x-Xu39-4n"
   },
   "outputs": [],
   "source": [
    "# in case kernel is restarted\n",
    "MODEL_DIR = PROJECT_DIR / \"finbert-sentiment\"\n",
    "finetuned_model = AutoModelForSequenceClassification.from_pretrained(MODEL_DIR)\n",
    "tokenizer = BertTokenizer.from_pretrained('yiyanghkust/finbert-tone', do_lower_case = True)"
   ]
  },
  {
   "cell_type": "code",
   "execution_count": 11,
   "metadata": {
    "colab": {
     "base_uri": "https://localhost:8080/"
    },
    "id": "r4wdsRf382kA",
    "outputId": "24ed7ac4-87ab-43ec-f333-255b19701491"
   },
   "outputs": [
    {
     "name": "stdout",
     "output_type": "stream",
     "text": [
      "Iteration 10 Analyzed and prediction appended. Predicted Sentiment: 1\n",
      "Iteration 20 Analyzed and prediction appended. Predicted Sentiment: 1\n",
      "Iteration 30 Analyzed and prediction appended. Predicted Sentiment: 1\n",
      "Iteration 40 Analyzed and prediction appended. Predicted Sentiment: 1\n",
      "Iteration 50 Analyzed and prediction appended. Predicted Sentiment: 1\n",
      "Iteration 60 Analyzed and prediction appended. Predicted Sentiment: 1\n",
      "Iteration 70 Analyzed and prediction appended. Predicted Sentiment: 1\n",
      "Iteration 80 Analyzed and prediction appended. Predicted Sentiment: 1\n",
      "Iteration 90 Analyzed and prediction appended. Predicted Sentiment: 1\n",
      "Iteration 100 Analyzed and prediction appended. Predicted Sentiment: 1\n",
      "Iteration 110 Analyzed and prediction appended. Predicted Sentiment: 1\n",
      "Iteration 120 Analyzed and prediction appended. Predicted Sentiment: 1\n",
      "Iteration 130 Analyzed and prediction appended. Predicted Sentiment: 1\n",
      "Iteration 140 Analyzed and prediction appended. Predicted Sentiment: 1\n",
      "Iteration 150 Analyzed and prediction appended. Predicted Sentiment: 1\n",
      "Iteration 160 Analyzed and prediction appended. Predicted Sentiment: 1\n",
      "Iteration 170 Analyzed and prediction appended. Predicted Sentiment: 1\n",
      "Iteration 180 Analyzed and prediction appended. Predicted Sentiment: 1\n",
      "Iteration 190 Analyzed and prediction appended. Predicted Sentiment: 1\n",
      "Iteration 200 Analyzed and prediction appended. Predicted Sentiment: 1\n",
      "Iteration 210 Analyzed and prediction appended. Predicted Sentiment: 1\n",
      "Iteration 220 Analyzed and prediction appended. Predicted Sentiment: 1\n",
      "Iteration 230 Analyzed and prediction appended. Predicted Sentiment: 1\n",
      "Iteration 240 Analyzed and prediction appended. Predicted Sentiment: 1\n",
      "Iteration 250 Analyzed and prediction appended. Predicted Sentiment: 1\n",
      "Iteration 260 Analyzed and prediction appended. Predicted Sentiment: 1\n",
      "Iteration 270 Analyzed and prediction appended. Predicted Sentiment: 1\n",
      "Iteration 280 Analyzed and prediction appended. Predicted Sentiment: 1\n",
      "Iteration 290 Analyzed and prediction appended. Predicted Sentiment: 1\n",
      "Iteration 300 Analyzed and prediction appended. Predicted Sentiment: 1\n",
      "Iteration 310 Analyzed and prediction appended. Predicted Sentiment: 1\n",
      "Iteration 320 Analyzed and prediction appended. Predicted Sentiment: 1\n",
      "Iteration 330 Analyzed and prediction appended. Predicted Sentiment: 1\n",
      "Iteration 340 Analyzed and prediction appended. Predicted Sentiment: 1\n",
      "Iteration 350 Analyzed and prediction appended. Predicted Sentiment: 1\n",
      "Iteration 360 Analyzed and prediction appended. Predicted Sentiment: 1\n",
      "Iteration 370 Analyzed and prediction appended. Predicted Sentiment: 1\n",
      "Iteration 380 Analyzed and prediction appended. Predicted Sentiment: 1\n",
      "Iteration 390 Analyzed and prediction appended. Predicted Sentiment: 1\n",
      "Iteration 400 Analyzed and prediction appended. Predicted Sentiment: 1\n"
     ]
    }
   ],
   "source": [
    "# a for loop through each row in data\n",
    "for index, row in data.iterrows():\n",
    "    # to tokenize the MD&A text using the tokenizer\n",
    "    tokens = tokenizer.encode_plus(row['MD&A'],\n",
    "                                   add_special_tokens=False,\n",
    "                                   return_tensors='pt'\n",
    "                                   ).to(device)\n",
    "\n",
    "    # to split tokens into chunks for sliding window purpose\n",
    "    input_ids_chunks, attention_mask_chunks = get_input_ids_and_attention_mask_chunk(tokens)\n",
    "\n",
    "    # to use PyTorch's to stack input IDs and attention masks\n",
    "    input_ids = torch.stack(input_ids_chunks)\n",
    "    attention_mask = torch.stack(attention_mask_chunks)\n",
    "\n",
    "    # to create dictionary as model input\n",
    "    input_dict = {\n",
    "        'input_ids': input_ids.long(),\n",
    "        'attention_mask': attention_mask.int()\n",
    "    }\n",
    "\n",
    "    # just to be sure that the model is on GPU\n",
    "    finetuned_model.to('cuda')\n",
    "\n",
    "    # to get model output and compute softmax probabilities\n",
    "    output = finetuned_model(**input_dict)\n",
    "    probs = torch.nn.functional.softmax(output.logits, dim=-1)\n",
    "    mean_probs = probs.mean(dim=0)\n",
    "\n",
    "    # to get the predicted_sentiment using argmax\n",
    "    predicted_sentiment = torch.argmax(mean_probs).item()\n",
    "\n",
    "    # to append the predicted sentiment to the `prediction` column\n",
    "    data.loc[index, 'finetuned_prediction'] = predicted_sentiment\n",
    "\n",
    "    # to print a message for every 10 iteration\n",
    "    if (index + 1) % 10 == 0:\n",
    "      print(f\"Iteration {index + 1} Analyzed and prediction appended. Predicted Sentiment: {predicted_sentiment}\")"
   ]
  },
  {
   "cell_type": "code",
   "execution_count": 12,
   "metadata": {
    "id": "IbmiTeGwE7fZ"
   },
   "outputs": [],
   "source": [
    "# to take a subset such that label columns are non-missing for confusion matrix\n",
    "subset = data.dropna(subset=['label'])"
   ]
  },
  {
   "cell_type": "code",
   "execution_count": 13,
   "metadata": {
    "colab": {
     "base_uri": "https://localhost:8080/",
     "height": 564
    },
    "id": "mKTgcHLy-NWw",
    "outputId": "962b0115-9a20-42ff-e2c4-9254eb30b2c4"
   },
   "outputs": [
    {
     "data": {
      "image/png": "[encoded data removed]",
      "text/plain": [
       "<Figure size 800x600 with 2 Axes>"
      ]
     },
     "metadata": {},
     "output_type": "display_data"
    }
   ],
   "source": [
    "cm = confusion_matrix(subset['label'], subset['finetuned_prediction'])\n",
    "\n",
    "# to create a confusion matrix heatmap to assess model accuracy\n",
    "plt.figure(figsize=(8, 6))\n",
    "sns.heatmap(cm, annot=True, fmt=\"d\", cmap=\"Reds\", annot_kws={\"size\": 16})\n",
    "plt.xlabel(\"Predicted\")\n",
    "plt.ylabel(\"Actual\")\n",
    "plt.title(\"Confusion Matrix for Fine-Tuned FinBERT (SEC 10-K Filings)\")\n",
    "ASSETS_DIR = PROJECT_DIR / \"tex\" / \"assets\"\n",
    "plt.savefig(ASSETS_DIR / \"conf_mat_finetuned_sec.png\")\n",
    "plt.show()"
   ]
  },
  {
   "cell_type": "code",
   "execution_count": 25,
   "metadata": {
    "colab": {
     "base_uri": "https://localhost:8080/"
    },
    "id": "rM0H_w3SBYVI",
    "outputId": "4fb0c89b-c691-4b99-f80e-a92698411ab7"
   },
   "outputs": [
    {
     "name": "stdout",
     "output_type": "stream",
     "text": [
      "Classification Report:\n",
      "              precision    recall  f1-score   support\n",
      "\n",
      "         0.0       0.00      0.00      0.00         9\n",
      "         1.0       0.40      1.00      0.57         8\n",
      "         2.0       0.00      0.00      0.00         3\n",
      "\n",
      "    accuracy                           0.40        20\n",
      "   macro avg       0.13      0.33      0.19        20\n",
      "weighted avg       0.16      0.40      0.23        20\n",
      "\n"
     ]
    },
    {
     "name": "stderr",
     "output_type": "stream",
     "text": [
      "/usr/local/lib/python3.10/dist-packages/sklearn/metrics/_classification.py:1344: UndefinedMetricWarning: Precision and F-score are ill-defined and being set to 0.0 in labels with no predicted samples. Use `zero_division` parameter to control this behavior.\n",
      "  _warn_prf(average, modifier, msg_start, len(result))\n",
      "/usr/local/lib/python3.10/dist-packages/sklearn/metrics/_classification.py:1344: UndefinedMetricWarning: Precision and F-score are ill-defined and being set to 0.0 in labels with no predicted samples. Use `zero_division` parameter to control this behavior.\n",
      "  _warn_prf(average, modifier, msg_start, len(result))\n",
      "/usr/local/lib/python3.10/dist-packages/sklearn/metrics/_classification.py:1344: UndefinedMetricWarning: Precision and F-score are ill-defined and being set to 0.0 in labels with no predicted samples. Use `zero_division` parameter to control this behavior.\n",
      "  _warn_prf(average, modifier, msg_start, len(result))\n"
     ]
    }
   ],
   "source": [
    "# to create a classification report to assess model accuracy\n",
    "report = classification_report(subset['label'], subset['finetuned_prediction'])\n",
    "print(\"Classification Report:\")\n",
    "print(report)"
   ]
  },
  {
   "cell_type": "code",
   "execution_count": 14,
   "metadata": {
    "id": "St8YiGW6JqeU"
   },
   "outputs": [],
   "source": [
    "# to release some GPU memory resources after training to prevent memory issues\n",
    "torch.cuda.empty_cache()"
   ]
  },
  {
   "cell_type": "markdown",
   "metadata": {
    "id": "d7-9mZA-YgJA"
   },
   "source": [
    "#### 3.2.2. Fine-tuned FinBERT on 'Financial Phrasebank' <a class=\"anchor\" id=\"finetuned1\"></a>"
   ]
  },
  {
   "cell_type": "code",
   "execution_count": 8,
   "metadata": {
    "id": "3UwMjvWZPHSv"
   },
   "outputs": [],
   "source": [
    "# in case kernel is restarted\n",
    "dataset = load_dataset(\"financial_phrasebank\", \"sentences_75agree\")\n",
    "MODEL_DIR = PROJECT_DIR / \"finbert-sentiment\"\n",
    "finetuned_model = AutoModelForSequenceClassification.from_pretrained(MODEL_DIR)\n",
    "tokenizer = BertTokenizer.from_pretrained('yiyanghkust/finbert-tone', do_lower_case = True)"
   ]
  },
  {
   "cell_type": "code",
   "execution_count": 9,
   "metadata": {
    "id": "3cUJ3jFoPR6b"
   },
   "outputs": [],
   "source": [
    "# to apply user-defined `tokenize` function using `DatasetDict.map`\n",
    "dataset_encoded = dataset.map(tokenize,\n",
    "                              batched=True,\n",
    "                              batch_size=None)"
   ]
  },
  {
   "cell_type": "code",
   "execution_count": 10,
   "metadata": {
    "colab": {
     "base_uri": "https://localhost:8080/"
    },
    "id": "isgBPr-IPSsJ",
    "outputId": "e968848d-bc24-4504-933a-7fded8597388"
   },
   "outputs": [
    {
     "name": "stdout",
     "output_type": "stream",
     "text": [
      "The shapes of train, test, and validations sets are (2762, 5), (691, 5), respectively.\n"
     ]
    }
   ],
   "source": [
    "# to set the format of the encoded dataset to use pandas DataFrames\n",
    "dataset_encoded.set_format(type=\"pandas\")\n",
    "\n",
    "# to split the dataset into train and test sets using stratified sampling\n",
    "dataset_train, dataset_test = train_test_split(dataset_encoded[\"train\"],\n",
    "                                               stratify=dataset_encoded[\"train\"][\"label\"],\n",
    "                                               test_size=0.2,\n",
    "                                               random_state=44)\n",
    "\n",
    "print(f\"The shapes of train, test, and validations sets are {dataset_train.shape}, {dataset_test.shape}, respectively.\")"
   ]
  },
  {
   "cell_type": "code",
   "execution_count": 11,
   "metadata": {
    "id": "bGvnOreCqlAc"
   },
   "outputs": [],
   "source": [
    "# to set the format of the training and test dataset\n",
    "dataset_train = Dataset.from_pandas(dataset_train)\n",
    "dataset_train.set_format(type=\"torch\")\n",
    "dataset_test = Dataset.from_pandas(dataset_test)\n",
    "dataset_test.set_format(type=\"torch\")"
   ]
  },
  {
   "cell_type": "code",
   "execution_count": 12,
   "metadata": {
    "id": "SOdHTPz0PYY7"
   },
   "outputs": [],
   "source": [
    "# to extract required inputs to predict sentiments\n",
    "input_ids_test      = dataset_test['input_ids'].to(device)\n",
    "token_type_ids_test = dataset_test['token_type_ids'].to(device)\n",
    "attention_mask_test = dataset_test['attention_mask'].to(device)"
   ]
  },
  {
   "cell_type": "code",
   "execution_count": 13,
   "metadata": {
    "id": "4lyUmknyYftA"
   },
   "outputs": [],
   "source": [
    "# to obtain logits then class probabilities applying softmax\n",
    "with torch.no_grad():\n",
    "    finetuned_model.to(device)\n",
    "\n",
    "    logits = finetuned_model(input_ids=input_ids_test,\n",
    "                             attention_mask=attention_mask_test\n",
    "                            ).logits\n",
    "\n",
    "probs = torch.nn.functional.softmax(logits, dim=1)\n",
    "\n",
    "\n",
    "# to get predicted labels\n",
    "predicted_labels = torch.argmax(probs, dim=1).cpu().numpy()"
   ]
  },
  {
   "cell_type": "code",
   "execution_count": 14,
   "metadata": {
    "colab": {
     "base_uri": "https://localhost:8080/"
    },
    "id": "ME1bvgZAuaqB",
    "outputId": "b0d63a0d-1554-43e9-ef89-a412ef3f40fc"
   },
   "outputs": [
    {
     "name": "stdout",
     "output_type": "stream",
     "text": [
      "Accuracy: 92.47%\n"
     ]
    }
   ],
   "source": [
    "# to calculate and print accuracy\n",
    "accuracy = accuracy_score(dataset_test[\"label\"], predicted_labels)\n",
    "print(f\"Accuracy: {accuracy:.2%}\")"
   ]
  },
  {
   "cell_type": "code",
   "execution_count": 15,
   "metadata": {
    "colab": {
     "base_uri": "https://localhost:8080/",
     "height": 564
    },
    "id": "HsaZZY0Dul6q",
    "outputId": "7269146a-53dd-414e-9b95-e5b617aeb2f0"
   },
   "outputs": [
    {
     "data": {
      "image/png": "[encoded data removed]",
      "text/plain": [
       "<Figure size 800x600 with 1 Axes>"
      ]
     },
     "metadata": {},
     "output_type": "display_data"
    }
   ],
   "source": [
    "# to create a confusion matrix\n",
    "confusion = confusion_matrix(dataset_test[\"label\"], predicted_labels)\n",
    "plt.figure(figsize=(8, 6))\n",
    "sns.heatmap(confusion, annot=True, fmt='d', cmap='Reds', cbar=False,\n",
    "            xticklabels=[\"Negative\", \"Neutral\", \"Positive\"],\n",
    "            yticklabels=[\"Negative\", \"Neutral\", \"Positive\"])\n",
    "plt.xlabel('PREDICTED')\n",
    "plt.ylabel('ACTUAL')\n",
    "plt.title('Confusion Matrix with Fine-Tuned FinBERT')\n",
    "ASSETS_DIR = PROJECT_DIR / \"tex\" / \"assets\"\n",
    "plt.savefig(ASSETS_DIR / 'conf_mat_finetuned.png')\n",
    "plt.show()"
   ]
  },
  {
   "cell_type": "code",
   "execution_count": 54,
   "metadata": {
    "id": "PoPDkn8qLtRW"
   },
   "outputs": [],
   "source": [
    "# to release some GPU memory resources after training to prevent memory issues\n",
    "torch.cuda.empty_cache()"
   ]
  },
  {
   "cell_type": "markdown",
   "metadata": {
    "id": "Xf2MTIKwf4cR"
   },
   "source": [
    "## 4. Feature Extraction <a class=\"anchor\" id=\"featureextraction\"></a>"
   ]
  },
  {
   "cell_type": "code",
   "execution_count": 4,
   "metadata": {
    "colab": {
     "base_uri": "https://localhost:8080/",
     "height": 49,
     "referenced_widgets": [
      "85a24e6c1ab04cc0861c7a8658c57731",
      "f516f1084aee4a72a0eaa17664882cc6",
      "64c0a6e85b9944d2b689580caa7d62e6",
      "db9eed2f66ce424da585a30fd66a2592",
      "b041f275ca7e489cb1a96c509db286c1",
      "84ceeba3aa864e18afb100db8c089e9f",
      "5f25c49e25c14cbba19d4545d4a8cb32",
      "1daa8961c62142e7994cbc7bc1246a4e",
      "e0b9db68eab64bb788fadc12c11a89ea",
      "d2031144e02b4ebeab556d143bd8ade1",
      "932cce58359e4b11a01f56206ab21b17"
     ]
    },
    "id": "4DriuQ02DnPn",
    "outputId": "a7ca9843-9fea-490c-d371-118075b5b65a"
   },
   "outputs": [
    {
     "data": {
      "application/vnd.jupyter.widget-view+json": {
       "model_id": "85a24e6c1ab04cc0861c7a8658c57731",
       "version_major": 2,
       "version_minor": 0
      },
      "text/plain": [
       "Downloading (…)solve/main/vocab.txt:   0%|          | 0.00/226k [00:00<?, ?B/s]"
      ]
     },
     "metadata": {},
     "output_type": "display_data"
    }
   ],
   "source": [
    "# in case kernel is restarted\n",
    "model = AutoModel.from_pretrained(\"yiyanghkust/finbert-pretrain\")\n",
    "tokenizer = AutoTokenizer.from_pretrained(\"yiyanghkust/finbert-pretrain\")\n",
    "dataset = load_dataset(\"financial_phrasebank\", \"sentences_75agree\")"
   ]
  },
  {
   "cell_type": "markdown",
   "metadata": {
    "id": "mXjf9J_eTUp-"
   },
   "source": [
    "### 4.1. Feature Extraction with Random Forest Classifier <a class=\"anchor\" id=\"feature\"></a>\n"
   ]
  },
  {
   "cell_type": "code",
   "execution_count": 5,
   "metadata": {
    "colab": {
     "base_uri": "https://localhost:8080/",
     "height": 66,
     "referenced_widgets": [
      "485126bdf6e647cf9cb970126b1c69df",
      "37c638af27c748f48cdca58bfaa6f44f",
      "455e17297ef74f3185eec47a4f574752",
      "4f380d7510364587bdbcc70774363a95",
      "f88564b206094bedbd20960af9abfbbf",
      "a74903642cc041f4b31725b013546159",
      "1f7fead46a0b481a93e2543f492967f2",
      "f5c07f4c5cbf42a5b764aecc3bd53b0c",
      "d1a2deb59703429193c08fae1b6955d3",
      "ce76d8a276e444829dbf157eae45fe4f",
      "de87b6a2fb0946d08622672ecd2b80e1"
     ]
    },
    "id": "_rut19kwcFJh",
    "outputId": "0950e3f2-f10f-4855-f5d7-10e143c63d00"
   },
   "outputs": [
    {
     "data": {
      "application/vnd.jupyter.widget-view+json": {
       "model_id": "485126bdf6e647cf9cb970126b1c69df",
       "version_major": 2,
       "version_minor": 0
      },
      "text/plain": [
       "Map:   0%|          | 0/3453 [00:00<?, ? examples/s]"
      ]
     },
     "metadata": {},
     "output_type": "display_data"
    },
    {
     "name": "stderr",
     "output_type": "stream",
     "text": [
      "Asking to truncate to max_length but no maximum length is provided and the model has no predefined maximum length. Default to no truncation.\n"
     ]
    }
   ],
   "source": [
    "# to apply user-defined `tokenize` function using `DatasetDict.map`\n",
    "dataset_encoded = dataset.map(tokenize,\n",
    "                              batched=True,\n",
    "                              batch_size=None)"
   ]
  },
  {
   "cell_type": "code",
   "execution_count": null,
   "metadata": {
    "id": "eFbDH7RZn0Nm"
   },
   "outputs": [],
   "source": [
    "# train-test splitting with user-defined function\n",
    "dataset_train, dataset_test = split_and_format_dataset(dataset_encoded, test_size=0.2, random_state=44)"
   ]
  },
  {
   "cell_type": "code",
   "execution_count": 10,
   "metadata": {
    "colab": {
     "base_uri": "https://localhost:8080/",
     "height": 138,
     "referenced_widgets": [
      "b043f6834ab84489acc93865143d85e1",
      "3072dd7dd5f0479182d84572b6b345da",
      "f33b3a6133a7433895ef390bc656a853",
      "4cafb80671b942f5b739aa52dccf5452",
      "5dca29eb2e6a4e73ac823f796c27035e",
      "b5425a51b9d440bca521f019152dea0b",
      "7917ae48a2334526ac8b40ee3a02d8cc",
      "13ad280df056439699a4bd12b0f815e3",
      "dd4e6ca5d4c54175b7b8b6de8222e466",
      "af48dc5f33904ddbade7e1619e415b8b",
      "8ad92f0f571244d2a7731e80d4011718"
     ]
    },
    "id": "DuDndpGOWF_l",
    "outputId": "8c1cf2f5-1ea6-4d16-88ae-d8cfccd089a0"
   },
   "outputs": [
    {
     "data": {
      "application/vnd.jupyter.widget-view+json": {
       "model_id": "b043f6834ab84489acc93865143d85e1",
       "version_major": 2,
       "version_minor": 0
      },
      "text/plain": [
       "Map:   0%|          | 0/2762 [00:00<?, ? examples/s]"
      ]
     },
     "metadata": {},
     "output_type": "display_data"
    },
    {
     "name": "stderr",
     "output_type": "stream",
     "text": [
      "<ipython-input-3-375ae6d42ab1>:172: UserWarning: To copy construct from a tensor, it is recommended to use sourceTensor.clone().detach() or sourceTensor.clone().detach().requires_grad_(True), rather than torch.tensor(sourceTensor).\n",
      "  input_ids = torch.tensor(batch[\"input_ids\"])\n",
      "<ipython-input-3-375ae6d42ab1>:173: UserWarning: To copy construct from a tensor, it is recommended to use sourceTensor.clone().detach() or sourceTensor.clone().detach().requires_grad_(True), rather than torch.tensor(sourceTensor).\n",
      "  attention_mask = torch.tensor(batch[\"attention_mask\"])\n"
     ]
    }
   ],
   "source": [
    "# to use the 'map' function to apply 'extract_states' to 'dataset_train'\n",
    "lhs_train = dataset_train.map(\n",
    "    extract_states,               # to call the 'extract_states' function for each batch\n",
    "    batched=True,                 # to process data in batches\n",
    "    batch_size=64,                # to set batch size to 64\n",
    "    fn_kwargs={\"model\": model}    # to pass the \"yiyanghkust/finbert-pretrain\" as a keyword argument\n",
    ")"
   ]
  },
  {
   "cell_type": "code",
   "execution_count": 11,
   "metadata": {
    "colab": {
     "base_uri": "https://localhost:8080/",
     "height": 138,
     "referenced_widgets": [
      "bc4a95f8edfd4f0fa497b569ec0adac7",
      "9cc59c8bd25346cdb009b594c4ccb873",
      "5774617c2248412a9524f84b94ae4b7f",
      "fd42c22991f04b6686ce8f19101aaba3",
      "3cd66babc68a4408a215db72b6b05c3b",
      "ad471451a43f429e8f47ee84256e0365",
      "81bf1a887d9a4b67b03f45cc3251fc40",
      "688f57d53ef44516bb0f9ed169541616",
      "dd355501541a4ac59a4c82443b642aa2",
      "a18ee163df5847d5ad0826a9409c1685",
      "414cb92efdac4bdb9126e2040353c62d"
     ]
    },
    "id": "kFNMgRjbyzua",
    "outputId": "4ac67d22-609b-4986-94e0-f86fa5b5c298"
   },
   "outputs": [
    {
     "data": {
      "application/vnd.jupyter.widget-view+json": {
       "model_id": "bc4a95f8edfd4f0fa497b569ec0adac7",
       "version_major": 2,
       "version_minor": 0
      },
      "text/plain": [
       "Map:   0%|          | 0/691 [00:00<?, ? examples/s]"
      ]
     },
     "metadata": {},
     "output_type": "display_data"
    },
    {
     "name": "stderr",
     "output_type": "stream",
     "text": [
      "<ipython-input-3-375ae6d42ab1>:172: UserWarning: To copy construct from a tensor, it is recommended to use sourceTensor.clone().detach() or sourceTensor.clone().detach().requires_grad_(True), rather than torch.tensor(sourceTensor).\n",
      "  input_ids = torch.tensor(batch[\"input_ids\"])\n",
      "<ipython-input-3-375ae6d42ab1>:173: UserWarning: To copy construct from a tensor, it is recommended to use sourceTensor.clone().detach() or sourceTensor.clone().detach().requires_grad_(True), rather than torch.tensor(sourceTensor).\n",
      "  attention_mask = torch.tensor(batch[\"attention_mask\"])\n"
     ]
    }
   ],
   "source": [
    "# to use the 'map' function to apply 'extract_states' to 'dataset_test'\n",
    "lhs_test = dataset_test.map(\n",
    "    extract_states,               # to call the 'extract_states' function for each batch\n",
    "    batched=True,                 # to process data in batches\n",
    "    batch_size=64,                # to set batch size to 64\n",
    "    fn_kwargs={\"model\": model}    # to pass the \"yiyanghkust/finbert-pretrain\" as a keyword argument\n",
    ")"
   ]
  },
  {
   "cell_type": "code",
   "execution_count": 12,
   "metadata": {
    "colab": {
     "base_uri": "https://localhost:8080/"
    },
    "id": "BLLTADX9IU1q",
    "outputId": "7728c209-f49d-4d6e-c4a4-ac63f598e9b5"
   },
   "outputs": [
    {
     "data": {
      "text/plain": [
       "datasets.arrow_dataset.Dataset"
      ]
     },
     "execution_count": 12,
     "metadata": {},
     "output_type": "execute_result"
    }
   ],
   "source": [
    "type(lhs_train)"
   ]
  },
  {
   "cell_type": "code",
   "execution_count": 13,
   "metadata": {
    "id": "Qc14aMXXG0kj"
   },
   "outputs": [],
   "source": [
    "# to extract the hidden states from the 'lhs_train' and 'lhs_test' datasets and convert them to NumPy arrays\n",
    "X_train = np.array(lhs_train[\"hidden_state\"])\n",
    "X_test = np.array(lhs_test[\"hidden_state\"])\n",
    "\n",
    "# to extract the labels from the 'lhs_train' and 'lhs_test' datasets and convert them to NumPy arrays\n",
    "y_train = np.array(lhs_train[\"label\"])\n",
    "y_test = np.array(lhs_test[\"label\"])"
   ]
  },
  {
   "cell_type": "code",
   "execution_count": 14,
   "metadata": {
    "id": "WdAMZFmgReBw"
   },
   "outputs": [],
   "source": [
    "# defining a grid of hyperparameter values to search through\n",
    "param_grid = {\n",
    "    'n_estimators': [50, 100, 200, 500],      # the number of trees in the forest\n",
    "    'max_depth': [10, 20, 30, None],          # maximum depth of trees\n",
    "    'criterion': ['gini', 'entropy'],         # splitting criterion\n",
    "    'random_state': [44]                      # random seed for reproducibility\n",
    "}"
   ]
  },
  {
   "cell_type": "code",
   "execution_count": 15,
   "metadata": {
    "colab": {
     "base_uri": "https://localhost:8080/",
     "height": 1000
    },
    "id": "1tj5cqebR0hJ",
    "outputId": "f79d0cd8-e491-4bd9-e8e4-39277f91eb7d"
   },
   "outputs": [
    {
     "name": "stdout",
     "output_type": "stream",
     "text": [
      "Fitting 5 folds for each of 32 candidates, totalling 160 fits\n",
      "[CV] END criterion=gini, max_depth=10, n_estimators=50, random_state=44; total time=   1.9s\n",
      "[CV] END criterion=gini, max_depth=10, n_estimators=50, random_state=44; total time=   1.8s\n",
      "[CV] END criterion=gini, max_depth=10, n_estimators=50, random_state=44; total time=   1.8s\n",
      "[CV] END criterion=gini, max_depth=10, n_estimators=50, random_state=44; total time=   1.8s\n",
      "[CV] END criterion=gini, max_depth=10, n_estimators=50, random_state=44; total time=   2.0s\n",
      "[CV] END criterion=gini, max_depth=10, n_estimators=100, random_state=44; total time=   5.4s\n",
      "[CV] END criterion=gini, max_depth=10, n_estimators=100, random_state=44; total time=   4.7s\n",
      "[CV] END criterion=gini, max_depth=10, n_estimators=100, random_state=44; total time=   3.6s\n",
      "[CV] END criterion=gini, max_depth=10, n_estimators=100, random_state=44; total time=   3.5s\n",
      "[CV] END criterion=gini, max_depth=10, n_estimators=100, random_state=44; total time=   4.5s\n",
      "[CV] END criterion=gini, max_depth=10, n_estimators=200, random_state=44; total time=   7.6s\n",
      "[CV] END criterion=gini, max_depth=10, n_estimators=200, random_state=44; total time=   8.4s\n",
      "[CV] END criterion=gini, max_depth=10, n_estimators=200, random_state=44; total time=   7.3s\n",
      "[CV] END criterion=gini, max_depth=10, n_estimators=200, random_state=44; total time=   8.5s\n",
      "[CV] END criterion=gini, max_depth=10, n_estimators=200, random_state=44; total time=   7.2s\n",
      "[CV] END criterion=gini, max_depth=10, n_estimators=500, random_state=44; total time=  19.9s\n",
      "[CV] END criterion=gini, max_depth=10, n_estimators=500, random_state=44; total time=  20.0s\n",
      "[CV] END criterion=gini, max_depth=10, n_estimators=500, random_state=44; total time=  19.3s\n",
      "[CV] END criterion=gini, max_depth=10, n_estimators=500, random_state=44; total time=  19.4s\n",
      "[CV] END criterion=gini, max_depth=10, n_estimators=500, random_state=44; total time=  20.4s\n",
      "[CV] END criterion=gini, max_depth=20, n_estimators=50, random_state=44; total time=   2.0s\n",
      "[CV] END criterion=gini, max_depth=20, n_estimators=50, random_state=44; total time=   2.1s\n",
      "[CV] END criterion=gini, max_depth=20, n_estimators=50, random_state=44; total time=   2.1s\n",
      "[CV] END criterion=gini, max_depth=20, n_estimators=50, random_state=44; total time=   2.1s\n",
      "[CV] END criterion=gini, max_depth=20, n_estimators=50, random_state=44; total time=   2.7s\n",
      "[CV] END criterion=gini, max_depth=20, n_estimators=100, random_state=44; total time=   4.8s\n",
      "[CV] END criterion=gini, max_depth=20, n_estimators=100, random_state=44; total time=   4.2s\n",
      "[CV] END criterion=gini, max_depth=20, n_estimators=100, random_state=44; total time=   4.4s\n",
      "[CV] END criterion=gini, max_depth=20, n_estimators=100, random_state=44; total time=   5.3s\n",
      "[CV] END criterion=gini, max_depth=20, n_estimators=100, random_state=44; total time=   4.1s\n",
      "[CV] END criterion=gini, max_depth=20, n_estimators=200, random_state=44; total time=   9.5s\n",
      "[CV] END criterion=gini, max_depth=20, n_estimators=200, random_state=44; total time=   8.5s\n",
      "[CV] END criterion=gini, max_depth=20, n_estimators=200, random_state=44; total time=   9.8s\n",
      "[CV] END criterion=gini, max_depth=20, n_estimators=200, random_state=44; total time=   8.9s\n",
      "[CV] END criterion=gini, max_depth=20, n_estimators=200, random_state=44; total time=   9.3s\n",
      "[CV] END criterion=gini, max_depth=20, n_estimators=500, random_state=44; total time=  24.3s\n",
      "[CV] END criterion=gini, max_depth=20, n_estimators=500, random_state=44; total time=  23.4s\n",
      "[CV] END criterion=gini, max_depth=20, n_estimators=500, random_state=44; total time=  23.8s\n",
      "[CV] END criterion=gini, max_depth=20, n_estimators=500, random_state=44; total time=  23.4s\n",
      "[CV] END criterion=gini, max_depth=20, n_estimators=500, random_state=44; total time=  24.2s\n",
      "[CV] END criterion=gini, max_depth=30, n_estimators=50, random_state=44; total time=   2.1s\n",
      "[CV] END criterion=gini, max_depth=30, n_estimators=50, random_state=44; total time=   2.1s\n",
      "[CV] END criterion=gini, max_depth=30, n_estimators=50, random_state=44; total time=   2.2s\n",
      "[CV] END criterion=gini, max_depth=30, n_estimators=50, random_state=44; total time=   2.1s\n",
      "[CV] END criterion=gini, max_depth=30, n_estimators=50, random_state=44; total time=   2.7s\n",
      "[CV] END criterion=gini, max_depth=30, n_estimators=100, random_state=44; total time=   5.0s\n",
      "[CV] END criterion=gini, max_depth=30, n_estimators=100, random_state=44; total time=   4.2s\n",
      "[CV] END criterion=gini, max_depth=30, n_estimators=100, random_state=44; total time=   4.4s\n",
      "[CV] END criterion=gini, max_depth=30, n_estimators=100, random_state=44; total time=   5.4s\n",
      "[CV] END criterion=gini, max_depth=30, n_estimators=100, random_state=44; total time=   4.2s\n",
      "[CV] END criterion=gini, max_depth=30, n_estimators=200, random_state=44; total time=   9.8s\n",
      "[CV] END criterion=gini, max_depth=30, n_estimators=200, random_state=44; total time=   8.6s\n",
      "[CV] END criterion=gini, max_depth=30, n_estimators=200, random_state=44; total time=   9.9s\n",
      "[CV] END criterion=gini, max_depth=30, n_estimators=200, random_state=44; total time=   9.1s\n",
      "[CV] END criterion=gini, max_depth=30, n_estimators=200, random_state=44; total time=   9.1s\n",
      "[CV] END criterion=gini, max_depth=30, n_estimators=500, random_state=44; total time=  24.0s\n",
      "[CV] END criterion=gini, max_depth=30, n_estimators=500, random_state=44; total time=  24.1s\n",
      "[CV] END criterion=gini, max_depth=30, n_estimators=500, random_state=44; total time=  25.0s\n",
      "[CV] END criterion=gini, max_depth=30, n_estimators=500, random_state=44; total time=  22.5s\n",
      "[CV] END criterion=gini, max_depth=30, n_estimators=500, random_state=44; total time=  23.8s\n",
      "[CV] END criterion=gini, max_depth=None, n_estimators=50, random_state=44; total time=   2.2s\n",
      "[CV] END criterion=gini, max_depth=None, n_estimators=50, random_state=44; total time=   2.1s\n",
      "[CV] END criterion=gini, max_depth=None, n_estimators=50, random_state=44; total time=   2.3s\n",
      "[CV] END criterion=gini, max_depth=None, n_estimators=50, random_state=44; total time=   2.9s\n",
      "[CV] END criterion=gini, max_depth=None, n_estimators=50, random_state=44; total time=   2.5s\n",
      "[CV] END criterion=gini, max_depth=None, n_estimators=100, random_state=44; total time=   4.2s\n",
      "[CV] END criterion=gini, max_depth=None, n_estimators=100, random_state=44; total time=   4.2s\n",
      "[CV] END criterion=gini, max_depth=None, n_estimators=100, random_state=44; total time=   5.6s\n",
      "[CV] END criterion=gini, max_depth=None, n_estimators=100, random_state=44; total time=   4.3s\n",
      "[CV] END criterion=gini, max_depth=None, n_estimators=100, random_state=44; total time=   4.2s\n",
      "[CV] END criterion=gini, max_depth=None, n_estimators=200, random_state=44; total time=   9.8s\n",
      "[CV] END criterion=gini, max_depth=None, n_estimators=200, random_state=44; total time=   9.1s\n",
      "[CV] END criterion=gini, max_depth=None, n_estimators=200, random_state=44; total time=   9.1s\n",
      "[CV] END criterion=gini, max_depth=None, n_estimators=200, random_state=44; total time=   9.8s\n",
      "[CV] END criterion=gini, max_depth=None, n_estimators=200, random_state=44; total time=   8.5s\n",
      "[CV] END criterion=gini, max_depth=None, n_estimators=500, random_state=44; total time=  23.8s\n",
      "[CV] END criterion=gini, max_depth=None, n_estimators=500, random_state=44; total time=  22.6s\n",
      "[CV] END criterion=gini, max_depth=None, n_estimators=500, random_state=44; total time=  23.5s\n",
      "[CV] END criterion=gini, max_depth=None, n_estimators=500, random_state=44; total time=  22.9s\n",
      "[CV] END criterion=gini, max_depth=None, n_estimators=500, random_state=44; total time=  24.5s\n",
      "[CV] END criterion=entropy, max_depth=10, n_estimators=50, random_state=44; total time=   2.5s\n",
      "[CV] END criterion=entropy, max_depth=10, n_estimators=50, random_state=44; total time=   2.7s\n",
      "[CV] END criterion=entropy, max_depth=10, n_estimators=50, random_state=44; total time=   3.7s\n",
      "[CV] END criterion=entropy, max_depth=10, n_estimators=50, random_state=44; total time=   2.7s\n",
      "[CV] END criterion=entropy, max_depth=10, n_estimators=50, random_state=44; total time=   2.5s\n",
      "[CV] END criterion=entropy, max_depth=10, n_estimators=100, random_state=44; total time=   4.8s\n",
      "[CV] END criterion=entropy, max_depth=10, n_estimators=100, random_state=44; total time=   6.6s\n",
      "[CV] END criterion=entropy, max_depth=10, n_estimators=100, random_state=44; total time=   4.9s\n",
      "[CV] END criterion=entropy, max_depth=10, n_estimators=100, random_state=44; total time=   5.1s\n",
      "[CV] END criterion=entropy, max_depth=10, n_estimators=100, random_state=44; total time=   6.4s\n",
      "[CV] END criterion=entropy, max_depth=10, n_estimators=200, random_state=44; total time=  13.2s\n",
      "[CV] END criterion=entropy, max_depth=10, n_estimators=200, random_state=44; total time=  14.9s\n",
      "[CV] END criterion=entropy, max_depth=10, n_estimators=200, random_state=44; total time=  14.9s\n",
      "[CV] END criterion=entropy, max_depth=10, n_estimators=200, random_state=44; total time=  11.3s\n",
      "[CV] END criterion=entropy, max_depth=10, n_estimators=200, random_state=44; total time=  13.7s\n",
      "[CV] END criterion=entropy, max_depth=10, n_estimators=500, random_state=44; total time=  27.6s\n",
      "[CV] END criterion=entropy, max_depth=10, n_estimators=500, random_state=44; total time=  27.6s\n",
      "[CV] END criterion=entropy, max_depth=10, n_estimators=500, random_state=44; total time=  27.7s\n",
      "[CV] END criterion=entropy, max_depth=10, n_estimators=500, random_state=44; total time=  33.3s\n",
      "[CV] END criterion=entropy, max_depth=10, n_estimators=500, random_state=44; total time=  41.3s\n",
      "[CV] END criterion=entropy, max_depth=20, n_estimators=50, random_state=44; total time=   3.4s\n",
      "[CV] END criterion=entropy, max_depth=20, n_estimators=50, random_state=44; total time=   2.5s\n",
      "[CV] END criterion=entropy, max_depth=20, n_estimators=50, random_state=44; total time=   2.6s\n",
      "[CV] END criterion=entropy, max_depth=20, n_estimators=50, random_state=44; total time=   2.5s\n",
      "[CV] END criterion=entropy, max_depth=20, n_estimators=50, random_state=44; total time=   4.9s\n",
      "[CV] END criterion=entropy, max_depth=20, n_estimators=100, random_state=44; total time=   8.1s\n",
      "[CV] END criterion=entropy, max_depth=20, n_estimators=100, random_state=44; total time=   5.5s\n",
      "[CV] END criterion=entropy, max_depth=20, n_estimators=100, random_state=44; total time=   6.4s\n",
      "[CV] END criterion=entropy, max_depth=20, n_estimators=100, random_state=44; total time=   5.1s\n",
      "[CV] END criterion=entropy, max_depth=20, n_estimators=100, random_state=44; total time=   6.3s\n",
      "[CV] END criterion=entropy, max_depth=20, n_estimators=200, random_state=44; total time=  10.6s\n",
      "[CV] END criterion=entropy, max_depth=20, n_estimators=200, random_state=44; total time=  11.9s\n",
      "[CV] END criterion=entropy, max_depth=20, n_estimators=200, random_state=44; total time=  11.9s\n",
      "[CV] END criterion=entropy, max_depth=20, n_estimators=200, random_state=44; total time=  11.8s\n",
      "[CV] END criterion=entropy, max_depth=20, n_estimators=200, random_state=44; total time=  10.3s\n",
      "[CV] END criterion=entropy, max_depth=20, n_estimators=500, random_state=44; total time=  28.3s\n",
      "[CV] END criterion=entropy, max_depth=20, n_estimators=500, random_state=44; total time=  28.5s\n",
      "[CV] END criterion=entropy, max_depth=20, n_estimators=500, random_state=44; total time=  28.8s\n",
      "[CV] END criterion=entropy, max_depth=20, n_estimators=500, random_state=44; total time=  28.4s\n",
      "[CV] END criterion=entropy, max_depth=20, n_estimators=500, random_state=44; total time=  29.6s\n",
      "[CV] END criterion=entropy, max_depth=30, n_estimators=50, random_state=44; total time=   3.2s\n",
      "[CV] END criterion=entropy, max_depth=30, n_estimators=50, random_state=44; total time=   2.5s\n",
      "[CV] END criterion=entropy, max_depth=30, n_estimators=50, random_state=44; total time=   2.5s\n",
      "[CV] END criterion=entropy, max_depth=30, n_estimators=50, random_state=44; total time=   2.5s\n",
      "[CV] END criterion=entropy, max_depth=30, n_estimators=50, random_state=44; total time=   3.2s\n",
      "[CV] END criterion=entropy, max_depth=30, n_estimators=100, random_state=44; total time=   6.2s\n",
      "[CV] END criterion=entropy, max_depth=30, n_estimators=100, random_state=44; total time=   4.9s\n",
      "[CV] END criterion=entropy, max_depth=30, n_estimators=100, random_state=44; total time=   6.5s\n",
      "[CV] END criterion=entropy, max_depth=30, n_estimators=100, random_state=44; total time=   5.3s\n",
      "[CV] END criterion=entropy, max_depth=30, n_estimators=100, random_state=44; total time=   5.0s\n",
      "[CV] END criterion=entropy, max_depth=30, n_estimators=200, random_state=44; total time=  11.8s\n",
      "[CV] END criterion=entropy, max_depth=30, n_estimators=200, random_state=44; total time=  11.6s\n",
      "[CV] END criterion=entropy, max_depth=30, n_estimators=200, random_state=44; total time=  11.6s\n",
      "[CV] END criterion=entropy, max_depth=30, n_estimators=200, random_state=44; total time=  10.2s\n",
      "[CV] END criterion=entropy, max_depth=30, n_estimators=200, random_state=44; total time=  11.9s\n",
      "[CV] END criterion=entropy, max_depth=30, n_estimators=500, random_state=44; total time=  28.2s\n",
      "[CV] END criterion=entropy, max_depth=30, n_estimators=500, random_state=44; total time=  35.0s\n",
      "[CV] END criterion=entropy, max_depth=30, n_estimators=500, random_state=44; total time=  41.3s\n",
      "[CV] END criterion=entropy, max_depth=30, n_estimators=500, random_state=44; total time=  47.9s\n",
      "[CV] END criterion=entropy, max_depth=30, n_estimators=500, random_state=44; total time=  30.9s\n",
      "[CV] END criterion=entropy, max_depth=None, n_estimators=50, random_state=44; total time=   2.5s\n",
      "[CV] END criterion=entropy, max_depth=None, n_estimators=50, random_state=44; total time=   2.5s\n",
      "[CV] END criterion=entropy, max_depth=None, n_estimators=50, random_state=44; total time=   3.5s\n",
      "[CV] END criterion=entropy, max_depth=None, n_estimators=50, random_state=44; total time=   3.2s\n",
      "[CV] END criterion=entropy, max_depth=None, n_estimators=50, random_state=44; total time=   2.5s\n",
      "[CV] END criterion=entropy, max_depth=None, n_estimators=100, random_state=44; total time=   8.2s\n",
      "[CV] END criterion=entropy, max_depth=None, n_estimators=100, random_state=44; total time=  10.0s\n",
      "[CV] END criterion=entropy, max_depth=None, n_estimators=100, random_state=44; total time=  12.3s\n",
      "[CV] END criterion=entropy, max_depth=None, n_estimators=100, random_state=44; total time=  15.4s\n",
      "[CV] END criterion=entropy, max_depth=None, n_estimators=100, random_state=44; total time=   6.0s\n",
      "[CV] END criterion=entropy, max_depth=None, n_estimators=200, random_state=44; total time=  11.6s\n",
      "[CV] END criterion=entropy, max_depth=None, n_estimators=200, random_state=44; total time=  11.5s\n",
      "[CV] END criterion=entropy, max_depth=None, n_estimators=200, random_state=44; total time=   9.9s\n",
      "[CV] END criterion=entropy, max_depth=None, n_estimators=200, random_state=44; total time=  11.7s\n",
      "[CV] END criterion=entropy, max_depth=None, n_estimators=200, random_state=44; total time=  11.7s\n",
      "[CV] END criterion=entropy, max_depth=None, n_estimators=500, random_state=44; total time=  29.5s\n",
      "[CV] END criterion=entropy, max_depth=None, n_estimators=500, random_state=44; total time=  46.2s\n",
      "[CV] END criterion=entropy, max_depth=None, n_estimators=500, random_state=44; total time=  31.2s\n",
      "[CV] END criterion=entropy, max_depth=None, n_estimators=500, random_state=44; total time=  30.3s\n",
      "[CV] END criterion=entropy, max_depth=None, n_estimators=500, random_state=44; total time=  29.9s\n"
     ]
    },
    {
     "data": {
      "text/html": [
       "<style>#sk-container-id-1 {color: black;background-color: white;}#sk-container-id-1 pre{padding: 0;}#sk-container-id-1 div.sk-toggleable {background-color: white;}#sk-container-id-1 label.sk-toggleable__label {cursor: pointer;display: block;width: 100%;margin-bottom: 0;padding: 0.3em;box-sizing: border-box;text-align: center;}#sk-container-id-1 label.sk-toggleable__label-arrow:before {content: \"▸\";float: left;margin-right: 0.25em;color: #696969;}#sk-container-id-1 label.sk-toggleable__label-arrow:hover:before {color: black;}#sk-container-id-1 div.sk-estimator:hover label.sk-toggleable__label-arrow:before {color: black;}#sk-container-id-1 div.sk-toggleable__content {max-height: 0;max-width: 0;overflow: hidden;text-align: left;background-color: #f0f8ff;}#sk-container-id-1 div.sk-toggleable__content pre {margin: 0.2em;color: black;border-radius: 0.25em;background-color: #f0f8ff;}#sk-container-id-1 input.sk-toggleable__control:checked~div.sk-toggleable__content {max-height: 200px;max-width: 100%;overflow: auto;}#sk-container-id-1 input.sk-toggleable__control:checked~label.sk-toggleable__label-arrow:before {content: \"▾\";}#sk-container-id-1 div.sk-estimator input.sk-toggleable__control:checked~label.sk-toggleable__label {background-color: #d4ebff;}#sk-container-id-1 div.sk-label input.sk-toggleable__control:checked~label.sk-toggleable__label {background-color: #d4ebff;}#sk-container-id-1 input.sk-hidden--visually {border: 0;clip: rect(1px 1px 1px 1px);clip: rect(1px, 1px, 1px, 1px);height: 1px;margin: -1px;overflow: hidden;padding: 0;position: absolute;width: 1px;}#sk-container-id-1 div.sk-estimator {font-family: monospace;background-color: #f0f8ff;border: 1px dotted black;border-radius: 0.25em;box-sizing: border-box;margin-bottom: 0.5em;}#sk-container-id-1 div.sk-estimator:hover {background-color: #d4ebff;}#sk-container-id-1 div.sk-parallel-item::after {content: \"\";width: 100%;border-bottom: 1px solid gray;flex-grow: 1;}#sk-container-id-1 div.sk-label:hover label.sk-toggleable__label {background-color: #d4ebff;}#sk-container-id-1 div.sk-serial::before {content: \"\";position: absolute;border-left: 1px solid gray;box-sizing: border-box;top: 0;bottom: 0;left: 50%;z-index: 0;}#sk-container-id-1 div.sk-serial {display: flex;flex-direction: column;align-items: center;background-color: white;padding-right: 0.2em;padding-left: 0.2em;position: relative;}#sk-container-id-1 div.sk-item {position: relative;z-index: 1;}#sk-container-id-1 div.sk-parallel {display: flex;align-items: stretch;justify-content: center;background-color: white;position: relative;}#sk-container-id-1 div.sk-item::before, #sk-container-id-1 div.sk-parallel-item::before {content: \"\";position: absolute;border-left: 1px solid gray;box-sizing: border-box;top: 0;bottom: 0;left: 50%;z-index: -1;}#sk-container-id-1 div.sk-parallel-item {display: flex;flex-direction: column;z-index: 1;position: relative;background-color: white;}#sk-container-id-1 div.sk-parallel-item:first-child::after {align-self: flex-end;width: 50%;}#sk-container-id-1 div.sk-parallel-item:last-child::after {align-self: flex-start;width: 50%;}#sk-container-id-1 div.sk-parallel-item:only-child::after {width: 0;}#sk-container-id-1 div.sk-dashed-wrapped {border: 1px dashed gray;margin: 0 0.4em 0.5em 0.4em;box-sizing: border-box;padding-bottom: 0.4em;background-color: white;}#sk-container-id-1 div.sk-label label {font-family: monospace;font-weight: bold;display: inline-block;line-height: 1.2em;}#sk-container-id-1 div.sk-label-container {text-align: center;}#sk-container-id-1 div.sk-container {/* jupyter's `normalize.less` sets `[hidden] { display: none; }` but bootstrap.min.css set `[hidden] { display: none !important; }` so we also need the `!important` here to be able to override the default hidden behavior on the sphinx rendered scikit-learn.org. See: https://github.com/scikit-learn/scikit-learn/issues/21755 */display: inline-block !important;position: relative;}#sk-container-id-1 div.sk-text-repr-fallback {display: none;}</style><div id=\"sk-container-id-1\" class=\"sk-top-container\"><div class=\"sk-text-repr-fallback\"><pre>GridSearchCV(cv=5, estimator=RandomForestClassifier(),\n",
       "             param_grid={&#x27;criterion&#x27;: [&#x27;gini&#x27;, &#x27;entropy&#x27;],\n",
       "                         &#x27;max_depth&#x27;: [10, 20, 30, None],\n",
       "                         &#x27;n_estimators&#x27;: [50, 100, 200, 500],\n",
       "                         &#x27;random_state&#x27;: [44]},\n",
       "             scoring=&#x27;accuracy&#x27;, verbose=2)</pre><b>In a Jupyter environment, please rerun this cell to show the HTML representation or trust the notebook. <br />On GitHub, the HTML representation is unable to render, please try loading this page with nbviewer.org.</b></div><div class=\"sk-container\" hidden><div class=\"sk-item sk-dashed-wrapped\"><div class=\"sk-label-container\"><div class=\"sk-label sk-toggleable\"><input class=\"sk-toggleable__control sk-hidden--visually\" id=\"sk-estimator-id-1\" type=\"checkbox\" ><label for=\"sk-estimator-id-1\" class=\"sk-toggleable__label sk-toggleable__label-arrow\">GridSearchCV</label><div class=\"sk-toggleable__content\"><pre>GridSearchCV(cv=5, estimator=RandomForestClassifier(),\n",
       "             param_grid={&#x27;criterion&#x27;: [&#x27;gini&#x27;, &#x27;entropy&#x27;],\n",
       "                         &#x27;max_depth&#x27;: [10, 20, 30, None],\n",
       "                         &#x27;n_estimators&#x27;: [50, 100, 200, 500],\n",
       "                         &#x27;random_state&#x27;: [44]},\n",
       "             scoring=&#x27;accuracy&#x27;, verbose=2)</pre></div></div></div><div class=\"sk-parallel\"><div class=\"sk-parallel-item\"><div class=\"sk-item\"><div class=\"sk-label-container\"><div class=\"sk-label sk-toggleable\"><input class=\"sk-toggleable__control sk-hidden--visually\" id=\"sk-estimator-id-2\" type=\"checkbox\" ><label for=\"sk-estimator-id-2\" class=\"sk-toggleable__label sk-toggleable__label-arrow\">estimator: RandomForestClassifier</label><div class=\"sk-toggleable__content\"><pre>RandomForestClassifier()</pre></div></div></div><div class=\"sk-serial\"><div class=\"sk-item\"><div class=\"sk-estimator sk-toggleable\"><input class=\"sk-toggleable__control sk-hidden--visually\" id=\"sk-estimator-id-3\" type=\"checkbox\" ><label for=\"sk-estimator-id-3\" class=\"sk-toggleable__label sk-toggleable__label-arrow\">RandomForestClassifier</label><div class=\"sk-toggleable__content\"><pre>RandomForestClassifier()</pre></div></div></div></div></div></div></div></div></div></div>"
      ],
      "text/plain": [
       "GridSearchCV(cv=5, estimator=RandomForestClassifier(),\n",
       "             param_grid={'criterion': ['gini', 'entropy'],\n",
       "                         'max_depth': [10, 20, 30, None],\n",
       "                         'n_estimators': [50, 100, 200, 500],\n",
       "                         'random_state': [44]},\n",
       "             scoring='accuracy', verbose=2)"
      ]
     },
     "execution_count": 15,
     "metadata": {},
     "output_type": "execute_result"
    }
   ],
   "source": [
    "# to initialize the Random Forest classifier\n",
    "RFC = RandomForestClassifier()\n",
    "\n",
    "# to perform a grid search with cross-validation to find the best hyperparameters\n",
    "grid_search = GridSearchCV(estimator=RFC,            # specify Random Forest Classifier\n",
    "                           param_grid=param_grid,    # specify the grid of hyperparameters defined above\n",
    "                           cv=5,                     # number of cross-validation folds\n",
    "                           scoring='accuracy',       # the evaluation metric\n",
    "                           verbose=2)                # 2: print a summary after each fold, including the best parameters so far\n",
    "\n",
    "grid_search.fit(X_train, y_train)"
   ]
  },
  {
   "cell_type": "code",
   "execution_count": 16,
   "metadata": {
    "colab": {
     "base_uri": "https://localhost:8080/"
    },
    "id": "qZKmNt6xK9Lg",
    "outputId": "bf8fac0a-9b60-44c1-da4e-af7eb75abb1c"
   },
   "outputs": [
    {
     "name": "stdout",
     "output_type": "stream",
     "text": [
      "Best parameters:, {'criterion': 'entropy', 'max_depth': 10, 'n_estimators': 100, 'random_state': 44} \n",
      "Best cross-validation score:, 0.7921862305736824\n"
     ]
    }
   ],
   "source": [
    "# to print the best hyperparameters and cross-validation score\n",
    "print(f\"\"\"Best parameters:, {grid_search.best_params_} \\nBest cross-validation score:, {grid_search.best_score_}\"\"\")"
   ]
  },
  {
   "cell_type": "code",
   "execution_count": 17,
   "metadata": {
    "id": "9v41BP_rK-4V"
   },
   "outputs": [],
   "source": [
    "# to select the best-trained model for prediction\n",
    "best_model = grid_search.best_estimator_\n",
    "\n",
    "# to predict with selected trained model on a test set\n",
    "y_pred = best_model.predict(X_test)"
   ]
  },
  {
   "cell_type": "code",
   "execution_count": 18,
   "metadata": {
    "colab": {
     "base_uri": "https://localhost:8080/"
    },
    "id": "veQMG9IlSf6f",
    "outputId": "49e4666a-eae7-400b-ce59-dfc624c25deb"
   },
   "outputs": [
    {
     "name": "stdout",
     "output_type": "stream",
     "text": [
      "Accuracy of the model is 0.79\n",
      "\n",
      "               precision    recall  f1-score   support\n",
      "\n",
      "           0       0.82      0.33      0.47        84\n",
      "           1       0.80      0.99      0.88       429\n",
      "           2       0.76      0.54      0.64       178\n",
      "\n",
      "    accuracy                           0.79       691\n",
      "   macro avg       0.80      0.62      0.66       691\n",
      "weighted avg       0.79      0.79      0.77       691\n",
      "\n"
     ]
    }
   ],
   "source": [
    "# to generate accuracy of Random Forest classifer\n",
    "accuracy = accuracy_score(y_test, y_pred)\n",
    "\n",
    "# to generate a classification report for detailed metrics\n",
    "report = classification_report(y_test, y_pred)\n",
    "\n",
    "print(f\"\"\"Accuracy of the model is {accuracy:.2f}\\n\\n {report}\"\"\")"
   ]
  },
  {
   "cell_type": "code",
   "execution_count": 19,
   "metadata": {
    "colab": {
     "base_uri": "https://localhost:8080/",
     "height": 564
    },
    "id": "kDCSqOVjOO_G",
    "outputId": "e38ab201-d8a0-443c-f18b-ba3bef0a4e29"
   },
   "outputs": [
    {
     "data": {
      "image/png": "[encoded data removed]",
      "text/plain": [
       "<Figure size 800x600 with 1 Axes>"
      ]
     },
     "metadata": {},
     "output_type": "display_data"
    }
   ],
   "source": [
    "# to generate a confusion matrix\n",
    "confusion = confusion_matrix(y_test, y_pred)\n",
    "\n",
    "# to plot the confusion matrix as a heatmap\n",
    "plt.figure(figsize=(8, 6))\n",
    "sns.heatmap(confusion, annot=True, fmt=\"d\", cmap=\"Reds\", cbar=False,\n",
    "            xticklabels=[\"Negative\", \"Neutral\", \"Positive\"],\n",
    "            yticklabels=[\"Negative\", \"Neutral\", \"Positive\"])\n",
    "plt.xlabel(\"PREDICTED\")\n",
    "plt.ylabel(\"ACTUAL\")\n",
    "plt.title(\"Confusion Matrix with Random Forest Classifier\")\n",
    "ASSETS_DIR = PROJECT_DIR / \"tex\" / \"assets\"\n",
    "plt.savefig(ASSETS_DIR / \"conf_mat_for_rfc.png\")\n",
    "plt.show()"
   ]
  },
  {
   "cell_type": "markdown",
   "metadata": {
    "id": "sYIN1kAkfLeE"
   },
   "source": [
    "### 4.2. Feature Extraction with Vanilla Neural Network <a class=\"anchor\" id=\"feature2\"></a>\n"
   ]
  },
  {
   "cell_type": "code",
   "execution_count": 46,
   "metadata": {
    "colab": {
     "base_uri": "https://localhost:8080/"
    },
    "id": "OLDmwewFWjdb",
    "outputId": "b5078849-32ea-4613-efb8-8278d7d233b5"
   },
   "outputs": [
    {
     "data": {
      "text/plain": [
       "<torch._C.Generator at 0x7ff2443ba830>"
      ]
     },
     "execution_count": 46,
     "metadata": {},
     "output_type": "execute_result"
    }
   ],
   "source": [
    "torch.manual_seed(44)"
   ]
  },
  {
   "cell_type": "code",
   "execution_count": 22,
   "metadata": {
    "colab": {
     "base_uri": "https://localhost:8080/",
     "height": 49,
     "referenced_widgets": [
      "fc5d29853ce5475ca133cafa1b461b59",
      "be283a37414c4852a582af9fcac655fa",
      "cda98f575c91493cb31835bdbabc1e63",
      "03614707575348498747dd412ebc666c",
      "11ff35685d5347b0abc86c151279fc00",
      "1f4f6ef54a2640e1ad30257b5cb80934",
      "3cf4fa35e7b84c70bde2831440bb24e2",
      "b34e1a3c59e445a3958ec6d33ba0fb90",
      "017b6f86f7284046a2b6a8f1662fe731",
      "45328a9d67aa471382114b049f5a8b8f",
      "5d493a9d9a074a9d9fb6bf5c4051ba12"
     ]
    },
    "id": "Lrmn_vCabkTx",
    "outputId": "b8f8628c-e3a0-46fe-f8c1-1762e4483515"
   },
   "outputs": [
    {
     "data": {
      "application/vnd.jupyter.widget-view+json": {
       "model_id": "fc5d29853ce5475ca133cafa1b461b59",
       "version_major": 2,
       "version_minor": 0
      },
      "text/plain": [
       "Map:   0%|          | 0/3453 [00:00<?, ? examples/s]"
      ]
     },
     "metadata": {},
     "output_type": "display_data"
    }
   ],
   "source": [
    "# to apply user-defined `tokenize` function using `DatasetDict.map`\n",
    "dataset_encoded = dataset.map(tokenize,\n",
    "                              batched=True,\n",
    "                              batch_size=None)"
   ]
  },
  {
   "cell_type": "code",
   "execution_count": 43,
   "metadata": {
    "id": "0YMyoL5XnMDC"
   },
   "outputs": [],
   "source": [
    "# train-test splitting with user-defined function\n",
    "dataset_train, dataset_test = split_and_format_dataset(dataset_encoded, test_size=0.2, random_state=44)"
   ]
  },
  {
   "cell_type": "code",
   "execution_count": 35,
   "metadata": {
    "id": "sNgVyDgETg4L"
   },
   "outputs": [],
   "source": [
    "class NeuralNetwork(nn.Module):\n",
    "    def __init__(self, input_size, hidden_size, output_size):\n",
    "        super(NeuralNetwork, self).__init__()\n",
    "        self.fc1 = nn.Linear(input_size, hidden_size)\n",
    "        self.relu1 = nn.ReLU()                          # ReLU activation for the first hidden layer\n",
    "        self.fc2 = nn.Linear(hidden_size, hidden_size)  # Second hidden layer\n",
    "        self.relu2 = nn.ReLU()                          # ReLU activation for the second hidden layer\n",
    "        self.fc3 = nn.Linear(hidden_size, output_size)  # Output layer\n",
    "\n",
    "    def forward(self, x):\n",
    "        out = self.fc1(x)\n",
    "        out = self.relu1(out)\n",
    "        out = self.fc2(out)\n",
    "        out = self.relu2(out)\n",
    "        out = self.fc3(out)\n",
    "        return out"
   ]
  },
  {
   "cell_type": "code",
   "execution_count": 44,
   "metadata": {
    "id": "DPrIFBJHfuBp"
   },
   "outputs": [],
   "source": [
    "# to convert NumPy arrays to PyTorch tensors\n",
    "X_train = torch.FloatTensor(X_train)\n",
    "y_train = torch.LongTensor(y_train)\n",
    "X_test = torch.FloatTensor(X_test)\n",
    "y_test = torch.LongTensor(y_test)"
   ]
  },
  {
   "cell_type": "code",
   "execution_count": 48,
   "metadata": {
    "id": "aiBQWlw-ft2L"
   },
   "outputs": [],
   "source": [
    "# to define network architecture: input size, hidden size, and output size\n",
    "input_size = X_train.shape[1]\n",
    "hidden_size = 128\n",
    "output_size = 3"
   ]
  },
  {
   "cell_type": "code",
   "execution_count": 47,
   "metadata": {
    "id": "k7pLaEKXftlP"
   },
   "outputs": [],
   "source": [
    "# to define hyperparameter search space\n",
    "\n",
    "optimizers = {\n",
    "    'SGD': optim.SGD,\n",
    "    'Adam': optim.Adam\n",
    "}\n",
    "\n",
    "learning_rates = [0.001, 0.01, 0.1]\n",
    "batch_sizes = [32, 64, 128]\n",
    "\n",
    "best_accuracy = 0\n",
    "best_hyperparameters = {}"
   ]
  },
  {
   "cell_type": "markdown",
   "metadata": {
    "id": "9h296YR7hRar"
   },
   "source": [
    "**Hyperparameter search loop:** Iterates over different combinations of hyperparameters to find the best configuration."
   ]
  },
  {
   "cell_type": "code",
   "execution_count": 49,
   "metadata": {
    "colab": {
     "base_uri": "https://localhost:8080/"
    },
    "id": "c9eN-A5mf3mq",
    "outputId": "ce0357b4-f4a3-44fe-fb67-def1f643d7eb"
   },
   "outputs": [
    {
     "name": "stdout",
     "output_type": "stream",
     "text": [
      "Best hyperparameters: {'optimizer': 'Adam', 'learning_rate': 0.001, 'batch_size': 128}\n",
      "Best validation accuracy: 0.894356005788712\n"
     ]
    }
   ],
   "source": [
    "# Hyperparameter search loop\n",
    "for optimizer_name, optimizer_class in optimizers.items():\n",
    "    for lr in learning_rates:\n",
    "        for batch_size in batch_sizes:\n",
    "            # initialize an instance of neural network with provided architecture\n",
    "            model = NeuralNetwork(input_size, hidden_size, output_size)\n",
    "\n",
    "            # to define loss function\n",
    "            criterion = nn.CrossEntropyLoss()\n",
    "\n",
    "            # to initialize optimizer\n",
    "            optimizer = optimizer_class(model.parameters(), lr=lr)\n",
    "\n",
    "            # data preparation with PyTorch's TensorDataset and DataLoader\n",
    "            train_dataset = TensorDataset(X_train, y_train)\n",
    "            train_loader = DataLoader(train_dataset, batch_size=batch_size, shuffle=True)\n",
    "\n",
    "            num_epochs = 10\n",
    "            for epoch in range(num_epochs):\n",
    "                model.train()\n",
    "                for batch_x, batch_y in train_loader:\n",
    "                    optimizer.zero_grad()\n",
    "                    outputs = model(batch_x)\n",
    "                    loss = criterion(outputs, batch_y)\n",
    "                    loss.backward()\n",
    "                    optimizer.step()\n",
    "\n",
    "            # to evaluate neural network on test dataset\n",
    "            model.eval()\n",
    "            with torch.no_grad():\n",
    "                test_outputs = model(X_test)\n",
    "                test_preds = test_outputs.argmax(dim=1)\n",
    "                test_accuracy = accuracy_score(y_test.numpy(), test_preds.numpy())\n",
    "\n",
    "            # to update best performing hyperparameter combination\n",
    "            if test_accuracy > best_accuracy:\n",
    "\n",
    "                # to store best accuracy score among iterated models\n",
    "                best_accuracy = test_accuracy\n",
    "\n",
    "                # to store best combination's hyperparameters in a dictionary\n",
    "                best_hyperparameters = {\n",
    "                    'optimizer': optimizer_name,\n",
    "                    'learning_rate': lr,\n",
    "                    'batch_size': batch_size\n",
    "                }\n",
    "\n",
    "print(f\"\"\"Best hyperparameters: {best_hyperparameters}\\nBest validation accuracy: {best_accuracy}\"\"\")"
   ]
  },
  {
   "cell_type": "code",
   "execution_count": 50,
   "metadata": {
    "colab": {
     "base_uri": "https://localhost:8080/"
    },
    "id": "zBN9GtDXf3ZR",
    "outputId": "ae6f2df0-0797-4af4-8188-f0b6d33f5ef9"
   },
   "outputs": [
    {
     "name": "stdout",
     "output_type": "stream",
     "text": [
      "Test accuracy with best hyperparameters: 0.8929088277858177\n"
     ]
    }
   ],
   "source": [
    "# now, to create an instance of the neural network using the best combination\n",
    "best_optimizer = best_hyperparameters['optimizer']\n",
    "best_lr = best_hyperparameters['learning_rate']\n",
    "best_batch_size = best_hyperparameters['batch_size']\n",
    "\n",
    "model = NeuralNetwork(input_size, hidden_size, output_size)\n",
    "\n",
    "# to initialize optimizer with `Adam`\n",
    "optimizer = optim.Adam(model.parameters(), lr=best_lr)\n",
    "\n",
    "# data preparation with PyTorch's TensorDataset and DataLoader\n",
    "train_dataset = TensorDataset(X_train, y_train)\n",
    "train_loader = DataLoader(train_dataset, batch_size=best_batch_size, shuffle=True)\n",
    "\n",
    "# to train the model using the best hyperparameters\n",
    "num_epochs = 10\n",
    "for epoch in range(num_epochs):\n",
    "    model.train()\n",
    "    for batch_x, batch_y in train_loader:\n",
    "        optimizer.zero_grad()\n",
    "        outputs = model(batch_x)\n",
    "        loss = criterion(outputs, batch_y)\n",
    "        loss.backward()\n",
    "        optimizer.step()\n",
    "\n",
    "# to evaluate the model on test set\n",
    "model.eval()\n",
    "with torch.no_grad():\n",
    "    test_outputs = model(X_test)\n",
    "    test_predictions = test_outputs.argmax(dim=1)\n",
    "    test_accuracy = accuracy_score(y_test.numpy(), test_predictions.numpy())\n",
    "\n",
    "print(\"Test accuracy with best hyperparameters:\", test_accuracy)"
   ]
  },
  {
   "cell_type": "code",
   "execution_count": 51,
   "metadata": {
    "colab": {
     "base_uri": "https://localhost:8080/"
    },
    "id": "Ofkh3t5mf8Oq",
    "outputId": "45775771-f927-4875-fccd-37bb7b83c4a1"
   },
   "outputs": [
    {
     "name": "stdout",
     "output_type": "stream",
     "text": [
      "Classification Report:\n",
      "               precision    recall  f1-score   support\n",
      "\n",
      "    Negative       0.81      0.74      0.77        84\n",
      "     Neutral       0.96      0.93      0.94       429\n",
      "    Positive       0.79      0.88      0.83       178\n",
      "\n",
      "    accuracy                           0.89       691\n",
      "   macro avg       0.85      0.85      0.85       691\n",
      "weighted avg       0.90      0.89      0.89       691\n",
      "\n"
     ]
    }
   ],
   "source": [
    "# to generate classification report\n",
    "report = classification_report(y_test.numpy(), test_predictions.numpy(), target_names=[\"Negative\", \"Neutral\", \"Positive\"])\n",
    "print(\"Classification Report:\\n\", report)"
   ]
  },
  {
   "cell_type": "code",
   "execution_count": 52,
   "metadata": {
    "colab": {
     "base_uri": "https://localhost:8080/",
     "height": 564
    },
    "id": "umGQ89VKgBhR",
    "outputId": "ab5d598c-c192-4c27-f012-f59a30ed6ece"
   },
   "outputs": [
    {
     "data": {
      "image/png": "[encoded data removed]",
      "text/plain": [
       "<Figure size 800x600 with 1 Axes>"
      ]
     },
     "metadata": {},
     "output_type": "display_data"
    }
   ],
   "source": [
    "# to generate confusion matrix\n",
    "conf_matrix = confusion_matrix(y_test.numpy(), test_predictions.numpy())\n",
    "plt.figure(figsize=(8, 6))\n",
    "sns.heatmap(conf_matrix, annot=True, fmt=\"d\", cmap=\"Reds\", cbar=False,\n",
    "            xticklabels=[\"Negative\", \"Neutral\", \"Positive\"],\n",
    "            yticklabels=[\"Negative\", \"Neutral\", \"Positive\"])\n",
    "plt.xlabel(\"PREDICTED\")\n",
    "plt.ylabel(\"ACTUAL\")\n",
    "plt.title(\"Confusion Matrix with Vanilla Neural Network\")\n",
    "ASSETS_DIR = PROJECT_DIR / \"tex\" / \"assets\"\n",
    "plt.savefig(ASSETS_DIR / \"conf_mat_for_nn.png\")\n",
    "plt.show()"
   ]
  }
 ],
 "metadata": {
  "accelerator": "GPU",
  "colab": {
   "gpuType": "T4",
   "provenance": []
  },
  "kernelspec": {
   "display_name": "Python 3 (ipykernel)",
   "language": "python",
   "name": "python3"
  },
  "language_info": {
   "codemirror_mode": {
    "name": "ipython",
    "version": 3
   },
   "file_extension": ".py",
   "mimetype": "text/x-python",
   "name": "python",
   "nbconvert_exporter": "python",
   "pygments_lexer": "ipython3",
   "version": "3.11.5"
  },
  "widgets": {
   "application/vnd.jupyter.widget-state+json": {
    "017b6f86f7284046a2b6a8f1662fe731": {
     "model_module": "@jupyter-widgets/controls",
     "model_module_version": "1.5.0",
     "model_name": "ProgressStyleModel",
     "state": {
      "_model_module": "@jupyter-widgets/controls",
      "_model_module_version": "1.5.0",
      "_model_name": "ProgressStyleModel",
      "_view_count": null,
      "_view_module": "@jupyter-widgets/base",
      "_view_module_version": "1.2.0",
      "_view_name": "StyleView",
      "bar_color": null,
      "description_width": ""
     }
    },
    "03614707575348498747dd412ebc666c": {
     "model_module": "@jupyter-widgets/controls",
     "model_module_version": "1.5.0",
     "model_name": "HTMLModel",
     "state": {
      "_dom_classes": [],
      "_model_module": "@jupyter-widgets/controls",
      "_model_module_version": "1.5.0",
      "_model_name": "HTMLModel",
      "_view_count": null,
      "_view_module": "@jupyter-widgets/controls",
      "_view_module_version": "1.5.0",
      "_view_name": "HTMLView",
      "description": "",
      "description_tooltip": null,
      "layout": "IPY_MODEL_45328a9d67aa471382114b049f5a8b8f",
      "placeholder": "​",
      "style": "IPY_MODEL_5d493a9d9a074a9d9fb6bf5c4051ba12",
      "value": " 3453/3453 [00:00&lt;00:00, 4082.63 examples/s]"
     }
    },
    "11ff35685d5347b0abc86c151279fc00": {
     "model_module": "@jupyter-widgets/base",
     "model_module_version": "1.2.0",
     "model_name": "LayoutModel",
     "state": {
      "_model_module": "@jupyter-widgets/base",
      "_model_module_version": "1.2.0",
      "_model_name": "LayoutModel",
      "_view_count": null,
      "_view_module": "@jupyter-widgets/base",
      "_view_module_version": "1.2.0",
      "_view_name": "LayoutView",
      "align_content": null,
      "align_items": null,
      "align_self": null,
      "border": null,
      "bottom": null,
      "display": null,
      "flex": null,
      "flex_flow": null,
      "grid_area": null,
      "grid_auto_columns": null,
      "grid_auto_flow": null,
      "grid_auto_rows": null,
      "grid_column": null,
      "grid_gap": null,
      "grid_row": null,
      "grid_template_areas": null,
      "grid_template_columns": null,
      "grid_template_rows": null,
      "height": null,
      "justify_content": null,
      "justify_items": null,
      "left": null,
      "margin": null,
      "max_height": null,
      "max_width": null,
      "min_height": null,
      "min_width": null,
      "object_fit": null,
      "object_position": null,
      "order": null,
      "overflow": null,
      "overflow_x": null,
      "overflow_y": null,
      "padding": null,
      "right": null,
      "top": null,
      "visibility": null,
      "width": null
     }
    },
    "13ad280df056439699a4bd12b0f815e3": {
     "model_module": "@jupyter-widgets/base",
     "model_module_version": "1.2.0",
     "model_name": "LayoutModel",
     "state": {
      "_model_module": "@jupyter-widgets/base",
      "_model_module_version": "1.2.0",
      "_model_name": "LayoutModel",
      "_view_count": null,
      "_view_module": "@jupyter-widgets/base",
      "_view_module_version": "1.2.0",
      "_view_name": "LayoutView",
      "align_content": null,
      "align_items": null,
      "align_self": null,
      "border": null,
      "bottom": null,
      "display": null,
      "flex": null,
      "flex_flow": null,
      "grid_area": null,
      "grid_auto_columns": null,
      "grid_auto_flow": null,
      "grid_auto_rows": null,
      "grid_column": null,
      "grid_gap": null,
      "grid_row": null,
      "grid_template_areas": null,
      "grid_template_columns": null,
      "grid_template_rows": null,
      "height": null,
      "justify_content": null,
      "justify_items": null,
      "left": null,
      "margin": null,
      "max_height": null,
      "max_width": null,
      "min_height": null,
      "min_width": null,
      "object_fit": null,
      "object_position": null,
      "order": null,
      "overflow": null,
      "overflow_x": null,
      "overflow_y": null,
      "padding": null,
      "right": null,
      "top": null,
      "visibility": null,
      "width": null
     }
    },
    "1daa8961c62142e7994cbc7bc1246a4e": {
     "model_module": "@jupyter-widgets/base",
     "model_module_version": "1.2.0",
     "model_name": "LayoutModel",
     "state": {
      "_model_module": "@jupyter-widgets/base",
      "_model_module_version": "1.2.0",
      "_model_name": "LayoutModel",
      "_view_count": null,
      "_view_module": "@jupyter-widgets/base",
      "_view_module_version": "1.2.0",
      "_view_name": "LayoutView",
      "align_content": null,
      "align_items": null,
      "align_self": null,
      "border": null,
      "bottom": null,
      "display": null,
      "flex": null,
      "flex_flow": null,
      "grid_area": null,
      "grid_auto_columns": null,
      "grid_auto_flow": null,
      "grid_auto_rows": null,
      "grid_column": null,
      "grid_gap": null,
      "grid_row": null,
      "grid_template_areas": null,
      "grid_template_columns": null,
      "grid_template_rows": null,
      "height": null,
      "justify_content": null,
      "justify_items": null,
      "left": null,
      "margin": null,
      "max_height": null,
      "max_width": null,
      "min_height": null,
      "min_width": null,
      "object_fit": null,
      "object_position": null,
      "order": null,
      "overflow": null,
      "overflow_x": null,
      "overflow_y": null,
      "padding": null,
      "right": null,
      "top": null,
      "visibility": null,
      "width": null
     }
    },
    "1f4f6ef54a2640e1ad30257b5cb80934": {
     "model_module": "@jupyter-widgets/base",
     "model_module_version": "1.2.0",
     "model_name": "LayoutModel",
     "state": {
      "_model_module": "@jupyter-widgets/base",
      "_model_module_version": "1.2.0",
      "_model_name": "LayoutModel",
      "_view_count": null,
      "_view_module": "@jupyter-widgets/base",
      "_view_module_version": "1.2.0",
      "_view_name": "LayoutView",
      "align_content": null,
      "align_items": null,
      "align_self": null,
      "border": null,
      "bottom": null,
      "display": null,
      "flex": null,
      "flex_flow": null,
      "grid_area": null,
      "grid_auto_columns": null,
      "grid_auto_flow": null,
      "grid_auto_rows": null,
      "grid_column": null,
      "grid_gap": null,
      "grid_row": null,
      "grid_template_areas": null,
      "grid_template_columns": null,
      "grid_template_rows": null,
      "height": null,
      "justify_content": null,
      "justify_items": null,
      "left": null,
      "margin": null,
      "max_height": null,
      "max_width": null,
      "min_height": null,
      "min_width": null,
      "object_fit": null,
      "object_position": null,
      "order": null,
      "overflow": null,
      "overflow_x": null,
      "overflow_y": null,
      "padding": null,
      "right": null,
      "top": null,
      "visibility": null,
      "width": null
     }
    },
    "1f7fead46a0b481a93e2543f492967f2": {
     "model_module": "@jupyter-widgets/controls",
     "model_module_version": "1.5.0",
     "model_name": "DescriptionStyleModel",
     "state": {
      "_model_module": "@jupyter-widgets/controls",
      "_model_module_version": "1.5.0",
      "_model_name": "DescriptionStyleModel",
      "_view_count": null,
      "_view_module": "@jupyter-widgets/base",
      "_view_module_version": "1.2.0",
      "_view_name": "StyleView",
      "description_width": ""
     }
    },
    "3072dd7dd5f0479182d84572b6b345da": {
     "model_module": "@jupyter-widgets/controls",
     "model_module_version": "1.5.0",
     "model_name": "HTMLModel",
     "state": {
      "_dom_classes": [],
      "_model_module": "@jupyter-widgets/controls",
      "_model_module_version": "1.5.0",
      "_model_name": "HTMLModel",
      "_view_count": null,
      "_view_module": "@jupyter-widgets/controls",
      "_view_module_version": "1.5.0",
      "_view_name": "HTMLView",
      "description": "",
      "description_tooltip": null,
      "layout": "IPY_MODEL_b5425a51b9d440bca521f019152dea0b",
      "placeholder": "​",
      "style": "IPY_MODEL_7917ae48a2334526ac8b40ee3a02d8cc",
      "value": "Map: 100%"
     }
    },
    "37c638af27c748f48cdca58bfaa6f44f": {
     "model_module": "@jupyter-widgets/controls",
     "model_module_version": "1.5.0",
     "model_name": "HTMLModel",
     "state": {
      "_dom_classes": [],
      "_model_module": "@jupyter-widgets/controls",
      "_model_module_version": "1.5.0",
      "_model_name": "HTMLModel",
      "_view_count": null,
      "_view_module": "@jupyter-widgets/controls",
      "_view_module_version": "1.5.0",
      "_view_name": "HTMLView",
      "description": "",
      "description_tooltip": null,
      "layout": "IPY_MODEL_a74903642cc041f4b31725b013546159",
      "placeholder": "​",
      "style": "IPY_MODEL_1f7fead46a0b481a93e2543f492967f2",
      "value": "Map: 100%"
     }
    },
    "3cd66babc68a4408a215db72b6b05c3b": {
     "model_module": "@jupyter-widgets/base",
     "model_module_version": "1.2.0",
     "model_name": "LayoutModel",
     "state": {
      "_model_module": "@jupyter-widgets/base",
      "_model_module_version": "1.2.0",
      "_model_name": "LayoutModel",
      "_view_count": null,
      "_view_module": "@jupyter-widgets/base",
      "_view_module_version": "1.2.0",
      "_view_name": "LayoutView",
      "align_content": null,
      "align_items": null,
      "align_self": null,
      "border": null,
      "bottom": null,
      "display": null,
      "flex": null,
      "flex_flow": null,
      "grid_area": null,
      "grid_auto_columns": null,
      "grid_auto_flow": null,
      "grid_auto_rows": null,
      "grid_column": null,
      "grid_gap": null,
      "grid_row": null,
      "grid_template_areas": null,
      "grid_template_columns": null,
      "grid_template_rows": null,
      "height": null,
      "justify_content": null,
      "justify_items": null,
      "left": null,
      "margin": null,
      "max_height": null,
      "max_width": null,
      "min_height": null,
      "min_width": null,
      "object_fit": null,
      "object_position": null,
      "order": null,
      "overflow": null,
      "overflow_x": null,
      "overflow_y": null,
      "padding": null,
      "right": null,
      "top": null,
      "visibility": null,
      "width": null
     }
    },
    "3cf4fa35e7b84c70bde2831440bb24e2": {
     "model_module": "@jupyter-widgets/controls",
     "model_module_version": "1.5.0",
     "model_name": "DescriptionStyleModel",
     "state": {
      "_model_module": "@jupyter-widgets/controls",
      "_model_module_version": "1.5.0",
      "_model_name": "DescriptionStyleModel",
      "_view_count": null,
      "_view_module": "@jupyter-widgets/base",
      "_view_module_version": "1.2.0",
      "_view_name": "StyleView",
      "description_width": ""
     }
    },
    "414cb92efdac4bdb9126e2040353c62d": {
     "model_module": "@jupyter-widgets/controls",
     "model_module_version": "1.5.0",
     "model_name": "DescriptionStyleModel",
     "state": {
      "_model_module": "@jupyter-widgets/controls",
      "_model_module_version": "1.5.0",
      "_model_name": "DescriptionStyleModel",
      "_view_count": null,
      "_view_module": "@jupyter-widgets/base",
      "_view_module_version": "1.2.0",
      "_view_name": "StyleView",
      "description_width": ""
     }
    },
    "45328a9d67aa471382114b049f5a8b8f": {
     "model_module": "@jupyter-widgets/base",
     "model_module_version": "1.2.0",
     "model_name": "LayoutModel",
     "state": {
      "_model_module": "@jupyter-widgets/base",
      "_model_module_version": "1.2.0",
      "_model_name": "LayoutModel",
      "_view_count": null,
      "_view_module": "@jupyter-widgets/base",
      "_view_module_version": "1.2.0",
      "_view_name": "LayoutView",
      "align_content": null,
      "align_items": null,
      "align_self": null,
      "border": null,
      "bottom": null,
      "display": null,
      "flex": null,
      "flex_flow": null,
      "grid_area": null,
      "grid_auto_columns": null,
      "grid_auto_flow": null,
      "grid_auto_rows": null,
      "grid_column": null,
      "grid_gap": null,
      "grid_row": null,
      "grid_template_areas": null,
      "grid_template_columns": null,
      "grid_template_rows": null,
      "height": null,
      "justify_content": null,
      "justify_items": null,
      "left": null,
      "margin": null,
      "max_height": null,
      "max_width": null,
      "min_height": null,
      "min_width": null,
      "object_fit": null,
      "object_position": null,
      "order": null,
      "overflow": null,
      "overflow_x": null,
      "overflow_y": null,
      "padding": null,
      "right": null,
      "top": null,
      "visibility": null,
      "width": null
     }
    },
    "455e17297ef74f3185eec47a4f574752": {
     "model_module": "@jupyter-widgets/controls",
     "model_module_version": "1.5.0",
     "model_name": "FloatProgressModel",
     "state": {
      "_dom_classes": [],
      "_model_module": "@jupyter-widgets/controls",
      "_model_module_version": "1.5.0",
      "_model_name": "FloatProgressModel",
      "_view_count": null,
      "_view_module": "@jupyter-widgets/controls",
      "_view_module_version": "1.5.0",
      "_view_name": "ProgressView",
      "bar_style": "success",
      "description": "",
      "description_tooltip": null,
      "layout": "IPY_MODEL_f5c07f4c5cbf42a5b764aecc3bd53b0c",
      "max": 3453,
      "min": 0,
      "orientation": "horizontal",
      "style": "IPY_MODEL_d1a2deb59703429193c08fae1b6955d3",
      "value": 3453
     }
    },
    "485126bdf6e647cf9cb970126b1c69df": {
     "model_module": "@jupyter-widgets/controls",
     "model_module_version": "1.5.0",
     "model_name": "HBoxModel",
     "state": {
      "_dom_classes": [],
      "_model_module": "@jupyter-widgets/controls",
      "_model_module_version": "1.5.0",
      "_model_name": "HBoxModel",
      "_view_count": null,
      "_view_module": "@jupyter-widgets/controls",
      "_view_module_version": "1.5.0",
      "_view_name": "HBoxView",
      "box_style": "",
      "children": [
       "IPY_MODEL_37c638af27c748f48cdca58bfaa6f44f",
       "IPY_MODEL_455e17297ef74f3185eec47a4f574752",
       "IPY_MODEL_4f380d7510364587bdbcc70774363a95"
      ],
      "layout": "IPY_MODEL_f88564b206094bedbd20960af9abfbbf"
     }
    },
    "4cafb80671b942f5b739aa52dccf5452": {
     "model_module": "@jupyter-widgets/controls",
     "model_module_version": "1.5.0",
     "model_name": "HTMLModel",
     "state": {
      "_dom_classes": [],
      "_model_module": "@jupyter-widgets/controls",
      "_model_module_version": "1.5.0",
      "_model_name": "HTMLModel",
      "_view_count": null,
      "_view_module": "@jupyter-widgets/controls",
      "_view_module_version": "1.5.0",
      "_view_name": "HTMLView",
      "description": "",
      "description_tooltip": null,
      "layout": "IPY_MODEL_af48dc5f33904ddbade7e1619e415b8b",
      "placeholder": "​",
      "style": "IPY_MODEL_8ad92f0f571244d2a7731e80d4011718",
      "value": " 2762/2762 [20:46&lt;00:00,  2.33 examples/s]"
     }
    },
    "4f380d7510364587bdbcc70774363a95": {
     "model_module": "@jupyter-widgets/controls",
     "model_module_version": "1.5.0",
     "model_name": "HTMLModel",
     "state": {
      "_dom_classes": [],
      "_model_module": "@jupyter-widgets/controls",
      "_model_module_version": "1.5.0",
      "_model_name": "HTMLModel",
      "_view_count": null,
      "_view_module": "@jupyter-widgets/controls",
      "_view_module_version": "1.5.0",
      "_view_name": "HTMLView",
      "description": "",
      "description_tooltip": null,
      "layout": "IPY_MODEL_ce76d8a276e444829dbf157eae45fe4f",
      "placeholder": "​",
      "style": "IPY_MODEL_de87b6a2fb0946d08622672ecd2b80e1",
      "value": " 3453/3453 [00:01&lt;00:00, 2054.02 examples/s]"
     }
    },
    "5774617c2248412a9524f84b94ae4b7f": {
     "model_module": "@jupyter-widgets/controls",
     "model_module_version": "1.5.0",
     "model_name": "FloatProgressModel",
     "state": {
      "_dom_classes": [],
      "_model_module": "@jupyter-widgets/controls",
      "_model_module_version": "1.5.0",
      "_model_name": "FloatProgressModel",
      "_view_count": null,
      "_view_module": "@jupyter-widgets/controls",
      "_view_module_version": "1.5.0",
      "_view_name": "ProgressView",
      "bar_style": "success",
      "description": "",
      "description_tooltip": null,
      "layout": "IPY_MODEL_688f57d53ef44516bb0f9ed169541616",
      "max": 691,
      "min": 0,
      "orientation": "horizontal",
      "style": "IPY_MODEL_dd355501541a4ac59a4c82443b642aa2",
      "value": 691
     }
    },
    "5d493a9d9a074a9d9fb6bf5c4051ba12": {
     "model_module": "@jupyter-widgets/controls",
     "model_module_version": "1.5.0",
     "model_name": "DescriptionStyleModel",
     "state": {
      "_model_module": "@jupyter-widgets/controls",
      "_model_module_version": "1.5.0",
      "_model_name": "DescriptionStyleModel",
      "_view_count": null,
      "_view_module": "@jupyter-widgets/base",
      "_view_module_version": "1.2.0",
      "_view_name": "StyleView",
      "description_width": ""
     }
    },
    "5dca29eb2e6a4e73ac823f796c27035e": {
     "model_module": "@jupyter-widgets/base",
     "model_module_version": "1.2.0",
     "model_name": "LayoutModel",
     "state": {
      "_model_module": "@jupyter-widgets/base",
      "_model_module_version": "1.2.0",
      "_model_name": "LayoutModel",
      "_view_count": null,
      "_view_module": "@jupyter-widgets/base",
      "_view_module_version": "1.2.0",
      "_view_name": "LayoutView",
      "align_content": null,
      "align_items": null,
      "align_self": null,
      "border": null,
      "bottom": null,
      "display": null,
      "flex": null,
      "flex_flow": null,
      "grid_area": null,
      "grid_auto_columns": null,
      "grid_auto_flow": null,
      "grid_auto_rows": null,
      "grid_column": null,
      "grid_gap": null,
      "grid_row": null,
      "grid_template_areas": null,
      "grid_template_columns": null,
      "grid_template_rows": null,
      "height": null,
      "justify_content": null,
      "justify_items": null,
      "left": null,
      "margin": null,
      "max_height": null,
      "max_width": null,
      "min_height": null,
      "min_width": null,
      "object_fit": null,
      "object_position": null,
      "order": null,
      "overflow": null,
      "overflow_x": null,
      "overflow_y": null,
      "padding": null,
      "right": null,
      "top": null,
      "visibility": null,
      "width": null
     }
    },
    "5f25c49e25c14cbba19d4545d4a8cb32": {
     "model_module": "@jupyter-widgets/controls",
     "model_module_version": "1.5.0",
     "model_name": "DescriptionStyleModel",
     "state": {
      "_model_module": "@jupyter-widgets/controls",
      "_model_module_version": "1.5.0",
      "_model_name": "DescriptionStyleModel",
      "_view_count": null,
      "_view_module": "@jupyter-widgets/base",
      "_view_module_version": "1.2.0",
      "_view_name": "StyleView",
      "description_width": ""
     }
    },
    "64c0a6e85b9944d2b689580caa7d62e6": {
     "model_module": "@jupyter-widgets/controls",
     "model_module_version": "1.5.0",
     "model_name": "FloatProgressModel",
     "state": {
      "_dom_classes": [],
      "_model_module": "@jupyter-widgets/controls",
      "_model_module_version": "1.5.0",
      "_model_name": "FloatProgressModel",
      "_view_count": null,
      "_view_module": "@jupyter-widgets/controls",
      "_view_module_version": "1.5.0",
      "_view_name": "ProgressView",
      "bar_style": "success",
      "description": "",
      "description_tooltip": null,
      "layout": "IPY_MODEL_1daa8961c62142e7994cbc7bc1246a4e",
      "max": 226122,
      "min": 0,
      "orientation": "horizontal",
      "style": "IPY_MODEL_e0b9db68eab64bb788fadc12c11a89ea",
      "value": 226122
     }
    },
    "688f57d53ef44516bb0f9ed169541616": {
     "model_module": "@jupyter-widgets/base",
     "model_module_version": "1.2.0",
     "model_name": "LayoutModel",
     "state": {
      "_model_module": "@jupyter-widgets/base",
      "_model_module_version": "1.2.0",
      "_model_name": "LayoutModel",
      "_view_count": null,
      "_view_module": "@jupyter-widgets/base",
      "_view_module_version": "1.2.0",
      "_view_name": "LayoutView",
      "align_content": null,
      "align_items": null,
      "align_self": null,
      "border": null,
      "bottom": null,
      "display": null,
      "flex": null,
      "flex_flow": null,
      "grid_area": null,
      "grid_auto_columns": null,
      "grid_auto_flow": null,
      "grid_auto_rows": null,
      "grid_column": null,
      "grid_gap": null,
      "grid_row": null,
      "grid_template_areas": null,
      "grid_template_columns": null,
      "grid_template_rows": null,
      "height": null,
      "justify_content": null,
      "justify_items": null,
      "left": null,
      "margin": null,
      "max_height": null,
      "max_width": null,
      "min_height": null,
      "min_width": null,
      "object_fit": null,
      "object_position": null,
      "order": null,
      "overflow": null,
      "overflow_x": null,
      "overflow_y": null,
      "padding": null,
      "right": null,
      "top": null,
      "visibility": null,
      "width": null
     }
    },
    "7917ae48a2334526ac8b40ee3a02d8cc": {
     "model_module": "@jupyter-widgets/controls",
     "model_module_version": "1.5.0",
     "model_name": "DescriptionStyleModel",
     "state": {
      "_model_module": "@jupyter-widgets/controls",
      "_model_module_version": "1.5.0",
      "_model_name": "DescriptionStyleModel",
      "_view_count": null,
      "_view_module": "@jupyter-widgets/base",
      "_view_module_version": "1.2.0",
      "_view_name": "StyleView",
      "description_width": ""
     }
    },
    "81bf1a887d9a4b67b03f45cc3251fc40": {
     "model_module": "@jupyter-widgets/controls",
     "model_module_version": "1.5.0",
     "model_name": "DescriptionStyleModel",
     "state": {
      "_model_module": "@jupyter-widgets/controls",
      "_model_module_version": "1.5.0",
      "_model_name": "DescriptionStyleModel",
      "_view_count": null,
      "_view_module": "@jupyter-widgets/base",
      "_view_module_version": "1.2.0",
      "_view_name": "StyleView",
      "description_width": ""
     }
    },
    "84ceeba3aa864e18afb100db8c089e9f": {
     "model_module": "@jupyter-widgets/base",
     "model_module_version": "1.2.0",
     "model_name": "LayoutModel",
     "state": {
      "_model_module": "@jupyter-widgets/base",
      "_model_module_version": "1.2.0",
      "_model_name": "LayoutModel",
      "_view_count": null,
      "_view_module": "@jupyter-widgets/base",
      "_view_module_version": "1.2.0",
      "_view_name": "LayoutView",
      "align_content": null,
      "align_items": null,
      "align_self": null,
      "border": null,
      "bottom": null,
      "display": null,
      "flex": null,
      "flex_flow": null,
      "grid_area": null,
      "grid_auto_columns": null,
      "grid_auto_flow": null,
      "grid_auto_rows": null,
      "grid_column": null,
      "grid_gap": null,
      "grid_row": null,
      "grid_template_areas": null,
      "grid_template_columns": null,
      "grid_template_rows": null,
      "height": null,
      "justify_content": null,
      "justify_items": null,
      "left": null,
      "margin": null,
      "max_height": null,
      "max_width": null,
      "min_height": null,
      "min_width": null,
      "object_fit": null,
      "object_position": null,
      "order": null,
      "overflow": null,
      "overflow_x": null,
      "overflow_y": null,
      "padding": null,
      "right": null,
      "top": null,
      "visibility": null,
      "width": null
     }
    },
    "85a24e6c1ab04cc0861c7a8658c57731": {
     "model_module": "@jupyter-widgets/controls",
     "model_module_version": "1.5.0",
     "model_name": "HBoxModel",
     "state": {
      "_dom_classes": [],
      "_model_module": "@jupyter-widgets/controls",
      "_model_module_version": "1.5.0",
      "_model_name": "HBoxModel",
      "_view_count": null,
      "_view_module": "@jupyter-widgets/controls",
      "_view_module_version": "1.5.0",
      "_view_name": "HBoxView",
      "box_style": "",
      "children": [
       "IPY_MODEL_f516f1084aee4a72a0eaa17664882cc6",
       "IPY_MODEL_64c0a6e85b9944d2b689580caa7d62e6",
       "IPY_MODEL_db9eed2f66ce424da585a30fd66a2592"
      ],
      "layout": "IPY_MODEL_b041f275ca7e489cb1a96c509db286c1"
     }
    },
    "8ad92f0f571244d2a7731e80d4011718": {
     "model_module": "@jupyter-widgets/controls",
     "model_module_version": "1.5.0",
     "model_name": "DescriptionStyleModel",
     "state": {
      "_model_module": "@jupyter-widgets/controls",
      "_model_module_version": "1.5.0",
      "_model_name": "DescriptionStyleModel",
      "_view_count": null,
      "_view_module": "@jupyter-widgets/base",
      "_view_module_version": "1.2.0",
      "_view_name": "StyleView",
      "description_width": ""
     }
    },
    "932cce58359e4b11a01f56206ab21b17": {
     "model_module": "@jupyter-widgets/controls",
     "model_module_version": "1.5.0",
     "model_name": "DescriptionStyleModel",
     "state": {
      "_model_module": "@jupyter-widgets/controls",
      "_model_module_version": "1.5.0",
      "_model_name": "DescriptionStyleModel",
      "_view_count": null,
      "_view_module": "@jupyter-widgets/base",
      "_view_module_version": "1.2.0",
      "_view_name": "StyleView",
      "description_width": ""
     }
    },
    "9cc59c8bd25346cdb009b594c4ccb873": {
     "model_module": "@jupyter-widgets/controls",
     "model_module_version": "1.5.0",
     "model_name": "HTMLModel",
     "state": {
      "_dom_classes": [],
      "_model_module": "@jupyter-widgets/controls",
      "_model_module_version": "1.5.0",
      "_model_name": "HTMLModel",
      "_view_count": null,
      "_view_module": "@jupyter-widgets/controls",
      "_view_module_version": "1.5.0",
      "_view_name": "HTMLView",
      "description": "",
      "description_tooltip": null,
      "layout": "IPY_MODEL_ad471451a43f429e8f47ee84256e0365",
      "placeholder": "​",
      "style": "IPY_MODEL_81bf1a887d9a4b67b03f45cc3251fc40",
      "value": "Map: 100%"
     }
    },
    "a18ee163df5847d5ad0826a9409c1685": {
     "model_module": "@jupyter-widgets/base",
     "model_module_version": "1.2.0",
     "model_name": "LayoutModel",
     "state": {
      "_model_module": "@jupyter-widgets/base",
      "_model_module_version": "1.2.0",
      "_model_name": "LayoutModel",
      "_view_count": null,
      "_view_module": "@jupyter-widgets/base",
      "_view_module_version": "1.2.0",
      "_view_name": "LayoutView",
      "align_content": null,
      "align_items": null,
      "align_self": null,
      "border": null,
      "bottom": null,
      "display": null,
      "flex": null,
      "flex_flow": null,
      "grid_area": null,
      "grid_auto_columns": null,
      "grid_auto_flow": null,
      "grid_auto_rows": null,
      "grid_column": null,
      "grid_gap": null,
      "grid_row": null,
      "grid_template_areas": null,
      "grid_template_columns": null,
      "grid_template_rows": null,
      "height": null,
      "justify_content": null,
      "justify_items": null,
      "left": null,
      "margin": null,
      "max_height": null,
      "max_width": null,
      "min_height": null,
      "min_width": null,
      "object_fit": null,
      "object_position": null,
      "order": null,
      "overflow": null,
      "overflow_x": null,
      "overflow_y": null,
      "padding": null,
      "right": null,
      "top": null,
      "visibility": null,
      "width": null
     }
    },
    "a74903642cc041f4b31725b013546159": {
     "model_module": "@jupyter-widgets/base",
     "model_module_version": "1.2.0",
     "model_name": "LayoutModel",
     "state": {
      "_model_module": "@jupyter-widgets/base",
      "_model_module_version": "1.2.0",
      "_model_name": "LayoutModel",
      "_view_count": null,
      "_view_module": "@jupyter-widgets/base",
      "_view_module_version": "1.2.0",
      "_view_name": "LayoutView",
      "align_content": null,
      "align_items": null,
      "align_self": null,
      "border": null,
      "bottom": null,
      "display": null,
      "flex": null,
      "flex_flow": null,
      "grid_area": null,
      "grid_auto_columns": null,
      "grid_auto_flow": null,
      "grid_auto_rows": null,
      "grid_column": null,
      "grid_gap": null,
      "grid_row": null,
      "grid_template_areas": null,
      "grid_template_columns": null,
      "grid_template_rows": null,
      "height": null,
      "justify_content": null,
      "justify_items": null,
      "left": null,
      "margin": null,
      "max_height": null,
      "max_width": null,
      "min_height": null,
      "min_width": null,
      "object_fit": null,
      "object_position": null,
      "order": null,
      "overflow": null,
      "overflow_x": null,
      "overflow_y": null,
      "padding": null,
      "right": null,
      "top": null,
      "visibility": null,
      "width": null
     }
    },
    "ad471451a43f429e8f47ee84256e0365": {
     "model_module": "@jupyter-widgets/base",
     "model_module_version": "1.2.0",
     "model_name": "LayoutModel",
     "state": {
      "_model_module": "@jupyter-widgets/base",
      "_model_module_version": "1.2.0",
      "_model_name": "LayoutModel",
      "_view_count": null,
      "_view_module": "@jupyter-widgets/base",
      "_view_module_version": "1.2.0",
      "_view_name": "LayoutView",
      "align_content": null,
      "align_items": null,
      "align_self": null,
      "border": null,
      "bottom": null,
      "display": null,
      "flex": null,
      "flex_flow": null,
      "grid_area": null,
      "grid_auto_columns": null,
      "grid_auto_flow": null,
      "grid_auto_rows": null,
      "grid_column": null,
      "grid_gap": null,
      "grid_row": null,
      "grid_template_areas": null,
      "grid_template_columns": null,
      "grid_template_rows": null,
      "height": null,
      "justify_content": null,
      "justify_items": null,
      "left": null,
      "margin": null,
      "max_height": null,
      "max_width": null,
      "min_height": null,
      "min_width": null,
      "object_fit": null,
      "object_position": null,
      "order": null,
      "overflow": null,
      "overflow_x": null,
      "overflow_y": null,
      "padding": null,
      "right": null,
      "top": null,
      "visibility": null,
      "width": null
     }
    },
    "af48dc5f33904ddbade7e1619e415b8b": {
     "model_module": "@jupyter-widgets/base",
     "model_module_version": "1.2.0",
     "model_name": "LayoutModel",
     "state": {
      "_model_module": "@jupyter-widgets/base",
      "_model_module_version": "1.2.0",
      "_model_name": "LayoutModel",
      "_view_count": null,
      "_view_module": "@jupyter-widgets/base",
      "_view_module_version": "1.2.0",
      "_view_name": "LayoutView",
      "align_content": null,
      "align_items": null,
      "align_self": null,
      "border": null,
      "bottom": null,
      "display": null,
      "flex": null,
      "flex_flow": null,
      "grid_area": null,
      "grid_auto_columns": null,
      "grid_auto_flow": null,
      "grid_auto_rows": null,
      "grid_column": null,
      "grid_gap": null,
      "grid_row": null,
      "grid_template_areas": null,
      "grid_template_columns": null,
      "grid_template_rows": null,
      "height": null,
      "justify_content": null,
      "justify_items": null,
      "left": null,
      "margin": null,
      "max_height": null,
      "max_width": null,
      "min_height": null,
      "min_width": null,
      "object_fit": null,
      "object_position": null,
      "order": null,
      "overflow": null,
      "overflow_x": null,
      "overflow_y": null,
      "padding": null,
      "right": null,
      "top": null,
      "visibility": null,
      "width": null
     }
    },
    "b041f275ca7e489cb1a96c509db286c1": {
     "model_module": "@jupyter-widgets/base",
     "model_module_version": "1.2.0",
     "model_name": "LayoutModel",
     "state": {
      "_model_module": "@jupyter-widgets/base",
      "_model_module_version": "1.2.0",
      "_model_name": "LayoutModel",
      "_view_count": null,
      "_view_module": "@jupyter-widgets/base",
      "_view_module_version": "1.2.0",
      "_view_name": "LayoutView",
      "align_content": null,
      "align_items": null,
      "align_self": null,
      "border": null,
      "bottom": null,
      "display": null,
      "flex": null,
      "flex_flow": null,
      "grid_area": null,
      "grid_auto_columns": null,
      "grid_auto_flow": null,
      "grid_auto_rows": null,
      "grid_column": null,
      "grid_gap": null,
      "grid_row": null,
      "grid_template_areas": null,
      "grid_template_columns": null,
      "grid_template_rows": null,
      "height": null,
      "justify_content": null,
      "justify_items": null,
      "left": null,
      "margin": null,
      "max_height": null,
      "max_width": null,
      "min_height": null,
      "min_width": null,
      "object_fit": null,
      "object_position": null,
      "order": null,
      "overflow": null,
      "overflow_x": null,
      "overflow_y": null,
      "padding": null,
      "right": null,
      "top": null,
      "visibility": null,
      "width": null
     }
    },
    "b043f6834ab84489acc93865143d85e1": {
     "model_module": "@jupyter-widgets/controls",
     "model_module_version": "1.5.0",
     "model_name": "HBoxModel",
     "state": {
      "_dom_classes": [],
      "_model_module": "@jupyter-widgets/controls",
      "_model_module_version": "1.5.0",
      "_model_name": "HBoxModel",
      "_view_count": null,
      "_view_module": "@jupyter-widgets/controls",
      "_view_module_version": "1.5.0",
      "_view_name": "HBoxView",
      "box_style": "",
      "children": [
       "IPY_MODEL_3072dd7dd5f0479182d84572b6b345da",
       "IPY_MODEL_f33b3a6133a7433895ef390bc656a853",
       "IPY_MODEL_4cafb80671b942f5b739aa52dccf5452"
      ],
      "layout": "IPY_MODEL_5dca29eb2e6a4e73ac823f796c27035e"
     }
    },
    "b34e1a3c59e445a3958ec6d33ba0fb90": {
     "model_module": "@jupyter-widgets/base",
     "model_module_version": "1.2.0",
     "model_name": "LayoutModel",
     "state": {
      "_model_module": "@jupyter-widgets/base",
      "_model_module_version": "1.2.0",
      "_model_name": "LayoutModel",
      "_view_count": null,
      "_view_module": "@jupyter-widgets/base",
      "_view_module_version": "1.2.0",
      "_view_name": "LayoutView",
      "align_content": null,
      "align_items": null,
      "align_self": null,
      "border": null,
      "bottom": null,
      "display": null,
      "flex": null,
      "flex_flow": null,
      "grid_area": null,
      "grid_auto_columns": null,
      "grid_auto_flow": null,
      "grid_auto_rows": null,
      "grid_column": null,
      "grid_gap": null,
      "grid_row": null,
      "grid_template_areas": null,
      "grid_template_columns": null,
      "grid_template_rows": null,
      "height": null,
      "justify_content": null,
      "justify_items": null,
      "left": null,
      "margin": null,
      "max_height": null,
      "max_width": null,
      "min_height": null,
      "min_width": null,
      "object_fit": null,
      "object_position": null,
      "order": null,
      "overflow": null,
      "overflow_x": null,
      "overflow_y": null,
      "padding": null,
      "right": null,
      "top": null,
      "visibility": null,
      "width": null
     }
    },
    "b5425a51b9d440bca521f019152dea0b": {
     "model_module": "@jupyter-widgets/base",
     "model_module_version": "1.2.0",
     "model_name": "LayoutModel",
     "state": {
      "_model_module": "@jupyter-widgets/base",
      "_model_module_version": "1.2.0",
      "_model_name": "LayoutModel",
      "_view_count": null,
      "_view_module": "@jupyter-widgets/base",
      "_view_module_version": "1.2.0",
      "_view_name": "LayoutView",
      "align_content": null,
      "align_items": null,
      "align_self": null,
      "border": null,
      "bottom": null,
      "display": null,
      "flex": null,
      "flex_flow": null,
      "grid_area": null,
      "grid_auto_columns": null,
      "grid_auto_flow": null,
      "grid_auto_rows": null,
      "grid_column": null,
      "grid_gap": null,
      "grid_row": null,
      "grid_template_areas": null,
      "grid_template_columns": null,
      "grid_template_rows": null,
      "height": null,
      "justify_content": null,
      "justify_items": null,
      "left": null,
      "margin": null,
      "max_height": null,
      "max_width": null,
      "min_height": null,
      "min_width": null,
      "object_fit": null,
      "object_position": null,
      "order": null,
      "overflow": null,
      "overflow_x": null,
      "overflow_y": null,
      "padding": null,
      "right": null,
      "top": null,
      "visibility": null,
      "width": null
     }
    },
    "bc4a95f8edfd4f0fa497b569ec0adac7": {
     "model_module": "@jupyter-widgets/controls",
     "model_module_version": "1.5.0",
     "model_name": "HBoxModel",
     "state": {
      "_dom_classes": [],
      "_model_module": "@jupyter-widgets/controls",
      "_model_module_version": "1.5.0",
      "_model_name": "HBoxModel",
      "_view_count": null,
      "_view_module": "@jupyter-widgets/controls",
      "_view_module_version": "1.5.0",
      "_view_name": "HBoxView",
      "box_style": "",
      "children": [
       "IPY_MODEL_9cc59c8bd25346cdb009b594c4ccb873",
       "IPY_MODEL_5774617c2248412a9524f84b94ae4b7f",
       "IPY_MODEL_fd42c22991f04b6686ce8f19101aaba3"
      ],
      "layout": "IPY_MODEL_3cd66babc68a4408a215db72b6b05c3b"
     }
    },
    "be283a37414c4852a582af9fcac655fa": {
     "model_module": "@jupyter-widgets/controls",
     "model_module_version": "1.5.0",
     "model_name": "HTMLModel",
     "state": {
      "_dom_classes": [],
      "_model_module": "@jupyter-widgets/controls",
      "_model_module_version": "1.5.0",
      "_model_name": "HTMLModel",
      "_view_count": null,
      "_view_module": "@jupyter-widgets/controls",
      "_view_module_version": "1.5.0",
      "_view_name": "HTMLView",
      "description": "",
      "description_tooltip": null,
      "layout": "IPY_MODEL_1f4f6ef54a2640e1ad30257b5cb80934",
      "placeholder": "​",
      "style": "IPY_MODEL_3cf4fa35e7b84c70bde2831440bb24e2",
      "value": "Map: 100%"
     }
    },
    "cda98f575c91493cb31835bdbabc1e63": {
     "model_module": "@jupyter-widgets/controls",
     "model_module_version": "1.5.0",
     "model_name": "FloatProgressModel",
     "state": {
      "_dom_classes": [],
      "_model_module": "@jupyter-widgets/controls",
      "_model_module_version": "1.5.0",
      "_model_name": "FloatProgressModel",
      "_view_count": null,
      "_view_module": "@jupyter-widgets/controls",
      "_view_module_version": "1.5.0",
      "_view_name": "ProgressView",
      "bar_style": "success",
      "description": "",
      "description_tooltip": null,
      "layout": "IPY_MODEL_b34e1a3c59e445a3958ec6d33ba0fb90",
      "max": 3453,
      "min": 0,
      "orientation": "horizontal",
      "style": "IPY_MODEL_017b6f86f7284046a2b6a8f1662fe731",
      "value": 3453
     }
    },
    "ce76d8a276e444829dbf157eae45fe4f": {
     "model_module": "@jupyter-widgets/base",
     "model_module_version": "1.2.0",
     "model_name": "LayoutModel",
     "state": {
      "_model_module": "@jupyter-widgets/base",
      "_model_module_version": "1.2.0",
      "_model_name": "LayoutModel",
      "_view_count": null,
      "_view_module": "@jupyter-widgets/base",
      "_view_module_version": "1.2.0",
      "_view_name": "LayoutView",
      "align_content": null,
      "align_items": null,
      "align_self": null,
      "border": null,
      "bottom": null,
      "display": null,
      "flex": null,
      "flex_flow": null,
      "grid_area": null,
      "grid_auto_columns": null,
      "grid_auto_flow": null,
      "grid_auto_rows": null,
      "grid_column": null,
      "grid_gap": null,
      "grid_row": null,
      "grid_template_areas": null,
      "grid_template_columns": null,
      "grid_template_rows": null,
      "height": null,
      "justify_content": null,
      "justify_items": null,
      "left": null,
      "margin": null,
      "max_height": null,
      "max_width": null,
      "min_height": null,
      "min_width": null,
      "object_fit": null,
      "object_position": null,
      "order": null,
      "overflow": null,
      "overflow_x": null,
      "overflow_y": null,
      "padding": null,
      "right": null,
      "top": null,
      "visibility": null,
      "width": null
     }
    },
    "d1a2deb59703429193c08fae1b6955d3": {
     "model_module": "@jupyter-widgets/controls",
     "model_module_version": "1.5.0",
     "model_name": "ProgressStyleModel",
     "state": {
      "_model_module": "@jupyter-widgets/controls",
      "_model_module_version": "1.5.0",
      "_model_name": "ProgressStyleModel",
      "_view_count": null,
      "_view_module": "@jupyter-widgets/base",
      "_view_module_version": "1.2.0",
      "_view_name": "StyleView",
      "bar_color": null,
      "description_width": ""
     }
    },
    "d2031144e02b4ebeab556d143bd8ade1": {
     "model_module": "@jupyter-widgets/base",
     "model_module_version": "1.2.0",
     "model_name": "LayoutModel",
     "state": {
      "_model_module": "@jupyter-widgets/base",
      "_model_module_version": "1.2.0",
      "_model_name": "LayoutModel",
      "_view_count": null,
      "_view_module": "@jupyter-widgets/base",
      "_view_module_version": "1.2.0",
      "_view_name": "LayoutView",
      "align_content": null,
      "align_items": null,
      "align_self": null,
      "border": null,
      "bottom": null,
      "display": null,
      "flex": null,
      "flex_flow": null,
      "grid_area": null,
      "grid_auto_columns": null,
      "grid_auto_flow": null,
      "grid_auto_rows": null,
      "grid_column": null,
      "grid_gap": null,
      "grid_row": null,
      "grid_template_areas": null,
      "grid_template_columns": null,
      "grid_template_rows": null,
      "height": null,
      "justify_content": null,
      "justify_items": null,
      "left": null,
      "margin": null,
      "max_height": null,
      "max_width": null,
      "min_height": null,
      "min_width": null,
      "object_fit": null,
      "object_position": null,
      "order": null,
      "overflow": null,
      "overflow_x": null,
      "overflow_y": null,
      "padding": null,
      "right": null,
      "top": null,
      "visibility": null,
      "width": null
     }
    },
    "db9eed2f66ce424da585a30fd66a2592": {
     "model_module": "@jupyter-widgets/controls",
     "model_module_version": "1.5.0",
     "model_name": "HTMLModel",
     "state": {
      "_dom_classes": [],
      "_model_module": "@jupyter-widgets/controls",
      "_model_module_version": "1.5.0",
      "_model_name": "HTMLModel",
      "_view_count": null,
      "_view_module": "@jupyter-widgets/controls",
      "_view_module_version": "1.5.0",
      "_view_name": "HTMLView",
      "description": "",
      "description_tooltip": null,
      "layout": "IPY_MODEL_d2031144e02b4ebeab556d143bd8ade1",
      "placeholder": "​",
      "style": "IPY_MODEL_932cce58359e4b11a01f56206ab21b17",
      "value": " 226k/226k [00:00&lt;00:00, 3.04MB/s]"
     }
    },
    "dd355501541a4ac59a4c82443b642aa2": {
     "model_module": "@jupyter-widgets/controls",
     "model_module_version": "1.5.0",
     "model_name": "ProgressStyleModel",
     "state": {
      "_model_module": "@jupyter-widgets/controls",
      "_model_module_version": "1.5.0",
      "_model_name": "ProgressStyleModel",
      "_view_count": null,
      "_view_module": "@jupyter-widgets/base",
      "_view_module_version": "1.2.0",
      "_view_name": "StyleView",
      "bar_color": null,
      "description_width": ""
     }
    },
    "dd4e6ca5d4c54175b7b8b6de8222e466": {
     "model_module": "@jupyter-widgets/controls",
     "model_module_version": "1.5.0",
     "model_name": "ProgressStyleModel",
     "state": {
      "_model_module": "@jupyter-widgets/controls",
      "_model_module_version": "1.5.0",
      "_model_name": "ProgressStyleModel",
      "_view_count": null,
      "_view_module": "@jupyter-widgets/base",
      "_view_module_version": "1.2.0",
      "_view_name": "StyleView",
      "bar_color": null,
      "description_width": ""
     }
    },
    "de87b6a2fb0946d08622672ecd2b80e1": {
     "model_module": "@jupyter-widgets/controls",
     "model_module_version": "1.5.0",
     "model_name": "DescriptionStyleModel",
     "state": {
      "_model_module": "@jupyter-widgets/controls",
      "_model_module_version": "1.5.0",
      "_model_name": "DescriptionStyleModel",
      "_view_count": null,
      "_view_module": "@jupyter-widgets/base",
      "_view_module_version": "1.2.0",
      "_view_name": "StyleView",
      "description_width": ""
     }
    },
    "e0b9db68eab64bb788fadc12c11a89ea": {
     "model_module": "@jupyter-widgets/controls",
     "model_module_version": "1.5.0",
     "model_name": "ProgressStyleModel",
     "state": {
      "_model_module": "@jupyter-widgets/controls",
      "_model_module_version": "1.5.0",
      "_model_name": "ProgressStyleModel",
      "_view_count": null,
      "_view_module": "@jupyter-widgets/base",
      "_view_module_version": "1.2.0",
      "_view_name": "StyleView",
      "bar_color": null,
      "description_width": ""
     }
    },
    "f33b3a6133a7433895ef390bc656a853": {
     "model_module": "@jupyter-widgets/controls",
     "model_module_version": "1.5.0",
     "model_name": "FloatProgressModel",
     "state": {
      "_dom_classes": [],
      "_model_module": "@jupyter-widgets/controls",
      "_model_module_version": "1.5.0",
      "_model_name": "FloatProgressModel",
      "_view_count": null,
      "_view_module": "@jupyter-widgets/controls",
      "_view_module_version": "1.5.0",
      "_view_name": "ProgressView",
      "bar_style": "success",
      "description": "",
      "description_tooltip": null,
      "layout": "IPY_MODEL_13ad280df056439699a4bd12b0f815e3",
      "max": 2762,
      "min": 0,
      "orientation": "horizontal",
      "style": "IPY_MODEL_dd4e6ca5d4c54175b7b8b6de8222e466",
      "value": 2762
     }
    },
    "f516f1084aee4a72a0eaa17664882cc6": {
     "model_module": "@jupyter-widgets/controls",
     "model_module_version": "1.5.0",
     "model_name": "HTMLModel",
     "state": {
      "_dom_classes": [],
      "_model_module": "@jupyter-widgets/controls",
      "_model_module_version": "1.5.0",
      "_model_name": "HTMLModel",
      "_view_count": null,
      "_view_module": "@jupyter-widgets/controls",
      "_view_module_version": "1.5.0",
      "_view_name": "HTMLView",
      "description": "",
      "description_tooltip": null,
      "layout": "IPY_MODEL_84ceeba3aa864e18afb100db8c089e9f",
      "placeholder": "​",
      "style": "IPY_MODEL_5f25c49e25c14cbba19d4545d4a8cb32",
      "value": "Downloading (…)solve/main/vocab.txt: 100%"
     }
    },
    "f5c07f4c5cbf42a5b764aecc3bd53b0c": {
     "model_module": "@jupyter-widgets/base",
     "model_module_version": "1.2.0",
     "model_name": "LayoutModel",
     "state": {
      "_model_module": "@jupyter-widgets/base",
      "_model_module_version": "1.2.0",
      "_model_name": "LayoutModel",
      "_view_count": null,
      "_view_module": "@jupyter-widgets/base",
      "_view_module_version": "1.2.0",
      "_view_name": "LayoutView",
      "align_content": null,
      "align_items": null,
      "align_self": null,
      "border": null,
      "bottom": null,
      "display": null,
      "flex": null,
      "flex_flow": null,
      "grid_area": null,
      "grid_auto_columns": null,
      "grid_auto_flow": null,
      "grid_auto_rows": null,
      "grid_column": null,
      "grid_gap": null,
      "grid_row": null,
      "grid_template_areas": null,
      "grid_template_columns": null,
      "grid_template_rows": null,
      "height": null,
      "justify_content": null,
      "justify_items": null,
      "left": null,
      "margin": null,
      "max_height": null,
      "max_width": null,
      "min_height": null,
      "min_width": null,
      "object_fit": null,
      "object_position": null,
      "order": null,
      "overflow": null,
      "overflow_x": null,
      "overflow_y": null,
      "padding": null,
      "right": null,
      "top": null,
      "visibility": null,
      "width": null
     }
    },
    "f88564b206094bedbd20960af9abfbbf": {
     "model_module": "@jupyter-widgets/base",
     "model_module_version": "1.2.0",
     "model_name": "LayoutModel",
     "state": {
      "_model_module": "@jupyter-widgets/base",
      "_model_module_version": "1.2.0",
      "_model_name": "LayoutModel",
      "_view_count": null,
      "_view_module": "@jupyter-widgets/base",
      "_view_module_version": "1.2.0",
      "_view_name": "LayoutView",
      "align_content": null,
      "align_items": null,
      "align_self": null,
      "border": null,
      "bottom": null,
      "display": null,
      "flex": null,
      "flex_flow": null,
      "grid_area": null,
      "grid_auto_columns": null,
      "grid_auto_flow": null,
      "grid_auto_rows": null,
      "grid_column": null,
      "grid_gap": null,
      "grid_row": null,
      "grid_template_areas": null,
      "grid_template_columns": null,
      "grid_template_rows": null,
      "height": null,
      "justify_content": null,
      "justify_items": null,
      "left": null,
      "margin": null,
      "max_height": null,
      "max_width": null,
      "min_height": null,
      "min_width": null,
      "object_fit": null,
      "object_position": null,
      "order": null,
      "overflow": null,
      "overflow_x": null,
      "overflow_y": null,
      "padding": null,
      "right": null,
      "top": null,
      "visibility": null,
      "width": null
     }
    },
    "fc5d29853ce5475ca133cafa1b461b59": {
     "model_module": "@jupyter-widgets/controls",
     "model_module_version": "1.5.0",
     "model_name": "HBoxModel",
     "state": {
      "_dom_classes": [],
      "_model_module": "@jupyter-widgets/controls",
      "_model_module_version": "1.5.0",
      "_model_name": "HBoxModel",
      "_view_count": null,
      "_view_module": "@jupyter-widgets/controls",
      "_view_module_version": "1.5.0",
      "_view_name": "HBoxView",
      "box_style": "",
      "children": [
       "IPY_MODEL_be283a37414c4852a582af9fcac655fa",
       "IPY_MODEL_cda98f575c91493cb31835bdbabc1e63",
       "IPY_MODEL_03614707575348498747dd412ebc666c"
      ],
      "layout": "IPY_MODEL_11ff35685d5347b0abc86c151279fc00"
     }
    },
    "fd42c22991f04b6686ce8f19101aaba3": {
     "model_module": "@jupyter-widgets/controls",
     "model_module_version": "1.5.0",
     "model_name": "HTMLModel",
     "state": {
      "_dom_classes": [],
      "_model_module": "@jupyter-widgets/controls",
      "_model_module_version": "1.5.0",
      "_model_name": "HTMLModel",
      "_view_count": null,
      "_view_module": "@jupyter-widgets/controls",
      "_view_module_version": "1.5.0",
      "_view_name": "HTMLView",
      "description": "",
      "description_tooltip": null,
      "layout": "IPY_MODEL_a18ee163df5847d5ad0826a9409c1685",
      "placeholder": "​",
      "style": "IPY_MODEL_414cb92efdac4bdb9126e2040353c62d",
      "value": " 691/691 [05:07&lt;00:00,  2.38 examples/s]"
     }
    }
   }
  }
 },
 "nbformat": 4,
 "nbformat_minor": 4
}
